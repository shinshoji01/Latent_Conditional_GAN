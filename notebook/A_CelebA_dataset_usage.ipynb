{
 "cells": [
  {
   "cell_type": "code",
   "execution_count": 14,
   "metadata": {},
   "outputs": [],
   "source": [
    "import glob\n",
    "import numpy as np\n",
    "from IPython.display import clear_output\n",
    "import pickle\n",
    "import shutil\n",
    "import os"
   ]
  },
  {
   "cell_type": "markdown",
   "metadata": {},
   "source": [
    "---\n",
    "<font size=\"5\">Overviews</font>\n",
    "1. How to download CelebA dataset\n",
    "1. Label folder\n",
    "---"
   ]
  },
  {
   "cell_type": "markdown",
   "metadata": {},
   "source": [
    "# Introduction"
   ]
  },
  {
   "cell_type": "markdown",
   "metadata": {},
   "source": [
    "In this notebook, I'm going to introduce how to download [CelebA dataset](http://mmlab.ie.cuhk.edu.hk/projects/CelebA.html) and how I've used it for my experiment.\n"
   ]
  },
  {
   "cell_type": "markdown",
   "metadata": {},
   "source": [
    "# How to download CelebA dataset"
   ]
  },
  {
   "cell_type": "markdown",
   "metadata": {},
   "source": [
    "# Creation of Label Folder"
   ]
  },
  {
   "cell_type": "code",
   "execution_count": 17,
   "metadata": {},
   "outputs": [],
   "source": [
    "label_list_path = \"../../research/sound_dataset/celebA/list_attr_celeba.txt\"\n",
    "save_label_folder_dir = \"./\""
   ]
  },
  {
   "cell_type": "code",
   "execution_count": 18,
   "metadata": {},
   "outputs": [
    {
     "name": "stdout",
     "output_type": "stream",
     "text": [
      "202000 / 202599\n"
     ]
    }
   ],
   "source": [
    "start = 0\n",
    "with open(label_list_path, \"r\") as f:\n",
    "    f.readline()\n",
    "    f.readline()\n",
    "    shutil.rmtree(save_label_folder_dir+\"label_folder/\", ignore_errors=True)\n",
    "    os.makedirs(save_label_folder_dir+\"label_folder/\", exist_ok=True)\n",
    "    for i in range(202599):\n",
    "        if (i+1) % 2000 == 0:\n",
    "            clear_output(wait=True)\n",
    "            print(f\"{i+1} / 202599\")\n",
    "        line = f.readline()\n",
    "        line = line.split()\n",
    "        if i % 5000 == 0:\n",
    "            info = np.array(line)\n",
    "        else:\n",
    "            info = np.append(info, np.array(line))\n",
    "        if i % 5000 == 4999:\n",
    "            if i != 0:\n",
    "                path = f\"{save_label_folder_dir}label_folder/{str(start).zfill(6)}_to_{str(i).zfill(6)}.pkl\"\n",
    "                info = np.reshape(info, (-1, 41))\n",
    "                info = np.array(info, dtype=\"<U15\")\n",
    "                pickle_save(info, path)\n",
    "                start = i+1\n",
    "    path = f\"{save_label_folder_dir}label_folder/{str(start).zfill(6)}_to_{str(i).zfill(6)}.pkl\"\n",
    "    info = np.reshape(info, (-1, 41))\n",
    "    info = np.array(info, dtype=\"<U15\")\n",
    "    pickle_save(info, path)\n",
    "    start = i+1"
   ]
  },
  {
   "cell_type": "code",
   "execution_count": null,
   "metadata": {},
   "outputs": [],
   "source": []
  }
 ],
 "metadata": {
  "kernelspec": {
   "display_name": "Python 3",
   "language": "python",
   "name": "python3"
  },
  "language_info": {
   "codemirror_mode": {
    "name": "ipython",
    "version": 3
   },
   "file_extension": ".py",
   "mimetype": "text/x-python",
   "name": "python",
   "nbconvert_exporter": "python",
   "pygments_lexer": "ipython3",
   "version": "3.6.9"
  },
  "toc-autonumbering": false
 },
 "nbformat": 4,
 "nbformat_minor": 4
}
