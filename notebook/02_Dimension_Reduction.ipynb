{
 "cells": [
  {
   "cell_type": "code",
   "execution_count": 1,
   "metadata": {},
   "outputs": [],
   "source": [
    "import warnings\n",
    "warnings.filterwarnings(\"ignore\")\n",
    "import torch\n",
    "import torch.nn as nn\n",
    "import numpy as np\n",
    "import matplotlib.pyplot as plt\n",
    "import os\n",
    "import glob\n",
    "import pickle\n",
    "import torch.utils.data\n",
    "import torchvision.transforms as transforms\n",
    "from IPython.display import clear_output\n",
    "from PIL import Image\n",
    "\n",
    "import lightgbm as lgb\n",
    "import copy\n",
    "from sklearn.model_selection import train_test_split\n",
    "import pandas as pd\n",
    "from sklearn.metrics import accuracy_score\n",
    "from sklearn.model_selection import train_test_split \n",
    "import optuna\n",
    "from sklearn.metrics import log_loss, accuracy_score"
   ]
  },
  {
   "cell_type": "code",
   "execution_count": 2,
   "metadata": {},
   "outputs": [],
   "source": [
    "import plotly\n",
    "from plotly.offline import iplot\n",
    "import plotly.graph_objs as go"
   ]
  },
  {
   "cell_type": "code",
   "execution_count": 3,
   "metadata": {},
   "outputs": [
    {
     "data": {
      "text/html": [
       "        <script type=\"text/javascript\">\n",
       "        window.PlotlyConfig = {MathJaxConfig: 'local'};\n",
       "        if (window.MathJax) {MathJax.Hub.Config({SVG: {font: \"STIX-Web\"}});}\n",
       "        if (typeof require !== 'undefined') {\n",
       "        require.undef(\"plotly\");\n",
       "        requirejs.config({\n",
       "            paths: {\n",
       "                'plotly': ['https://cdn.plot.ly/plotly-latest.min']\n",
       "            }\n",
       "        });\n",
       "        require(['plotly'], function(Plotly) {\n",
       "            window._Plotly = Plotly;\n",
       "        });\n",
       "        }\n",
       "        </script>\n",
       "        "
      ]
     },
     "metadata": {},
     "output_type": "display_data"
    }
   ],
   "source": [
    "plotly.offline.init_notebook_mode(connected=True)"
   ]
  },
  {
   "cell_type": "code",
   "execution_count": 4,
   "metadata": {},
   "outputs": [],
   "source": [
    "import sys\n",
    "sys.path.append(\"../\")\n",
    "from dataset.dataset import *\n",
    "from util.util import *\n",
    "from model.model import *"
   ]
  },
  {
   "cell_type": "markdown",
   "metadata": {},
   "source": [
    "---\n",
    "<font size=\"5\">Overviews</font>\n",
    "1. Introduction\n",
    "1. CelebA dataset\n",
    "1. Dimension Reduction\n",
    "---"
   ]
  },
  {
   "cell_type": "markdown",
   "metadata": {},
   "source": [
    "# Introduction"
   ]
  },
  {
   "cell_type": "markdown",
   "metadata": {},
   "source": [
    "---\n",
    "This notebook introduces the dimension reduction I used for LCGAN and it's colored with purple in diagram below.\n",
    "However, as I mentioned in our paper,\n",
    "<span style=\"color:red\">the way how the dimension reduction is conducted is optional.</span>\n",
    "In this experiment, I employed feature importance of [LightGBM](https://papers.nips.cc/paper/6907-lightgbm-a-highly-efficient-gradient-boosting-decision-tree.pdf) and docs are [here](https://lightgbm.readthedocs.io/en/latest/).\n",
    "\n",
    "---\n",
    "The dimension reduction is carried out in the following precedures:\n",
    "1. In $n$ dimension, conduct classification using LightGAM\n",
    "1. Extract $k$ features that are important (feature importance)\n",
    "1. conduct classification with $m$ features out of $k$ features\n",
    "1. $m$-dimension vector has the highest accuracy is employed as Relational label\n",
    "\n",
    "Where $n$ and $m$ is the dimension of the original latent code and reducted latent code respectively.\n",
    "In this experiment, $n=128$, $k=10$, and $m=3$ is used.\n",
    "\n",
    "---"
   ]
  },
  {
   "cell_type": "markdown",
   "metadata": {},
   "source": [
    "# Get celebA dataset"
   ]
  },
  {
   "cell_type": "code",
   "execution_count": 5,
   "metadata": {},
   "outputs": [],
   "source": [
    "root = \"./../../research/sound_dataset/celebA/img_align_celeba_png/\"\n",
    "label_root = \"../../research/sound_dataset/celebA/label_folder/\""
   ]
  },
  {
   "cell_type": "code",
   "execution_count": 6,
   "metadata": {},
   "outputs": [],
   "source": [
    "label_discription = [\n",
    "    \"male, smiling, young\",\n",
    "    \"male, smiling, old\",\n",
    "    \"male, not_smiling, young\",\n",
    "    \"male, not_smiling, old\",\n",
    "    \"female, smiling, young\",\n",
    "    \"female, smiling, old\",\n",
    "    \"female, not_smiling, young\",\n",
    "    \"female, not_smiling, old\"\n",
    "]"
   ]
  },
  {
   "cell_type": "code",
   "execution_count": 7,
   "metadata": {},
   "outputs": [],
   "source": [
    "# 1 5 o clock shadow\n",
    "# 11 blurry\n",
    "# 14 chubby\n",
    "# 15 double chin\n",
    "# 16 eyeglasses\n",
    "# 17 goatee\n",
    "# 21 male\n",
    "# 23 mustache\n",
    "# 25 No_Beard\n",
    "# 31 sideburns\n",
    "# 32 smiling\n",
    "# 36 wearing hat\n",
    "# 40 young\n",
    "dataset_label = {}\n",
    "dataset_label[\"existed\"] = [25] \n",
    "dataset_label[\"delete\"] = [1, 11, 14, 15, 16, 17, 23, 31, 36] \n",
    "dataset_label[\"class\"] = [21, 32, 40] "
   ]
  },
  {
   "cell_type": "code",
   "execution_count": 8,
   "metadata": {},
   "outputs": [
    {
     "data": {
      "text/plain": [
       "(0, 1, 2, 3, 4, 5, 6, 7)"
      ]
     },
     "execution_count": 8,
     "metadata": {},
     "output_type": "execute_result"
    }
   ],
   "source": [
    "classes = tuple(range(2**len(dataset_label[\"class\"])))\n",
    "classes"
   ]
  },
  {
   "cell_type": "code",
   "execution_count": 9,
   "metadata": {},
   "outputs": [],
   "source": [
    "normalize = transforms.Normalize(\n",
    "        mean=[0.485, 0.456, 0.406],\n",
    "        std=[0.229, 0.224, 0.225])\n",
    "transform = {}\n",
    "transform[\"train\"] = transforms.Compose([\n",
    "    transforms.CenterCrop((128, 128)),\n",
    "    transforms.Resize((128, 128)),\n",
    "    transforms.RandomHorizontalFlip(p=0.5),\n",
    "    transforms.ToTensor()\n",
    "])\n",
    "    \n",
    "transform[\"test\"] = transforms.Compose([\n",
    "    transforms.CenterCrop((128, 128)),\n",
    "    transforms.Resize((128, 128)),\n",
    "    transforms.ToTensor(),\n",
    "])"
   ]
  },
  {
   "cell_type": "markdown",
   "metadata": {},
   "source": [
    "---\n",
    "I just need to get testset.\n",
    "\n",
    "---"
   ]
  },
  {
   "cell_type": "code",
   "execution_count": 10,
   "metadata": {},
   "outputs": [
    {
     "data": {
      "text/plain": [
       "4000"
      ]
     },
     "execution_count": 10,
     "metadata": {},
     "output_type": "execute_result"
    }
   ],
   "source": [
    "testset = FaceDataset(root, label_root, transform[\"test\"], dataset_label, classes, data_type=\"test\", train_num=5000, val_num=500, test_num=500)\n",
    "testloader = torch.utils.data.DataLoader(dataset=testset, batch_size=256, shuffle=False)\n",
    "len(testset)"
   ]
  },
  {
   "cell_type": "markdown",
   "metadata": {},
   "source": [
    "# Dimension Reduction\n",
    "---\n",
    "I conducted dimension reduction via feature importance in LightGBM.\n",
    "First of all, we're gonna get the latent code by the use of the model previously trained.\n",
    "And dimension reduction is conducted as I explained in the beginning."
   ]
  },
  {
   "cell_type": "markdown",
   "metadata": {},
   "source": [
    "## Preparation"
   ]
  },
  {
   "cell_type": "markdown",
   "metadata": {},
   "source": [
    "---\n",
    "I also employed the fuction which conduct test process.\n",
    "\n",
    "---"
   ]
  },
  {
   "cell_type": "code",
   "execution_count": 11,
   "metadata": {},
   "outputs": [],
   "source": [
    "def do_test_VAE(net, testloader, device=\"cuda\", mode=\"train\"):\n",
    "    \n",
    "    if mode==\"train\":\n",
    "        net.train()\n",
    "    elif mode==\"eval\":\n",
    "        net.eval()\n",
    "    else:\n",
    "        return None\n",
    "    \n",
    "    labels = np.array([])\n",
    "    losses = []\n",
    "    with torch.no_grad():\n",
    "        for itr, data in enumerate(testloader):\n",
    "            images = data[0].to(device)\n",
    "            label = data[1].to(device)\n",
    "            output, z = net(images)\n",
    "            labels = np.append(labels, label.to(\"cpu\").detach().numpy())\n",
    "            losses.append(net.loss(images, beta=beta).to(\"cpu\").detach().numpy())\n",
    "            if itr==0:\n",
    "                latents = z.to(\"cpu\").detach().numpy()\n",
    "                inputs = images.to(\"cpu\").detach().numpy()\n",
    "                outputs = output.to(\"cpu\").detach().numpy()\n",
    "            else:\n",
    "                latents = np.concatenate([latents, z.to(\"cpu\").detach().numpy()], axis=0)\n",
    "                inputs = np.concatenate([inputs, images.to(\"cpu\").detach().numpy()], axis=0)\n",
    "                outputs = np.concatenate([outputs, output.to(\"cpu\").detach().numpy()], axis=0)\n",
    "                \n",
    "    return labels, inputs, outputs, np.mean(losses), latents"
   ]
  },
  {
   "cell_type": "markdown",
   "metadata": {},
   "source": [
    "---\n",
    "I prepared the model trained in the previous notebook.\n",
    "\n",
    "---"
   ]
  },
  {
   "cell_type": "code",
   "execution_count": 12,
   "metadata": {},
   "outputs": [
    {
     "data": {
      "text/plain": [
       "<All keys matched successfully>"
      ]
     },
     "execution_count": 12,
     "metadata": {},
     "output_type": "execute_result"
    }
   ],
   "source": [
    "z_dim = 128\n",
    "beta = 0.1\n",
    "device = \"cuda\" if torch.cuda.is_available() else \"cpu\"\n",
    "\n",
    "net = VAE(z_dim=z_dim, nch_input=3, nch=64, device=device).to(device)\n",
    "# model_path = f\"../data/parameters/VAE_color_celebA_ndim512_beta0.1_lr0.0001_epoch99.pth\"\n",
    "model_path = f\"../data/parameters/VAE_celebA_ndim128_beta0.1_lr0.0001_epoch66.pth\"\n",
    "model_param = torch.load(model_path, map_location=device)\n",
    "net.load_state_dict(model_param)"
   ]
  },
  {
   "cell_type": "markdown",
   "metadata": {},
   "source": [
    "---\n",
    "Get the test results.\n",
    "***latents*** indicates the latent code.\n",
    "\n",
    "---"
   ]
  },
  {
   "cell_type": "code",
   "execution_count": 13,
   "metadata": {},
   "outputs": [],
   "source": [
    "labels, inputs, outputs, _, latents = do_test_VAE(net, testloader, device, \"eval\")"
   ]
  },
  {
   "cell_type": "raw",
   "metadata": {},
   "source": [
    "display_num = 5\n",
    "ax = []\n",
    "for i in range(display_num):\n",
    "    fig = plt.figure(figsize=(25, 6), facecolor=\"w\")\n",
    "    for j in range(len(classes)):\n",
    "        images_pool = labels == classes[j]\n",
    "        ax = fig.add_subplot(2, len(classes), j+1)\n",
    "        M = image_from_output(torch.tensor(inputs[images_pool][i:i+1]))[0]\n",
    "        ax.imshow(M)\n",
    "        ax.tick_params(labelbottom=False, labelleft=False, labelright=False, labeltop=False)\n",
    "\n",
    "    for j in range(len(classes)):\n",
    "        images_pool = labels == classes[j]\n",
    "        ax = fig.add_subplot(2, len(classes), len(classes)+j+1)\n",
    "        M = image_from_output(torch.tensor(outputs[images_pool][i:i+1]))[0]\n",
    "        ax.imshow(M)\n",
    "#         ax.set_title(label_discription[j])\n",
    "        ax.tick_params(labelbottom=False, labelleft=False, labelright=False, labeltop=False)\n",
    "    plt.show()"
   ]
  },
  {
   "cell_type": "markdown",
   "metadata": {},
   "source": [
    "---\n",
    "*latents* are processed to *X* in order to employed as the input data of LightGBM, and *y* is used for the output or the label\n",
    "\n",
    "---"
   ]
  },
  {
   "cell_type": "code",
   "execution_count": 14,
   "metadata": {},
   "outputs": [],
   "source": [
    "z_ = np.reshape(latents, (-1, z_dim)).T\n",
    "X = copy.copy(z_).T\n",
    "y = copy.copy(labels).T"
   ]
  },
  {
   "cell_type": "markdown",
   "metadata": {},
   "source": [
    "---\n",
    "Data is divided into train, validation, and test data in proportion of approximately 0.67, 0.22, and 0.11 respectively.\n",
    "\n",
    "---"
   ]
  },
  {
   "cell_type": "code",
   "execution_count": 15,
   "metadata": {},
   "outputs": [
    {
     "data": {
      "text/plain": [
       "((3000, 128), (750, 128), (250, 128))"
      ]
     },
     "execution_count": 15,
     "metadata": {},
     "output_type": "execute_result"
    }
   ],
   "source": [
    "X_train, X_test, y_train, y_test = train_test_split(X, y, random_state=42)\n",
    "X_valid, X_test, y_valid, y_test = train_test_split(X_test, y_test, random_state=42)\n",
    "\n",
    "X_train = pd.DataFrame(X_train)\n",
    "X_valid = pd.DataFrame(X_valid)\n",
    "X_test = pd.DataFrame(X_test)\n",
    "y_train = pd.DataFrame(y_train)\n",
    "y_valid = pd.DataFrame(y_valid)\n",
    "y_test = pd.DataFrame(y_test)\n",
    "X_train.shape, X_valid.shape, X_test.shape"
   ]
  },
  {
   "cell_type": "markdown",
   "metadata": {},
   "source": [
    "## Training of LightGBM\n",
    "I'm gonna train LightGBM and conduct dimension reduction according to the procedure below.\n",
    "\n",
    "1. In $n$ dimension, conduct classification using LightGAM\n",
    "1. Extract $k$ features that are important (feature importance)\n",
    "1. conduct classification with $m$ features out of $k$ features\n",
    "1. $m$-dimension vector has the highest accuracy is employed as Relational label\n",
    "\n",
    "Where $n$ and $m$ is the dimension of the original latent code and reducted latent code respectively.\n",
    "In this experiment, $n=128$, $k=10$, and $m=3$ is used."
   ]
  },
  {
   "cell_type": "markdown",
   "metadata": {},
   "source": [
    "### Classification with $n(128)$-dimension vector"
   ]
  },
  {
   "cell_type": "code",
   "execution_count": 16,
   "metadata": {},
   "outputs": [],
   "source": [
    "lgb_train = lgb.Dataset(X_train, y_train)\n",
    "lgb_valid = lgb.Dataset(X_valid, y_valid, reference=lgb_train)"
   ]
  },
  {
   "cell_type": "markdown",
   "metadata": {},
   "source": [
    "---\n",
    "Since LightGBM is susceptible to overfitting, I employed optuna for hyper parameter tuning.\n",
    "These cells below conduct it. It's searched for optimum hyper parameter for 100 times in the experiment.\n",
    "\n",
    "---"
   ]
  },
  {
   "cell_type": "code",
   "execution_count": 25,
   "metadata": {},
   "outputs": [],
   "source": [
    "def objective(trial):\n",
    "    lr = trial.suggest_loguniform(\"lr\", 1e-2, 1)\n",
    "    num_leaves = trial.suggest_int(\"num_leaves\", 1, 5)\n",
    "    max_depth = trial.suggest_int(\"max_depth\", 1, 5)\n",
    "    min_child_samples = trial.suggest_int(\"min_child_samples\", 1, 5)\n",
    "    min_child_samples = trial.suggest_int(\"min_child_samples\", 1, 5)\n",
    "    max_bin = trial.suggest_int(\"max_bin\", 5, 9)\n",
    "    lgbm_params = {\n",
    "        \"objective\": \"multiclass\",\n",
    "        \"num_class\": len(classes),\n",
    "        \"learning_rate\": lr,\n",
    "        \"num_leaves\": 8*num_leaves-1,\n",
    "        \"min_child_samples\": 8*min_child_samples-1,\n",
    "        \"max_depth\": 8*max_depth-1,\n",
    "        \"max_bin\": 2**max_bin - 1\n",
    "    }\n",
    "    model = lgb.train(lgbm_params, lgb_train, \n",
    "                      valid_sets=lgb_valid, \n",
    "                      num_boost_round=1000, \n",
    "                      early_stopping_rounds=100,\n",
    "                      verbose_eval=False\n",
    "                     )\n",
    "    y_pred = model.predict(X_valid, num_iteration=model.best_iteration)\n",
    "    \n",
    "    # this is for log loss\n",
    "#     loss = log_loss(y_valid, y_pred)\n",
    "    \n",
    "    # this is for error rate\n",
    "    y_pred = np.argmax(y_pred, axis=1)\n",
    "    loss = 1-accuracy_score(y_valid, y_pred)\n",
    "#     print(accuracy)\n",
    "    \n",
    "    return loss"
   ]
  },
  {
   "cell_type": "code",
   "execution_count": 26,
   "metadata": {},
   "outputs": [
    {
     "name": "stderr",
     "output_type": "stream",
     "text": [
      "\u001b[32m[I 2020-07-27 13:35:06,003]\u001b[0m Finished trial#0 resulted in value: 0.52. Current best value is 0.52 with parameters: {'lr': 0.03802435485415476, 'num_leaves': 3, 'max_depth': 4, 'min_child_samples': 4, 'max_bin': 7}.\u001b[0m\n",
      "\u001b[32m[I 2020-07-27 13:35:09,080]\u001b[0m Finished trial#1 resulted in value: 0.5386666666666666. Current best value is 0.52 with parameters: {'lr': 0.03802435485415476, 'num_leaves': 3, 'max_depth': 4, 'min_child_samples': 4, 'max_bin': 7}.\u001b[0m\n",
      "\u001b[32m[I 2020-07-27 13:35:10,090]\u001b[0m Finished trial#2 resulted in value: 0.5226666666666666. Current best value is 0.52 with parameters: {'lr': 0.03802435485415476, 'num_leaves': 3, 'max_depth': 4, 'min_child_samples': 4, 'max_bin': 7}.\u001b[0m\n",
      "\u001b[32m[I 2020-07-27 13:35:13,471]\u001b[0m Finished trial#3 resulted in value: 0.5453333333333333. Current best value is 0.52 with parameters: {'lr': 0.03802435485415476, 'num_leaves': 3, 'max_depth': 4, 'min_child_samples': 4, 'max_bin': 7}.\u001b[0m\n",
      "\u001b[32m[I 2020-07-27 13:35:15,931]\u001b[0m Finished trial#4 resulted in value: 0.5573333333333333. Current best value is 0.52 with parameters: {'lr': 0.03802435485415476, 'num_leaves': 3, 'max_depth': 4, 'min_child_samples': 4, 'max_bin': 7}.\u001b[0m\n",
      "\u001b[32m[I 2020-07-27 13:35:50,793]\u001b[0m Finished trial#5 resulted in value: 0.5253333333333333. Current best value is 0.52 with parameters: {'lr': 0.03802435485415476, 'num_leaves': 3, 'max_depth': 4, 'min_child_samples': 4, 'max_bin': 7}.\u001b[0m\n",
      "\u001b[32m[I 2020-07-27 13:36:02,754]\u001b[0m Finished trial#6 resulted in value: 0.5186666666666666. Current best value is 0.5186666666666666 with parameters: {'lr': 0.045830337759681206, 'num_leaves': 5, 'max_depth': 3, 'min_child_samples': 4, 'max_bin': 7}.\u001b[0m\n",
      "\u001b[32m[I 2020-07-27 13:36:08,463]\u001b[0m Finished trial#7 resulted in value: 0.4986666666666667. Current best value is 0.4986666666666667 with parameters: {'lr': 0.049507769487797455, 'num_leaves': 1, 'max_depth': 1, 'min_child_samples': 5, 'max_bin': 9}.\u001b[0m\n",
      "\u001b[32m[I 2020-07-27 13:36:21,287]\u001b[0m Finished trial#8 resulted in value: 0.5053333333333334. Current best value is 0.4986666666666667 with parameters: {'lr': 0.049507769487797455, 'num_leaves': 1, 'max_depth': 1, 'min_child_samples': 5, 'max_bin': 9}.\u001b[0m\n",
      "\u001b[32m[I 2020-07-27 13:36:34,282]\u001b[0m Finished trial#9 resulted in value: 0.516. Current best value is 0.4986666666666667 with parameters: {'lr': 0.049507769487797455, 'num_leaves': 1, 'max_depth': 1, 'min_child_samples': 5, 'max_bin': 9}.\u001b[0m\n",
      "\u001b[32m[I 2020-07-27 13:36:37,072]\u001b[0m Finished trial#10 resulted in value: 0.5186666666666666. Current best value is 0.4986666666666667 with parameters: {'lr': 0.049507769487797455, 'num_leaves': 1, 'max_depth': 1, 'min_child_samples': 5, 'max_bin': 9}.\u001b[0m\n",
      "\u001b[32m[I 2020-07-27 13:36:48,500]\u001b[0m Finished trial#11 resulted in value: 0.5066666666666666. Current best value is 0.4986666666666667 with parameters: {'lr': 0.049507769487797455, 'num_leaves': 1, 'max_depth': 1, 'min_child_samples': 5, 'max_bin': 9}.\u001b[0m\n",
      "\u001b[32m[I 2020-07-27 13:36:53,181]\u001b[0m Finished trial#12 resulted in value: 0.508. Current best value is 0.4986666666666667 with parameters: {'lr': 0.049507769487797455, 'num_leaves': 1, 'max_depth': 1, 'min_child_samples': 5, 'max_bin': 9}.\u001b[0m\n",
      "\u001b[32m[I 2020-07-27 13:36:59,717]\u001b[0m Finished trial#13 resulted in value: 0.5133333333333333. Current best value is 0.4986666666666667 with parameters: {'lr': 0.049507769487797455, 'num_leaves': 1, 'max_depth': 1, 'min_child_samples': 5, 'max_bin': 9}.\u001b[0m\n",
      "\u001b[32m[I 2020-07-27 13:37:05,201]\u001b[0m Finished trial#14 resulted in value: 0.504. Current best value is 0.4986666666666667 with parameters: {'lr': 0.049507769487797455, 'num_leaves': 1, 'max_depth': 1, 'min_child_samples': 5, 'max_bin': 9}.\u001b[0m\n",
      "\u001b[32m[I 2020-07-27 13:37:08,166]\u001b[0m Finished trial#15 resulted in value: 0.5. Current best value is 0.4986666666666667 with parameters: {'lr': 0.049507769487797455, 'num_leaves': 1, 'max_depth': 1, 'min_child_samples': 5, 'max_bin': 9}.\u001b[0m\n",
      "\u001b[32m[I 2020-07-27 13:37:10,404]\u001b[0m Finished trial#16 resulted in value: 0.5186666666666666. Current best value is 0.4986666666666667 with parameters: {'lr': 0.049507769487797455, 'num_leaves': 1, 'max_depth': 1, 'min_child_samples': 5, 'max_bin': 9}.\u001b[0m\n",
      "\u001b[32m[I 2020-07-27 13:37:15,936]\u001b[0m Finished trial#17 resulted in value: 0.5066666666666666. Current best value is 0.4986666666666667 with parameters: {'lr': 0.049507769487797455, 'num_leaves': 1, 'max_depth': 1, 'min_child_samples': 5, 'max_bin': 9}.\u001b[0m\n",
      "\u001b[32m[I 2020-07-27 13:37:20,403]\u001b[0m Finished trial#18 resulted in value: 0.5213333333333333. Current best value is 0.4986666666666667 with parameters: {'lr': 0.049507769487797455, 'num_leaves': 1, 'max_depth': 1, 'min_child_samples': 5, 'max_bin': 9}.\u001b[0m\n",
      "\u001b[32m[I 2020-07-27 13:37:24,880]\u001b[0m Finished trial#19 resulted in value: 0.4906666666666667. Current best value is 0.4906666666666667 with parameters: {'lr': 0.06688049177634162, 'num_leaves': 1, 'max_depth': 4, 'min_child_samples': 5, 'max_bin': 7}.\u001b[0m\n",
      "\u001b[32m[I 2020-07-27 13:37:32,179]\u001b[0m Finished trial#20 resulted in value: 0.4906666666666667. Current best value is 0.4906666666666667 with parameters: {'lr': 0.06688049177634162, 'num_leaves': 1, 'max_depth': 4, 'min_child_samples': 5, 'max_bin': 7}.\u001b[0m\n",
      "\u001b[32m[I 2020-07-27 13:37:41,740]\u001b[0m Finished trial#21 resulted in value: 0.5093333333333334. Current best value is 0.4906666666666667 with parameters: {'lr': 0.06688049177634162, 'num_leaves': 1, 'max_depth': 4, 'min_child_samples': 5, 'max_bin': 7}.\u001b[0m\n",
      "\u001b[32m[I 2020-07-27 13:37:52,194]\u001b[0m Finished trial#22 resulted in value: 0.5173333333333333. Current best value is 0.4906666666666667 with parameters: {'lr': 0.06688049177634162, 'num_leaves': 1, 'max_depth': 4, 'min_child_samples': 5, 'max_bin': 7}.\u001b[0m\n",
      "\u001b[32m[I 2020-07-27 13:37:58,444]\u001b[0m Finished trial#23 resulted in value: 0.5186666666666666. Current best value is 0.4906666666666667 with parameters: {'lr': 0.06688049177634162, 'num_leaves': 1, 'max_depth': 4, 'min_child_samples': 5, 'max_bin': 7}.\u001b[0m\n",
      "\u001b[32m[I 2020-07-27 13:38:09,132]\u001b[0m Finished trial#24 resulted in value: 0.5106666666666666. Current best value is 0.4906666666666667 with parameters: {'lr': 0.06688049177634162, 'num_leaves': 1, 'max_depth': 4, 'min_child_samples': 5, 'max_bin': 7}.\u001b[0m\n",
      "\u001b[32m[I 2020-07-27 13:38:13,728]\u001b[0m Finished trial#25 resulted in value: 0.532. Current best value is 0.4906666666666667 with parameters: {'lr': 0.06688049177634162, 'num_leaves': 1, 'max_depth': 4, 'min_child_samples': 5, 'max_bin': 7}.\u001b[0m\n",
      "\u001b[32m[I 2020-07-27 13:38:22,506]\u001b[0m Finished trial#26 resulted in value: 0.5106666666666666. Current best value is 0.4906666666666667 with parameters: {'lr': 0.06688049177634162, 'num_leaves': 1, 'max_depth': 4, 'min_child_samples': 5, 'max_bin': 7}.\u001b[0m\n",
      "\u001b[32m[I 2020-07-27 13:38:34,968]\u001b[0m Finished trial#27 resulted in value: 0.4986666666666667. Current best value is 0.4906666666666667 with parameters: {'lr': 0.06688049177634162, 'num_leaves': 1, 'max_depth': 4, 'min_child_samples': 5, 'max_bin': 7}.\u001b[0m\n",
      "\u001b[32m[I 2020-07-27 13:38:47,745]\u001b[0m Finished trial#28 resulted in value: 0.5. Current best value is 0.4906666666666667 with parameters: {'lr': 0.06688049177634162, 'num_leaves': 1, 'max_depth': 4, 'min_child_samples': 5, 'max_bin': 7}.\u001b[0m\n",
      "\u001b[32m[I 2020-07-27 13:38:56,667]\u001b[0m Finished trial#29 resulted in value: 0.5066666666666666. Current best value is 0.4906666666666667 with parameters: {'lr': 0.06688049177634162, 'num_leaves': 1, 'max_depth': 4, 'min_child_samples': 5, 'max_bin': 7}.\u001b[0m\n",
      "\u001b[32m[I 2020-07-27 13:39:02,395]\u001b[0m Finished trial#30 resulted in value: 0.512. Current best value is 0.4906666666666667 with parameters: {'lr': 0.06688049177634162, 'num_leaves': 1, 'max_depth': 4, 'min_child_samples': 5, 'max_bin': 7}.\u001b[0m\n",
      "\u001b[32m[I 2020-07-27 13:39:08,803]\u001b[0m Finished trial#31 resulted in value: 0.504. Current best value is 0.4906666666666667 with parameters: {'lr': 0.06688049177634162, 'num_leaves': 1, 'max_depth': 4, 'min_child_samples': 5, 'max_bin': 7}.\u001b[0m\n",
      "\u001b[32m[I 2020-07-27 13:39:15,145]\u001b[0m Finished trial#32 resulted in value: 0.5026666666666666. Current best value is 0.4906666666666667 with parameters: {'lr': 0.06688049177634162, 'num_leaves': 1, 'max_depth': 4, 'min_child_samples': 5, 'max_bin': 7}.\u001b[0m\n",
      "\u001b[32m[I 2020-07-27 13:39:27,737]\u001b[0m Finished trial#33 resulted in value: 0.5013333333333334. Current best value is 0.4906666666666667 with parameters: {'lr': 0.06688049177634162, 'num_leaves': 1, 'max_depth': 4, 'min_child_samples': 5, 'max_bin': 7}.\u001b[0m\n",
      "\u001b[32m[I 2020-07-27 13:39:34,263]\u001b[0m Finished trial#34 resulted in value: 0.492. Current best value is 0.4906666666666667 with parameters: {'lr': 0.06688049177634162, 'num_leaves': 1, 'max_depth': 4, 'min_child_samples': 5, 'max_bin': 7}.\u001b[0m\n",
      "\u001b[32m[I 2020-07-27 13:39:47,411]\u001b[0m Finished trial#35 resulted in value: 0.5026666666666666. Current best value is 0.4906666666666667 with parameters: {'lr': 0.06688049177634162, 'num_leaves': 1, 'max_depth': 4, 'min_child_samples': 5, 'max_bin': 7}.\u001b[0m\n",
      "\u001b[32m[I 2020-07-27 13:39:53,891]\u001b[0m Finished trial#36 resulted in value: 0.496. Current best value is 0.4906666666666667 with parameters: {'lr': 0.06688049177634162, 'num_leaves': 1, 'max_depth': 4, 'min_child_samples': 5, 'max_bin': 7}.\u001b[0m\n",
      "\u001b[32m[I 2020-07-27 13:39:57,381]\u001b[0m Finished trial#37 resulted in value: 0.4866666666666667. Current best value is 0.4866666666666667 with parameters: {'lr': 0.09139639920031063, 'num_leaves': 1, 'max_depth': 4, 'min_child_samples': 4, 'max_bin': 6}.\u001b[0m\n",
      "\u001b[32m[I 2020-07-27 13:40:01,667]\u001b[0m Finished trial#38 resulted in value: 0.5413333333333333. Current best value is 0.4866666666666667 with parameters: {'lr': 0.09139639920031063, 'num_leaves': 1, 'max_depth': 4, 'min_child_samples': 4, 'max_bin': 6}.\u001b[0m\n",
      "\u001b[32m[I 2020-07-27 13:40:05,438]\u001b[0m Finished trial#39 resulted in value: 0.4986666666666667. Current best value is 0.4866666666666667 with parameters: {'lr': 0.09139639920031063, 'num_leaves': 1, 'max_depth': 4, 'min_child_samples': 4, 'max_bin': 6}.\u001b[0m\n",
      "\u001b[32m[I 2020-07-27 13:40:12,511]\u001b[0m Finished trial#40 resulted in value: 0.5093333333333334. Current best value is 0.4866666666666667 with parameters: {'lr': 0.09139639920031063, 'num_leaves': 1, 'max_depth': 4, 'min_child_samples': 4, 'max_bin': 6}.\u001b[0m\n",
      "\u001b[32m[I 2020-07-27 13:40:18,934]\u001b[0m Finished trial#41 resulted in value: 0.4946666666666667. Current best value is 0.4866666666666667 with parameters: {'lr': 0.09139639920031063, 'num_leaves': 1, 'max_depth': 4, 'min_child_samples': 4, 'max_bin': 6}.\u001b[0m\n",
      "\u001b[32m[I 2020-07-27 13:40:23,007]\u001b[0m Finished trial#42 resulted in value: 0.5093333333333334. Current best value is 0.4866666666666667 with parameters: {'lr': 0.09139639920031063, 'num_leaves': 1, 'max_depth': 4, 'min_child_samples': 4, 'max_bin': 6}.\u001b[0m\n",
      "\u001b[32m[I 2020-07-27 13:40:30,575]\u001b[0m Finished trial#43 resulted in value: 0.4946666666666667. Current best value is 0.4866666666666667 with parameters: {'lr': 0.09139639920031063, 'num_leaves': 1, 'max_depth': 4, 'min_child_samples': 4, 'max_bin': 6}.\u001b[0m\n",
      "\u001b[32m[I 2020-07-27 13:40:33,231]\u001b[0m Finished trial#44 resulted in value: 0.5. Current best value is 0.4866666666666667 with parameters: {'lr': 0.09139639920031063, 'num_leaves': 1, 'max_depth': 4, 'min_child_samples': 4, 'max_bin': 6}.\u001b[0m\n",
      "\u001b[32m[I 2020-07-27 13:40:38,946]\u001b[0m Finished trial#45 resulted in value: 0.4893333333333333. Current best value is 0.4866666666666667 with parameters: {'lr': 0.09139639920031063, 'num_leaves': 1, 'max_depth': 4, 'min_child_samples': 4, 'max_bin': 6}.\u001b[0m\n",
      "\u001b[32m[I 2020-07-27 13:40:43,571]\u001b[0m Finished trial#46 resulted in value: 0.4973333333333333. Current best value is 0.4866666666666667 with parameters: {'lr': 0.09139639920031063, 'num_leaves': 1, 'max_depth': 4, 'min_child_samples': 4, 'max_bin': 6}.\u001b[0m\n",
      "\u001b[32m[I 2020-07-27 13:40:49,965]\u001b[0m Finished trial#47 resulted in value: 0.5066666666666666. Current best value is 0.4866666666666667 with parameters: {'lr': 0.09139639920031063, 'num_leaves': 1, 'max_depth': 4, 'min_child_samples': 4, 'max_bin': 6}.\u001b[0m\n",
      "\u001b[32m[I 2020-07-27 13:40:53,676]\u001b[0m Finished trial#48 resulted in value: 0.512. Current best value is 0.4866666666666667 with parameters: {'lr': 0.09139639920031063, 'num_leaves': 1, 'max_depth': 4, 'min_child_samples': 4, 'max_bin': 6}.\u001b[0m\n",
      "\u001b[32m[I 2020-07-27 13:40:57,855]\u001b[0m Finished trial#49 resulted in value: 0.4946666666666667. Current best value is 0.4866666666666667 with parameters: {'lr': 0.09139639920031063, 'num_leaves': 1, 'max_depth': 4, 'min_child_samples': 4, 'max_bin': 6}.\u001b[0m\n",
      "\u001b[32m[I 2020-07-27 13:41:02,278]\u001b[0m Finished trial#50 resulted in value: 0.4986666666666667. Current best value is 0.4866666666666667 with parameters: {'lr': 0.09139639920031063, 'num_leaves': 1, 'max_depth': 4, 'min_child_samples': 4, 'max_bin': 6}.\u001b[0m\n",
      "\u001b[32m[I 2020-07-27 13:41:06,045]\u001b[0m Finished trial#51 resulted in value: 0.4986666666666667. Current best value is 0.4866666666666667 with parameters: {'lr': 0.09139639920031063, 'num_leaves': 1, 'max_depth': 4, 'min_child_samples': 4, 'max_bin': 6}.\u001b[0m\n",
      "\u001b[32m[I 2020-07-27 13:41:12,737]\u001b[0m Finished trial#52 resulted in value: 0.4986666666666667. Current best value is 0.4866666666666667 with parameters: {'lr': 0.09139639920031063, 'num_leaves': 1, 'max_depth': 4, 'min_child_samples': 4, 'max_bin': 6}.\u001b[0m\n",
      "\u001b[32m[I 2020-07-27 13:41:15,570]\u001b[0m Finished trial#53 resulted in value: 0.5133333333333333. Current best value is 0.4866666666666667 with parameters: {'lr': 0.09139639920031063, 'num_leaves': 1, 'max_depth': 4, 'min_child_samples': 4, 'max_bin': 6}.\u001b[0m\n",
      "\u001b[32m[I 2020-07-27 13:41:16,618]\u001b[0m Finished trial#54 resulted in value: 0.5680000000000001. Current best value is 0.4866666666666667 with parameters: {'lr': 0.09139639920031063, 'num_leaves': 1, 'max_depth': 4, 'min_child_samples': 4, 'max_bin': 6}.\u001b[0m\n",
      "\u001b[32m[I 2020-07-27 13:41:18,988]\u001b[0m Finished trial#55 resulted in value: 0.52. Current best value is 0.4866666666666667 with parameters: {'lr': 0.09139639920031063, 'num_leaves': 1, 'max_depth': 4, 'min_child_samples': 4, 'max_bin': 6}.\u001b[0m\n",
      "\u001b[32m[I 2020-07-27 13:41:26,562]\u001b[0m Finished trial#56 resulted in value: 0.4933333333333333. Current best value is 0.4866666666666667 with parameters: {'lr': 0.09139639920031063, 'num_leaves': 1, 'max_depth': 4, 'min_child_samples': 4, 'max_bin': 6}.\u001b[0m\n",
      "\u001b[32m[I 2020-07-27 13:41:33,743]\u001b[0m Finished trial#57 resulted in value: 0.5053333333333334. Current best value is 0.4866666666666667 with parameters: {'lr': 0.09139639920031063, 'num_leaves': 1, 'max_depth': 4, 'min_child_samples': 4, 'max_bin': 6}.\u001b[0m\n",
      "\u001b[32m[I 2020-07-27 13:41:47,184]\u001b[0m Finished trial#58 resulted in value: 0.528. Current best value is 0.4866666666666667 with parameters: {'lr': 0.09139639920031063, 'num_leaves': 1, 'max_depth': 4, 'min_child_samples': 4, 'max_bin': 6}.\u001b[0m\n",
      "\u001b[32m[I 2020-07-27 13:41:55,698]\u001b[0m Finished trial#59 resulted in value: 0.508. Current best value is 0.4866666666666667 with parameters: {'lr': 0.09139639920031063, 'num_leaves': 1, 'max_depth': 4, 'min_child_samples': 4, 'max_bin': 6}.\u001b[0m\n",
      "\u001b[32m[I 2020-07-27 13:42:01,444]\u001b[0m Finished trial#60 resulted in value: 0.5186666666666666. Current best value is 0.4866666666666667 with parameters: {'lr': 0.09139639920031063, 'num_leaves': 1, 'max_depth': 4, 'min_child_samples': 4, 'max_bin': 6}.\u001b[0m\n",
      "\u001b[32m[I 2020-07-27 13:42:06,210]\u001b[0m Finished trial#61 resulted in value: 0.5146666666666666. Current best value is 0.4866666666666667 with parameters: {'lr': 0.09139639920031063, 'num_leaves': 1, 'max_depth': 4, 'min_child_samples': 4, 'max_bin': 6}.\u001b[0m\n",
      "\u001b[32m[I 2020-07-27 13:42:12,785]\u001b[0m Finished trial#62 resulted in value: 0.5053333333333334. Current best value is 0.4866666666666667 with parameters: {'lr': 0.09139639920031063, 'num_leaves': 1, 'max_depth': 4, 'min_child_samples': 4, 'max_bin': 6}.\u001b[0m\n",
      "\u001b[32m[I 2020-07-27 13:42:17,264]\u001b[0m Finished trial#63 resulted in value: 0.504. Current best value is 0.4866666666666667 with parameters: {'lr': 0.09139639920031063, 'num_leaves': 1, 'max_depth': 4, 'min_child_samples': 4, 'max_bin': 6}.\u001b[0m\n",
      "\u001b[32m[I 2020-07-27 13:42:24,167]\u001b[0m Finished trial#64 resulted in value: 0.5093333333333334. Current best value is 0.4866666666666667 with parameters: {'lr': 0.09139639920031063, 'num_leaves': 1, 'max_depth': 4, 'min_child_samples': 4, 'max_bin': 6}.\u001b[0m\n",
      "\u001b[32m[I 2020-07-27 13:42:34,155]\u001b[0m Finished trial#65 resulted in value: 0.4973333333333333. Current best value is 0.4866666666666667 with parameters: {'lr': 0.09139639920031063, 'num_leaves': 1, 'max_depth': 4, 'min_child_samples': 4, 'max_bin': 6}.\u001b[0m\n",
      "\u001b[32m[I 2020-07-27 13:42:43,013]\u001b[0m Finished trial#66 resulted in value: 0.5186666666666666. Current best value is 0.4866666666666667 with parameters: {'lr': 0.09139639920031063, 'num_leaves': 1, 'max_depth': 4, 'min_child_samples': 4, 'max_bin': 6}.\u001b[0m\n",
      "\u001b[32m[I 2020-07-27 13:42:47,290]\u001b[0m Finished trial#67 resulted in value: 0.492. Current best value is 0.4866666666666667 with parameters: {'lr': 0.09139639920031063, 'num_leaves': 1, 'max_depth': 4, 'min_child_samples': 4, 'max_bin': 6}.\u001b[0m\n",
      "\u001b[32m[I 2020-07-27 13:42:52,124]\u001b[0m Finished trial#68 resulted in value: 0.4946666666666667. Current best value is 0.4866666666666667 with parameters: {'lr': 0.09139639920031063, 'num_leaves': 1, 'max_depth': 4, 'min_child_samples': 4, 'max_bin': 6}.\u001b[0m\n",
      "\u001b[32m[I 2020-07-27 13:42:57,325]\u001b[0m Finished trial#69 resulted in value: 0.5026666666666666. Current best value is 0.4866666666666667 with parameters: {'lr': 0.09139639920031063, 'num_leaves': 1, 'max_depth': 4, 'min_child_samples': 4, 'max_bin': 6}.\u001b[0m\n",
      "\u001b[32m[I 2020-07-27 13:43:01,698]\u001b[0m Finished trial#70 resulted in value: 0.5. Current best value is 0.4866666666666667 with parameters: {'lr': 0.09139639920031063, 'num_leaves': 1, 'max_depth': 4, 'min_child_samples': 4, 'max_bin': 6}.\u001b[0m\n",
      "\u001b[32m[I 2020-07-27 13:43:07,569]\u001b[0m Finished trial#71 resulted in value: 0.4946666666666667. Current best value is 0.4866666666666667 with parameters: {'lr': 0.09139639920031063, 'num_leaves': 1, 'max_depth': 4, 'min_child_samples': 4, 'max_bin': 6}.\u001b[0m\n",
      "\u001b[32m[I 2020-07-27 13:43:13,273]\u001b[0m Finished trial#72 resulted in value: 0.4933333333333333. Current best value is 0.4866666666666667 with parameters: {'lr': 0.09139639920031063, 'num_leaves': 1, 'max_depth': 4, 'min_child_samples': 4, 'max_bin': 6}.\u001b[0m\n",
      "\u001b[32m[I 2020-07-27 13:43:18,109]\u001b[0m Finished trial#73 resulted in value: 0.4853333333333333. Current best value is 0.4853333333333333 with parameters: {'lr': 0.07121792639372394, 'num_leaves': 1, 'max_depth': 4, 'min_child_samples': 4, 'max_bin': 7}.\u001b[0m\n",
      "\u001b[32m[I 2020-07-27 13:43:21,887]\u001b[0m Finished trial#74 resulted in value: 0.5053333333333334. Current best value is 0.4853333333333333 with parameters: {'lr': 0.07121792639372394, 'num_leaves': 1, 'max_depth': 4, 'min_child_samples': 4, 'max_bin': 7}.\u001b[0m\n",
      "\u001b[32m[I 2020-07-27 13:43:26,506]\u001b[0m Finished trial#75 resulted in value: 0.5146666666666666. Current best value is 0.4853333333333333 with parameters: {'lr': 0.07121792639372394, 'num_leaves': 1, 'max_depth': 4, 'min_child_samples': 4, 'max_bin': 7}.\u001b[0m\n",
      "\u001b[32m[I 2020-07-27 13:43:34,178]\u001b[0m Finished trial#76 resulted in value: 0.5133333333333333. Current best value is 0.4853333333333333 with parameters: {'lr': 0.07121792639372394, 'num_leaves': 1, 'max_depth': 4, 'min_child_samples': 4, 'max_bin': 7}.\u001b[0m\n",
      "\u001b[32m[I 2020-07-27 13:43:37,424]\u001b[0m Finished trial#77 resulted in value: 0.512. Current best value is 0.4853333333333333 with parameters: {'lr': 0.07121792639372394, 'num_leaves': 1, 'max_depth': 4, 'min_child_samples': 4, 'max_bin': 7}.\u001b[0m\n",
      "\u001b[32m[I 2020-07-27 13:43:40,758]\u001b[0m Finished trial#78 resulted in value: 0.5213333333333333. Current best value is 0.4853333333333333 with parameters: {'lr': 0.07121792639372394, 'num_leaves': 1, 'max_depth': 4, 'min_child_samples': 4, 'max_bin': 7}.\u001b[0m\n",
      "\u001b[32m[I 2020-07-27 13:43:45,276]\u001b[0m Finished trial#79 resulted in value: 0.5133333333333333. Current best value is 0.4853333333333333 with parameters: {'lr': 0.07121792639372394, 'num_leaves': 1, 'max_depth': 4, 'min_child_samples': 4, 'max_bin': 7}.\u001b[0m\n",
      "\u001b[32m[I 2020-07-27 13:43:55,362]\u001b[0m Finished trial#80 resulted in value: 0.5213333333333333. Current best value is 0.4853333333333333 with parameters: {'lr': 0.07121792639372394, 'num_leaves': 1, 'max_depth': 4, 'min_child_samples': 4, 'max_bin': 7}.\u001b[0m\n",
      "\u001b[32m[I 2020-07-27 13:44:00,115]\u001b[0m Finished trial#81 resulted in value: 0.5053333333333334. Current best value is 0.4853333333333333 with parameters: {'lr': 0.07121792639372394, 'num_leaves': 1, 'max_depth': 4, 'min_child_samples': 4, 'max_bin': 7}.\u001b[0m\n",
      "\u001b[32m[I 2020-07-27 13:44:06,137]\u001b[0m Finished trial#82 resulted in value: 0.5066666666666666. Current best value is 0.4853333333333333 with parameters: {'lr': 0.07121792639372394, 'num_leaves': 1, 'max_depth': 4, 'min_child_samples': 4, 'max_bin': 7}.\u001b[0m\n",
      "\u001b[32m[I 2020-07-27 13:44:10,725]\u001b[0m Finished trial#83 resulted in value: 0.4866666666666667. Current best value is 0.4853333333333333 with parameters: {'lr': 0.07121792639372394, 'num_leaves': 1, 'max_depth': 4, 'min_child_samples': 4, 'max_bin': 7}.\u001b[0m\n",
      "\u001b[32m[I 2020-07-27 13:44:14,740]\u001b[0m Finished trial#84 resulted in value: 0.4973333333333333. Current best value is 0.4853333333333333 with parameters: {'lr': 0.07121792639372394, 'num_leaves': 1, 'max_depth': 4, 'min_child_samples': 4, 'max_bin': 7}.\u001b[0m\n",
      "\u001b[32m[I 2020-07-27 13:44:18,479]\u001b[0m Finished trial#85 resulted in value: 0.492. Current best value is 0.4853333333333333 with parameters: {'lr': 0.07121792639372394, 'num_leaves': 1, 'max_depth': 4, 'min_child_samples': 4, 'max_bin': 7}.\u001b[0m\n",
      "\u001b[32m[I 2020-07-27 13:44:22,447]\u001b[0m Finished trial#86 resulted in value: 0.5. Current best value is 0.4853333333333333 with parameters: {'lr': 0.07121792639372394, 'num_leaves': 1, 'max_depth': 4, 'min_child_samples': 4, 'max_bin': 7}.\u001b[0m\n",
      "\u001b[32m[I 2020-07-27 13:44:26,561]\u001b[0m Finished trial#87 resulted in value: 0.4986666666666667. Current best value is 0.4853333333333333 with parameters: {'lr': 0.07121792639372394, 'num_leaves': 1, 'max_depth': 4, 'min_child_samples': 4, 'max_bin': 7}.\u001b[0m\n",
      "\u001b[32m[I 2020-07-27 13:44:30,212]\u001b[0m Finished trial#88 resulted in value: 0.492. Current best value is 0.4853333333333333 with parameters: {'lr': 0.07121792639372394, 'num_leaves': 1, 'max_depth': 4, 'min_child_samples': 4, 'max_bin': 7}.\u001b[0m\n",
      "\u001b[32m[I 2020-07-27 13:44:33,819]\u001b[0m Finished trial#89 resulted in value: 0.504. Current best value is 0.4853333333333333 with parameters: {'lr': 0.07121792639372394, 'num_leaves': 1, 'max_depth': 4, 'min_child_samples': 4, 'max_bin': 7}.\u001b[0m\n",
      "\u001b[32m[I 2020-07-27 13:44:37,443]\u001b[0m Finished trial#90 resulted in value: 0.508. Current best value is 0.4853333333333333 with parameters: {'lr': 0.07121792639372394, 'num_leaves': 1, 'max_depth': 4, 'min_child_samples': 4, 'max_bin': 7}.\u001b[0m\n",
      "\u001b[32m[I 2020-07-27 13:44:41,378]\u001b[0m Finished trial#91 resulted in value: 0.4986666666666667. Current best value is 0.4853333333333333 with parameters: {'lr': 0.07121792639372394, 'num_leaves': 1, 'max_depth': 4, 'min_child_samples': 4, 'max_bin': 7}.\u001b[0m\n",
      "\u001b[32m[I 2020-07-27 13:44:47,175]\u001b[0m Finished trial#92 resulted in value: 0.488. Current best value is 0.4853333333333333 with parameters: {'lr': 0.07121792639372394, 'num_leaves': 1, 'max_depth': 4, 'min_child_samples': 4, 'max_bin': 7}.\u001b[0m\n",
      "\u001b[32m[I 2020-07-27 13:44:49,984]\u001b[0m Finished trial#93 resulted in value: 0.5. Current best value is 0.4853333333333333 with parameters: {'lr': 0.07121792639372394, 'num_leaves': 1, 'max_depth': 4, 'min_child_samples': 4, 'max_bin': 7}.\u001b[0m\n",
      "\u001b[32m[I 2020-07-27 13:44:55,291]\u001b[0m Finished trial#94 resulted in value: 0.5013333333333334. Current best value is 0.4853333333333333 with parameters: {'lr': 0.07121792639372394, 'num_leaves': 1, 'max_depth': 4, 'min_child_samples': 4, 'max_bin': 7}.\u001b[0m\n",
      "\u001b[32m[I 2020-07-27 13:45:00,497]\u001b[0m Finished trial#95 resulted in value: 0.4933333333333333. Current best value is 0.4853333333333333 with parameters: {'lr': 0.07121792639372394, 'num_leaves': 1, 'max_depth': 4, 'min_child_samples': 4, 'max_bin': 7}.\u001b[0m\n",
      "\u001b[32m[I 2020-07-27 13:45:04,386]\u001b[0m Finished trial#96 resulted in value: 0.4973333333333333. Current best value is 0.4853333333333333 with parameters: {'lr': 0.07121792639372394, 'num_leaves': 1, 'max_depth': 4, 'min_child_samples': 4, 'max_bin': 7}.\u001b[0m\n",
      "\u001b[32m[I 2020-07-27 13:45:11,682]\u001b[0m Finished trial#97 resulted in value: 0.4973333333333333. Current best value is 0.4853333333333333 with parameters: {'lr': 0.07121792639372394, 'num_leaves': 1, 'max_depth': 4, 'min_child_samples': 4, 'max_bin': 7}.\u001b[0m\n",
      "\u001b[32m[I 2020-07-27 13:45:15,120]\u001b[0m Finished trial#98 resulted in value: 0.5013333333333334. Current best value is 0.4853333333333333 with parameters: {'lr': 0.07121792639372394, 'num_leaves': 1, 'max_depth': 4, 'min_child_samples': 4, 'max_bin': 7}.\u001b[0m\n",
      "\u001b[32m[I 2020-07-27 13:45:18,536]\u001b[0m Finished trial#99 resulted in value: 0.4893333333333333. Current best value is 0.4853333333333333 with parameters: {'lr': 0.07121792639372394, 'num_leaves': 1, 'max_depth': 4, 'min_child_samples': 4, 'max_bin': 7}.\u001b[0m\n",
      "\u001b[32m[I 2020-07-27 13:45:20,544]\u001b[0m Finished trial#100 resulted in value: 0.496. Current best value is 0.4853333333333333 with parameters: {'lr': 0.07121792639372394, 'num_leaves': 1, 'max_depth': 4, 'min_child_samples': 4, 'max_bin': 7}.\u001b[0m\n",
      "\u001b[32m[I 2020-07-27 13:45:24,757]\u001b[0m Finished trial#101 resulted in value: 0.5106666666666666. Current best value is 0.4853333333333333 with parameters: {'lr': 0.07121792639372394, 'num_leaves': 1, 'max_depth': 4, 'min_child_samples': 4, 'max_bin': 7}.\u001b[0m\n",
      "\u001b[32m[I 2020-07-27 13:45:28,577]\u001b[0m Finished trial#102 resulted in value: 0.5. Current best value is 0.4853333333333333 with parameters: {'lr': 0.07121792639372394, 'num_leaves': 1, 'max_depth': 4, 'min_child_samples': 4, 'max_bin': 7}.\u001b[0m\n",
      "\u001b[32m[I 2020-07-27 13:45:31,255]\u001b[0m Finished trial#103 resulted in value: 0.512. Current best value is 0.4853333333333333 with parameters: {'lr': 0.07121792639372394, 'num_leaves': 1, 'max_depth': 4, 'min_child_samples': 4, 'max_bin': 7}.\u001b[0m\n",
      "\u001b[32m[I 2020-07-27 13:45:34,259]\u001b[0m Finished trial#104 resulted in value: 0.4906666666666667. Current best value is 0.4853333333333333 with parameters: {'lr': 0.07121792639372394, 'num_leaves': 1, 'max_depth': 4, 'min_child_samples': 4, 'max_bin': 7}.\u001b[0m\n",
      "\u001b[32m[I 2020-07-27 13:45:39,199]\u001b[0m Finished trial#105 resulted in value: 0.4866666666666667. Current best value is 0.4853333333333333 with parameters: {'lr': 0.07121792639372394, 'num_leaves': 1, 'max_depth': 4, 'min_child_samples': 4, 'max_bin': 7}.\u001b[0m\n",
      "\u001b[32m[I 2020-07-27 13:45:43,947]\u001b[0m Finished trial#106 resulted in value: 0.4933333333333333. Current best value is 0.4853333333333333 with parameters: {'lr': 0.07121792639372394, 'num_leaves': 1, 'max_depth': 4, 'min_child_samples': 4, 'max_bin': 7}.\u001b[0m\n",
      "\u001b[32m[I 2020-07-27 13:45:48,332]\u001b[0m Finished trial#107 resulted in value: 0.5066666666666666. Current best value is 0.4853333333333333 with parameters: {'lr': 0.07121792639372394, 'num_leaves': 1, 'max_depth': 4, 'min_child_samples': 4, 'max_bin': 7}.\u001b[0m\n",
      "\u001b[32m[I 2020-07-27 13:45:54,276]\u001b[0m Finished trial#108 resulted in value: 0.4946666666666667. Current best value is 0.4853333333333333 with parameters: {'lr': 0.07121792639372394, 'num_leaves': 1, 'max_depth': 4, 'min_child_samples': 4, 'max_bin': 7}.\u001b[0m\n",
      "\u001b[32m[I 2020-07-27 13:45:57,299]\u001b[0m Finished trial#109 resulted in value: 0.5053333333333334. Current best value is 0.4853333333333333 with parameters: {'lr': 0.07121792639372394, 'num_leaves': 1, 'max_depth': 4, 'min_child_samples': 4, 'max_bin': 7}.\u001b[0m\n",
      "\u001b[32m[I 2020-07-27 13:46:03,920]\u001b[0m Finished trial#110 resulted in value: 0.4946666666666667. Current best value is 0.4853333333333333 with parameters: {'lr': 0.07121792639372394, 'num_leaves': 1, 'max_depth': 4, 'min_child_samples': 4, 'max_bin': 7}.\u001b[0m\n",
      "\u001b[32m[I 2020-07-27 13:46:08,995]\u001b[0m Finished trial#111 resulted in value: 0.504. Current best value is 0.4853333333333333 with parameters: {'lr': 0.07121792639372394, 'num_leaves': 1, 'max_depth': 4, 'min_child_samples': 4, 'max_bin': 7}.\u001b[0m\n",
      "\u001b[32m[I 2020-07-27 13:46:12,691]\u001b[0m Finished trial#112 resulted in value: 0.4946666666666667. Current best value is 0.4853333333333333 with parameters: {'lr': 0.07121792639372394, 'num_leaves': 1, 'max_depth': 4, 'min_child_samples': 4, 'max_bin': 7}.\u001b[0m\n",
      "\u001b[32m[I 2020-07-27 13:46:17,425]\u001b[0m Finished trial#113 resulted in value: 0.504. Current best value is 0.4853333333333333 with parameters: {'lr': 0.07121792639372394, 'num_leaves': 1, 'max_depth': 4, 'min_child_samples': 4, 'max_bin': 7}.\u001b[0m\n",
      "\u001b[32m[I 2020-07-27 13:46:21,041]\u001b[0m Finished trial#114 resulted in value: 0.4826666666666667. Current best value is 0.4826666666666667 with parameters: {'lr': 0.11612211607525008, 'num_leaves': 2, 'max_depth': 4, 'min_child_samples': 4, 'max_bin': 7}.\u001b[0m\n",
      "\u001b[32m[I 2020-07-27 13:46:24,499]\u001b[0m Finished trial#115 resulted in value: 0.5133333333333333. Current best value is 0.4826666666666667 with parameters: {'lr': 0.11612211607525008, 'num_leaves': 2, 'max_depth': 4, 'min_child_samples': 4, 'max_bin': 7}.\u001b[0m\n",
      "\u001b[32m[I 2020-07-27 13:46:28,544]\u001b[0m Finished trial#116 resulted in value: 0.4973333333333333. Current best value is 0.4826666666666667 with parameters: {'lr': 0.11612211607525008, 'num_leaves': 2, 'max_depth': 4, 'min_child_samples': 4, 'max_bin': 7}.\u001b[0m\n",
      "\u001b[32m[I 2020-07-27 13:46:31,514]\u001b[0m Finished trial#117 resulted in value: 0.5093333333333334. Current best value is 0.4826666666666667 with parameters: {'lr': 0.11612211607525008, 'num_leaves': 2, 'max_depth': 4, 'min_child_samples': 4, 'max_bin': 7}.\u001b[0m\n",
      "\u001b[32m[I 2020-07-27 13:46:35,441]\u001b[0m Finished trial#118 resulted in value: 0.508. Current best value is 0.4826666666666667 with parameters: {'lr': 0.11612211607525008, 'num_leaves': 2, 'max_depth': 4, 'min_child_samples': 4, 'max_bin': 7}.\u001b[0m\n",
      "\u001b[32m[I 2020-07-27 13:46:37,982]\u001b[0m Finished trial#119 resulted in value: 0.5066666666666666. Current best value is 0.4826666666666667 with parameters: {'lr': 0.11612211607525008, 'num_leaves': 2, 'max_depth': 4, 'min_child_samples': 4, 'max_bin': 7}.\u001b[0m\n",
      "\u001b[32m[I 2020-07-27 13:46:40,160]\u001b[0m Finished trial#120 resulted in value: 0.5. Current best value is 0.4826666666666667 with parameters: {'lr': 0.11612211607525008, 'num_leaves': 2, 'max_depth': 4, 'min_child_samples': 4, 'max_bin': 7}.\u001b[0m\n",
      "\u001b[32m[I 2020-07-27 13:46:43,098]\u001b[0m Finished trial#121 resulted in value: 0.4813333333333333. Current best value is 0.4813333333333333 with parameters: {'lr': 0.10932393478273884, 'num_leaves': 1, 'max_depth': 4, 'min_child_samples': 4, 'max_bin': 7}.\u001b[0m\n",
      "\u001b[32m[I 2020-07-27 13:46:47,098]\u001b[0m Finished trial#122 resulted in value: 0.5066666666666666. Current best value is 0.4813333333333333 with parameters: {'lr': 0.10932393478273884, 'num_leaves': 1, 'max_depth': 4, 'min_child_samples': 4, 'max_bin': 7}.\u001b[0m\n",
      "\u001b[32m[I 2020-07-27 13:46:49,315]\u001b[0m Finished trial#123 resulted in value: 0.5026666666666666. Current best value is 0.4813333333333333 with parameters: {'lr': 0.10932393478273884, 'num_leaves': 1, 'max_depth': 4, 'min_child_samples': 4, 'max_bin': 7}.\u001b[0m\n",
      "\u001b[32m[I 2020-07-27 13:46:54,315]\u001b[0m Finished trial#124 resulted in value: 0.5026666666666666. Current best value is 0.4813333333333333 with parameters: {'lr': 0.10932393478273884, 'num_leaves': 1, 'max_depth': 4, 'min_child_samples': 4, 'max_bin': 7}.\u001b[0m\n",
      "\u001b[32m[I 2020-07-27 13:46:59,804]\u001b[0m Finished trial#125 resulted in value: 0.492. Current best value is 0.4813333333333333 with parameters: {'lr': 0.10932393478273884, 'num_leaves': 1, 'max_depth': 4, 'min_child_samples': 4, 'max_bin': 7}.\u001b[0m\n",
      "\u001b[32m[I 2020-07-27 13:47:05,854]\u001b[0m Finished trial#126 resulted in value: 0.492. Current best value is 0.4813333333333333 with parameters: {'lr': 0.10932393478273884, 'num_leaves': 1, 'max_depth': 4, 'min_child_samples': 4, 'max_bin': 7}.\u001b[0m\n",
      "\u001b[32m[I 2020-07-27 13:47:09,389]\u001b[0m Finished trial#127 resulted in value: 0.4906666666666667. Current best value is 0.4813333333333333 with parameters: {'lr': 0.10932393478273884, 'num_leaves': 1, 'max_depth': 4, 'min_child_samples': 4, 'max_bin': 7}.\u001b[0m\n",
      "\u001b[32m[I 2020-07-27 13:47:13,155]\u001b[0m Finished trial#128 resulted in value: 0.492. Current best value is 0.4813333333333333 with parameters: {'lr': 0.10932393478273884, 'num_leaves': 1, 'max_depth': 4, 'min_child_samples': 4, 'max_bin': 7}.\u001b[0m\n",
      "\u001b[32m[I 2020-07-27 13:47:17,494]\u001b[0m Finished trial#129 resulted in value: 0.496. Current best value is 0.4813333333333333 with parameters: {'lr': 0.10932393478273884, 'num_leaves': 1, 'max_depth': 4, 'min_child_samples': 4, 'max_bin': 7}.\u001b[0m\n",
      "\u001b[32m[I 2020-07-27 13:47:22,160]\u001b[0m Finished trial#130 resulted in value: 0.488. Current best value is 0.4813333333333333 with parameters: {'lr': 0.10932393478273884, 'num_leaves': 1, 'max_depth': 4, 'min_child_samples': 4, 'max_bin': 7}.\u001b[0m\n",
      "\u001b[32m[I 2020-07-27 13:47:26,703]\u001b[0m Finished trial#131 resulted in value: 0.5026666666666666. Current best value is 0.4813333333333333 with parameters: {'lr': 0.10932393478273884, 'num_leaves': 1, 'max_depth': 4, 'min_child_samples': 4, 'max_bin': 7}.\u001b[0m\n",
      "\u001b[32m[I 2020-07-27 13:47:30,798]\u001b[0m Finished trial#132 resulted in value: 0.4973333333333333. Current best value is 0.4813333333333333 with parameters: {'lr': 0.10932393478273884, 'num_leaves': 1, 'max_depth': 4, 'min_child_samples': 4, 'max_bin': 7}.\u001b[0m\n",
      "\u001b[32m[I 2020-07-27 13:47:35,497]\u001b[0m Finished trial#133 resulted in value: 0.4986666666666667. Current best value is 0.4813333333333333 with parameters: {'lr': 0.10932393478273884, 'num_leaves': 1, 'max_depth': 4, 'min_child_samples': 4, 'max_bin': 7}.\u001b[0m\n",
      "\u001b[32m[I 2020-07-27 13:47:38,288]\u001b[0m Finished trial#134 resulted in value: 0.5066666666666666. Current best value is 0.4813333333333333 with parameters: {'lr': 0.10932393478273884, 'num_leaves': 1, 'max_depth': 4, 'min_child_samples': 4, 'max_bin': 7}.\u001b[0m\n",
      "\u001b[32m[I 2020-07-27 13:47:41,644]\u001b[0m Finished trial#135 resulted in value: 0.4986666666666667. Current best value is 0.4813333333333333 with parameters: {'lr': 0.10932393478273884, 'num_leaves': 1, 'max_depth': 4, 'min_child_samples': 4, 'max_bin': 7}.\u001b[0m\n",
      "\u001b[32m[I 2020-07-27 13:47:46,596]\u001b[0m Finished trial#136 resulted in value: 0.5. Current best value is 0.4813333333333333 with parameters: {'lr': 0.10932393478273884, 'num_leaves': 1, 'max_depth': 4, 'min_child_samples': 4, 'max_bin': 7}.\u001b[0m\n",
      "\u001b[32m[I 2020-07-27 13:47:50,816]\u001b[0m Finished trial#137 resulted in value: 0.504. Current best value is 0.4813333333333333 with parameters: {'lr': 0.10932393478273884, 'num_leaves': 1, 'max_depth': 4, 'min_child_samples': 4, 'max_bin': 7}.\u001b[0m\n",
      "\u001b[32m[I 2020-07-27 13:47:53,159]\u001b[0m Finished trial#138 resulted in value: 0.512. Current best value is 0.4813333333333333 with parameters: {'lr': 0.10932393478273884, 'num_leaves': 1, 'max_depth': 4, 'min_child_samples': 4, 'max_bin': 7}.\u001b[0m\n",
      "\u001b[32m[I 2020-07-27 13:47:56,096]\u001b[0m Finished trial#139 resulted in value: 0.5. Current best value is 0.4813333333333333 with parameters: {'lr': 0.10932393478273884, 'num_leaves': 1, 'max_depth': 4, 'min_child_samples': 4, 'max_bin': 7}.\u001b[0m\n",
      "\u001b[32m[I 2020-07-27 13:48:00,715]\u001b[0m Finished trial#140 resulted in value: 0.5. Current best value is 0.4813333333333333 with parameters: {'lr': 0.10932393478273884, 'num_leaves': 1, 'max_depth': 4, 'min_child_samples': 4, 'max_bin': 7}.\u001b[0m\n",
      "\u001b[32m[I 2020-07-27 13:48:05,760]\u001b[0m Finished trial#141 resulted in value: 0.512. Current best value is 0.4813333333333333 with parameters: {'lr': 0.10932393478273884, 'num_leaves': 1, 'max_depth': 4, 'min_child_samples': 4, 'max_bin': 7}.\u001b[0m\n",
      "\u001b[32m[I 2020-07-27 13:48:11,706]\u001b[0m Finished trial#142 resulted in value: 0.492. Current best value is 0.4813333333333333 with parameters: {'lr': 0.10932393478273884, 'num_leaves': 1, 'max_depth': 4, 'min_child_samples': 4, 'max_bin': 7}.\u001b[0m\n",
      "\u001b[32m[I 2020-07-27 13:48:15,176]\u001b[0m Finished trial#143 resulted in value: 0.496. Current best value is 0.4813333333333333 with parameters: {'lr': 0.10932393478273884, 'num_leaves': 1, 'max_depth': 4, 'min_child_samples': 4, 'max_bin': 7}.\u001b[0m\n",
      "\u001b[32m[I 2020-07-27 13:48:18,603]\u001b[0m Finished trial#144 resulted in value: 0.4946666666666667. Current best value is 0.4813333333333333 with parameters: {'lr': 0.10932393478273884, 'num_leaves': 1, 'max_depth': 4, 'min_child_samples': 4, 'max_bin': 7}.\u001b[0m\n",
      "\u001b[32m[I 2020-07-27 13:48:23,622]\u001b[0m Finished trial#145 resulted in value: 0.4866666666666667. Current best value is 0.4813333333333333 with parameters: {'lr': 0.10932393478273884, 'num_leaves': 1, 'max_depth': 4, 'min_child_samples': 4, 'max_bin': 7}.\u001b[0m\n",
      "\u001b[32m[I 2020-07-27 13:48:28,976]\u001b[0m Finished trial#146 resulted in value: 0.496. Current best value is 0.4813333333333333 with parameters: {'lr': 0.10932393478273884, 'num_leaves': 1, 'max_depth': 4, 'min_child_samples': 4, 'max_bin': 7}.\u001b[0m\n",
      "\u001b[32m[I 2020-07-27 13:48:33,558]\u001b[0m Finished trial#147 resulted in value: 0.5106666666666666. Current best value is 0.4813333333333333 with parameters: {'lr': 0.10932393478273884, 'num_leaves': 1, 'max_depth': 4, 'min_child_samples': 4, 'max_bin': 7}.\u001b[0m\n",
      "\u001b[32m[I 2020-07-27 13:48:37,421]\u001b[0m Finished trial#148 resulted in value: 0.4946666666666667. Current best value is 0.4813333333333333 with parameters: {'lr': 0.10932393478273884, 'num_leaves': 1, 'max_depth': 4, 'min_child_samples': 4, 'max_bin': 7}.\u001b[0m\n",
      "\u001b[32m[I 2020-07-27 13:48:43,819]\u001b[0m Finished trial#149 resulted in value: 0.5093333333333334. Current best value is 0.4813333333333333 with parameters: {'lr': 0.10932393478273884, 'num_leaves': 1, 'max_depth': 4, 'min_child_samples': 4, 'max_bin': 7}.\u001b[0m\n",
      "\u001b[32m[I 2020-07-27 13:48:48,627]\u001b[0m Finished trial#150 resulted in value: 0.4906666666666667. Current best value is 0.4813333333333333 with parameters: {'lr': 0.10932393478273884, 'num_leaves': 1, 'max_depth': 4, 'min_child_samples': 4, 'max_bin': 7}.\u001b[0m\n",
      "\u001b[32m[I 2020-07-27 13:48:53,991]\u001b[0m Finished trial#151 resulted in value: 0.512. Current best value is 0.4813333333333333 with parameters: {'lr': 0.10932393478273884, 'num_leaves': 1, 'max_depth': 4, 'min_child_samples': 4, 'max_bin': 7}.\u001b[0m\n",
      "\u001b[32m[I 2020-07-27 13:48:58,362]\u001b[0m Finished trial#152 resulted in value: 0.4933333333333333. Current best value is 0.4813333333333333 with parameters: {'lr': 0.10932393478273884, 'num_leaves': 1, 'max_depth': 4, 'min_child_samples': 4, 'max_bin': 7}.\u001b[0m\n",
      "\u001b[32m[I 2020-07-27 13:49:03,388]\u001b[0m Finished trial#153 resulted in value: 0.496. Current best value is 0.4813333333333333 with parameters: {'lr': 0.10932393478273884, 'num_leaves': 1, 'max_depth': 4, 'min_child_samples': 4, 'max_bin': 7}.\u001b[0m\n",
      "\u001b[32m[I 2020-07-27 13:49:06,695]\u001b[0m Finished trial#154 resulted in value: 0.488. Current best value is 0.4813333333333333 with parameters: {'lr': 0.10932393478273884, 'num_leaves': 1, 'max_depth': 4, 'min_child_samples': 4, 'max_bin': 7}.\u001b[0m\n",
      "\u001b[32m[I 2020-07-27 13:49:09,660]\u001b[0m Finished trial#155 resulted in value: 0.5106666666666666. Current best value is 0.4813333333333333 with parameters: {'lr': 0.10932393478273884, 'num_leaves': 1, 'max_depth': 4, 'min_child_samples': 4, 'max_bin': 7}.\u001b[0m\n",
      "\u001b[32m[I 2020-07-27 13:49:13,528]\u001b[0m Finished trial#156 resulted in value: 0.4986666666666667. Current best value is 0.4813333333333333 with parameters: {'lr': 0.10932393478273884, 'num_leaves': 1, 'max_depth': 4, 'min_child_samples': 4, 'max_bin': 7}.\u001b[0m\n",
      "\u001b[32m[I 2020-07-27 13:49:16,117]\u001b[0m Finished trial#157 resulted in value: 0.504. Current best value is 0.4813333333333333 with parameters: {'lr': 0.10932393478273884, 'num_leaves': 1, 'max_depth': 4, 'min_child_samples': 4, 'max_bin': 7}.\u001b[0m\n",
      "\u001b[32m[I 2020-07-27 13:49:19,650]\u001b[0m Finished trial#158 resulted in value: 0.4813333333333333. Current best value is 0.4813333333333333 with parameters: {'lr': 0.10932393478273884, 'num_leaves': 1, 'max_depth': 4, 'min_child_samples': 4, 'max_bin': 7}.\u001b[0m\n",
      "\u001b[32m[I 2020-07-27 13:49:22,922]\u001b[0m Finished trial#159 resulted in value: 0.4866666666666667. Current best value is 0.4813333333333333 with parameters: {'lr': 0.10932393478273884, 'num_leaves': 1, 'max_depth': 4, 'min_child_samples': 4, 'max_bin': 7}.\u001b[0m\n",
      "\u001b[32m[I 2020-07-27 13:49:25,686]\u001b[0m Finished trial#160 resulted in value: 0.5. Current best value is 0.4813333333333333 with parameters: {'lr': 0.10932393478273884, 'num_leaves': 1, 'max_depth': 4, 'min_child_samples': 4, 'max_bin': 7}.\u001b[0m\n",
      "\u001b[32m[I 2020-07-27 13:49:28,918]\u001b[0m Finished trial#161 resulted in value: 0.508. Current best value is 0.4813333333333333 with parameters: {'lr': 0.10932393478273884, 'num_leaves': 1, 'max_depth': 4, 'min_child_samples': 4, 'max_bin': 7}.\u001b[0m\n",
      "\u001b[32m[I 2020-07-27 13:49:32,471]\u001b[0m Finished trial#162 resulted in value: 0.4946666666666667. Current best value is 0.4813333333333333 with parameters: {'lr': 0.10932393478273884, 'num_leaves': 1, 'max_depth': 4, 'min_child_samples': 4, 'max_bin': 7}.\u001b[0m\n",
      "\u001b[32m[I 2020-07-27 13:49:35,675]\u001b[0m Finished trial#163 resulted in value: 0.4893333333333333. Current best value is 0.4813333333333333 with parameters: {'lr': 0.10932393478273884, 'num_leaves': 1, 'max_depth': 4, 'min_child_samples': 4, 'max_bin': 7}.\u001b[0m\n",
      "\u001b[32m[I 2020-07-27 13:49:39,014]\u001b[0m Finished trial#164 resulted in value: 0.504. Current best value is 0.4813333333333333 with parameters: {'lr': 0.10932393478273884, 'num_leaves': 1, 'max_depth': 4, 'min_child_samples': 4, 'max_bin': 7}.\u001b[0m\n",
      "\u001b[32m[I 2020-07-27 13:49:42,175]\u001b[0m Finished trial#165 resulted in value: 0.5093333333333334. Current best value is 0.4813333333333333 with parameters: {'lr': 0.10932393478273884, 'num_leaves': 1, 'max_depth': 4, 'min_child_samples': 4, 'max_bin': 7}.\u001b[0m\n",
      "\u001b[32m[I 2020-07-27 13:49:44,590]\u001b[0m Finished trial#166 resulted in value: 0.5066666666666666. Current best value is 0.4813333333333333 with parameters: {'lr': 0.10932393478273884, 'num_leaves': 1, 'max_depth': 4, 'min_child_samples': 4, 'max_bin': 7}.\u001b[0m\n",
      "\u001b[32m[I 2020-07-27 13:49:47,675]\u001b[0m Finished trial#167 resulted in value: 0.4933333333333333. Current best value is 0.4813333333333333 with parameters: {'lr': 0.10932393478273884, 'num_leaves': 1, 'max_depth': 4, 'min_child_samples': 4, 'max_bin': 7}.\u001b[0m\n",
      "\u001b[32m[I 2020-07-27 13:49:51,223]\u001b[0m Finished trial#168 resulted in value: 0.4906666666666667. Current best value is 0.4813333333333333 with parameters: {'lr': 0.10932393478273884, 'num_leaves': 1, 'max_depth': 4, 'min_child_samples': 4, 'max_bin': 7}.\u001b[0m\n",
      "\u001b[32m[I 2020-07-27 13:49:55,190]\u001b[0m Finished trial#169 resulted in value: 0.4973333333333333. Current best value is 0.4813333333333333 with parameters: {'lr': 0.10932393478273884, 'num_leaves': 1, 'max_depth': 4, 'min_child_samples': 4, 'max_bin': 7}.\u001b[0m\n",
      "\u001b[32m[I 2020-07-27 13:50:01,189]\u001b[0m Finished trial#170 resulted in value: 0.5106666666666666. Current best value is 0.4813333333333333 with parameters: {'lr': 0.10932393478273884, 'num_leaves': 1, 'max_depth': 4, 'min_child_samples': 4, 'max_bin': 7}.\u001b[0m\n",
      "\u001b[32m[I 2020-07-27 13:50:04,585]\u001b[0m Finished trial#171 resulted in value: 0.5066666666666666. Current best value is 0.4813333333333333 with parameters: {'lr': 0.10932393478273884, 'num_leaves': 1, 'max_depth': 4, 'min_child_samples': 4, 'max_bin': 7}.\u001b[0m\n",
      "\u001b[32m[I 2020-07-27 13:50:07,230]\u001b[0m Finished trial#172 resulted in value: 0.5106666666666666. Current best value is 0.4813333333333333 with parameters: {'lr': 0.10932393478273884, 'num_leaves': 1, 'max_depth': 4, 'min_child_samples': 4, 'max_bin': 7}.\u001b[0m\n",
      "\u001b[32m[I 2020-07-27 13:50:10,401]\u001b[0m Finished trial#173 resulted in value: 0.5106666666666666. Current best value is 0.4813333333333333 with parameters: {'lr': 0.10932393478273884, 'num_leaves': 1, 'max_depth': 4, 'min_child_samples': 4, 'max_bin': 7}.\u001b[0m\n",
      "\u001b[32m[I 2020-07-27 13:50:13,872]\u001b[0m Finished trial#174 resulted in value: 0.5066666666666666. Current best value is 0.4813333333333333 with parameters: {'lr': 0.10932393478273884, 'num_leaves': 1, 'max_depth': 4, 'min_child_samples': 4, 'max_bin': 7}.\u001b[0m\n",
      "\u001b[32m[I 2020-07-27 13:50:18,401]\u001b[0m Finished trial#175 resulted in value: 0.5026666666666666. Current best value is 0.4813333333333333 with parameters: {'lr': 0.10932393478273884, 'num_leaves': 1, 'max_depth': 4, 'min_child_samples': 4, 'max_bin': 7}.\u001b[0m\n",
      "\u001b[32m[I 2020-07-27 13:50:22,239]\u001b[0m Finished trial#176 resulted in value: 0.4946666666666667. Current best value is 0.4813333333333333 with parameters: {'lr': 0.10932393478273884, 'num_leaves': 1, 'max_depth': 4, 'min_child_samples': 4, 'max_bin': 7}.\u001b[0m\n",
      "\u001b[32m[I 2020-07-27 13:50:26,110]\u001b[0m Finished trial#177 resulted in value: 0.5053333333333334. Current best value is 0.4813333333333333 with parameters: {'lr': 0.10932393478273884, 'num_leaves': 1, 'max_depth': 4, 'min_child_samples': 4, 'max_bin': 7}.\u001b[0m\n",
      "\u001b[32m[I 2020-07-27 13:50:33,208]\u001b[0m Finished trial#178 resulted in value: 0.5053333333333334. Current best value is 0.4813333333333333 with parameters: {'lr': 0.10932393478273884, 'num_leaves': 1, 'max_depth': 4, 'min_child_samples': 4, 'max_bin': 7}.\u001b[0m\n",
      "\u001b[32m[I 2020-07-27 13:50:40,304]\u001b[0m Finished trial#179 resulted in value: 0.5. Current best value is 0.4813333333333333 with parameters: {'lr': 0.10932393478273884, 'num_leaves': 1, 'max_depth': 4, 'min_child_samples': 4, 'max_bin': 7}.\u001b[0m\n",
      "\u001b[32m[I 2020-07-27 13:50:45,925]\u001b[0m Finished trial#180 resulted in value: 0.4933333333333333. Current best value is 0.4813333333333333 with parameters: {'lr': 0.10932393478273884, 'num_leaves': 1, 'max_depth': 4, 'min_child_samples': 4, 'max_bin': 7}.\u001b[0m\n",
      "\u001b[32m[I 2020-07-27 13:50:49,649]\u001b[0m Finished trial#181 resulted in value: 0.512. Current best value is 0.4813333333333333 with parameters: {'lr': 0.10932393478273884, 'num_leaves': 1, 'max_depth': 4, 'min_child_samples': 4, 'max_bin': 7}.\u001b[0m\n",
      "\u001b[32m[I 2020-07-27 13:50:52,935]\u001b[0m Finished trial#182 resulted in value: 0.4933333333333333. Current best value is 0.4813333333333333 with parameters: {'lr': 0.10932393478273884, 'num_leaves': 1, 'max_depth': 4, 'min_child_samples': 4, 'max_bin': 7}.\u001b[0m\n",
      "\u001b[32m[I 2020-07-27 13:50:57,999]\u001b[0m Finished trial#183 resulted in value: 0.4826666666666667. Current best value is 0.4813333333333333 with parameters: {'lr': 0.10932393478273884, 'num_leaves': 1, 'max_depth': 4, 'min_child_samples': 4, 'max_bin': 7}.\u001b[0m\n",
      "\u001b[32m[I 2020-07-27 13:51:02,822]\u001b[0m Finished trial#184 resulted in value: 0.504. Current best value is 0.4813333333333333 with parameters: {'lr': 0.10932393478273884, 'num_leaves': 1, 'max_depth': 4, 'min_child_samples': 4, 'max_bin': 7}.\u001b[0m\n",
      "\u001b[32m[I 2020-07-27 13:51:08,613]\u001b[0m Finished trial#185 resulted in value: 0.4933333333333333. Current best value is 0.4813333333333333 with parameters: {'lr': 0.10932393478273884, 'num_leaves': 1, 'max_depth': 4, 'min_child_samples': 4, 'max_bin': 7}.\u001b[0m\n",
      "\u001b[32m[I 2020-07-27 13:51:12,536]\u001b[0m Finished trial#186 resulted in value: 0.504. Current best value is 0.4813333333333333 with parameters: {'lr': 0.10932393478273884, 'num_leaves': 1, 'max_depth': 4, 'min_child_samples': 4, 'max_bin': 7}.\u001b[0m\n",
      "\u001b[32m[I 2020-07-27 13:51:17,434]\u001b[0m Finished trial#187 resulted in value: 0.4986666666666667. Current best value is 0.4813333333333333 with parameters: {'lr': 0.10932393478273884, 'num_leaves': 1, 'max_depth': 4, 'min_child_samples': 4, 'max_bin': 7}.\u001b[0m\n",
      "\u001b[32m[I 2020-07-27 13:51:24,666]\u001b[0m Finished trial#188 resulted in value: 0.5013333333333334. Current best value is 0.4813333333333333 with parameters: {'lr': 0.10932393478273884, 'num_leaves': 1, 'max_depth': 4, 'min_child_samples': 4, 'max_bin': 7}.\u001b[0m\n",
      "\u001b[32m[I 2020-07-27 13:51:29,342]\u001b[0m Finished trial#189 resulted in value: 0.4853333333333333. Current best value is 0.4813333333333333 with parameters: {'lr': 0.10932393478273884, 'num_leaves': 1, 'max_depth': 4, 'min_child_samples': 4, 'max_bin': 7}.\u001b[0m\n",
      "\u001b[32m[I 2020-07-27 13:51:34,403]\u001b[0m Finished trial#190 resulted in value: 0.5. Current best value is 0.4813333333333333 with parameters: {'lr': 0.10932393478273884, 'num_leaves': 1, 'max_depth': 4, 'min_child_samples': 4, 'max_bin': 7}.\u001b[0m\n",
      "\u001b[32m[I 2020-07-27 13:51:37,582]\u001b[0m Finished trial#191 resulted in value: 0.4973333333333333. Current best value is 0.4813333333333333 with parameters: {'lr': 0.10932393478273884, 'num_leaves': 1, 'max_depth': 4, 'min_child_samples': 4, 'max_bin': 7}.\u001b[0m\n",
      "\u001b[32m[I 2020-07-27 13:51:41,324]\u001b[0m Finished trial#192 resulted in value: 0.492. Current best value is 0.4813333333333333 with parameters: {'lr': 0.10932393478273884, 'num_leaves': 1, 'max_depth': 4, 'min_child_samples': 4, 'max_bin': 7}.\u001b[0m\n",
      "\u001b[32m[I 2020-07-27 13:51:47,000]\u001b[0m Finished trial#193 resulted in value: 0.5026666666666666. Current best value is 0.4813333333333333 with parameters: {'lr': 0.10932393478273884, 'num_leaves': 1, 'max_depth': 4, 'min_child_samples': 4, 'max_bin': 7}.\u001b[0m\n",
      "\u001b[32m[I 2020-07-27 13:51:50,393]\u001b[0m Finished trial#194 resulted in value: 0.5053333333333334. Current best value is 0.4813333333333333 with parameters: {'lr': 0.10932393478273884, 'num_leaves': 1, 'max_depth': 4, 'min_child_samples': 4, 'max_bin': 7}.\u001b[0m\n",
      "\u001b[32m[I 2020-07-27 13:51:54,555]\u001b[0m Finished trial#195 resulted in value: 0.5. Current best value is 0.4813333333333333 with parameters: {'lr': 0.10932393478273884, 'num_leaves': 1, 'max_depth': 4, 'min_child_samples': 4, 'max_bin': 7}.\u001b[0m\n",
      "\u001b[32m[I 2020-07-27 13:51:58,841]\u001b[0m Finished trial#196 resulted in value: 0.5066666666666666. Current best value is 0.4813333333333333 with parameters: {'lr': 0.10932393478273884, 'num_leaves': 1, 'max_depth': 4, 'min_child_samples': 4, 'max_bin': 7}.\u001b[0m\n",
      "\u001b[32m[I 2020-07-27 13:52:03,912]\u001b[0m Finished trial#197 resulted in value: 0.5. Current best value is 0.4813333333333333 with parameters: {'lr': 0.10932393478273884, 'num_leaves': 1, 'max_depth': 4, 'min_child_samples': 4, 'max_bin': 7}.\u001b[0m\n",
      "\u001b[32m[I 2020-07-27 13:52:10,091]\u001b[0m Finished trial#198 resulted in value: 0.488. Current best value is 0.4813333333333333 with parameters: {'lr': 0.10932393478273884, 'num_leaves': 1, 'max_depth': 4, 'min_child_samples': 4, 'max_bin': 7}.\u001b[0m\n",
      "\u001b[32m[I 2020-07-27 13:52:16,733]\u001b[0m Finished trial#199 resulted in value: 0.4946666666666667. Current best value is 0.4813333333333333 with parameters: {'lr': 0.10932393478273884, 'num_leaves': 1, 'max_depth': 4, 'min_child_samples': 4, 'max_bin': 7}.\u001b[0m\n",
      "\u001b[32m[I 2020-07-27 13:52:22,618]\u001b[0m Finished trial#200 resulted in value: 0.5026666666666666. Current best value is 0.4813333333333333 with parameters: {'lr': 0.10932393478273884, 'num_leaves': 1, 'max_depth': 4, 'min_child_samples': 4, 'max_bin': 7}.\u001b[0m\n",
      "\u001b[32m[I 2020-07-27 13:52:26,086]\u001b[0m Finished trial#201 resulted in value: 0.5013333333333334. Current best value is 0.4813333333333333 with parameters: {'lr': 0.10932393478273884, 'num_leaves': 1, 'max_depth': 4, 'min_child_samples': 4, 'max_bin': 7}.\u001b[0m\n",
      "\u001b[32m[I 2020-07-27 13:52:31,589]\u001b[0m Finished trial#202 resulted in value: 0.5. Current best value is 0.4813333333333333 with parameters: {'lr': 0.10932393478273884, 'num_leaves': 1, 'max_depth': 4, 'min_child_samples': 4, 'max_bin': 7}.\u001b[0m\n",
      "\u001b[32m[I 2020-07-27 13:52:35,912]\u001b[0m Finished trial#203 resulted in value: 0.5026666666666666. Current best value is 0.4813333333333333 with parameters: {'lr': 0.10932393478273884, 'num_leaves': 1, 'max_depth': 4, 'min_child_samples': 4, 'max_bin': 7}.\u001b[0m\n",
      "\u001b[32m[I 2020-07-27 13:52:40,704]\u001b[0m Finished trial#204 resulted in value: 0.4986666666666667. Current best value is 0.4813333333333333 with parameters: {'lr': 0.10932393478273884, 'num_leaves': 1, 'max_depth': 4, 'min_child_samples': 4, 'max_bin': 7}.\u001b[0m\n",
      "\u001b[32m[I 2020-07-27 13:52:44,480]\u001b[0m Finished trial#205 resulted in value: 0.5013333333333334. Current best value is 0.4813333333333333 with parameters: {'lr': 0.10932393478273884, 'num_leaves': 1, 'max_depth': 4, 'min_child_samples': 4, 'max_bin': 7}.\u001b[0m\n",
      "\u001b[32m[I 2020-07-27 13:52:47,289]\u001b[0m Finished trial#206 resulted in value: 0.512. Current best value is 0.4813333333333333 with parameters: {'lr': 0.10932393478273884, 'num_leaves': 1, 'max_depth': 4, 'min_child_samples': 4, 'max_bin': 7}.\u001b[0m\n",
      "\u001b[32m[I 2020-07-27 13:52:50,228]\u001b[0m Finished trial#207 resulted in value: 0.512. Current best value is 0.4813333333333333 with parameters: {'lr': 0.10932393478273884, 'num_leaves': 1, 'max_depth': 4, 'min_child_samples': 4, 'max_bin': 7}.\u001b[0m\n",
      "\u001b[32m[I 2020-07-27 13:52:56,818]\u001b[0m Finished trial#208 resulted in value: 0.4933333333333333. Current best value is 0.4813333333333333 with parameters: {'lr': 0.10932393478273884, 'num_leaves': 1, 'max_depth': 4, 'min_child_samples': 4, 'max_bin': 7}.\u001b[0m\n",
      "\u001b[32m[I 2020-07-27 13:53:00,439]\u001b[0m Finished trial#209 resulted in value: 0.4946666666666667. Current best value is 0.4813333333333333 with parameters: {'lr': 0.10932393478273884, 'num_leaves': 1, 'max_depth': 4, 'min_child_samples': 4, 'max_bin': 7}.\u001b[0m\n",
      "\u001b[32m[I 2020-07-27 13:53:05,649]\u001b[0m Finished trial#210 resulted in value: 0.5. Current best value is 0.4813333333333333 with parameters: {'lr': 0.10932393478273884, 'num_leaves': 1, 'max_depth': 4, 'min_child_samples': 4, 'max_bin': 7}.\u001b[0m\n",
      "\u001b[32m[I 2020-07-27 13:53:11,300]\u001b[0m Finished trial#211 resulted in value: 0.4933333333333333. Current best value is 0.4813333333333333 with parameters: {'lr': 0.10932393478273884, 'num_leaves': 1, 'max_depth': 4, 'min_child_samples': 4, 'max_bin': 7}.\u001b[0m\n",
      "\u001b[32m[I 2020-07-27 13:53:16,988]\u001b[0m Finished trial#212 resulted in value: 0.5013333333333334. Current best value is 0.4813333333333333 with parameters: {'lr': 0.10932393478273884, 'num_leaves': 1, 'max_depth': 4, 'min_child_samples': 4, 'max_bin': 7}.\u001b[0m\n",
      "\u001b[32m[I 2020-07-27 13:53:23,591]\u001b[0m Finished trial#213 resulted in value: 0.5026666666666666. Current best value is 0.4813333333333333 with parameters: {'lr': 0.10932393478273884, 'num_leaves': 1, 'max_depth': 4, 'min_child_samples': 4, 'max_bin': 7}.\u001b[0m\n",
      "\u001b[32m[I 2020-07-27 13:53:26,542]\u001b[0m Finished trial#214 resulted in value: 0.516. Current best value is 0.4813333333333333 with parameters: {'lr': 0.10932393478273884, 'num_leaves': 1, 'max_depth': 4, 'min_child_samples': 4, 'max_bin': 7}.\u001b[0m\n",
      "\u001b[32m[I 2020-07-27 13:53:30,448]\u001b[0m Finished trial#215 resulted in value: 0.5066666666666666. Current best value is 0.4813333333333333 with parameters: {'lr': 0.10932393478273884, 'num_leaves': 1, 'max_depth': 4, 'min_child_samples': 4, 'max_bin': 7}.\u001b[0m\n",
      "\u001b[32m[I 2020-07-27 13:53:35,213]\u001b[0m Finished trial#216 resulted in value: 0.496. Current best value is 0.4813333333333333 with parameters: {'lr': 0.10932393478273884, 'num_leaves': 1, 'max_depth': 4, 'min_child_samples': 4, 'max_bin': 7}.\u001b[0m\n",
      "\u001b[32m[I 2020-07-27 13:53:38,839]\u001b[0m Finished trial#217 resulted in value: 0.4986666666666667. Current best value is 0.4813333333333333 with parameters: {'lr': 0.10932393478273884, 'num_leaves': 1, 'max_depth': 4, 'min_child_samples': 4, 'max_bin': 7}.\u001b[0m\n",
      "\u001b[32m[I 2020-07-27 13:53:41,993]\u001b[0m Finished trial#218 resulted in value: 0.508. Current best value is 0.4813333333333333 with parameters: {'lr': 0.10932393478273884, 'num_leaves': 1, 'max_depth': 4, 'min_child_samples': 4, 'max_bin': 7}.\u001b[0m\n",
      "\u001b[32m[I 2020-07-27 13:53:45,931]\u001b[0m Finished trial#219 resulted in value: 0.5. Current best value is 0.4813333333333333 with parameters: {'lr': 0.10932393478273884, 'num_leaves': 1, 'max_depth': 4, 'min_child_samples': 4, 'max_bin': 7}.\u001b[0m\n",
      "\u001b[32m[I 2020-07-27 13:53:49,141]\u001b[0m Finished trial#220 resulted in value: 0.5133333333333333. Current best value is 0.4813333333333333 with parameters: {'lr': 0.10932393478273884, 'num_leaves': 1, 'max_depth': 4, 'min_child_samples': 4, 'max_bin': 7}.\u001b[0m\n",
      "\u001b[32m[I 2020-07-27 13:53:52,218]\u001b[0m Finished trial#221 resulted in value: 0.4986666666666667. Current best value is 0.4813333333333333 with parameters: {'lr': 0.10932393478273884, 'num_leaves': 1, 'max_depth': 4, 'min_child_samples': 4, 'max_bin': 7}.\u001b[0m\n",
      "\u001b[32m[I 2020-07-27 13:53:56,117]\u001b[0m Finished trial#222 resulted in value: 0.4986666666666667. Current best value is 0.4813333333333333 with parameters: {'lr': 0.10932393478273884, 'num_leaves': 1, 'max_depth': 4, 'min_child_samples': 4, 'max_bin': 7}.\u001b[0m\n",
      "\u001b[32m[I 2020-07-27 13:54:00,748]\u001b[0m Finished trial#223 resulted in value: 0.508. Current best value is 0.4813333333333333 with parameters: {'lr': 0.10932393478273884, 'num_leaves': 1, 'max_depth': 4, 'min_child_samples': 4, 'max_bin': 7}.\u001b[0m\n",
      "\u001b[32m[I 2020-07-27 13:54:04,016]\u001b[0m Finished trial#224 resulted in value: 0.5026666666666666. Current best value is 0.4813333333333333 with parameters: {'lr': 0.10932393478273884, 'num_leaves': 1, 'max_depth': 4, 'min_child_samples': 4, 'max_bin': 7}.\u001b[0m\n",
      "\u001b[32m[I 2020-07-27 13:54:09,405]\u001b[0m Finished trial#225 resulted in value: 0.504. Current best value is 0.4813333333333333 with parameters: {'lr': 0.10932393478273884, 'num_leaves': 1, 'max_depth': 4, 'min_child_samples': 4, 'max_bin': 7}.\u001b[0m\n",
      "\u001b[32m[I 2020-07-27 13:54:15,450]\u001b[0m Finished trial#226 resulted in value: 0.504. Current best value is 0.4813333333333333 with parameters: {'lr': 0.10932393478273884, 'num_leaves': 1, 'max_depth': 4, 'min_child_samples': 4, 'max_bin': 7}.\u001b[0m\n",
      "\u001b[32m[I 2020-07-27 13:54:20,221]\u001b[0m Finished trial#227 resulted in value: 0.508. Current best value is 0.4813333333333333 with parameters: {'lr': 0.10932393478273884, 'num_leaves': 1, 'max_depth': 4, 'min_child_samples': 4, 'max_bin': 7}.\u001b[0m\n",
      "\u001b[32m[I 2020-07-27 13:54:27,778]\u001b[0m Finished trial#228 resulted in value: 0.4906666666666667. Current best value is 0.4813333333333333 with parameters: {'lr': 0.10932393478273884, 'num_leaves': 1, 'max_depth': 4, 'min_child_samples': 4, 'max_bin': 7}.\u001b[0m\n",
      "\u001b[32m[I 2020-07-27 13:54:34,972]\u001b[0m Finished trial#229 resulted in value: 0.5013333333333334. Current best value is 0.4813333333333333 with parameters: {'lr': 0.10932393478273884, 'num_leaves': 1, 'max_depth': 4, 'min_child_samples': 4, 'max_bin': 7}.\u001b[0m\n",
      "\u001b[32m[I 2020-07-27 13:54:38,005]\u001b[0m Finished trial#230 resulted in value: 0.496. Current best value is 0.4813333333333333 with parameters: {'lr': 0.10932393478273884, 'num_leaves': 1, 'max_depth': 4, 'min_child_samples': 4, 'max_bin': 7}.\u001b[0m\n",
      "\u001b[32m[I 2020-07-27 13:54:45,646]\u001b[0m Finished trial#231 resulted in value: 0.512. Current best value is 0.4813333333333333 with parameters: {'lr': 0.10932393478273884, 'num_leaves': 1, 'max_depth': 4, 'min_child_samples': 4, 'max_bin': 7}.\u001b[0m\n",
      "\u001b[32m[I 2020-07-27 13:54:49,378]\u001b[0m Finished trial#232 resulted in value: 0.4826666666666667. Current best value is 0.4813333333333333 with parameters: {'lr': 0.10932393478273884, 'num_leaves': 1, 'max_depth': 4, 'min_child_samples': 4, 'max_bin': 7}.\u001b[0m\n",
      "\u001b[32m[I 2020-07-27 13:54:55,351]\u001b[0m Finished trial#233 resulted in value: 0.5053333333333334. Current best value is 0.4813333333333333 with parameters: {'lr': 0.10932393478273884, 'num_leaves': 1, 'max_depth': 4, 'min_child_samples': 4, 'max_bin': 7}.\u001b[0m\n",
      "\u001b[32m[I 2020-07-27 13:54:58,487]\u001b[0m Finished trial#234 resulted in value: 0.48. Current best value is 0.48 with parameters: {'lr': 0.1110130866389903, 'num_leaves': 1, 'max_depth': 4, 'min_child_samples': 4, 'max_bin': 7}.\u001b[0m\n",
      "\u001b[32m[I 2020-07-27 13:55:01,328]\u001b[0m Finished trial#235 resulted in value: 0.5. Current best value is 0.48 with parameters: {'lr': 0.1110130866389903, 'num_leaves': 1, 'max_depth': 4, 'min_child_samples': 4, 'max_bin': 7}.\u001b[0m\n",
      "\u001b[32m[I 2020-07-27 13:55:08,467]\u001b[0m Finished trial#236 resulted in value: 0.4986666666666667. Current best value is 0.48 with parameters: {'lr': 0.1110130866389903, 'num_leaves': 1, 'max_depth': 4, 'min_child_samples': 4, 'max_bin': 7}.\u001b[0m\n",
      "\u001b[32m[I 2020-07-27 13:55:09,944]\u001b[0m Finished trial#237 resulted in value: 0.4986666666666667. Current best value is 0.48 with parameters: {'lr': 0.1110130866389903, 'num_leaves': 1, 'max_depth': 4, 'min_child_samples': 4, 'max_bin': 7}.\u001b[0m\n",
      "\u001b[32m[I 2020-07-27 13:55:14,212]\u001b[0m Finished trial#238 resulted in value: 0.496. Current best value is 0.48 with parameters: {'lr': 0.1110130866389903, 'num_leaves': 1, 'max_depth': 4, 'min_child_samples': 4, 'max_bin': 7}.\u001b[0m\n",
      "\u001b[32m[I 2020-07-27 13:55:18,120]\u001b[0m Finished trial#239 resulted in value: 0.496. Current best value is 0.48 with parameters: {'lr': 0.1110130866389903, 'num_leaves': 1, 'max_depth': 4, 'min_child_samples': 4, 'max_bin': 7}.\u001b[0m\n",
      "\u001b[32m[I 2020-07-27 13:55:28,155]\u001b[0m Finished trial#240 resulted in value: 0.5186666666666666. Current best value is 0.48 with parameters: {'lr': 0.1110130866389903, 'num_leaves': 1, 'max_depth': 4, 'min_child_samples': 4, 'max_bin': 7}.\u001b[0m\n",
      "\u001b[32m[I 2020-07-27 13:55:31,565]\u001b[0m Finished trial#241 resulted in value: 0.5213333333333333. Current best value is 0.48 with parameters: {'lr': 0.1110130866389903, 'num_leaves': 1, 'max_depth': 4, 'min_child_samples': 4, 'max_bin': 7}.\u001b[0m\n",
      "\u001b[32m[I 2020-07-27 13:55:35,429]\u001b[0m Finished trial#242 resulted in value: 0.5026666666666666. Current best value is 0.48 with parameters: {'lr': 0.1110130866389903, 'num_leaves': 1, 'max_depth': 4, 'min_child_samples': 4, 'max_bin': 7}.\u001b[0m\n",
      "\u001b[32m[I 2020-07-27 13:55:39,391]\u001b[0m Finished trial#243 resulted in value: 0.5026666666666666. Current best value is 0.48 with parameters: {'lr': 0.1110130866389903, 'num_leaves': 1, 'max_depth': 4, 'min_child_samples': 4, 'max_bin': 7}.\u001b[0m\n",
      "\u001b[32m[I 2020-07-27 13:55:42,094]\u001b[0m Finished trial#244 resulted in value: 0.4986666666666667. Current best value is 0.48 with parameters: {'lr': 0.1110130866389903, 'num_leaves': 1, 'max_depth': 4, 'min_child_samples': 4, 'max_bin': 7}.\u001b[0m\n",
      "\u001b[32m[I 2020-07-27 13:55:47,198]\u001b[0m Finished trial#245 resulted in value: 0.48. Current best value is 0.48 with parameters: {'lr': 0.1110130866389903, 'num_leaves': 1, 'max_depth': 4, 'min_child_samples': 4, 'max_bin': 7}.\u001b[0m\n",
      "\u001b[32m[I 2020-07-27 13:55:52,721]\u001b[0m Finished trial#246 resulted in value: 0.5. Current best value is 0.48 with parameters: {'lr': 0.1110130866389903, 'num_leaves': 1, 'max_depth': 4, 'min_child_samples': 4, 'max_bin': 7}.\u001b[0m\n",
      "\u001b[32m[I 2020-07-27 13:55:56,694]\u001b[0m Finished trial#247 resulted in value: 0.4933333333333333. Current best value is 0.48 with parameters: {'lr': 0.1110130866389903, 'num_leaves': 1, 'max_depth': 4, 'min_child_samples': 4, 'max_bin': 7}.\u001b[0m\n",
      "\u001b[32m[I 2020-07-27 13:56:03,048]\u001b[0m Finished trial#248 resulted in value: 0.4866666666666667. Current best value is 0.48 with parameters: {'lr': 0.1110130866389903, 'num_leaves': 1, 'max_depth': 4, 'min_child_samples': 4, 'max_bin': 7}.\u001b[0m\n",
      "\u001b[32m[I 2020-07-27 13:56:06,818]\u001b[0m Finished trial#249 resulted in value: 0.5013333333333334. Current best value is 0.48 with parameters: {'lr': 0.1110130866389903, 'num_leaves': 1, 'max_depth': 4, 'min_child_samples': 4, 'max_bin': 7}.\u001b[0m\n",
      "\u001b[32m[I 2020-07-27 13:56:11,227]\u001b[0m Finished trial#250 resulted in value: 0.4933333333333333. Current best value is 0.48 with parameters: {'lr': 0.1110130866389903, 'num_leaves': 1, 'max_depth': 4, 'min_child_samples': 4, 'max_bin': 7}.\u001b[0m\n",
      "\u001b[32m[I 2020-07-27 13:56:15,197]\u001b[0m Finished trial#251 resulted in value: 0.5093333333333334. Current best value is 0.48 with parameters: {'lr': 0.1110130866389903, 'num_leaves': 1, 'max_depth': 4, 'min_child_samples': 4, 'max_bin': 7}.\u001b[0m\n",
      "\u001b[32m[I 2020-07-27 13:56:20,810]\u001b[0m Finished trial#252 resulted in value: 0.48. Current best value is 0.48 with parameters: {'lr': 0.1110130866389903, 'num_leaves': 1, 'max_depth': 4, 'min_child_samples': 4, 'max_bin': 7}.\u001b[0m\n",
      "\u001b[32m[I 2020-07-27 13:56:27,015]\u001b[0m Finished trial#253 resulted in value: 0.488. Current best value is 0.48 with parameters: {'lr': 0.1110130866389903, 'num_leaves': 1, 'max_depth': 4, 'min_child_samples': 4, 'max_bin': 7}.\u001b[0m\n",
      "\u001b[32m[I 2020-07-27 13:56:32,021]\u001b[0m Finished trial#254 resulted in value: 0.4986666666666667. Current best value is 0.48 with parameters: {'lr': 0.1110130866389903, 'num_leaves': 1, 'max_depth': 4, 'min_child_samples': 4, 'max_bin': 7}.\u001b[0m\n",
      "\u001b[32m[I 2020-07-27 13:56:37,558]\u001b[0m Finished trial#255 resulted in value: 0.5013333333333334. Current best value is 0.48 with parameters: {'lr': 0.1110130866389903, 'num_leaves': 1, 'max_depth': 4, 'min_child_samples': 4, 'max_bin': 7}.\u001b[0m\n",
      "\u001b[32m[I 2020-07-27 13:56:39,996]\u001b[0m Finished trial#256 resulted in value: 0.504. Current best value is 0.48 with parameters: {'lr': 0.1110130866389903, 'num_leaves': 1, 'max_depth': 4, 'min_child_samples': 4, 'max_bin': 7}.\u001b[0m\n",
      "\u001b[32m[I 2020-07-27 13:56:46,380]\u001b[0m Finished trial#257 resulted in value: 0.508. Current best value is 0.48 with parameters: {'lr': 0.1110130866389903, 'num_leaves': 1, 'max_depth': 4, 'min_child_samples': 4, 'max_bin': 7}.\u001b[0m\n",
      "\u001b[32m[I 2020-07-27 13:56:49,051]\u001b[0m Finished trial#258 resulted in value: 0.516. Current best value is 0.48 with parameters: {'lr': 0.1110130866389903, 'num_leaves': 1, 'max_depth': 4, 'min_child_samples': 4, 'max_bin': 7}.\u001b[0m\n",
      "\u001b[32m[I 2020-07-27 13:56:55,716]\u001b[0m Finished trial#259 resulted in value: 0.5013333333333334. Current best value is 0.48 with parameters: {'lr': 0.1110130866389903, 'num_leaves': 1, 'max_depth': 4, 'min_child_samples': 4, 'max_bin': 7}.\u001b[0m\n",
      "\u001b[32m[I 2020-07-27 13:57:01,028]\u001b[0m Finished trial#260 resulted in value: 0.5026666666666666. Current best value is 0.48 with parameters: {'lr': 0.1110130866389903, 'num_leaves': 1, 'max_depth': 4, 'min_child_samples': 4, 'max_bin': 7}.\u001b[0m\n",
      "\u001b[32m[I 2020-07-27 13:57:06,037]\u001b[0m Finished trial#261 resulted in value: 0.5026666666666666. Current best value is 0.48 with parameters: {'lr': 0.1110130866389903, 'num_leaves': 1, 'max_depth': 4, 'min_child_samples': 4, 'max_bin': 7}.\u001b[0m\n",
      "\u001b[32m[I 2020-07-27 13:57:10,766]\u001b[0m Finished trial#262 resulted in value: 0.512. Current best value is 0.48 with parameters: {'lr': 0.1110130866389903, 'num_leaves': 1, 'max_depth': 4, 'min_child_samples': 4, 'max_bin': 7}.\u001b[0m\n",
      "\u001b[32m[I 2020-07-27 13:57:16,318]\u001b[0m Finished trial#263 resulted in value: 0.4906666666666667. Current best value is 0.48 with parameters: {'lr': 0.1110130866389903, 'num_leaves': 1, 'max_depth': 4, 'min_child_samples': 4, 'max_bin': 7}.\u001b[0m\n",
      "\u001b[32m[I 2020-07-27 13:57:19,528]\u001b[0m Finished trial#264 resulted in value: 0.4986666666666667. Current best value is 0.48 with parameters: {'lr': 0.1110130866389903, 'num_leaves': 1, 'max_depth': 4, 'min_child_samples': 4, 'max_bin': 7}.\u001b[0m\n",
      "\u001b[32m[I 2020-07-27 13:57:23,631]\u001b[0m Finished trial#265 resulted in value: 0.4946666666666667. Current best value is 0.48 with parameters: {'lr': 0.1110130866389903, 'num_leaves': 1, 'max_depth': 4, 'min_child_samples': 4, 'max_bin': 7}.\u001b[0m\n",
      "\u001b[32m[I 2020-07-27 13:57:27,062]\u001b[0m Finished trial#266 resulted in value: 0.5026666666666666. Current best value is 0.48 with parameters: {'lr': 0.1110130866389903, 'num_leaves': 1, 'max_depth': 4, 'min_child_samples': 4, 'max_bin': 7}.\u001b[0m\n",
      "\u001b[32m[I 2020-07-27 13:57:30,331]\u001b[0m Finished trial#267 resulted in value: 0.492. Current best value is 0.48 with parameters: {'lr': 0.1110130866389903, 'num_leaves': 1, 'max_depth': 4, 'min_child_samples': 4, 'max_bin': 7}.\u001b[0m\n",
      "\u001b[32m[I 2020-07-27 13:57:35,180]\u001b[0m Finished trial#268 resulted in value: 0.508. Current best value is 0.48 with parameters: {'lr': 0.1110130866389903, 'num_leaves': 1, 'max_depth': 4, 'min_child_samples': 4, 'max_bin': 7}.\u001b[0m\n",
      "\u001b[32m[I 2020-07-27 13:57:38,342]\u001b[0m Finished trial#269 resulted in value: 0.4853333333333333. Current best value is 0.48 with parameters: {'lr': 0.1110130866389903, 'num_leaves': 1, 'max_depth': 4, 'min_child_samples': 4, 'max_bin': 7}.\u001b[0m\n",
      "\u001b[32m[I 2020-07-27 13:57:41,322]\u001b[0m Finished trial#270 resulted in value: 0.5146666666666666. Current best value is 0.48 with parameters: {'lr': 0.1110130866389903, 'num_leaves': 1, 'max_depth': 4, 'min_child_samples': 4, 'max_bin': 7}.\u001b[0m\n",
      "\u001b[32m[I 2020-07-27 13:57:44,116]\u001b[0m Finished trial#271 resulted in value: 0.4866666666666667. Current best value is 0.48 with parameters: {'lr': 0.1110130866389903, 'num_leaves': 1, 'max_depth': 4, 'min_child_samples': 4, 'max_bin': 7}.\u001b[0m\n",
      "\u001b[32m[I 2020-07-27 13:57:46,804]\u001b[0m Finished trial#272 resulted in value: 0.508. Current best value is 0.48 with parameters: {'lr': 0.1110130866389903, 'num_leaves': 1, 'max_depth': 4, 'min_child_samples': 4, 'max_bin': 7}.\u001b[0m\n",
      "\u001b[32m[I 2020-07-27 13:57:49,650]\u001b[0m Finished trial#273 resulted in value: 0.4946666666666667. Current best value is 0.48 with parameters: {'lr': 0.1110130866389903, 'num_leaves': 1, 'max_depth': 4, 'min_child_samples': 4, 'max_bin': 7}.\u001b[0m\n",
      "\u001b[32m[I 2020-07-27 13:57:52,538]\u001b[0m Finished trial#274 resulted in value: 0.5053333333333334. Current best value is 0.48 with parameters: {'lr': 0.1110130866389903, 'num_leaves': 1, 'max_depth': 4, 'min_child_samples': 4, 'max_bin': 7}.\u001b[0m\n",
      "\u001b[32m[I 2020-07-27 13:58:01,441]\u001b[0m Finished trial#275 resulted in value: 0.5146666666666666. Current best value is 0.48 with parameters: {'lr': 0.1110130866389903, 'num_leaves': 1, 'max_depth': 4, 'min_child_samples': 4, 'max_bin': 7}.\u001b[0m\n",
      "\u001b[32m[I 2020-07-27 13:58:04,441]\u001b[0m Finished trial#276 resulted in value: 0.5093333333333334. Current best value is 0.48 with parameters: {'lr': 0.1110130866389903, 'num_leaves': 1, 'max_depth': 4, 'min_child_samples': 4, 'max_bin': 7}.\u001b[0m\n",
      "\u001b[32m[I 2020-07-27 13:58:07,092]\u001b[0m Finished trial#277 resulted in value: 0.48. Current best value is 0.48 with parameters: {'lr': 0.1110130866389903, 'num_leaves': 1, 'max_depth': 4, 'min_child_samples': 4, 'max_bin': 7}.\u001b[0m\n",
      "\u001b[32m[I 2020-07-27 13:58:10,210]\u001b[0m Finished trial#278 resulted in value: 0.5. Current best value is 0.48 with parameters: {'lr': 0.1110130866389903, 'num_leaves': 1, 'max_depth': 4, 'min_child_samples': 4, 'max_bin': 7}.\u001b[0m\n",
      "\u001b[32m[I 2020-07-27 13:58:12,691]\u001b[0m Finished trial#279 resulted in value: 0.5026666666666666. Current best value is 0.48 with parameters: {'lr': 0.1110130866389903, 'num_leaves': 1, 'max_depth': 4, 'min_child_samples': 4, 'max_bin': 7}.\u001b[0m\n",
      "\u001b[32m[I 2020-07-27 13:58:17,470]\u001b[0m Finished trial#280 resulted in value: 0.48. Current best value is 0.48 with parameters: {'lr': 0.1110130866389903, 'num_leaves': 1, 'max_depth': 4, 'min_child_samples': 4, 'max_bin': 7}.\u001b[0m\n",
      "\u001b[32m[I 2020-07-27 13:58:21,765]\u001b[0m Finished trial#281 resulted in value: 0.492. Current best value is 0.48 with parameters: {'lr': 0.1110130866389903, 'num_leaves': 1, 'max_depth': 4, 'min_child_samples': 4, 'max_bin': 7}.\u001b[0m\n",
      "\u001b[32m[I 2020-07-27 13:58:27,686]\u001b[0m Finished trial#282 resulted in value: 0.5066666666666666. Current best value is 0.48 with parameters: {'lr': 0.1110130866389903, 'num_leaves': 1, 'max_depth': 4, 'min_child_samples': 4, 'max_bin': 7}.\u001b[0m\n",
      "\u001b[32m[I 2020-07-27 13:58:30,944]\u001b[0m Finished trial#283 resulted in value: 0.5053333333333334. Current best value is 0.48 with parameters: {'lr': 0.1110130866389903, 'num_leaves': 1, 'max_depth': 4, 'min_child_samples': 4, 'max_bin': 7}.\u001b[0m\n",
      "\u001b[32m[I 2020-07-27 13:58:34,133]\u001b[0m Finished trial#284 resulted in value: 0.5146666666666666. Current best value is 0.48 with parameters: {'lr': 0.1110130866389903, 'num_leaves': 1, 'max_depth': 4, 'min_child_samples': 4, 'max_bin': 7}.\u001b[0m\n",
      "\u001b[32m[I 2020-07-27 13:58:42,105]\u001b[0m Finished trial#285 resulted in value: 0.532. Current best value is 0.48 with parameters: {'lr': 0.1110130866389903, 'num_leaves': 1, 'max_depth': 4, 'min_child_samples': 4, 'max_bin': 7}.\u001b[0m\n",
      "\u001b[32m[I 2020-07-27 13:58:47,260]\u001b[0m Finished trial#286 resulted in value: 0.4906666666666667. Current best value is 0.48 with parameters: {'lr': 0.1110130866389903, 'num_leaves': 1, 'max_depth': 4, 'min_child_samples': 4, 'max_bin': 7}.\u001b[0m\n",
      "\u001b[32m[I 2020-07-27 13:58:53,327]\u001b[0m Finished trial#287 resulted in value: 0.4906666666666667. Current best value is 0.48 with parameters: {'lr': 0.1110130866389903, 'num_leaves': 1, 'max_depth': 4, 'min_child_samples': 4, 'max_bin': 7}.\u001b[0m\n",
      "\u001b[32m[I 2020-07-27 13:58:55,599]\u001b[0m Finished trial#288 resulted in value: 0.504. Current best value is 0.48 with parameters: {'lr': 0.1110130866389903, 'num_leaves': 1, 'max_depth': 4, 'min_child_samples': 4, 'max_bin': 7}.\u001b[0m\n",
      "\u001b[32m[I 2020-07-27 13:58:59,650]\u001b[0m Finished trial#289 resulted in value: 0.5. Current best value is 0.48 with parameters: {'lr': 0.1110130866389903, 'num_leaves': 1, 'max_depth': 4, 'min_child_samples': 4, 'max_bin': 7}.\u001b[0m\n",
      "\u001b[32m[I 2020-07-27 13:59:03,725]\u001b[0m Finished trial#290 resulted in value: 0.4973333333333333. Current best value is 0.48 with parameters: {'lr': 0.1110130866389903, 'num_leaves': 1, 'max_depth': 4, 'min_child_samples': 4, 'max_bin': 7}.\u001b[0m\n",
      "\u001b[32m[I 2020-07-27 13:59:08,670]\u001b[0m Finished trial#291 resulted in value: 0.5026666666666666. Current best value is 0.48 with parameters: {'lr': 0.1110130866389903, 'num_leaves': 1, 'max_depth': 4, 'min_child_samples': 4, 'max_bin': 7}.\u001b[0m\n",
      "\u001b[32m[I 2020-07-27 13:59:11,517]\u001b[0m Finished trial#292 resulted in value: 0.5106666666666666. Current best value is 0.48 with parameters: {'lr': 0.1110130866389903, 'num_leaves': 1, 'max_depth': 4, 'min_child_samples': 4, 'max_bin': 7}.\u001b[0m\n",
      "\u001b[32m[I 2020-07-27 13:59:15,721]\u001b[0m Finished trial#293 resulted in value: 0.5013333333333334. Current best value is 0.48 with parameters: {'lr': 0.1110130866389903, 'num_leaves': 1, 'max_depth': 4, 'min_child_samples': 4, 'max_bin': 7}.\u001b[0m\n",
      "\u001b[32m[I 2020-07-27 13:59:18,744]\u001b[0m Finished trial#294 resulted in value: 0.504. Current best value is 0.48 with parameters: {'lr': 0.1110130866389903, 'num_leaves': 1, 'max_depth': 4, 'min_child_samples': 4, 'max_bin': 7}.\u001b[0m\n",
      "\u001b[32m[I 2020-07-27 13:59:23,504]\u001b[0m Finished trial#295 resulted in value: 0.5026666666666666. Current best value is 0.48 with parameters: {'lr': 0.1110130866389903, 'num_leaves': 1, 'max_depth': 4, 'min_child_samples': 4, 'max_bin': 7}.\u001b[0m\n",
      "\u001b[32m[I 2020-07-27 13:59:28,955]\u001b[0m Finished trial#296 resulted in value: 0.496. Current best value is 0.48 with parameters: {'lr': 0.1110130866389903, 'num_leaves': 1, 'max_depth': 4, 'min_child_samples': 4, 'max_bin': 7}.\u001b[0m\n",
      "\u001b[32m[I 2020-07-27 13:59:32,292]\u001b[0m Finished trial#297 resulted in value: 0.4973333333333333. Current best value is 0.48 with parameters: {'lr': 0.1110130866389903, 'num_leaves': 1, 'max_depth': 4, 'min_child_samples': 4, 'max_bin': 7}.\u001b[0m\n",
      "\u001b[32m[I 2020-07-27 13:59:36,724]\u001b[0m Finished trial#298 resulted in value: 0.4973333333333333. Current best value is 0.48 with parameters: {'lr': 0.1110130866389903, 'num_leaves': 1, 'max_depth': 4, 'min_child_samples': 4, 'max_bin': 7}.\u001b[0m\n",
      "\u001b[32m[I 2020-07-27 13:59:40,491]\u001b[0m Finished trial#299 resulted in value: 0.5026666666666666. Current best value is 0.48 with parameters: {'lr': 0.1110130866389903, 'num_leaves': 1, 'max_depth': 4, 'min_child_samples': 4, 'max_bin': 7}.\u001b[0m\n",
      "\u001b[32m[I 2020-07-27 13:59:44,073]\u001b[0m Finished trial#300 resulted in value: 0.508. Current best value is 0.48 with parameters: {'lr': 0.1110130866389903, 'num_leaves': 1, 'max_depth': 4, 'min_child_samples': 4, 'max_bin': 7}.\u001b[0m\n",
      "\u001b[32m[I 2020-07-27 13:59:47,231]\u001b[0m Finished trial#301 resulted in value: 0.4973333333333333. Current best value is 0.48 with parameters: {'lr': 0.1110130866389903, 'num_leaves': 1, 'max_depth': 4, 'min_child_samples': 4, 'max_bin': 7}.\u001b[0m\n",
      "\u001b[32m[I 2020-07-27 13:59:51,572]\u001b[0m Finished trial#302 resulted in value: 0.5. Current best value is 0.48 with parameters: {'lr': 0.1110130866389903, 'num_leaves': 1, 'max_depth': 4, 'min_child_samples': 4, 'max_bin': 7}.\u001b[0m\n",
      "\u001b[32m[I 2020-07-27 13:59:56,328]\u001b[0m Finished trial#303 resulted in value: 0.512. Current best value is 0.48 with parameters: {'lr': 0.1110130866389903, 'num_leaves': 1, 'max_depth': 4, 'min_child_samples': 4, 'max_bin': 7}.\u001b[0m\n",
      "\u001b[32m[I 2020-07-27 14:00:01,732]\u001b[0m Finished trial#304 resulted in value: 0.496. Current best value is 0.48 with parameters: {'lr': 0.1110130866389903, 'num_leaves': 1, 'max_depth': 4, 'min_child_samples': 4, 'max_bin': 7}.\u001b[0m\n",
      "\u001b[32m[I 2020-07-27 14:00:02,679]\u001b[0m Finished trial#305 resulted in value: 0.6026666666666667. Current best value is 0.48 with parameters: {'lr': 0.1110130866389903, 'num_leaves': 1, 'max_depth': 4, 'min_child_samples': 4, 'max_bin': 7}.\u001b[0m\n",
      "\u001b[32m[I 2020-07-27 14:00:05,313]\u001b[0m Finished trial#306 resulted in value: 0.5146666666666666. Current best value is 0.48 with parameters: {'lr': 0.1110130866389903, 'num_leaves': 1, 'max_depth': 4, 'min_child_samples': 4, 'max_bin': 7}.\u001b[0m\n",
      "\u001b[32m[I 2020-07-27 14:00:08,666]\u001b[0m Finished trial#307 resulted in value: 0.5. Current best value is 0.48 with parameters: {'lr': 0.1110130866389903, 'num_leaves': 1, 'max_depth': 4, 'min_child_samples': 4, 'max_bin': 7}.\u001b[0m\n",
      "\u001b[32m[I 2020-07-27 14:00:11,932]\u001b[0m Finished trial#308 resulted in value: 0.5026666666666666. Current best value is 0.48 with parameters: {'lr': 0.1110130866389903, 'num_leaves': 1, 'max_depth': 4, 'min_child_samples': 4, 'max_bin': 7}.\u001b[0m\n",
      "\u001b[32m[I 2020-07-27 14:00:16,246]\u001b[0m Finished trial#309 resulted in value: 0.5013333333333334. Current best value is 0.48 with parameters: {'lr': 0.1110130866389903, 'num_leaves': 1, 'max_depth': 4, 'min_child_samples': 4, 'max_bin': 7}.\u001b[0m\n",
      "\u001b[32m[I 2020-07-27 14:00:21,781]\u001b[0m Finished trial#310 resulted in value: 0.5026666666666666. Current best value is 0.48 with parameters: {'lr': 0.1110130866389903, 'num_leaves': 1, 'max_depth': 4, 'min_child_samples': 4, 'max_bin': 7}.\u001b[0m\n",
      "\u001b[32m[I 2020-07-27 14:00:26,449]\u001b[0m Finished trial#311 resulted in value: 0.4973333333333333. Current best value is 0.48 with parameters: {'lr': 0.1110130866389903, 'num_leaves': 1, 'max_depth': 4, 'min_child_samples': 4, 'max_bin': 7}.\u001b[0m\n",
      "\u001b[32m[I 2020-07-27 14:00:30,130]\u001b[0m Finished trial#312 resulted in value: 0.5053333333333334. Current best value is 0.48 with parameters: {'lr': 0.1110130866389903, 'num_leaves': 1, 'max_depth': 4, 'min_child_samples': 4, 'max_bin': 7}.\u001b[0m\n",
      "\u001b[32m[I 2020-07-27 14:00:33,107]\u001b[0m Finished trial#313 resulted in value: 0.496. Current best value is 0.48 with parameters: {'lr': 0.1110130866389903, 'num_leaves': 1, 'max_depth': 4, 'min_child_samples': 4, 'max_bin': 7}.\u001b[0m\n",
      "\u001b[32m[I 2020-07-27 14:00:35,898]\u001b[0m Finished trial#314 resulted in value: 0.4906666666666667. Current best value is 0.48 with parameters: {'lr': 0.1110130866389903, 'num_leaves': 1, 'max_depth': 4, 'min_child_samples': 4, 'max_bin': 7}.\u001b[0m\n",
      "\u001b[32m[I 2020-07-27 14:00:39,689]\u001b[0m Finished trial#315 resulted in value: 0.5053333333333334. Current best value is 0.48 with parameters: {'lr': 0.1110130866389903, 'num_leaves': 1, 'max_depth': 4, 'min_child_samples': 4, 'max_bin': 7}.\u001b[0m\n",
      "\u001b[32m[I 2020-07-27 14:00:45,227]\u001b[0m Finished trial#316 resulted in value: 0.5053333333333334. Current best value is 0.48 with parameters: {'lr': 0.1110130866389903, 'num_leaves': 1, 'max_depth': 4, 'min_child_samples': 4, 'max_bin': 7}.\u001b[0m\n",
      "\u001b[32m[I 2020-07-27 14:00:47,497]\u001b[0m Finished trial#317 resulted in value: 0.4973333333333333. Current best value is 0.48 with parameters: {'lr': 0.1110130866389903, 'num_leaves': 1, 'max_depth': 4, 'min_child_samples': 4, 'max_bin': 7}.\u001b[0m\n",
      "\u001b[32m[I 2020-07-27 14:00:52,468]\u001b[0m Finished trial#318 resulted in value: 0.5026666666666666. Current best value is 0.48 with parameters: {'lr': 0.1110130866389903, 'num_leaves': 1, 'max_depth': 4, 'min_child_samples': 4, 'max_bin': 7}.\u001b[0m\n",
      "\u001b[32m[I 2020-07-27 14:00:57,684]\u001b[0m Finished trial#319 resulted in value: 0.4973333333333333. Current best value is 0.48 with parameters: {'lr': 0.1110130866389903, 'num_leaves': 1, 'max_depth': 4, 'min_child_samples': 4, 'max_bin': 7}.\u001b[0m\n",
      "\u001b[32m[I 2020-07-27 14:01:02,403]\u001b[0m Finished trial#320 resulted in value: 0.5053333333333334. Current best value is 0.48 with parameters: {'lr': 0.1110130866389903, 'num_leaves': 1, 'max_depth': 4, 'min_child_samples': 4, 'max_bin': 7}.\u001b[0m\n",
      "\u001b[32m[I 2020-07-27 14:01:05,864]\u001b[0m Finished trial#321 resulted in value: 0.4893333333333333. Current best value is 0.48 with parameters: {'lr': 0.1110130866389903, 'num_leaves': 1, 'max_depth': 4, 'min_child_samples': 4, 'max_bin': 7}.\u001b[0m\n",
      "\u001b[32m[I 2020-07-27 14:01:11,122]\u001b[0m Finished trial#322 resulted in value: 0.4973333333333333. Current best value is 0.48 with parameters: {'lr': 0.1110130866389903, 'num_leaves': 1, 'max_depth': 4, 'min_child_samples': 4, 'max_bin': 7}.\u001b[0m\n",
      "\u001b[32m[I 2020-07-27 14:01:14,701]\u001b[0m Finished trial#323 resulted in value: 0.5013333333333334. Current best value is 0.48 with parameters: {'lr': 0.1110130866389903, 'num_leaves': 1, 'max_depth': 4, 'min_child_samples': 4, 'max_bin': 7}.\u001b[0m\n",
      "\u001b[32m[I 2020-07-27 14:01:18,215]\u001b[0m Finished trial#324 resulted in value: 0.4906666666666667. Current best value is 0.48 with parameters: {'lr': 0.1110130866389903, 'num_leaves': 1, 'max_depth': 4, 'min_child_samples': 4, 'max_bin': 7}.\u001b[0m\n",
      "\u001b[32m[I 2020-07-27 14:01:20,804]\u001b[0m Finished trial#325 resulted in value: 0.5093333333333334. Current best value is 0.48 with parameters: {'lr': 0.1110130866389903, 'num_leaves': 1, 'max_depth': 4, 'min_child_samples': 4, 'max_bin': 7}.\u001b[0m\n",
      "\u001b[32m[I 2020-07-27 14:01:25,189]\u001b[0m Finished trial#326 resulted in value: 0.4973333333333333. Current best value is 0.48 with parameters: {'lr': 0.1110130866389903, 'num_leaves': 1, 'max_depth': 4, 'min_child_samples': 4, 'max_bin': 7}.\u001b[0m\n",
      "\u001b[32m[I 2020-07-27 14:01:28,132]\u001b[0m Finished trial#327 resulted in value: 0.5066666666666666. Current best value is 0.48 with parameters: {'lr': 0.1110130866389903, 'num_leaves': 1, 'max_depth': 4, 'min_child_samples': 4, 'max_bin': 7}.\u001b[0m\n",
      "\u001b[32m[I 2020-07-27 14:01:34,779]\u001b[0m Finished trial#328 resulted in value: 0.4946666666666667. Current best value is 0.48 with parameters: {'lr': 0.1110130866389903, 'num_leaves': 1, 'max_depth': 4, 'min_child_samples': 4, 'max_bin': 7}.\u001b[0m\n",
      "\u001b[32m[I 2020-07-27 14:01:38,127]\u001b[0m Finished trial#329 resulted in value: 0.4946666666666667. Current best value is 0.48 with parameters: {'lr': 0.1110130866389903, 'num_leaves': 1, 'max_depth': 4, 'min_child_samples': 4, 'max_bin': 7}.\u001b[0m\n",
      "\u001b[32m[I 2020-07-27 14:01:43,070]\u001b[0m Finished trial#330 resulted in value: 0.5093333333333334. Current best value is 0.48 with parameters: {'lr': 0.1110130866389903, 'num_leaves': 1, 'max_depth': 4, 'min_child_samples': 4, 'max_bin': 7}.\u001b[0m\n",
      "\u001b[32m[I 2020-07-27 14:01:46,220]\u001b[0m Finished trial#331 resulted in value: 0.5026666666666666. Current best value is 0.48 with parameters: {'lr': 0.1110130866389903, 'num_leaves': 1, 'max_depth': 4, 'min_child_samples': 4, 'max_bin': 7}.\u001b[0m\n",
      "\u001b[32m[I 2020-07-27 14:01:50,505]\u001b[0m Finished trial#332 resulted in value: 0.5026666666666666. Current best value is 0.48 with parameters: {'lr': 0.1110130866389903, 'num_leaves': 1, 'max_depth': 4, 'min_child_samples': 4, 'max_bin': 7}.\u001b[0m\n",
      "\u001b[32m[I 2020-07-27 14:01:55,172]\u001b[0m Finished trial#333 resulted in value: 0.4906666666666667. Current best value is 0.48 with parameters: {'lr': 0.1110130866389903, 'num_leaves': 1, 'max_depth': 4, 'min_child_samples': 4, 'max_bin': 7}.\u001b[0m\n",
      "\u001b[32m[I 2020-07-27 14:02:04,243]\u001b[0m Finished trial#334 resulted in value: 0.5053333333333334. Current best value is 0.48 with parameters: {'lr': 0.1110130866389903, 'num_leaves': 1, 'max_depth': 4, 'min_child_samples': 4, 'max_bin': 7}.\u001b[0m\n",
      "\u001b[32m[I 2020-07-27 14:02:07,883]\u001b[0m Finished trial#335 resulted in value: 0.504. Current best value is 0.48 with parameters: {'lr': 0.1110130866389903, 'num_leaves': 1, 'max_depth': 4, 'min_child_samples': 4, 'max_bin': 7}.\u001b[0m\n",
      "\u001b[32m[I 2020-07-27 14:02:11,074]\u001b[0m Finished trial#336 resulted in value: 0.504. Current best value is 0.48 with parameters: {'lr': 0.1110130866389903, 'num_leaves': 1, 'max_depth': 4, 'min_child_samples': 4, 'max_bin': 7}.\u001b[0m\n",
      "\u001b[32m[I 2020-07-27 14:02:16,171]\u001b[0m Finished trial#337 resulted in value: 0.4933333333333333. Current best value is 0.48 with parameters: {'lr': 0.1110130866389903, 'num_leaves': 1, 'max_depth': 4, 'min_child_samples': 4, 'max_bin': 7}.\u001b[0m\n",
      "\u001b[32m[I 2020-07-27 14:02:20,011]\u001b[0m Finished trial#338 resulted in value: 0.512. Current best value is 0.48 with parameters: {'lr': 0.1110130866389903, 'num_leaves': 1, 'max_depth': 4, 'min_child_samples': 4, 'max_bin': 7}.\u001b[0m\n",
      "\u001b[32m[I 2020-07-27 14:02:23,666]\u001b[0m Finished trial#339 resulted in value: 0.5146666666666666. Current best value is 0.48 with parameters: {'lr': 0.1110130866389903, 'num_leaves': 1, 'max_depth': 4, 'min_child_samples': 4, 'max_bin': 7}.\u001b[0m\n",
      "\u001b[32m[I 2020-07-27 14:02:29,782]\u001b[0m Finished trial#340 resulted in value: 0.4986666666666667. Current best value is 0.48 with parameters: {'lr': 0.1110130866389903, 'num_leaves': 1, 'max_depth': 4, 'min_child_samples': 4, 'max_bin': 7}.\u001b[0m\n",
      "\u001b[32m[I 2020-07-27 14:02:32,868]\u001b[0m Finished trial#341 resulted in value: 0.492. Current best value is 0.48 with parameters: {'lr': 0.1110130866389903, 'num_leaves': 1, 'max_depth': 4, 'min_child_samples': 4, 'max_bin': 7}.\u001b[0m\n",
      "\u001b[32m[I 2020-07-27 14:02:38,712]\u001b[0m Finished trial#342 resulted in value: 0.4933333333333333. Current best value is 0.48 with parameters: {'lr': 0.1110130866389903, 'num_leaves': 1, 'max_depth': 4, 'min_child_samples': 4, 'max_bin': 7}.\u001b[0m\n",
      "\u001b[32m[I 2020-07-27 14:02:43,733]\u001b[0m Finished trial#343 resulted in value: 0.5. Current best value is 0.48 with parameters: {'lr': 0.1110130866389903, 'num_leaves': 1, 'max_depth': 4, 'min_child_samples': 4, 'max_bin': 7}.\u001b[0m\n",
      "\u001b[32m[I 2020-07-27 14:02:47,328]\u001b[0m Finished trial#344 resulted in value: 0.5133333333333333. Current best value is 0.48 with parameters: {'lr': 0.1110130866389903, 'num_leaves': 1, 'max_depth': 4, 'min_child_samples': 4, 'max_bin': 7}.\u001b[0m\n",
      "\u001b[32m[I 2020-07-27 14:02:51,043]\u001b[0m Finished trial#345 resulted in value: 0.4973333333333333. Current best value is 0.48 with parameters: {'lr': 0.1110130866389903, 'num_leaves': 1, 'max_depth': 4, 'min_child_samples': 4, 'max_bin': 7}.\u001b[0m\n",
      "\u001b[32m[I 2020-07-27 14:02:55,650]\u001b[0m Finished trial#346 resulted in value: 0.4853333333333333. Current best value is 0.48 with parameters: {'lr': 0.1110130866389903, 'num_leaves': 1, 'max_depth': 4, 'min_child_samples': 4, 'max_bin': 7}.\u001b[0m\n",
      "\u001b[32m[I 2020-07-27 14:03:02,403]\u001b[0m Finished trial#347 resulted in value: 0.496. Current best value is 0.48 with parameters: {'lr': 0.1110130866389903, 'num_leaves': 1, 'max_depth': 4, 'min_child_samples': 4, 'max_bin': 7}.\u001b[0m\n",
      "\u001b[32m[I 2020-07-27 14:03:07,886]\u001b[0m Finished trial#348 resulted in value: 0.4946666666666667. Current best value is 0.48 with parameters: {'lr': 0.1110130866389903, 'num_leaves': 1, 'max_depth': 4, 'min_child_samples': 4, 'max_bin': 7}.\u001b[0m\n",
      "\u001b[32m[I 2020-07-27 14:03:14,217]\u001b[0m Finished trial#349 resulted in value: 0.5066666666666666. Current best value is 0.48 with parameters: {'lr': 0.1110130866389903, 'num_leaves': 1, 'max_depth': 4, 'min_child_samples': 4, 'max_bin': 7}.\u001b[0m\n",
      "\u001b[32m[I 2020-07-27 14:03:19,185]\u001b[0m Finished trial#350 resulted in value: 0.5053333333333334. Current best value is 0.48 with parameters: {'lr': 0.1110130866389903, 'num_leaves': 1, 'max_depth': 4, 'min_child_samples': 4, 'max_bin': 7}.\u001b[0m\n",
      "\u001b[32m[I 2020-07-27 14:03:21,855]\u001b[0m Finished trial#351 resulted in value: 0.5133333333333333. Current best value is 0.48 with parameters: {'lr': 0.1110130866389903, 'num_leaves': 1, 'max_depth': 4, 'min_child_samples': 4, 'max_bin': 7}.\u001b[0m\n",
      "\u001b[32m[I 2020-07-27 14:03:25,527]\u001b[0m Finished trial#352 resulted in value: 0.5026666666666666. Current best value is 0.48 with parameters: {'lr': 0.1110130866389903, 'num_leaves': 1, 'max_depth': 4, 'min_child_samples': 4, 'max_bin': 7}.\u001b[0m\n",
      "\u001b[32m[I 2020-07-27 14:03:29,468]\u001b[0m Finished trial#353 resulted in value: 0.512. Current best value is 0.48 with parameters: {'lr': 0.1110130866389903, 'num_leaves': 1, 'max_depth': 4, 'min_child_samples': 4, 'max_bin': 7}.\u001b[0m\n",
      "\u001b[32m[I 2020-07-27 14:03:33,082]\u001b[0m Finished trial#354 resulted in value: 0.5. Current best value is 0.48 with parameters: {'lr': 0.1110130866389903, 'num_leaves': 1, 'max_depth': 4, 'min_child_samples': 4, 'max_bin': 7}.\u001b[0m\n",
      "\u001b[32m[I 2020-07-27 14:03:37,848]\u001b[0m Finished trial#355 resulted in value: 0.5186666666666666. Current best value is 0.48 with parameters: {'lr': 0.1110130866389903, 'num_leaves': 1, 'max_depth': 4, 'min_child_samples': 4, 'max_bin': 7}.\u001b[0m\n",
      "\u001b[32m[I 2020-07-27 14:03:42,001]\u001b[0m Finished trial#356 resulted in value: 0.504. Current best value is 0.48 with parameters: {'lr': 0.1110130866389903, 'num_leaves': 1, 'max_depth': 4, 'min_child_samples': 4, 'max_bin': 7}.\u001b[0m\n",
      "\u001b[32m[I 2020-07-27 14:03:44,828]\u001b[0m Finished trial#357 resulted in value: 0.5053333333333334. Current best value is 0.48 with parameters: {'lr': 0.1110130866389903, 'num_leaves': 1, 'max_depth': 4, 'min_child_samples': 4, 'max_bin': 7}.\u001b[0m\n",
      "\u001b[32m[I 2020-07-27 14:03:50,837]\u001b[0m Finished trial#358 resulted in value: 0.4986666666666667. Current best value is 0.48 with parameters: {'lr': 0.1110130866389903, 'num_leaves': 1, 'max_depth': 4, 'min_child_samples': 4, 'max_bin': 7}.\u001b[0m\n",
      "\u001b[32m[I 2020-07-27 14:03:54,445]\u001b[0m Finished trial#359 resulted in value: 0.5. Current best value is 0.48 with parameters: {'lr': 0.1110130866389903, 'num_leaves': 1, 'max_depth': 4, 'min_child_samples': 4, 'max_bin': 7}.\u001b[0m\n",
      "\u001b[32m[I 2020-07-27 14:03:59,833]\u001b[0m Finished trial#360 resulted in value: 0.496. Current best value is 0.48 with parameters: {'lr': 0.1110130866389903, 'num_leaves': 1, 'max_depth': 4, 'min_child_samples': 4, 'max_bin': 7}.\u001b[0m\n",
      "\u001b[32m[I 2020-07-27 14:04:02,837]\u001b[0m Finished trial#361 resulted in value: 0.4906666666666667. Current best value is 0.48 with parameters: {'lr': 0.1110130866389903, 'num_leaves': 1, 'max_depth': 4, 'min_child_samples': 4, 'max_bin': 7}.\u001b[0m\n",
      "\u001b[32m[I 2020-07-27 14:04:07,326]\u001b[0m Finished trial#362 resulted in value: 0.4973333333333333. Current best value is 0.48 with parameters: {'lr': 0.1110130866389903, 'num_leaves': 1, 'max_depth': 4, 'min_child_samples': 4, 'max_bin': 7}.\u001b[0m\n",
      "\u001b[32m[I 2020-07-27 14:04:11,871]\u001b[0m Finished trial#363 resulted in value: 0.504. Current best value is 0.48 with parameters: {'lr': 0.1110130866389903, 'num_leaves': 1, 'max_depth': 4, 'min_child_samples': 4, 'max_bin': 7}.\u001b[0m\n",
      "\u001b[32m[I 2020-07-27 14:04:15,267]\u001b[0m Finished trial#364 resulted in value: 0.4946666666666667. Current best value is 0.48 with parameters: {'lr': 0.1110130866389903, 'num_leaves': 1, 'max_depth': 4, 'min_child_samples': 4, 'max_bin': 7}.\u001b[0m\n",
      "\u001b[32m[I 2020-07-27 14:04:20,817]\u001b[0m Finished trial#365 resulted in value: 0.5066666666666666. Current best value is 0.48 with parameters: {'lr': 0.1110130866389903, 'num_leaves': 1, 'max_depth': 4, 'min_child_samples': 4, 'max_bin': 7}.\u001b[0m\n",
      "\u001b[32m[I 2020-07-27 14:04:23,771]\u001b[0m Finished trial#366 resulted in value: 0.5133333333333333. Current best value is 0.48 with parameters: {'lr': 0.1110130866389903, 'num_leaves': 1, 'max_depth': 4, 'min_child_samples': 4, 'max_bin': 7}.\u001b[0m\n",
      "\u001b[32m[I 2020-07-27 14:04:27,925]\u001b[0m Finished trial#367 resulted in value: 0.4933333333333333. Current best value is 0.48 with parameters: {'lr': 0.1110130866389903, 'num_leaves': 1, 'max_depth': 4, 'min_child_samples': 4, 'max_bin': 7}.\u001b[0m\n",
      "\u001b[32m[I 2020-07-27 14:04:33,959]\u001b[0m Finished trial#368 resulted in value: 0.5013333333333334. Current best value is 0.48 with parameters: {'lr': 0.1110130866389903, 'num_leaves': 1, 'max_depth': 4, 'min_child_samples': 4, 'max_bin': 7}.\u001b[0m\n",
      "\u001b[32m[I 2020-07-27 14:04:37,425]\u001b[0m Finished trial#369 resulted in value: 0.4986666666666667. Current best value is 0.48 with parameters: {'lr': 0.1110130866389903, 'num_leaves': 1, 'max_depth': 4, 'min_child_samples': 4, 'max_bin': 7}.\u001b[0m\n",
      "\u001b[32m[I 2020-07-27 14:04:40,166]\u001b[0m Finished trial#370 resulted in value: 0.5. Current best value is 0.48 with parameters: {'lr': 0.1110130866389903, 'num_leaves': 1, 'max_depth': 4, 'min_child_samples': 4, 'max_bin': 7}.\u001b[0m\n",
      "\u001b[32m[I 2020-07-27 14:04:44,691]\u001b[0m Finished trial#371 resulted in value: 0.5066666666666666. Current best value is 0.48 with parameters: {'lr': 0.1110130866389903, 'num_leaves': 1, 'max_depth': 4, 'min_child_samples': 4, 'max_bin': 7}.\u001b[0m\n",
      "\u001b[32m[I 2020-07-27 14:04:47,687]\u001b[0m Finished trial#372 resulted in value: 0.4866666666666667. Current best value is 0.48 with parameters: {'lr': 0.1110130866389903, 'num_leaves': 1, 'max_depth': 4, 'min_child_samples': 4, 'max_bin': 7}.\u001b[0m\n",
      "\u001b[32m[I 2020-07-27 14:04:50,921]\u001b[0m Finished trial#373 resulted in value: 0.5146666666666666. Current best value is 0.48 with parameters: {'lr': 0.1110130866389903, 'num_leaves': 1, 'max_depth': 4, 'min_child_samples': 4, 'max_bin': 7}.\u001b[0m\n",
      "\u001b[32m[I 2020-07-27 14:04:53,808]\u001b[0m Finished trial#374 resulted in value: 0.5106666666666666. Current best value is 0.48 with parameters: {'lr': 0.1110130866389903, 'num_leaves': 1, 'max_depth': 4, 'min_child_samples': 4, 'max_bin': 7}.\u001b[0m\n",
      "\u001b[32m[I 2020-07-27 14:04:58,573]\u001b[0m Finished trial#375 resulted in value: 0.5. Current best value is 0.48 with parameters: {'lr': 0.1110130866389903, 'num_leaves': 1, 'max_depth': 4, 'min_child_samples': 4, 'max_bin': 7}.\u001b[0m\n",
      "\u001b[32m[I 2020-07-27 14:05:02,109]\u001b[0m Finished trial#376 resulted in value: 0.4946666666666667. Current best value is 0.48 with parameters: {'lr': 0.1110130866389903, 'num_leaves': 1, 'max_depth': 4, 'min_child_samples': 4, 'max_bin': 7}.\u001b[0m\n",
      "\u001b[32m[I 2020-07-27 14:05:04,829]\u001b[0m Finished trial#377 resulted in value: 0.5. Current best value is 0.48 with parameters: {'lr': 0.1110130866389903, 'num_leaves': 1, 'max_depth': 4, 'min_child_samples': 4, 'max_bin': 7}.\u001b[0m\n",
      "\u001b[32m[I 2020-07-27 14:05:07,870]\u001b[0m Finished trial#378 resulted in value: 0.4813333333333333. Current best value is 0.48 with parameters: {'lr': 0.1110130866389903, 'num_leaves': 1, 'max_depth': 4, 'min_child_samples': 4, 'max_bin': 7}.\u001b[0m\n",
      "\u001b[32m[I 2020-07-27 14:05:10,951]\u001b[0m Finished trial#379 resulted in value: 0.4986666666666667. Current best value is 0.48 with parameters: {'lr': 0.1110130866389903, 'num_leaves': 1, 'max_depth': 4, 'min_child_samples': 4, 'max_bin': 7}.\u001b[0m\n",
      "\u001b[32m[I 2020-07-27 14:05:14,175]\u001b[0m Finished trial#380 resulted in value: 0.5146666666666666. Current best value is 0.48 with parameters: {'lr': 0.1110130866389903, 'num_leaves': 1, 'max_depth': 4, 'min_child_samples': 4, 'max_bin': 7}.\u001b[0m\n",
      "\u001b[32m[I 2020-07-27 14:05:16,758]\u001b[0m Finished trial#381 resulted in value: 0.488. Current best value is 0.48 with parameters: {'lr': 0.1110130866389903, 'num_leaves': 1, 'max_depth': 4, 'min_child_samples': 4, 'max_bin': 7}.\u001b[0m\n",
      "\u001b[32m[I 2020-07-27 14:05:19,385]\u001b[0m Finished trial#382 resulted in value: 0.504. Current best value is 0.48 with parameters: {'lr': 0.1110130866389903, 'num_leaves': 1, 'max_depth': 4, 'min_child_samples': 4, 'max_bin': 7}.\u001b[0m\n",
      "\u001b[32m[I 2020-07-27 14:05:22,643]\u001b[0m Finished trial#383 resulted in value: 0.5053333333333334. Current best value is 0.48 with parameters: {'lr': 0.1110130866389903, 'num_leaves': 1, 'max_depth': 4, 'min_child_samples': 4, 'max_bin': 7}.\u001b[0m\n",
      "\u001b[32m[I 2020-07-27 14:05:25,585]\u001b[0m Finished trial#384 resulted in value: 0.4933333333333333. Current best value is 0.48 with parameters: {'lr': 0.1110130866389903, 'num_leaves': 1, 'max_depth': 4, 'min_child_samples': 4, 'max_bin': 7}.\u001b[0m\n",
      "\u001b[32m[I 2020-07-27 14:05:28,234]\u001b[0m Finished trial#385 resulted in value: 0.5026666666666666. Current best value is 0.48 with parameters: {'lr': 0.1110130866389903, 'num_leaves': 1, 'max_depth': 4, 'min_child_samples': 4, 'max_bin': 7}.\u001b[0m\n",
      "\u001b[32m[I 2020-07-27 14:05:32,303]\u001b[0m Finished trial#386 resulted in value: 0.4853333333333333. Current best value is 0.48 with parameters: {'lr': 0.1110130866389903, 'num_leaves': 1, 'max_depth': 4, 'min_child_samples': 4, 'max_bin': 7}.\u001b[0m\n",
      "\u001b[32m[I 2020-07-27 14:05:36,123]\u001b[0m Finished trial#387 resulted in value: 0.5026666666666666. Current best value is 0.48 with parameters: {'lr': 0.1110130866389903, 'num_leaves': 1, 'max_depth': 4, 'min_child_samples': 4, 'max_bin': 7}.\u001b[0m\n",
      "\u001b[32m[I 2020-07-27 14:05:40,085]\u001b[0m Finished trial#388 resulted in value: 0.5026666666666666. Current best value is 0.48 with parameters: {'lr': 0.1110130866389903, 'num_leaves': 1, 'max_depth': 4, 'min_child_samples': 4, 'max_bin': 7}.\u001b[0m\n",
      "\u001b[32m[I 2020-07-27 14:05:43,172]\u001b[0m Finished trial#389 resulted in value: 0.5026666666666666. Current best value is 0.48 with parameters: {'lr': 0.1110130866389903, 'num_leaves': 1, 'max_depth': 4, 'min_child_samples': 4, 'max_bin': 7}.\u001b[0m\n",
      "\u001b[32m[I 2020-07-27 14:05:46,039]\u001b[0m Finished trial#390 resulted in value: 0.5053333333333334. Current best value is 0.48 with parameters: {'lr': 0.1110130866389903, 'num_leaves': 1, 'max_depth': 4, 'min_child_samples': 4, 'max_bin': 7}.\u001b[0m\n",
      "\u001b[32m[I 2020-07-27 14:05:49,279]\u001b[0m Finished trial#391 resulted in value: 0.5133333333333333. Current best value is 0.48 with parameters: {'lr': 0.1110130866389903, 'num_leaves': 1, 'max_depth': 4, 'min_child_samples': 4, 'max_bin': 7}.\u001b[0m\n",
      "\u001b[32m[I 2020-07-27 14:05:52,449]\u001b[0m Finished trial#392 resulted in value: 0.5. Current best value is 0.48 with parameters: {'lr': 0.1110130866389903, 'num_leaves': 1, 'max_depth': 4, 'min_child_samples': 4, 'max_bin': 7}.\u001b[0m\n",
      "\u001b[32m[I 2020-07-27 14:05:56,436]\u001b[0m Finished trial#393 resulted in value: 0.5106666666666666. Current best value is 0.48 with parameters: {'lr': 0.1110130866389903, 'num_leaves': 1, 'max_depth': 4, 'min_child_samples': 4, 'max_bin': 7}.\u001b[0m\n",
      "\u001b[32m[I 2020-07-27 14:05:59,855]\u001b[0m Finished trial#394 resulted in value: 0.5053333333333334. Current best value is 0.48 with parameters: {'lr': 0.1110130866389903, 'num_leaves': 1, 'max_depth': 4, 'min_child_samples': 4, 'max_bin': 7}.\u001b[0m\n",
      "\u001b[32m[I 2020-07-27 14:06:03,705]\u001b[0m Finished trial#395 resulted in value: 0.4973333333333333. Current best value is 0.48 with parameters: {'lr': 0.1110130866389903, 'num_leaves': 1, 'max_depth': 4, 'min_child_samples': 4, 'max_bin': 7}.\u001b[0m\n",
      "\u001b[32m[I 2020-07-27 14:06:07,887]\u001b[0m Finished trial#396 resulted in value: 0.4986666666666667. Current best value is 0.48 with parameters: {'lr': 0.1110130866389903, 'num_leaves': 1, 'max_depth': 4, 'min_child_samples': 4, 'max_bin': 7}.\u001b[0m\n",
      "\u001b[32m[I 2020-07-27 14:06:12,308]\u001b[0m Finished trial#397 resulted in value: 0.492. Current best value is 0.48 with parameters: {'lr': 0.1110130866389903, 'num_leaves': 1, 'max_depth': 4, 'min_child_samples': 4, 'max_bin': 7}.\u001b[0m\n",
      "\u001b[32m[I 2020-07-27 14:06:15,090]\u001b[0m Finished trial#398 resulted in value: 0.516. Current best value is 0.48 with parameters: {'lr': 0.1110130866389903, 'num_leaves': 1, 'max_depth': 4, 'min_child_samples': 4, 'max_bin': 7}.\u001b[0m\n",
      "\u001b[32m[I 2020-07-27 14:06:22,263]\u001b[0m Finished trial#399 resulted in value: 0.512. Current best value is 0.48 with parameters: {'lr': 0.1110130866389903, 'num_leaves': 1, 'max_depth': 4, 'min_child_samples': 4, 'max_bin': 7}.\u001b[0m\n",
      "\u001b[32m[I 2020-07-27 14:06:26,078]\u001b[0m Finished trial#400 resulted in value: 0.496. Current best value is 0.48 with parameters: {'lr': 0.1110130866389903, 'num_leaves': 1, 'max_depth': 4, 'min_child_samples': 4, 'max_bin': 7}.\u001b[0m\n",
      "\u001b[32m[I 2020-07-27 14:06:29,837]\u001b[0m Finished trial#401 resulted in value: 0.504. Current best value is 0.48 with parameters: {'lr': 0.1110130866389903, 'num_leaves': 1, 'max_depth': 4, 'min_child_samples': 4, 'max_bin': 7}.\u001b[0m\n",
      "\u001b[32m[I 2020-07-27 14:06:34,136]\u001b[0m Finished trial#402 resulted in value: 0.5. Current best value is 0.48 with parameters: {'lr': 0.1110130866389903, 'num_leaves': 1, 'max_depth': 4, 'min_child_samples': 4, 'max_bin': 7}.\u001b[0m\n",
      "\u001b[32m[I 2020-07-27 14:06:37,892]\u001b[0m Finished trial#403 resulted in value: 0.492. Current best value is 0.48 with parameters: {'lr': 0.1110130866389903, 'num_leaves': 1, 'max_depth': 4, 'min_child_samples': 4, 'max_bin': 7}.\u001b[0m\n",
      "\u001b[32m[I 2020-07-27 14:06:41,006]\u001b[0m Finished trial#404 resulted in value: 0.508. Current best value is 0.48 with parameters: {'lr': 0.1110130866389903, 'num_leaves': 1, 'max_depth': 4, 'min_child_samples': 4, 'max_bin': 7}.\u001b[0m\n",
      "\u001b[32m[I 2020-07-27 14:06:44,413]\u001b[0m Finished trial#405 resulted in value: 0.5053333333333334. Current best value is 0.48 with parameters: {'lr': 0.1110130866389903, 'num_leaves': 1, 'max_depth': 4, 'min_child_samples': 4, 'max_bin': 7}.\u001b[0m\n",
      "\u001b[32m[I 2020-07-27 14:06:47,690]\u001b[0m Finished trial#406 resulted in value: 0.492. Current best value is 0.48 with parameters: {'lr': 0.1110130866389903, 'num_leaves': 1, 'max_depth': 4, 'min_child_samples': 4, 'max_bin': 7}.\u001b[0m\n",
      "\u001b[32m[I 2020-07-27 14:06:52,328]\u001b[0m Finished trial#407 resulted in value: 0.4986666666666667. Current best value is 0.48 with parameters: {'lr': 0.1110130866389903, 'num_leaves': 1, 'max_depth': 4, 'min_child_samples': 4, 'max_bin': 7}.\u001b[0m\n",
      "\u001b[32m[I 2020-07-27 14:06:56,550]\u001b[0m Finished trial#408 resulted in value: 0.4893333333333333. Current best value is 0.48 with parameters: {'lr': 0.1110130866389903, 'num_leaves': 1, 'max_depth': 4, 'min_child_samples': 4, 'max_bin': 7}.\u001b[0m\n",
      "\u001b[32m[I 2020-07-27 14:06:58,590]\u001b[0m Finished trial#409 resulted in value: 0.4973333333333333. Current best value is 0.48 with parameters: {'lr': 0.1110130866389903, 'num_leaves': 1, 'max_depth': 4, 'min_child_samples': 4, 'max_bin': 7}.\u001b[0m\n",
      "\u001b[32m[I 2020-07-27 14:07:01,414]\u001b[0m Finished trial#410 resulted in value: 0.5093333333333334. Current best value is 0.48 with parameters: {'lr': 0.1110130866389903, 'num_leaves': 1, 'max_depth': 4, 'min_child_samples': 4, 'max_bin': 7}.\u001b[0m\n",
      "\u001b[32m[I 2020-07-27 14:07:04,619]\u001b[0m Finished trial#411 resulted in value: 0.5. Current best value is 0.48 with parameters: {'lr': 0.1110130866389903, 'num_leaves': 1, 'max_depth': 4, 'min_child_samples': 4, 'max_bin': 7}.\u001b[0m\n",
      "\u001b[32m[I 2020-07-27 14:07:07,253]\u001b[0m Finished trial#412 resulted in value: 0.4906666666666667. Current best value is 0.48 with parameters: {'lr': 0.1110130866389903, 'num_leaves': 1, 'max_depth': 4, 'min_child_samples': 4, 'max_bin': 7}.\u001b[0m\n",
      "\u001b[32m[I 2020-07-27 14:07:10,714]\u001b[0m Finished trial#413 resulted in value: 0.5106666666666666. Current best value is 0.48 with parameters: {'lr': 0.1110130866389903, 'num_leaves': 1, 'max_depth': 4, 'min_child_samples': 4, 'max_bin': 7}.\u001b[0m\n",
      "\u001b[32m[I 2020-07-27 14:07:14,555]\u001b[0m Finished trial#414 resulted in value: 0.4906666666666667. Current best value is 0.48 with parameters: {'lr': 0.1110130866389903, 'num_leaves': 1, 'max_depth': 4, 'min_child_samples': 4, 'max_bin': 7}.\u001b[0m\n",
      "\u001b[32m[I 2020-07-27 14:07:18,453]\u001b[0m Finished trial#415 resulted in value: 0.4946666666666667. Current best value is 0.48 with parameters: {'lr': 0.1110130866389903, 'num_leaves': 1, 'max_depth': 4, 'min_child_samples': 4, 'max_bin': 7}.\u001b[0m\n",
      "\u001b[32m[I 2020-07-27 14:07:21,759]\u001b[0m Finished trial#416 resulted in value: 0.4933333333333333. Current best value is 0.48 with parameters: {'lr': 0.1110130866389903, 'num_leaves': 1, 'max_depth': 4, 'min_child_samples': 4, 'max_bin': 7}.\u001b[0m\n",
      "\u001b[32m[I 2020-07-27 14:07:24,105]\u001b[0m Finished trial#417 resulted in value: 0.492. Current best value is 0.48 with parameters: {'lr': 0.1110130866389903, 'num_leaves': 1, 'max_depth': 4, 'min_child_samples': 4, 'max_bin': 7}.\u001b[0m\n",
      "\u001b[32m[I 2020-07-27 14:07:27,175]\u001b[0m Finished trial#418 resulted in value: 0.5186666666666666. Current best value is 0.48 with parameters: {'lr': 0.1110130866389903, 'num_leaves': 1, 'max_depth': 4, 'min_child_samples': 4, 'max_bin': 7}.\u001b[0m\n",
      "\u001b[32m[I 2020-07-27 14:07:30,565]\u001b[0m Finished trial#419 resulted in value: 0.5013333333333334. Current best value is 0.48 with parameters: {'lr': 0.1110130866389903, 'num_leaves': 1, 'max_depth': 4, 'min_child_samples': 4, 'max_bin': 7}.\u001b[0m\n",
      "\u001b[32m[I 2020-07-27 14:07:33,567]\u001b[0m Finished trial#420 resulted in value: 0.4893333333333333. Current best value is 0.48 with parameters: {'lr': 0.1110130866389903, 'num_leaves': 1, 'max_depth': 4, 'min_child_samples': 4, 'max_bin': 7}.\u001b[0m\n",
      "\u001b[32m[I 2020-07-27 14:07:37,274]\u001b[0m Finished trial#421 resulted in value: 0.5146666666666666. Current best value is 0.48 with parameters: {'lr': 0.1110130866389903, 'num_leaves': 1, 'max_depth': 4, 'min_child_samples': 4, 'max_bin': 7}.\u001b[0m\n",
      "\u001b[32m[I 2020-07-27 14:07:43,914]\u001b[0m Finished trial#422 resulted in value: 0.512. Current best value is 0.48 with parameters: {'lr': 0.1110130866389903, 'num_leaves': 1, 'max_depth': 4, 'min_child_samples': 4, 'max_bin': 7}.\u001b[0m\n",
      "\u001b[32m[I 2020-07-27 14:07:48,056]\u001b[0m Finished trial#423 resulted in value: 0.5026666666666666. Current best value is 0.48 with parameters: {'lr': 0.1110130866389903, 'num_leaves': 1, 'max_depth': 4, 'min_child_samples': 4, 'max_bin': 7}.\u001b[0m\n",
      "\u001b[32m[I 2020-07-27 14:07:50,108]\u001b[0m Finished trial#424 resulted in value: 0.5. Current best value is 0.48 with parameters: {'lr': 0.1110130866389903, 'num_leaves': 1, 'max_depth': 4, 'min_child_samples': 4, 'max_bin': 7}.\u001b[0m\n",
      "\u001b[32m[I 2020-07-27 14:07:54,508]\u001b[0m Finished trial#425 resulted in value: 0.4853333333333333. Current best value is 0.48 with parameters: {'lr': 0.1110130866389903, 'num_leaves': 1, 'max_depth': 4, 'min_child_samples': 4, 'max_bin': 7}.\u001b[0m\n",
      "\u001b[32m[I 2020-07-27 14:07:56,964]\u001b[0m Finished trial#426 resulted in value: 0.5013333333333334. Current best value is 0.48 with parameters: {'lr': 0.1110130866389903, 'num_leaves': 1, 'max_depth': 4, 'min_child_samples': 4, 'max_bin': 7}.\u001b[0m\n",
      "\u001b[32m[I 2020-07-27 14:08:04,302]\u001b[0m Finished trial#427 resulted in value: 0.5173333333333333. Current best value is 0.48 with parameters: {'lr': 0.1110130866389903, 'num_leaves': 1, 'max_depth': 4, 'min_child_samples': 4, 'max_bin': 7}.\u001b[0m\n",
      "\u001b[32m[I 2020-07-27 14:08:08,224]\u001b[0m Finished trial#428 resulted in value: 0.4986666666666667. Current best value is 0.48 with parameters: {'lr': 0.1110130866389903, 'num_leaves': 1, 'max_depth': 4, 'min_child_samples': 4, 'max_bin': 7}.\u001b[0m\n",
      "\u001b[32m[I 2020-07-27 14:08:11,489]\u001b[0m Finished trial#429 resulted in value: 0.5026666666666666. Current best value is 0.48 with parameters: {'lr': 0.1110130866389903, 'num_leaves': 1, 'max_depth': 4, 'min_child_samples': 4, 'max_bin': 7}.\u001b[0m\n",
      "\u001b[32m[I 2020-07-27 14:08:14,736]\u001b[0m Finished trial#430 resulted in value: 0.4973333333333333. Current best value is 0.48 with parameters: {'lr': 0.1110130866389903, 'num_leaves': 1, 'max_depth': 4, 'min_child_samples': 4, 'max_bin': 7}.\u001b[0m\n",
      "\u001b[32m[I 2020-07-27 14:08:19,841]\u001b[0m Finished trial#431 resulted in value: 0.4946666666666667. Current best value is 0.48 with parameters: {'lr': 0.1110130866389903, 'num_leaves': 1, 'max_depth': 4, 'min_child_samples': 4, 'max_bin': 7}.\u001b[0m\n",
      "\u001b[32m[I 2020-07-27 14:08:23,362]\u001b[0m Finished trial#432 resulted in value: 0.4986666666666667. Current best value is 0.48 with parameters: {'lr': 0.1110130866389903, 'num_leaves': 1, 'max_depth': 4, 'min_child_samples': 4, 'max_bin': 7}.\u001b[0m\n",
      "\u001b[32m[I 2020-07-27 14:08:27,943]\u001b[0m Finished trial#433 resulted in value: 0.4986666666666667. Current best value is 0.48 with parameters: {'lr': 0.1110130866389903, 'num_leaves': 1, 'max_depth': 4, 'min_child_samples': 4, 'max_bin': 7}.\u001b[0m\n",
      "\u001b[32m[I 2020-07-27 14:08:32,254]\u001b[0m Finished trial#434 resulted in value: 0.4906666666666667. Current best value is 0.48 with parameters: {'lr': 0.1110130866389903, 'num_leaves': 1, 'max_depth': 4, 'min_child_samples': 4, 'max_bin': 7}.\u001b[0m\n",
      "\u001b[32m[I 2020-07-27 14:08:38,497]\u001b[0m Finished trial#435 resulted in value: 0.4853333333333333. Current best value is 0.48 with parameters: {'lr': 0.1110130866389903, 'num_leaves': 1, 'max_depth': 4, 'min_child_samples': 4, 'max_bin': 7}.\u001b[0m\n",
      "\u001b[32m[I 2020-07-27 14:08:44,045]\u001b[0m Finished trial#436 resulted in value: 0.5066666666666666. Current best value is 0.48 with parameters: {'lr': 0.1110130866389903, 'num_leaves': 1, 'max_depth': 4, 'min_child_samples': 4, 'max_bin': 7}.\u001b[0m\n",
      "\u001b[32m[I 2020-07-27 14:08:47,760]\u001b[0m Finished trial#437 resulted in value: 0.496. Current best value is 0.48 with parameters: {'lr': 0.1110130866389903, 'num_leaves': 1, 'max_depth': 4, 'min_child_samples': 4, 'max_bin': 7}.\u001b[0m\n",
      "\u001b[32m[I 2020-07-27 14:08:51,766]\u001b[0m Finished trial#438 resulted in value: 0.5. Current best value is 0.48 with parameters: {'lr': 0.1110130866389903, 'num_leaves': 1, 'max_depth': 4, 'min_child_samples': 4, 'max_bin': 7}.\u001b[0m\n",
      "\u001b[32m[I 2020-07-27 14:08:55,715]\u001b[0m Finished trial#439 resulted in value: 0.5. Current best value is 0.48 with parameters: {'lr': 0.1110130866389903, 'num_leaves': 1, 'max_depth': 4, 'min_child_samples': 4, 'max_bin': 7}.\u001b[0m\n",
      "\u001b[32m[I 2020-07-27 14:08:59,253]\u001b[0m Finished trial#440 resulted in value: 0.5. Current best value is 0.48 with parameters: {'lr': 0.1110130866389903, 'num_leaves': 1, 'max_depth': 4, 'min_child_samples': 4, 'max_bin': 7}.\u001b[0m\n",
      "\u001b[32m[I 2020-07-27 14:09:04,363]\u001b[0m Finished trial#441 resulted in value: 0.4973333333333333. Current best value is 0.48 with parameters: {'lr': 0.1110130866389903, 'num_leaves': 1, 'max_depth': 4, 'min_child_samples': 4, 'max_bin': 7}.\u001b[0m\n",
      "\u001b[32m[I 2020-07-27 14:09:10,130]\u001b[0m Finished trial#442 resulted in value: 0.492. Current best value is 0.48 with parameters: {'lr': 0.1110130866389903, 'num_leaves': 1, 'max_depth': 4, 'min_child_samples': 4, 'max_bin': 7}.\u001b[0m\n",
      "\u001b[32m[I 2020-07-27 14:09:14,664]\u001b[0m Finished trial#443 resulted in value: 0.4973333333333333. Current best value is 0.48 with parameters: {'lr': 0.1110130866389903, 'num_leaves': 1, 'max_depth': 4, 'min_child_samples': 4, 'max_bin': 7}.\u001b[0m\n",
      "\u001b[32m[I 2020-07-27 14:09:18,254]\u001b[0m Finished trial#444 resulted in value: 0.5013333333333334. Current best value is 0.48 with parameters: {'lr': 0.1110130866389903, 'num_leaves': 1, 'max_depth': 4, 'min_child_samples': 4, 'max_bin': 7}.\u001b[0m\n",
      "\u001b[32m[I 2020-07-27 14:09:21,622]\u001b[0m Finished trial#445 resulted in value: 0.4866666666666667. Current best value is 0.48 with parameters: {'lr': 0.1110130866389903, 'num_leaves': 1, 'max_depth': 4, 'min_child_samples': 4, 'max_bin': 7}.\u001b[0m\n",
      "\u001b[32m[I 2020-07-27 14:09:24,388]\u001b[0m Finished trial#446 resulted in value: 0.52. Current best value is 0.48 with parameters: {'lr': 0.1110130866389903, 'num_leaves': 1, 'max_depth': 4, 'min_child_samples': 4, 'max_bin': 7}.\u001b[0m\n",
      "\u001b[32m[I 2020-07-27 14:09:28,024]\u001b[0m Finished trial#447 resulted in value: 0.5026666666666666. Current best value is 0.48 with parameters: {'lr': 0.1110130866389903, 'num_leaves': 1, 'max_depth': 4, 'min_child_samples': 4, 'max_bin': 7}.\u001b[0m\n",
      "\u001b[32m[I 2020-07-27 14:09:31,786]\u001b[0m Finished trial#448 resulted in value: 0.484. Current best value is 0.48 with parameters: {'lr': 0.1110130866389903, 'num_leaves': 1, 'max_depth': 4, 'min_child_samples': 4, 'max_bin': 7}.\u001b[0m\n",
      "\u001b[32m[I 2020-07-27 14:09:35,063]\u001b[0m Finished trial#449 resulted in value: 0.4906666666666667. Current best value is 0.48 with parameters: {'lr': 0.1110130866389903, 'num_leaves': 1, 'max_depth': 4, 'min_child_samples': 4, 'max_bin': 7}.\u001b[0m\n",
      "\u001b[32m[I 2020-07-27 14:09:37,776]\u001b[0m Finished trial#450 resulted in value: 0.5066666666666666. Current best value is 0.48 with parameters: {'lr': 0.1110130866389903, 'num_leaves': 1, 'max_depth': 4, 'min_child_samples': 4, 'max_bin': 7}.\u001b[0m\n",
      "\u001b[32m[I 2020-07-27 14:09:40,656]\u001b[0m Finished trial#451 resulted in value: 0.5066666666666666. Current best value is 0.48 with parameters: {'lr': 0.1110130866389903, 'num_leaves': 1, 'max_depth': 4, 'min_child_samples': 4, 'max_bin': 7}.\u001b[0m\n",
      "\u001b[32m[I 2020-07-27 14:09:44,378]\u001b[0m Finished trial#452 resulted in value: 0.5013333333333334. Current best value is 0.48 with parameters: {'lr': 0.1110130866389903, 'num_leaves': 1, 'max_depth': 4, 'min_child_samples': 4, 'max_bin': 7}.\u001b[0m\n",
      "\u001b[32m[I 2020-07-27 14:09:48,795]\u001b[0m Finished trial#453 resulted in value: 0.4986666666666667. Current best value is 0.48 with parameters: {'lr': 0.1110130866389903, 'num_leaves': 1, 'max_depth': 4, 'min_child_samples': 4, 'max_bin': 7}.\u001b[0m\n",
      "\u001b[32m[I 2020-07-27 14:09:53,146]\u001b[0m Finished trial#454 resulted in value: 0.5066666666666666. Current best value is 0.48 with parameters: {'lr': 0.1110130866389903, 'num_leaves': 1, 'max_depth': 4, 'min_child_samples': 4, 'max_bin': 7}.\u001b[0m\n",
      "\u001b[32m[I 2020-07-27 14:09:57,948]\u001b[0m Finished trial#455 resulted in value: 0.5066666666666666. Current best value is 0.48 with parameters: {'lr': 0.1110130866389903, 'num_leaves': 1, 'max_depth': 4, 'min_child_samples': 4, 'max_bin': 7}.\u001b[0m\n",
      "\u001b[32m[I 2020-07-27 14:10:03,112]\u001b[0m Finished trial#456 resulted in value: 0.508. Current best value is 0.48 with parameters: {'lr': 0.1110130866389903, 'num_leaves': 1, 'max_depth': 4, 'min_child_samples': 4, 'max_bin': 7}.\u001b[0m\n",
      "\u001b[32m[I 2020-07-27 14:10:08,134]\u001b[0m Finished trial#457 resulted in value: 0.5. Current best value is 0.48 with parameters: {'lr': 0.1110130866389903, 'num_leaves': 1, 'max_depth': 4, 'min_child_samples': 4, 'max_bin': 7}.\u001b[0m\n",
      "\u001b[32m[I 2020-07-27 14:10:11,685]\u001b[0m Finished trial#458 resulted in value: 0.4933333333333333. Current best value is 0.48 with parameters: {'lr': 0.1110130866389903, 'num_leaves': 1, 'max_depth': 4, 'min_child_samples': 4, 'max_bin': 7}.\u001b[0m\n",
      "\u001b[32m[I 2020-07-27 14:10:14,968]\u001b[0m Finished trial#459 resulted in value: 0.512. Current best value is 0.48 with parameters: {'lr': 0.1110130866389903, 'num_leaves': 1, 'max_depth': 4, 'min_child_samples': 4, 'max_bin': 7}.\u001b[0m\n",
      "\u001b[32m[I 2020-07-27 14:10:20,912]\u001b[0m Finished trial#460 resulted in value: 0.5093333333333334. Current best value is 0.48 with parameters: {'lr': 0.1110130866389903, 'num_leaves': 1, 'max_depth': 4, 'min_child_samples': 4, 'max_bin': 7}.\u001b[0m\n",
      "\u001b[32m[I 2020-07-27 14:10:23,738]\u001b[0m Finished trial#461 resulted in value: 0.504. Current best value is 0.48 with parameters: {'lr': 0.1110130866389903, 'num_leaves': 1, 'max_depth': 4, 'min_child_samples': 4, 'max_bin': 7}.\u001b[0m\n",
      "\u001b[32m[I 2020-07-27 14:10:27,390]\u001b[0m Finished trial#462 resulted in value: 0.4866666666666667. Current best value is 0.48 with parameters: {'lr': 0.1110130866389903, 'num_leaves': 1, 'max_depth': 4, 'min_child_samples': 4, 'max_bin': 7}.\u001b[0m\n",
      "\u001b[32m[I 2020-07-27 14:10:31,894]\u001b[0m Finished trial#463 resulted in value: 0.4853333333333333. Current best value is 0.48 with parameters: {'lr': 0.1110130866389903, 'num_leaves': 1, 'max_depth': 4, 'min_child_samples': 4, 'max_bin': 7}.\u001b[0m\n",
      "\u001b[32m[I 2020-07-27 14:10:35,159]\u001b[0m Finished trial#464 resulted in value: 0.5066666666666666. Current best value is 0.48 with parameters: {'lr': 0.1110130866389903, 'num_leaves': 1, 'max_depth': 4, 'min_child_samples': 4, 'max_bin': 7}.\u001b[0m\n",
      "\u001b[32m[I 2020-07-27 14:10:39,151]\u001b[0m Finished trial#465 resulted in value: 0.488. Current best value is 0.48 with parameters: {'lr': 0.1110130866389903, 'num_leaves': 1, 'max_depth': 4, 'min_child_samples': 4, 'max_bin': 7}.\u001b[0m\n",
      "\u001b[32m[I 2020-07-27 14:10:43,466]\u001b[0m Finished trial#466 resulted in value: 0.5066666666666666. Current best value is 0.48 with parameters: {'lr': 0.1110130866389903, 'num_leaves': 1, 'max_depth': 4, 'min_child_samples': 4, 'max_bin': 7}.\u001b[0m\n",
      "\u001b[32m[I 2020-07-27 14:10:45,960]\u001b[0m Finished trial#467 resulted in value: 0.5053333333333334. Current best value is 0.48 with parameters: {'lr': 0.1110130866389903, 'num_leaves': 1, 'max_depth': 4, 'min_child_samples': 4, 'max_bin': 7}.\u001b[0m\n",
      "\u001b[32m[I 2020-07-27 14:10:50,432]\u001b[0m Finished trial#468 resulted in value: 0.4813333333333333. Current best value is 0.48 with parameters: {'lr': 0.1110130866389903, 'num_leaves': 1, 'max_depth': 4, 'min_child_samples': 4, 'max_bin': 7}.\u001b[0m\n",
      "\u001b[32m[I 2020-07-27 14:10:55,491]\u001b[0m Finished trial#469 resulted in value: 0.496. Current best value is 0.48 with parameters: {'lr': 0.1110130866389903, 'num_leaves': 1, 'max_depth': 4, 'min_child_samples': 4, 'max_bin': 7}.\u001b[0m\n",
      "\u001b[32m[I 2020-07-27 14:10:59,461]\u001b[0m Finished trial#470 resulted in value: 0.5026666666666666. Current best value is 0.48 with parameters: {'lr': 0.1110130866389903, 'num_leaves': 1, 'max_depth': 4, 'min_child_samples': 4, 'max_bin': 7}.\u001b[0m\n",
      "\u001b[32m[I 2020-07-27 14:11:03,708]\u001b[0m Finished trial#471 resulted in value: 0.496. Current best value is 0.48 with parameters: {'lr': 0.1110130866389903, 'num_leaves': 1, 'max_depth': 4, 'min_child_samples': 4, 'max_bin': 7}.\u001b[0m\n",
      "\u001b[32m[I 2020-07-27 14:11:09,227]\u001b[0m Finished trial#472 resulted in value: 0.496. Current best value is 0.48 with parameters: {'lr': 0.1110130866389903, 'num_leaves': 1, 'max_depth': 4, 'min_child_samples': 4, 'max_bin': 7}.\u001b[0m\n",
      "\u001b[32m[I 2020-07-27 14:11:12,522]\u001b[0m Finished trial#473 resulted in value: 0.512. Current best value is 0.48 with parameters: {'lr': 0.1110130866389903, 'num_leaves': 1, 'max_depth': 4, 'min_child_samples': 4, 'max_bin': 7}.\u001b[0m\n",
      "\u001b[32m[I 2020-07-27 14:11:17,187]\u001b[0m Finished trial#474 resulted in value: 0.4946666666666667. Current best value is 0.48 with parameters: {'lr': 0.1110130866389903, 'num_leaves': 1, 'max_depth': 4, 'min_child_samples': 4, 'max_bin': 7}.\u001b[0m\n",
      "\u001b[32m[I 2020-07-27 14:11:21,207]\u001b[0m Finished trial#475 resulted in value: 0.4893333333333333. Current best value is 0.48 with parameters: {'lr': 0.1110130866389903, 'num_leaves': 1, 'max_depth': 4, 'min_child_samples': 4, 'max_bin': 7}.\u001b[0m\n",
      "\u001b[32m[I 2020-07-27 14:11:25,584]\u001b[0m Finished trial#476 resulted in value: 0.5106666666666666. Current best value is 0.48 with parameters: {'lr': 0.1110130866389903, 'num_leaves': 1, 'max_depth': 4, 'min_child_samples': 4, 'max_bin': 7}.\u001b[0m\n",
      "\u001b[32m[I 2020-07-27 14:11:29,361]\u001b[0m Finished trial#477 resulted in value: 0.5146666666666666. Current best value is 0.48 with parameters: {'lr': 0.1110130866389903, 'num_leaves': 1, 'max_depth': 4, 'min_child_samples': 4, 'max_bin': 7}.\u001b[0m\n",
      "\u001b[32m[I 2020-07-27 14:11:33,364]\u001b[0m Finished trial#478 resulted in value: 0.4973333333333333. Current best value is 0.48 with parameters: {'lr': 0.1110130866389903, 'num_leaves': 1, 'max_depth': 4, 'min_child_samples': 4, 'max_bin': 7}.\u001b[0m\n",
      "\u001b[32m[I 2020-07-27 14:11:37,064]\u001b[0m Finished trial#479 resulted in value: 0.5. Current best value is 0.48 with parameters: {'lr': 0.1110130866389903, 'num_leaves': 1, 'max_depth': 4, 'min_child_samples': 4, 'max_bin': 7}.\u001b[0m\n",
      "\u001b[32m[I 2020-07-27 14:11:41,566]\u001b[0m Finished trial#480 resulted in value: 0.5093333333333334. Current best value is 0.48 with parameters: {'lr': 0.1110130866389903, 'num_leaves': 1, 'max_depth': 4, 'min_child_samples': 4, 'max_bin': 7}.\u001b[0m\n",
      "\u001b[32m[I 2020-07-27 14:11:44,847]\u001b[0m Finished trial#481 resulted in value: 0.496. Current best value is 0.48 with parameters: {'lr': 0.1110130866389903, 'num_leaves': 1, 'max_depth': 4, 'min_child_samples': 4, 'max_bin': 7}.\u001b[0m\n",
      "\u001b[32m[I 2020-07-27 14:11:49,627]\u001b[0m Finished trial#482 resulted in value: 0.5026666666666666. Current best value is 0.48 with parameters: {'lr': 0.1110130866389903, 'num_leaves': 1, 'max_depth': 4, 'min_child_samples': 4, 'max_bin': 7}.\u001b[0m\n",
      "\u001b[32m[I 2020-07-27 14:11:52,997]\u001b[0m Finished trial#483 resulted in value: 0.4946666666666667. Current best value is 0.48 with parameters: {'lr': 0.1110130866389903, 'num_leaves': 1, 'max_depth': 4, 'min_child_samples': 4, 'max_bin': 7}.\u001b[0m\n",
      "\u001b[32m[I 2020-07-27 14:11:57,278]\u001b[0m Finished trial#484 resulted in value: 0.5053333333333334. Current best value is 0.48 with parameters: {'lr': 0.1110130866389903, 'num_leaves': 1, 'max_depth': 4, 'min_child_samples': 4, 'max_bin': 7}.\u001b[0m\n",
      "\u001b[32m[I 2020-07-27 14:12:00,717]\u001b[0m Finished trial#485 resulted in value: 0.496. Current best value is 0.48 with parameters: {'lr': 0.1110130866389903, 'num_leaves': 1, 'max_depth': 4, 'min_child_samples': 4, 'max_bin': 7}.\u001b[0m\n",
      "\u001b[32m[I 2020-07-27 14:12:04,800]\u001b[0m Finished trial#486 resulted in value: 0.5093333333333334. Current best value is 0.48 with parameters: {'lr': 0.1110130866389903, 'num_leaves': 1, 'max_depth': 4, 'min_child_samples': 4, 'max_bin': 7}.\u001b[0m\n",
      "\u001b[32m[I 2020-07-27 14:12:07,620]\u001b[0m Finished trial#487 resulted in value: 0.4973333333333333. Current best value is 0.48 with parameters: {'lr': 0.1110130866389903, 'num_leaves': 1, 'max_depth': 4, 'min_child_samples': 4, 'max_bin': 7}.\u001b[0m\n",
      "\u001b[32m[I 2020-07-27 14:12:11,113]\u001b[0m Finished trial#488 resulted in value: 0.4906666666666667. Current best value is 0.48 with parameters: {'lr': 0.1110130866389903, 'num_leaves': 1, 'max_depth': 4, 'min_child_samples': 4, 'max_bin': 7}.\u001b[0m\n",
      "\u001b[32m[I 2020-07-27 14:12:16,925]\u001b[0m Finished trial#489 resulted in value: 0.4866666666666667. Current best value is 0.48 with parameters: {'lr': 0.1110130866389903, 'num_leaves': 1, 'max_depth': 4, 'min_child_samples': 4, 'max_bin': 7}.\u001b[0m\n",
      "\u001b[32m[I 2020-07-27 14:12:21,620]\u001b[0m Finished trial#490 resulted in value: 0.492. Current best value is 0.48 with parameters: {'lr': 0.1110130866389903, 'num_leaves': 1, 'max_depth': 4, 'min_child_samples': 4, 'max_bin': 7}.\u001b[0m\n",
      "\u001b[32m[I 2020-07-27 14:12:27,583]\u001b[0m Finished trial#491 resulted in value: 0.5133333333333333. Current best value is 0.48 with parameters: {'lr': 0.1110130866389903, 'num_leaves': 1, 'max_depth': 4, 'min_child_samples': 4, 'max_bin': 7}.\u001b[0m\n",
      "\u001b[32m[I 2020-07-27 14:12:33,164]\u001b[0m Finished trial#492 resulted in value: 0.4946666666666667. Current best value is 0.48 with parameters: {'lr': 0.1110130866389903, 'num_leaves': 1, 'max_depth': 4, 'min_child_samples': 4, 'max_bin': 7}.\u001b[0m\n",
      "\u001b[32m[I 2020-07-27 14:12:38,799]\u001b[0m Finished trial#493 resulted in value: 0.4933333333333333. Current best value is 0.48 with parameters: {'lr': 0.1110130866389903, 'num_leaves': 1, 'max_depth': 4, 'min_child_samples': 4, 'max_bin': 7}.\u001b[0m\n",
      "\u001b[32m[I 2020-07-27 14:12:41,861]\u001b[0m Finished trial#494 resulted in value: 0.5133333333333333. Current best value is 0.48 with parameters: {'lr': 0.1110130866389903, 'num_leaves': 1, 'max_depth': 4, 'min_child_samples': 4, 'max_bin': 7}.\u001b[0m\n",
      "\u001b[32m[I 2020-07-27 14:12:44,148]\u001b[0m Finished trial#495 resulted in value: 0.4986666666666667. Current best value is 0.48 with parameters: {'lr': 0.1110130866389903, 'num_leaves': 1, 'max_depth': 4, 'min_child_samples': 4, 'max_bin': 7}.\u001b[0m\n",
      "\u001b[32m[I 2020-07-27 14:12:46,876]\u001b[0m Finished trial#496 resulted in value: 0.5106666666666666. Current best value is 0.48 with parameters: {'lr': 0.1110130866389903, 'num_leaves': 1, 'max_depth': 4, 'min_child_samples': 4, 'max_bin': 7}.\u001b[0m\n",
      "\u001b[32m[I 2020-07-27 14:12:51,390]\u001b[0m Finished trial#497 resulted in value: 0.5. Current best value is 0.48 with parameters: {'lr': 0.1110130866389903, 'num_leaves': 1, 'max_depth': 4, 'min_child_samples': 4, 'max_bin': 7}.\u001b[0m\n",
      "\u001b[32m[I 2020-07-27 14:12:54,927]\u001b[0m Finished trial#498 resulted in value: 0.496. Current best value is 0.48 with parameters: {'lr': 0.1110130866389903, 'num_leaves': 1, 'max_depth': 4, 'min_child_samples': 4, 'max_bin': 7}.\u001b[0m\n",
      "\u001b[32m[I 2020-07-27 14:12:59,019]\u001b[0m Finished trial#499 resulted in value: 0.496. Current best value is 0.48 with parameters: {'lr': 0.1110130866389903, 'num_leaves': 1, 'max_depth': 4, 'min_child_samples': 4, 'max_bin': 7}.\u001b[0m\n",
      "\u001b[32m[I 2020-07-27 14:13:03,260]\u001b[0m Finished trial#500 resulted in value: 0.4946666666666667. Current best value is 0.48 with parameters: {'lr': 0.1110130866389903, 'num_leaves': 1, 'max_depth': 4, 'min_child_samples': 4, 'max_bin': 7}.\u001b[0m\n",
      "\u001b[32m[I 2020-07-27 14:13:06,402]\u001b[0m Finished trial#501 resulted in value: 0.5173333333333333. Current best value is 0.48 with parameters: {'lr': 0.1110130866389903, 'num_leaves': 1, 'max_depth': 4, 'min_child_samples': 4, 'max_bin': 7}.\u001b[0m\n",
      "\u001b[32m[I 2020-07-27 14:13:08,873]\u001b[0m Finished trial#502 resulted in value: 0.4893333333333333. Current best value is 0.48 with parameters: {'lr': 0.1110130866389903, 'num_leaves': 1, 'max_depth': 4, 'min_child_samples': 4, 'max_bin': 7}.\u001b[0m\n",
      "\u001b[32m[I 2020-07-27 14:13:16,242]\u001b[0m Finished trial#503 resulted in value: 0.516. Current best value is 0.48 with parameters: {'lr': 0.1110130866389903, 'num_leaves': 1, 'max_depth': 4, 'min_child_samples': 4, 'max_bin': 7}.\u001b[0m\n",
      "\u001b[32m[I 2020-07-27 14:13:20,345]\u001b[0m Finished trial#504 resulted in value: 0.504. Current best value is 0.48 with parameters: {'lr': 0.1110130866389903, 'num_leaves': 1, 'max_depth': 4, 'min_child_samples': 4, 'max_bin': 7}.\u001b[0m\n",
      "\u001b[32m[I 2020-07-27 14:13:24,020]\u001b[0m Finished trial#505 resulted in value: 0.5253333333333333. Current best value is 0.48 with parameters: {'lr': 0.1110130866389903, 'num_leaves': 1, 'max_depth': 4, 'min_child_samples': 4, 'max_bin': 7}.\u001b[0m\n",
      "\u001b[32m[I 2020-07-27 14:13:29,483]\u001b[0m Finished trial#506 resulted in value: 0.512. Current best value is 0.48 with parameters: {'lr': 0.1110130866389903, 'num_leaves': 1, 'max_depth': 4, 'min_child_samples': 4, 'max_bin': 7}.\u001b[0m\n",
      "\u001b[32m[I 2020-07-27 14:13:33,088]\u001b[0m Finished trial#507 resulted in value: 0.5053333333333334. Current best value is 0.48 with parameters: {'lr': 0.1110130866389903, 'num_leaves': 1, 'max_depth': 4, 'min_child_samples': 4, 'max_bin': 7}.\u001b[0m\n",
      "\u001b[32m[I 2020-07-27 14:13:36,633]\u001b[0m Finished trial#508 resulted in value: 0.508. Current best value is 0.48 with parameters: {'lr': 0.1110130866389903, 'num_leaves': 1, 'max_depth': 4, 'min_child_samples': 4, 'max_bin': 7}.\u001b[0m\n",
      "\u001b[32m[I 2020-07-27 14:13:40,396]\u001b[0m Finished trial#509 resulted in value: 0.5026666666666666. Current best value is 0.48 with parameters: {'lr': 0.1110130866389903, 'num_leaves': 1, 'max_depth': 4, 'min_child_samples': 4, 'max_bin': 7}.\u001b[0m\n",
      "\u001b[32m[I 2020-07-27 14:13:44,106]\u001b[0m Finished trial#510 resulted in value: 0.4893333333333333. Current best value is 0.48 with parameters: {'lr': 0.1110130866389903, 'num_leaves': 1, 'max_depth': 4, 'min_child_samples': 4, 'max_bin': 7}.\u001b[0m\n",
      "\u001b[32m[I 2020-07-27 14:13:48,366]\u001b[0m Finished trial#511 resulted in value: 0.4773333333333334. Current best value is 0.4773333333333334 with parameters: {'lr': 0.07727844290121257, 'num_leaves': 1, 'max_depth': 5, 'min_child_samples': 2, 'max_bin': 7}.\u001b[0m\n",
      "\u001b[32m[I 2020-07-27 14:13:50,907]\u001b[0m Finished trial#512 resulted in value: 0.5013333333333334. Current best value is 0.4773333333333334 with parameters: {'lr': 0.07727844290121257, 'num_leaves': 1, 'max_depth': 5, 'min_child_samples': 2, 'max_bin': 7}.\u001b[0m\n",
      "\u001b[32m[I 2020-07-27 14:13:55,012]\u001b[0m Finished trial#513 resulted in value: 0.504. Current best value is 0.4773333333333334 with parameters: {'lr': 0.07727844290121257, 'num_leaves': 1, 'max_depth': 5, 'min_child_samples': 2, 'max_bin': 7}.\u001b[0m\n",
      "\u001b[32m[I 2020-07-27 14:13:59,402]\u001b[0m Finished trial#514 resulted in value: 0.4853333333333333. Current best value is 0.4773333333333334 with parameters: {'lr': 0.07727844290121257, 'num_leaves': 1, 'max_depth': 5, 'min_child_samples': 2, 'max_bin': 7}.\u001b[0m\n",
      "\u001b[32m[I 2020-07-27 14:14:03,531]\u001b[0m Finished trial#515 resulted in value: 0.5013333333333334. Current best value is 0.4773333333333334 with parameters: {'lr': 0.07727844290121257, 'num_leaves': 1, 'max_depth': 5, 'min_child_samples': 2, 'max_bin': 7}.\u001b[0m\n",
      "\u001b[32m[I 2020-07-27 14:14:08,109]\u001b[0m Finished trial#516 resulted in value: 0.492. Current best value is 0.4773333333333334 with parameters: {'lr': 0.07727844290121257, 'num_leaves': 1, 'max_depth': 5, 'min_child_samples': 2, 'max_bin': 7}.\u001b[0m\n",
      "\u001b[32m[I 2020-07-27 14:14:12,636]\u001b[0m Finished trial#517 resulted in value: 0.488. Current best value is 0.4773333333333334 with parameters: {'lr': 0.07727844290121257, 'num_leaves': 1, 'max_depth': 5, 'min_child_samples': 2, 'max_bin': 7}.\u001b[0m\n",
      "\u001b[32m[I 2020-07-27 14:14:16,243]\u001b[0m Finished trial#518 resulted in value: 0.488. Current best value is 0.4773333333333334 with parameters: {'lr': 0.07727844290121257, 'num_leaves': 1, 'max_depth': 5, 'min_child_samples': 2, 'max_bin': 7}.\u001b[0m\n",
      "\u001b[32m[I 2020-07-27 14:14:20,310]\u001b[0m Finished trial#519 resulted in value: 0.496. Current best value is 0.4773333333333334 with parameters: {'lr': 0.07727844290121257, 'num_leaves': 1, 'max_depth': 5, 'min_child_samples': 2, 'max_bin': 7}.\u001b[0m\n",
      "\u001b[32m[I 2020-07-27 14:14:26,507]\u001b[0m Finished trial#520 resulted in value: 0.4933333333333333. Current best value is 0.4773333333333334 with parameters: {'lr': 0.07727844290121257, 'num_leaves': 1, 'max_depth': 5, 'min_child_samples': 2, 'max_bin': 7}.\u001b[0m\n",
      "\u001b[32m[I 2020-07-27 14:14:31,046]\u001b[0m Finished trial#521 resulted in value: 0.5. Current best value is 0.4773333333333334 with parameters: {'lr': 0.07727844290121257, 'num_leaves': 1, 'max_depth': 5, 'min_child_samples': 2, 'max_bin': 7}.\u001b[0m\n",
      "\u001b[32m[I 2020-07-27 14:14:32,719]\u001b[0m Finished trial#522 resulted in value: 0.5266666666666666. Current best value is 0.4773333333333334 with parameters: {'lr': 0.07727844290121257, 'num_leaves': 1, 'max_depth': 5, 'min_child_samples': 2, 'max_bin': 7}.\u001b[0m\n",
      "\u001b[32m[I 2020-07-27 14:14:37,925]\u001b[0m Finished trial#523 resulted in value: 0.504. Current best value is 0.4773333333333334 with parameters: {'lr': 0.07727844290121257, 'num_leaves': 1, 'max_depth': 5, 'min_child_samples': 2, 'max_bin': 7}.\u001b[0m\n",
      "\u001b[32m[I 2020-07-27 14:14:43,254]\u001b[0m Finished trial#524 resulted in value: 0.492. Current best value is 0.4773333333333334 with parameters: {'lr': 0.07727844290121257, 'num_leaves': 1, 'max_depth': 5, 'min_child_samples': 2, 'max_bin': 7}.\u001b[0m\n",
      "\u001b[32m[I 2020-07-27 14:14:48,295]\u001b[0m Finished trial#525 resulted in value: 0.4853333333333333. Current best value is 0.4773333333333334 with parameters: {'lr': 0.07727844290121257, 'num_leaves': 1, 'max_depth': 5, 'min_child_samples': 2, 'max_bin': 7}.\u001b[0m\n",
      "\u001b[32m[I 2020-07-27 14:14:53,227]\u001b[0m Finished trial#526 resulted in value: 0.4986666666666667. Current best value is 0.4773333333333334 with parameters: {'lr': 0.07727844290121257, 'num_leaves': 1, 'max_depth': 5, 'min_child_samples': 2, 'max_bin': 7}.\u001b[0m\n",
      "\u001b[32m[I 2020-07-27 14:14:57,449]\u001b[0m Finished trial#527 resulted in value: 0.5106666666666666. Current best value is 0.4773333333333334 with parameters: {'lr': 0.07727844290121257, 'num_leaves': 1, 'max_depth': 5, 'min_child_samples': 2, 'max_bin': 7}.\u001b[0m\n",
      "\u001b[32m[I 2020-07-27 14:15:01,564]\u001b[0m Finished trial#528 resulted in value: 0.4973333333333333. Current best value is 0.4773333333333334 with parameters: {'lr': 0.07727844290121257, 'num_leaves': 1, 'max_depth': 5, 'min_child_samples': 2, 'max_bin': 7}.\u001b[0m\n",
      "\u001b[32m[I 2020-07-27 14:15:06,237]\u001b[0m Finished trial#529 resulted in value: 0.5053333333333334. Current best value is 0.4773333333333334 with parameters: {'lr': 0.07727844290121257, 'num_leaves': 1, 'max_depth': 5, 'min_child_samples': 2, 'max_bin': 7}.\u001b[0m\n",
      "\u001b[32m[I 2020-07-27 14:15:10,819]\u001b[0m Finished trial#530 resulted in value: 0.5093333333333334. Current best value is 0.4773333333333334 with parameters: {'lr': 0.07727844290121257, 'num_leaves': 1, 'max_depth': 5, 'min_child_samples': 2, 'max_bin': 7}.\u001b[0m\n",
      "\u001b[32m[I 2020-07-27 14:15:16,006]\u001b[0m Finished trial#531 resulted in value: 0.5. Current best value is 0.4773333333333334 with parameters: {'lr': 0.07727844290121257, 'num_leaves': 1, 'max_depth': 5, 'min_child_samples': 2, 'max_bin': 7}.\u001b[0m\n",
      "\u001b[32m[I 2020-07-27 14:15:20,510]\u001b[0m Finished trial#532 resulted in value: 0.4973333333333333. Current best value is 0.4773333333333334 with parameters: {'lr': 0.07727844290121257, 'num_leaves': 1, 'max_depth': 5, 'min_child_samples': 2, 'max_bin': 7}.\u001b[0m\n",
      "\u001b[32m[I 2020-07-27 14:15:24,609]\u001b[0m Finished trial#533 resulted in value: 0.4906666666666667. Current best value is 0.4773333333333334 with parameters: {'lr': 0.07727844290121257, 'num_leaves': 1, 'max_depth': 5, 'min_child_samples': 2, 'max_bin': 7}.\u001b[0m\n",
      "\u001b[32m[I 2020-07-27 14:15:28,821]\u001b[0m Finished trial#534 resulted in value: 0.4786666666666667. Current best value is 0.4773333333333334 with parameters: {'lr': 0.07727844290121257, 'num_leaves': 1, 'max_depth': 5, 'min_child_samples': 2, 'max_bin': 7}.\u001b[0m\n",
      "\u001b[32m[I 2020-07-27 14:15:35,385]\u001b[0m Finished trial#535 resulted in value: 0.5173333333333333. Current best value is 0.4773333333333334 with parameters: {'lr': 0.07727844290121257, 'num_leaves': 1, 'max_depth': 5, 'min_child_samples': 2, 'max_bin': 7}.\u001b[0m\n",
      "\u001b[32m[I 2020-07-27 14:15:39,217]\u001b[0m Finished trial#536 resulted in value: 0.5066666666666666. Current best value is 0.4773333333333334 with parameters: {'lr': 0.07727844290121257, 'num_leaves': 1, 'max_depth': 5, 'min_child_samples': 2, 'max_bin': 7}.\u001b[0m\n",
      "\u001b[32m[I 2020-07-27 14:15:43,443]\u001b[0m Finished trial#537 resulted in value: 0.5093333333333334. Current best value is 0.4773333333333334 with parameters: {'lr': 0.07727844290121257, 'num_leaves': 1, 'max_depth': 5, 'min_child_samples': 2, 'max_bin': 7}.\u001b[0m\n",
      "\u001b[32m[I 2020-07-27 14:15:47,043]\u001b[0m Finished trial#538 resulted in value: 0.4986666666666667. Current best value is 0.4773333333333334 with parameters: {'lr': 0.07727844290121257, 'num_leaves': 1, 'max_depth': 5, 'min_child_samples': 2, 'max_bin': 7}.\u001b[0m\n",
      "\u001b[32m[I 2020-07-27 14:15:50,901]\u001b[0m Finished trial#539 resulted in value: 0.512. Current best value is 0.4773333333333334 with parameters: {'lr': 0.07727844290121257, 'num_leaves': 1, 'max_depth': 5, 'min_child_samples': 2, 'max_bin': 7}.\u001b[0m\n",
      "\u001b[32m[I 2020-07-27 14:15:54,800]\u001b[0m Finished trial#540 resulted in value: 0.5053333333333334. Current best value is 0.4773333333333334 with parameters: {'lr': 0.07727844290121257, 'num_leaves': 1, 'max_depth': 5, 'min_child_samples': 2, 'max_bin': 7}.\u001b[0m\n",
      "\u001b[32m[I 2020-07-27 14:15:59,414]\u001b[0m Finished trial#541 resulted in value: 0.4893333333333333. Current best value is 0.4773333333333334 with parameters: {'lr': 0.07727844290121257, 'num_leaves': 1, 'max_depth': 5, 'min_child_samples': 2, 'max_bin': 7}.\u001b[0m\n",
      "\u001b[32m[I 2020-07-27 14:16:03,862]\u001b[0m Finished trial#542 resulted in value: 0.5053333333333334. Current best value is 0.4773333333333334 with parameters: {'lr': 0.07727844290121257, 'num_leaves': 1, 'max_depth': 5, 'min_child_samples': 2, 'max_bin': 7}.\u001b[0m\n",
      "\u001b[32m[I 2020-07-27 14:16:08,224]\u001b[0m Finished trial#543 resulted in value: 0.4986666666666667. Current best value is 0.4773333333333334 with parameters: {'lr': 0.07727844290121257, 'num_leaves': 1, 'max_depth': 5, 'min_child_samples': 2, 'max_bin': 7}.\u001b[0m\n",
      "\u001b[32m[I 2020-07-27 14:16:11,978]\u001b[0m Finished trial#544 resulted in value: 0.5066666666666666. Current best value is 0.4773333333333334 with parameters: {'lr': 0.07727844290121257, 'num_leaves': 1, 'max_depth': 5, 'min_child_samples': 2, 'max_bin': 7}.\u001b[0m\n",
      "\u001b[32m[I 2020-07-27 14:16:15,593]\u001b[0m Finished trial#545 resulted in value: 0.512. Current best value is 0.4773333333333334 with parameters: {'lr': 0.07727844290121257, 'num_leaves': 1, 'max_depth': 5, 'min_child_samples': 2, 'max_bin': 7}.\u001b[0m\n",
      "\u001b[32m[I 2020-07-27 14:16:21,206]\u001b[0m Finished trial#546 resulted in value: 0.5053333333333334. Current best value is 0.4773333333333334 with parameters: {'lr': 0.07727844290121257, 'num_leaves': 1, 'max_depth': 5, 'min_child_samples': 2, 'max_bin': 7}.\u001b[0m\n",
      "\u001b[32m[I 2020-07-27 14:16:26,730]\u001b[0m Finished trial#547 resulted in value: 0.484. Current best value is 0.4773333333333334 with parameters: {'lr': 0.07727844290121257, 'num_leaves': 1, 'max_depth': 5, 'min_child_samples': 2, 'max_bin': 7}.\u001b[0m\n",
      "\u001b[32m[I 2020-07-27 14:16:32,603]\u001b[0m Finished trial#548 resulted in value: 0.4906666666666667. Current best value is 0.4773333333333334 with parameters: {'lr': 0.07727844290121257, 'num_leaves': 1, 'max_depth': 5, 'min_child_samples': 2, 'max_bin': 7}.\u001b[0m\n",
      "\u001b[32m[I 2020-07-27 14:16:37,654]\u001b[0m Finished trial#549 resulted in value: 0.496. Current best value is 0.4773333333333334 with parameters: {'lr': 0.07727844290121257, 'num_leaves': 1, 'max_depth': 5, 'min_child_samples': 2, 'max_bin': 7}.\u001b[0m\n",
      "\u001b[32m[I 2020-07-27 14:16:42,013]\u001b[0m Finished trial#550 resulted in value: 0.4893333333333333. Current best value is 0.4773333333333334 with parameters: {'lr': 0.07727844290121257, 'num_leaves': 1, 'max_depth': 5, 'min_child_samples': 2, 'max_bin': 7}.\u001b[0m\n",
      "\u001b[32m[I 2020-07-27 14:16:46,571]\u001b[0m Finished trial#551 resulted in value: 0.5066666666666666. Current best value is 0.4773333333333334 with parameters: {'lr': 0.07727844290121257, 'num_leaves': 1, 'max_depth': 5, 'min_child_samples': 2, 'max_bin': 7}.\u001b[0m\n",
      "\u001b[32m[I 2020-07-27 14:16:50,529]\u001b[0m Finished trial#552 resulted in value: 0.4973333333333333. Current best value is 0.4773333333333334 with parameters: {'lr': 0.07727844290121257, 'num_leaves': 1, 'max_depth': 5, 'min_child_samples': 2, 'max_bin': 7}.\u001b[0m\n",
      "\u001b[32m[I 2020-07-27 14:16:55,358]\u001b[0m Finished trial#553 resulted in value: 0.5. Current best value is 0.4773333333333334 with parameters: {'lr': 0.07727844290121257, 'num_leaves': 1, 'max_depth': 5, 'min_child_samples': 2, 'max_bin': 7}.\u001b[0m\n",
      "\u001b[32m[I 2020-07-27 14:16:59,303]\u001b[0m Finished trial#554 resulted in value: 0.5133333333333333. Current best value is 0.4773333333333334 with parameters: {'lr': 0.07727844290121257, 'num_leaves': 1, 'max_depth': 5, 'min_child_samples': 2, 'max_bin': 7}.\u001b[0m\n",
      "\u001b[32m[I 2020-07-27 14:17:03,106]\u001b[0m Finished trial#555 resulted in value: 0.4973333333333333. Current best value is 0.4773333333333334 with parameters: {'lr': 0.07727844290121257, 'num_leaves': 1, 'max_depth': 5, 'min_child_samples': 2, 'max_bin': 7}.\u001b[0m\n",
      "\u001b[32m[I 2020-07-27 14:17:07,083]\u001b[0m Finished trial#556 resulted in value: 0.4986666666666667. Current best value is 0.4773333333333334 with parameters: {'lr': 0.07727844290121257, 'num_leaves': 1, 'max_depth': 5, 'min_child_samples': 2, 'max_bin': 7}.\u001b[0m\n",
      "\u001b[32m[I 2020-07-27 14:17:10,479]\u001b[0m Finished trial#557 resulted in value: 0.4973333333333333. Current best value is 0.4773333333333334 with parameters: {'lr': 0.07727844290121257, 'num_leaves': 1, 'max_depth': 5, 'min_child_samples': 2, 'max_bin': 7}.\u001b[0m\n",
      "\u001b[32m[I 2020-07-27 14:17:13,935]\u001b[0m Finished trial#558 resulted in value: 0.504. Current best value is 0.4773333333333334 with parameters: {'lr': 0.07727844290121257, 'num_leaves': 1, 'max_depth': 5, 'min_child_samples': 2, 'max_bin': 7}.\u001b[0m\n",
      "\u001b[32m[I 2020-07-27 14:17:18,375]\u001b[0m Finished trial#559 resulted in value: 0.4986666666666667. Current best value is 0.4773333333333334 with parameters: {'lr': 0.07727844290121257, 'num_leaves': 1, 'max_depth': 5, 'min_child_samples': 2, 'max_bin': 7}.\u001b[0m\n",
      "\u001b[32m[I 2020-07-27 14:17:22,256]\u001b[0m Finished trial#560 resulted in value: 0.4893333333333333. Current best value is 0.4773333333333334 with parameters: {'lr': 0.07727844290121257, 'num_leaves': 1, 'max_depth': 5, 'min_child_samples': 2, 'max_bin': 7}.\u001b[0m\n",
      "\u001b[32m[I 2020-07-27 14:17:26,505]\u001b[0m Finished trial#561 resulted in value: 0.508. Current best value is 0.4773333333333334 with parameters: {'lr': 0.07727844290121257, 'num_leaves': 1, 'max_depth': 5, 'min_child_samples': 2, 'max_bin': 7}.\u001b[0m\n",
      "\u001b[32m[I 2020-07-27 14:17:31,298]\u001b[0m Finished trial#562 resulted in value: 0.4853333333333333. Current best value is 0.4773333333333334 with parameters: {'lr': 0.07727844290121257, 'num_leaves': 1, 'max_depth': 5, 'min_child_samples': 2, 'max_bin': 7}.\u001b[0m\n",
      "\u001b[32m[I 2020-07-27 14:17:36,957]\u001b[0m Finished trial#563 resulted in value: 0.484. Current best value is 0.4773333333333334 with parameters: {'lr': 0.07727844290121257, 'num_leaves': 1, 'max_depth': 5, 'min_child_samples': 2, 'max_bin': 7}.\u001b[0m\n",
      "\u001b[32m[I 2020-07-27 14:17:42,263]\u001b[0m Finished trial#564 resulted in value: 0.5106666666666666. Current best value is 0.4773333333333334 with parameters: {'lr': 0.07727844290121257, 'num_leaves': 1, 'max_depth': 5, 'min_child_samples': 2, 'max_bin': 7}.\u001b[0m\n",
      "\u001b[32m[I 2020-07-27 14:17:47,731]\u001b[0m Finished trial#565 resulted in value: 0.4986666666666667. Current best value is 0.4773333333333334 with parameters: {'lr': 0.07727844290121257, 'num_leaves': 1, 'max_depth': 5, 'min_child_samples': 2, 'max_bin': 7}.\u001b[0m\n",
      "\u001b[32m[I 2020-07-27 14:17:52,512]\u001b[0m Finished trial#566 resulted in value: 0.488. Current best value is 0.4773333333333334 with parameters: {'lr': 0.07727844290121257, 'num_leaves': 1, 'max_depth': 5, 'min_child_samples': 2, 'max_bin': 7}.\u001b[0m\n",
      "\u001b[32m[I 2020-07-27 14:17:56,069]\u001b[0m Finished trial#567 resulted in value: 0.496. Current best value is 0.4773333333333334 with parameters: {'lr': 0.07727844290121257, 'num_leaves': 1, 'max_depth': 5, 'min_child_samples': 2, 'max_bin': 7}.\u001b[0m\n",
      "\u001b[32m[I 2020-07-27 14:18:02,046]\u001b[0m Finished trial#568 resulted in value: 0.4986666666666667. Current best value is 0.4773333333333334 with parameters: {'lr': 0.07727844290121257, 'num_leaves': 1, 'max_depth': 5, 'min_child_samples': 2, 'max_bin': 7}.\u001b[0m\n",
      "\u001b[32m[I 2020-07-27 14:18:07,583]\u001b[0m Finished trial#569 resulted in value: 0.488. Current best value is 0.4773333333333334 with parameters: {'lr': 0.07727844290121257, 'num_leaves': 1, 'max_depth': 5, 'min_child_samples': 2, 'max_bin': 7}.\u001b[0m\n",
      "\u001b[32m[I 2020-07-27 14:18:10,809]\u001b[0m Finished trial#570 resulted in value: 0.5133333333333333. Current best value is 0.4773333333333334 with parameters: {'lr': 0.07727844290121257, 'num_leaves': 1, 'max_depth': 5, 'min_child_samples': 2, 'max_bin': 7}.\u001b[0m\n",
      "\u001b[32m[I 2020-07-27 14:18:17,179]\u001b[0m Finished trial#571 resulted in value: 0.4973333333333333. Current best value is 0.4773333333333334 with parameters: {'lr': 0.07727844290121257, 'num_leaves': 1, 'max_depth': 5, 'min_child_samples': 2, 'max_bin': 7}.\u001b[0m\n",
      "\u001b[32m[I 2020-07-27 14:18:23,378]\u001b[0m Finished trial#572 resulted in value: 0.516. Current best value is 0.4773333333333334 with parameters: {'lr': 0.07727844290121257, 'num_leaves': 1, 'max_depth': 5, 'min_child_samples': 2, 'max_bin': 7}.\u001b[0m\n",
      "\u001b[32m[I 2020-07-27 14:18:26,724]\u001b[0m Finished trial#573 resulted in value: 0.4946666666666667. Current best value is 0.4773333333333334 with parameters: {'lr': 0.07727844290121257, 'num_leaves': 1, 'max_depth': 5, 'min_child_samples': 2, 'max_bin': 7}.\u001b[0m\n",
      "\u001b[32m[I 2020-07-27 14:18:30,814]\u001b[0m Finished trial#574 resulted in value: 0.4946666666666667. Current best value is 0.4773333333333334 with parameters: {'lr': 0.07727844290121257, 'num_leaves': 1, 'max_depth': 5, 'min_child_samples': 2, 'max_bin': 7}.\u001b[0m\n",
      "\u001b[32m[I 2020-07-27 14:18:32,181]\u001b[0m Finished trial#575 resulted in value: 0.528. Current best value is 0.4773333333333334 with parameters: {'lr': 0.07727844290121257, 'num_leaves': 1, 'max_depth': 5, 'min_child_samples': 2, 'max_bin': 7}.\u001b[0m\n",
      "\u001b[32m[I 2020-07-27 14:18:37,206]\u001b[0m Finished trial#576 resulted in value: 0.4826666666666667. Current best value is 0.4773333333333334 with parameters: {'lr': 0.07727844290121257, 'num_leaves': 1, 'max_depth': 5, 'min_child_samples': 2, 'max_bin': 7}.\u001b[0m\n",
      "\u001b[32m[I 2020-07-27 14:18:41,576]\u001b[0m Finished trial#577 resulted in value: 0.5106666666666666. Current best value is 0.4773333333333334 with parameters: {'lr': 0.07727844290121257, 'num_leaves': 1, 'max_depth': 5, 'min_child_samples': 2, 'max_bin': 7}.\u001b[0m\n",
      "\u001b[32m[I 2020-07-27 14:18:45,676]\u001b[0m Finished trial#578 resulted in value: 0.488. Current best value is 0.4773333333333334 with parameters: {'lr': 0.07727844290121257, 'num_leaves': 1, 'max_depth': 5, 'min_child_samples': 2, 'max_bin': 7}.\u001b[0m\n",
      "\u001b[32m[I 2020-07-27 14:18:50,400]\u001b[0m Finished trial#579 resulted in value: 0.4986666666666667. Current best value is 0.4773333333333334 with parameters: {'lr': 0.07727844290121257, 'num_leaves': 1, 'max_depth': 5, 'min_child_samples': 2, 'max_bin': 7}.\u001b[0m\n",
      "\u001b[32m[I 2020-07-27 14:18:55,242]\u001b[0m Finished trial#580 resulted in value: 0.484. Current best value is 0.4773333333333334 with parameters: {'lr': 0.07727844290121257, 'num_leaves': 1, 'max_depth': 5, 'min_child_samples': 2, 'max_bin': 7}.\u001b[0m\n",
      "\u001b[32m[I 2020-07-27 14:18:59,588]\u001b[0m Finished trial#581 resulted in value: 0.5. Current best value is 0.4773333333333334 with parameters: {'lr': 0.07727844290121257, 'num_leaves': 1, 'max_depth': 5, 'min_child_samples': 2, 'max_bin': 7}.\u001b[0m\n",
      "\u001b[32m[I 2020-07-27 14:19:06,904]\u001b[0m Finished trial#582 resulted in value: 0.5. Current best value is 0.4773333333333334 with parameters: {'lr': 0.07727844290121257, 'num_leaves': 1, 'max_depth': 5, 'min_child_samples': 2, 'max_bin': 7}.\u001b[0m\n",
      "\u001b[32m[I 2020-07-27 14:19:14,655]\u001b[0m Finished trial#583 resulted in value: 0.52. Current best value is 0.4773333333333334 with parameters: {'lr': 0.07727844290121257, 'num_leaves': 1, 'max_depth': 5, 'min_child_samples': 2, 'max_bin': 7}.\u001b[0m\n",
      "\u001b[32m[I 2020-07-27 14:19:20,492]\u001b[0m Finished trial#584 resulted in value: 0.4946666666666667. Current best value is 0.4773333333333334 with parameters: {'lr': 0.07727844290121257, 'num_leaves': 1, 'max_depth': 5, 'min_child_samples': 2, 'max_bin': 7}.\u001b[0m\n",
      "\u001b[32m[I 2020-07-27 14:19:24,852]\u001b[0m Finished trial#585 resulted in value: 0.5026666666666666. Current best value is 0.4773333333333334 with parameters: {'lr': 0.07727844290121257, 'num_leaves': 1, 'max_depth': 5, 'min_child_samples': 2, 'max_bin': 7}.\u001b[0m\n",
      "\u001b[32m[I 2020-07-27 14:19:29,396]\u001b[0m Finished trial#586 resulted in value: 0.5053333333333334. Current best value is 0.4773333333333334 with parameters: {'lr': 0.07727844290121257, 'num_leaves': 1, 'max_depth': 5, 'min_child_samples': 2, 'max_bin': 7}.\u001b[0m\n",
      "\u001b[32m[I 2020-07-27 14:19:34,250]\u001b[0m Finished trial#587 resulted in value: 0.5013333333333334. Current best value is 0.4773333333333334 with parameters: {'lr': 0.07727844290121257, 'num_leaves': 1, 'max_depth': 5, 'min_child_samples': 2, 'max_bin': 7}.\u001b[0m\n",
      "\u001b[32m[I 2020-07-27 14:19:39,783]\u001b[0m Finished trial#588 resulted in value: 0.4933333333333333. Current best value is 0.4773333333333334 with parameters: {'lr': 0.07727844290121257, 'num_leaves': 1, 'max_depth': 5, 'min_child_samples': 2, 'max_bin': 7}.\u001b[0m\n",
      "\u001b[32m[I 2020-07-27 14:19:43,168]\u001b[0m Finished trial#589 resulted in value: 0.5106666666666666. Current best value is 0.4773333333333334 with parameters: {'lr': 0.07727844290121257, 'num_leaves': 1, 'max_depth': 5, 'min_child_samples': 2, 'max_bin': 7}.\u001b[0m\n",
      "\u001b[32m[I 2020-07-27 14:19:48,623]\u001b[0m Finished trial#590 resulted in value: 0.496. Current best value is 0.4773333333333334 with parameters: {'lr': 0.07727844290121257, 'num_leaves': 1, 'max_depth': 5, 'min_child_samples': 2, 'max_bin': 7}.\u001b[0m\n",
      "\u001b[32m[I 2020-07-27 14:19:53,134]\u001b[0m Finished trial#591 resulted in value: 0.5013333333333334. Current best value is 0.4773333333333334 with parameters: {'lr': 0.07727844290121257, 'num_leaves': 1, 'max_depth': 5, 'min_child_samples': 2, 'max_bin': 7}.\u001b[0m\n",
      "\u001b[32m[I 2020-07-27 14:19:57,271]\u001b[0m Finished trial#592 resulted in value: 0.488. Current best value is 0.4773333333333334 with parameters: {'lr': 0.07727844290121257, 'num_leaves': 1, 'max_depth': 5, 'min_child_samples': 2, 'max_bin': 7}.\u001b[0m\n",
      "\u001b[32m[I 2020-07-27 14:20:01,894]\u001b[0m Finished trial#593 resulted in value: 0.492. Current best value is 0.4773333333333334 with parameters: {'lr': 0.07727844290121257, 'num_leaves': 1, 'max_depth': 5, 'min_child_samples': 2, 'max_bin': 7}.\u001b[0m\n",
      "\u001b[32m[I 2020-07-27 14:20:06,455]\u001b[0m Finished trial#594 resulted in value: 0.4893333333333333. Current best value is 0.4773333333333334 with parameters: {'lr': 0.07727844290121257, 'num_leaves': 1, 'max_depth': 5, 'min_child_samples': 2, 'max_bin': 7}.\u001b[0m\n",
      "\u001b[32m[I 2020-07-27 14:20:11,108]\u001b[0m Finished trial#595 resulted in value: 0.4813333333333333. Current best value is 0.4773333333333334 with parameters: {'lr': 0.07727844290121257, 'num_leaves': 1, 'max_depth': 5, 'min_child_samples': 2, 'max_bin': 7}.\u001b[0m\n",
      "\u001b[32m[I 2020-07-27 14:20:15,013]\u001b[0m Finished trial#596 resulted in value: 0.4893333333333333. Current best value is 0.4773333333333334 with parameters: {'lr': 0.07727844290121257, 'num_leaves': 1, 'max_depth': 5, 'min_child_samples': 2, 'max_bin': 7}.\u001b[0m\n",
      "\u001b[32m[I 2020-07-27 14:20:19,339]\u001b[0m Finished trial#597 resulted in value: 0.5053333333333334. Current best value is 0.4773333333333334 with parameters: {'lr': 0.07727844290121257, 'num_leaves': 1, 'max_depth': 5, 'min_child_samples': 2, 'max_bin': 7}.\u001b[0m\n",
      "\u001b[32m[I 2020-07-27 14:20:22,288]\u001b[0m Finished trial#598 resulted in value: 0.5186666666666666. Current best value is 0.4773333333333334 with parameters: {'lr': 0.07727844290121257, 'num_leaves': 1, 'max_depth': 5, 'min_child_samples': 2, 'max_bin': 7}.\u001b[0m\n",
      "\u001b[32m[I 2020-07-27 14:20:26,484]\u001b[0m Finished trial#599 resulted in value: 0.4893333333333333. Current best value is 0.4773333333333334 with parameters: {'lr': 0.07727844290121257, 'num_leaves': 1, 'max_depth': 5, 'min_child_samples': 2, 'max_bin': 7}.\u001b[0m\n",
      "\u001b[32m[I 2020-07-27 14:20:32,067]\u001b[0m Finished trial#600 resulted in value: 0.5013333333333334. Current best value is 0.4773333333333334 with parameters: {'lr': 0.07727844290121257, 'num_leaves': 1, 'max_depth': 5, 'min_child_samples': 2, 'max_bin': 7}.\u001b[0m\n",
      "\u001b[32m[I 2020-07-27 14:20:36,166]\u001b[0m Finished trial#601 resulted in value: 0.4933333333333333. Current best value is 0.4773333333333334 with parameters: {'lr': 0.07727844290121257, 'num_leaves': 1, 'max_depth': 5, 'min_child_samples': 2, 'max_bin': 7}.\u001b[0m\n",
      "\u001b[32m[I 2020-07-27 14:20:41,456]\u001b[0m Finished trial#602 resulted in value: 0.4866666666666667. Current best value is 0.4773333333333334 with parameters: {'lr': 0.07727844290121257, 'num_leaves': 1, 'max_depth': 5, 'min_child_samples': 2, 'max_bin': 7}.\u001b[0m\n",
      "\u001b[32m[I 2020-07-27 14:20:47,762]\u001b[0m Finished trial#603 resulted in value: 0.4906666666666667. Current best value is 0.4773333333333334 with parameters: {'lr': 0.07727844290121257, 'num_leaves': 1, 'max_depth': 5, 'min_child_samples': 2, 'max_bin': 7}.\u001b[0m\n",
      "\u001b[32m[I 2020-07-27 14:20:52,392]\u001b[0m Finished trial#604 resulted in value: 0.4986666666666667. Current best value is 0.4773333333333334 with parameters: {'lr': 0.07727844290121257, 'num_leaves': 1, 'max_depth': 5, 'min_child_samples': 2, 'max_bin': 7}.\u001b[0m\n",
      "\u001b[32m[I 2020-07-27 14:20:56,224]\u001b[0m Finished trial#605 resulted in value: 0.5066666666666666. Current best value is 0.4773333333333334 with parameters: {'lr': 0.07727844290121257, 'num_leaves': 1, 'max_depth': 5, 'min_child_samples': 2, 'max_bin': 7}.\u001b[0m\n",
      "\u001b[32m[I 2020-07-27 14:20:59,690]\u001b[0m Finished trial#606 resulted in value: 0.5. Current best value is 0.4773333333333334 with parameters: {'lr': 0.07727844290121257, 'num_leaves': 1, 'max_depth': 5, 'min_child_samples': 2, 'max_bin': 7}.\u001b[0m\n",
      "\u001b[32m[I 2020-07-27 14:21:03,322]\u001b[0m Finished trial#607 resulted in value: 0.5093333333333334. Current best value is 0.4773333333333334 with parameters: {'lr': 0.07727844290121257, 'num_leaves': 1, 'max_depth': 5, 'min_child_samples': 2, 'max_bin': 7}.\u001b[0m\n",
      "\u001b[32m[I 2020-07-27 14:21:07,689]\u001b[0m Finished trial#608 resulted in value: 0.496. Current best value is 0.4773333333333334 with parameters: {'lr': 0.07727844290121257, 'num_leaves': 1, 'max_depth': 5, 'min_child_samples': 2, 'max_bin': 7}.\u001b[0m\n",
      "\u001b[32m[I 2020-07-27 14:21:12,280]\u001b[0m Finished trial#609 resulted in value: 0.5026666666666666. Current best value is 0.4773333333333334 with parameters: {'lr': 0.07727844290121257, 'num_leaves': 1, 'max_depth': 5, 'min_child_samples': 2, 'max_bin': 7}.\u001b[0m\n",
      "\u001b[32m[I 2020-07-27 14:21:16,672]\u001b[0m Finished trial#610 resulted in value: 0.488. Current best value is 0.4773333333333334 with parameters: {'lr': 0.07727844290121257, 'num_leaves': 1, 'max_depth': 5, 'min_child_samples': 2, 'max_bin': 7}.\u001b[0m\n",
      "\u001b[32m[I 2020-07-27 14:21:20,179]\u001b[0m Finished trial#611 resulted in value: 0.52. Current best value is 0.4773333333333334 with parameters: {'lr': 0.07727844290121257, 'num_leaves': 1, 'max_depth': 5, 'min_child_samples': 2, 'max_bin': 7}.\u001b[0m\n",
      "\u001b[32m[I 2020-07-27 14:21:23,482]\u001b[0m Finished trial#612 resulted in value: 0.5053333333333334. Current best value is 0.4773333333333334 with parameters: {'lr': 0.07727844290121257, 'num_leaves': 1, 'max_depth': 5, 'min_child_samples': 2, 'max_bin': 7}.\u001b[0m\n",
      "\u001b[32m[I 2020-07-27 14:21:27,020]\u001b[0m Finished trial#613 resulted in value: 0.508. Current best value is 0.4773333333333334 with parameters: {'lr': 0.07727844290121257, 'num_leaves': 1, 'max_depth': 5, 'min_child_samples': 2, 'max_bin': 7}.\u001b[0m\n",
      "\u001b[32m[I 2020-07-27 14:21:31,431]\u001b[0m Finished trial#614 resulted in value: 0.4893333333333333. Current best value is 0.4773333333333334 with parameters: {'lr': 0.07727844290121257, 'num_leaves': 1, 'max_depth': 5, 'min_child_samples': 2, 'max_bin': 7}.\u001b[0m\n",
      "\u001b[32m[I 2020-07-27 14:21:38,097]\u001b[0m Finished trial#615 resulted in value: 0.5013333333333334. Current best value is 0.4773333333333334 with parameters: {'lr': 0.07727844290121257, 'num_leaves': 1, 'max_depth': 5, 'min_child_samples': 2, 'max_bin': 7}.\u001b[0m\n",
      "\u001b[32m[I 2020-07-27 14:21:42,860]\u001b[0m Finished trial#616 resulted in value: 0.492. Current best value is 0.4773333333333334 with parameters: {'lr': 0.07727844290121257, 'num_leaves': 1, 'max_depth': 5, 'min_child_samples': 2, 'max_bin': 7}.\u001b[0m\n",
      "\u001b[32m[I 2020-07-27 14:21:46,491]\u001b[0m Finished trial#617 resulted in value: 0.48. Current best value is 0.4773333333333334 with parameters: {'lr': 0.07727844290121257, 'num_leaves': 1, 'max_depth': 5, 'min_child_samples': 2, 'max_bin': 7}.\u001b[0m\n",
      "\u001b[32m[I 2020-07-27 14:21:50,875]\u001b[0m Finished trial#618 resulted in value: 0.504. Current best value is 0.4773333333333334 with parameters: {'lr': 0.07727844290121257, 'num_leaves': 1, 'max_depth': 5, 'min_child_samples': 2, 'max_bin': 7}.\u001b[0m\n",
      "\u001b[32m[I 2020-07-27 14:21:54,059]\u001b[0m Finished trial#619 resulted in value: 0.512. Current best value is 0.4773333333333334 with parameters: {'lr': 0.07727844290121257, 'num_leaves': 1, 'max_depth': 5, 'min_child_samples': 2, 'max_bin': 7}.\u001b[0m\n",
      "\u001b[32m[I 2020-07-27 14:21:58,405]\u001b[0m Finished trial#620 resulted in value: 0.4933333333333333. Current best value is 0.4773333333333334 with parameters: {'lr': 0.07727844290121257, 'num_leaves': 1, 'max_depth': 5, 'min_child_samples': 2, 'max_bin': 7}.\u001b[0m\n",
      "\u001b[32m[I 2020-07-27 14:22:02,655]\u001b[0m Finished trial#621 resulted in value: 0.4933333333333333. Current best value is 0.4773333333333334 with parameters: {'lr': 0.07727844290121257, 'num_leaves': 1, 'max_depth': 5, 'min_child_samples': 2, 'max_bin': 7}.\u001b[0m\n",
      "\u001b[32m[I 2020-07-27 14:22:07,622]\u001b[0m Finished trial#622 resulted in value: 0.4933333333333333. Current best value is 0.4773333333333334 with parameters: {'lr': 0.07727844290121257, 'num_leaves': 1, 'max_depth': 5, 'min_child_samples': 2, 'max_bin': 7}.\u001b[0m\n",
      "\u001b[32m[I 2020-07-27 14:22:10,499]\u001b[0m Finished trial#623 resulted in value: 0.492. Current best value is 0.4773333333333334 with parameters: {'lr': 0.07727844290121257, 'num_leaves': 1, 'max_depth': 5, 'min_child_samples': 2, 'max_bin': 7}.\u001b[0m\n",
      "\u001b[32m[I 2020-07-27 14:22:14,847]\u001b[0m Finished trial#624 resulted in value: 0.5133333333333333. Current best value is 0.4773333333333334 with parameters: {'lr': 0.07727844290121257, 'num_leaves': 1, 'max_depth': 5, 'min_child_samples': 2, 'max_bin': 7}.\u001b[0m\n",
      "\u001b[32m[I 2020-07-27 14:22:18,271]\u001b[0m Finished trial#625 resulted in value: 0.4933333333333333. Current best value is 0.4773333333333334 with parameters: {'lr': 0.07727844290121257, 'num_leaves': 1, 'max_depth': 5, 'min_child_samples': 2, 'max_bin': 7}.\u001b[0m\n",
      "\u001b[32m[I 2020-07-27 14:22:26,336]\u001b[0m Finished trial#626 resulted in value: 0.5053333333333334. Current best value is 0.4773333333333334 with parameters: {'lr': 0.07727844290121257, 'num_leaves': 1, 'max_depth': 5, 'min_child_samples': 2, 'max_bin': 7}.\u001b[0m\n",
      "\u001b[32m[I 2020-07-27 14:22:29,903]\u001b[0m Finished trial#627 resulted in value: 0.5053333333333334. Current best value is 0.4773333333333334 with parameters: {'lr': 0.07727844290121257, 'num_leaves': 1, 'max_depth': 5, 'min_child_samples': 2, 'max_bin': 7}.\u001b[0m\n",
      "\u001b[32m[I 2020-07-27 14:22:33,890]\u001b[0m Finished trial#628 resulted in value: 0.4893333333333333. Current best value is 0.4773333333333334 with parameters: {'lr': 0.07727844290121257, 'num_leaves': 1, 'max_depth': 5, 'min_child_samples': 2, 'max_bin': 7}.\u001b[0m\n",
      "\u001b[32m[I 2020-07-27 14:22:37,828]\u001b[0m Finished trial#629 resulted in value: 0.5. Current best value is 0.4773333333333334 with parameters: {'lr': 0.07727844290121257, 'num_leaves': 1, 'max_depth': 5, 'min_child_samples': 2, 'max_bin': 7}.\u001b[0m\n",
      "\u001b[32m[I 2020-07-27 14:22:42,449]\u001b[0m Finished trial#630 resulted in value: 0.488. Current best value is 0.4773333333333334 with parameters: {'lr': 0.07727844290121257, 'num_leaves': 1, 'max_depth': 5, 'min_child_samples': 2, 'max_bin': 7}.\u001b[0m\n",
      "\u001b[32m[I 2020-07-27 14:22:45,942]\u001b[0m Finished trial#631 resulted in value: 0.508. Current best value is 0.4773333333333334 with parameters: {'lr': 0.07727844290121257, 'num_leaves': 1, 'max_depth': 5, 'min_child_samples': 2, 'max_bin': 7}.\u001b[0m\n",
      "\u001b[32m[I 2020-07-27 14:22:50,824]\u001b[0m Finished trial#632 resulted in value: 0.4973333333333333. Current best value is 0.4773333333333334 with parameters: {'lr': 0.07727844290121257, 'num_leaves': 1, 'max_depth': 5, 'min_child_samples': 2, 'max_bin': 7}.\u001b[0m\n",
      "\u001b[32m[I 2020-07-27 14:22:54,773]\u001b[0m Finished trial#633 resulted in value: 0.5013333333333334. Current best value is 0.4773333333333334 with parameters: {'lr': 0.07727844290121257, 'num_leaves': 1, 'max_depth': 5, 'min_child_samples': 2, 'max_bin': 7}.\u001b[0m\n",
      "\u001b[32m[I 2020-07-27 14:22:58,510]\u001b[0m Finished trial#634 resulted in value: 0.5. Current best value is 0.4773333333333334 with parameters: {'lr': 0.07727844290121257, 'num_leaves': 1, 'max_depth': 5, 'min_child_samples': 2, 'max_bin': 7}.\u001b[0m\n",
      "\u001b[32m[I 2020-07-27 14:23:02,372]\u001b[0m Finished trial#635 resulted in value: 0.4826666666666667. Current best value is 0.4773333333333334 with parameters: {'lr': 0.07727844290121257, 'num_leaves': 1, 'max_depth': 5, 'min_child_samples': 2, 'max_bin': 7}.\u001b[0m\n",
      "\u001b[32m[I 2020-07-27 14:23:05,903]\u001b[0m Finished trial#636 resulted in value: 0.4946666666666667. Current best value is 0.4773333333333334 with parameters: {'lr': 0.07727844290121257, 'num_leaves': 1, 'max_depth': 5, 'min_child_samples': 2, 'max_bin': 7}.\u001b[0m\n",
      "\u001b[32m[I 2020-07-27 14:23:09,897]\u001b[0m Finished trial#637 resulted in value: 0.5013333333333334. Current best value is 0.4773333333333334 with parameters: {'lr': 0.07727844290121257, 'num_leaves': 1, 'max_depth': 5, 'min_child_samples': 2, 'max_bin': 7}.\u001b[0m\n",
      "\u001b[32m[I 2020-07-27 14:23:14,794]\u001b[0m Finished trial#638 resulted in value: 0.496. Current best value is 0.4773333333333334 with parameters: {'lr': 0.07727844290121257, 'num_leaves': 1, 'max_depth': 5, 'min_child_samples': 2, 'max_bin': 7}.\u001b[0m\n",
      "\u001b[32m[I 2020-07-27 14:23:18,566]\u001b[0m Finished trial#639 resulted in value: 0.5066666666666666. Current best value is 0.4773333333333334 with parameters: {'lr': 0.07727844290121257, 'num_leaves': 1, 'max_depth': 5, 'min_child_samples': 2, 'max_bin': 7}.\u001b[0m\n",
      "\u001b[32m[I 2020-07-27 14:23:22,957]\u001b[0m Finished trial#640 resulted in value: 0.5026666666666666. Current best value is 0.4773333333333334 with parameters: {'lr': 0.07727844290121257, 'num_leaves': 1, 'max_depth': 5, 'min_child_samples': 2, 'max_bin': 7}.\u001b[0m\n",
      "\u001b[32m[I 2020-07-27 14:23:27,512]\u001b[0m Finished trial#641 resulted in value: 0.4986666666666667. Current best value is 0.4773333333333334 with parameters: {'lr': 0.07727844290121257, 'num_leaves': 1, 'max_depth': 5, 'min_child_samples': 2, 'max_bin': 7}.\u001b[0m\n",
      "\u001b[32m[I 2020-07-27 14:23:31,327]\u001b[0m Finished trial#642 resulted in value: 0.5013333333333334. Current best value is 0.4773333333333334 with parameters: {'lr': 0.07727844290121257, 'num_leaves': 1, 'max_depth': 5, 'min_child_samples': 2, 'max_bin': 7}.\u001b[0m\n",
      "\u001b[32m[I 2020-07-27 14:23:35,350]\u001b[0m Finished trial#643 resulted in value: 0.5026666666666666. Current best value is 0.4773333333333334 with parameters: {'lr': 0.07727844290121257, 'num_leaves': 1, 'max_depth': 5, 'min_child_samples': 2, 'max_bin': 7}.\u001b[0m\n",
      "\u001b[32m[I 2020-07-27 14:23:40,688]\u001b[0m Finished trial#644 resulted in value: 0.504. Current best value is 0.4773333333333334 with parameters: {'lr': 0.07727844290121257, 'num_leaves': 1, 'max_depth': 5, 'min_child_samples': 2, 'max_bin': 7}.\u001b[0m\n",
      "\u001b[32m[I 2020-07-27 14:23:44,635]\u001b[0m Finished trial#645 resulted in value: 0.496. Current best value is 0.4773333333333334 with parameters: {'lr': 0.07727844290121257, 'num_leaves': 1, 'max_depth': 5, 'min_child_samples': 2, 'max_bin': 7}.\u001b[0m\n",
      "\u001b[32m[I 2020-07-27 14:23:51,461]\u001b[0m Finished trial#646 resulted in value: 0.496. Current best value is 0.4773333333333334 with parameters: {'lr': 0.07727844290121257, 'num_leaves': 1, 'max_depth': 5, 'min_child_samples': 2, 'max_bin': 7}.\u001b[0m\n",
      "\u001b[32m[I 2020-07-27 14:23:56,181]\u001b[0m Finished trial#647 resulted in value: 0.4933333333333333. Current best value is 0.4773333333333334 with parameters: {'lr': 0.07727844290121257, 'num_leaves': 1, 'max_depth': 5, 'min_child_samples': 2, 'max_bin': 7}.\u001b[0m\n",
      "\u001b[32m[I 2020-07-27 14:24:00,672]\u001b[0m Finished trial#648 resulted in value: 0.4933333333333333. Current best value is 0.4773333333333334 with parameters: {'lr': 0.07727844290121257, 'num_leaves': 1, 'max_depth': 5, 'min_child_samples': 2, 'max_bin': 7}.\u001b[0m\n",
      "\u001b[32m[I 2020-07-27 14:24:05,526]\u001b[0m Finished trial#649 resulted in value: 0.508. Current best value is 0.4773333333333334 with parameters: {'lr': 0.07727844290121257, 'num_leaves': 1, 'max_depth': 5, 'min_child_samples': 2, 'max_bin': 7}.\u001b[0m\n",
      "\u001b[32m[I 2020-07-27 14:24:09,239]\u001b[0m Finished trial#650 resulted in value: 0.5013333333333334. Current best value is 0.4773333333333334 with parameters: {'lr': 0.07727844290121257, 'num_leaves': 1, 'max_depth': 5, 'min_child_samples': 2, 'max_bin': 7}.\u001b[0m\n",
      "\u001b[32m[I 2020-07-27 14:24:14,204]\u001b[0m Finished trial#651 resulted in value: 0.5146666666666666. Current best value is 0.4773333333333334 with parameters: {'lr': 0.07727844290121257, 'num_leaves': 1, 'max_depth': 5, 'min_child_samples': 2, 'max_bin': 7}.\u001b[0m\n",
      "\u001b[32m[I 2020-07-27 14:24:18,686]\u001b[0m Finished trial#652 resulted in value: 0.4986666666666667. Current best value is 0.4773333333333334 with parameters: {'lr': 0.07727844290121257, 'num_leaves': 1, 'max_depth': 5, 'min_child_samples': 2, 'max_bin': 7}.\u001b[0m\n",
      "\u001b[32m[I 2020-07-27 14:24:21,810]\u001b[0m Finished trial#653 resulted in value: 0.492. Current best value is 0.4773333333333334 with parameters: {'lr': 0.07727844290121257, 'num_leaves': 1, 'max_depth': 5, 'min_child_samples': 2, 'max_bin': 7}.\u001b[0m\n",
      "\u001b[32m[I 2020-07-27 14:24:26,272]\u001b[0m Finished trial#654 resulted in value: 0.5026666666666666. Current best value is 0.4773333333333334 with parameters: {'lr': 0.07727844290121257, 'num_leaves': 1, 'max_depth': 5, 'min_child_samples': 2, 'max_bin': 7}.\u001b[0m\n",
      "\u001b[32m[I 2020-07-27 14:24:29,169]\u001b[0m Finished trial#655 resulted in value: 0.5186666666666666. Current best value is 0.4773333333333334 with parameters: {'lr': 0.07727844290121257, 'num_leaves': 1, 'max_depth': 5, 'min_child_samples': 2, 'max_bin': 7}.\u001b[0m\n",
      "\u001b[32m[I 2020-07-27 14:24:32,157]\u001b[0m Finished trial#656 resulted in value: 0.5066666666666666. Current best value is 0.4773333333333334 with parameters: {'lr': 0.07727844290121257, 'num_leaves': 1, 'max_depth': 5, 'min_child_samples': 2, 'max_bin': 7}.\u001b[0m\n",
      "\u001b[32m[I 2020-07-27 14:24:36,350]\u001b[0m Finished trial#657 resulted in value: 0.4973333333333333. Current best value is 0.4773333333333334 with parameters: {'lr': 0.07727844290121257, 'num_leaves': 1, 'max_depth': 5, 'min_child_samples': 2, 'max_bin': 7}.\u001b[0m\n",
      "\u001b[32m[I 2020-07-27 14:24:41,329]\u001b[0m Finished trial#658 resulted in value: 0.5053333333333334. Current best value is 0.4773333333333334 with parameters: {'lr': 0.07727844290121257, 'num_leaves': 1, 'max_depth': 5, 'min_child_samples': 2, 'max_bin': 7}.\u001b[0m\n",
      "\u001b[32m[I 2020-07-27 14:24:46,391]\u001b[0m Finished trial#659 resulted in value: 0.5066666666666666. Current best value is 0.4773333333333334 with parameters: {'lr': 0.07727844290121257, 'num_leaves': 1, 'max_depth': 5, 'min_child_samples': 2, 'max_bin': 7}.\u001b[0m\n",
      "\u001b[32m[I 2020-07-27 14:24:50,446]\u001b[0m Finished trial#660 resulted in value: 0.4893333333333333. Current best value is 0.4773333333333334 with parameters: {'lr': 0.07727844290121257, 'num_leaves': 1, 'max_depth': 5, 'min_child_samples': 2, 'max_bin': 7}.\u001b[0m\n",
      "\u001b[32m[I 2020-07-27 14:24:53,866]\u001b[0m Finished trial#661 resulted in value: 0.504. Current best value is 0.4773333333333334 with parameters: {'lr': 0.07727844290121257, 'num_leaves': 1, 'max_depth': 5, 'min_child_samples': 2, 'max_bin': 7}.\u001b[0m\n",
      "\u001b[32m[I 2020-07-27 14:24:57,550]\u001b[0m Finished trial#662 resulted in value: 0.4853333333333333. Current best value is 0.4773333333333334 with parameters: {'lr': 0.07727844290121257, 'num_leaves': 1, 'max_depth': 5, 'min_child_samples': 2, 'max_bin': 7}.\u001b[0m\n",
      "\u001b[32m[I 2020-07-27 14:25:01,495]\u001b[0m Finished trial#663 resulted in value: 0.5133333333333333. Current best value is 0.4773333333333334 with parameters: {'lr': 0.07727844290121257, 'num_leaves': 1, 'max_depth': 5, 'min_child_samples': 2, 'max_bin': 7}.\u001b[0m\n",
      "\u001b[32m[I 2020-07-27 14:25:05,091]\u001b[0m Finished trial#664 resulted in value: 0.5053333333333334. Current best value is 0.4773333333333334 with parameters: {'lr': 0.07727844290121257, 'num_leaves': 1, 'max_depth': 5, 'min_child_samples': 2, 'max_bin': 7}.\u001b[0m\n",
      "\u001b[32m[I 2020-07-27 14:25:11,804]\u001b[0m Finished trial#665 resulted in value: 0.504. Current best value is 0.4773333333333334 with parameters: {'lr': 0.07727844290121257, 'num_leaves': 1, 'max_depth': 5, 'min_child_samples': 2, 'max_bin': 7}.\u001b[0m\n",
      "\u001b[32m[I 2020-07-27 14:25:16,898]\u001b[0m Finished trial#666 resulted in value: 0.5. Current best value is 0.4773333333333334 with parameters: {'lr': 0.07727844290121257, 'num_leaves': 1, 'max_depth': 5, 'min_child_samples': 2, 'max_bin': 7}.\u001b[0m\n",
      "\u001b[32m[I 2020-07-27 14:25:20,333]\u001b[0m Finished trial#667 resulted in value: 0.4906666666666667. Current best value is 0.4773333333333334 with parameters: {'lr': 0.07727844290121257, 'num_leaves': 1, 'max_depth': 5, 'min_child_samples': 2, 'max_bin': 7}.\u001b[0m\n",
      "\u001b[32m[I 2020-07-27 14:25:22,813]\u001b[0m Finished trial#668 resulted in value: 0.5133333333333333. Current best value is 0.4773333333333334 with parameters: {'lr': 0.07727844290121257, 'num_leaves': 1, 'max_depth': 5, 'min_child_samples': 2, 'max_bin': 7}.\u001b[0m\n",
      "\u001b[32m[I 2020-07-27 14:25:29,390]\u001b[0m Finished trial#669 resulted in value: 0.5093333333333334. Current best value is 0.4773333333333334 with parameters: {'lr': 0.07727844290121257, 'num_leaves': 1, 'max_depth': 5, 'min_child_samples': 2, 'max_bin': 7}.\u001b[0m\n",
      "\u001b[32m[I 2020-07-27 14:25:33,429]\u001b[0m Finished trial#670 resulted in value: 0.5026666666666666. Current best value is 0.4773333333333334 with parameters: {'lr': 0.07727844290121257, 'num_leaves': 1, 'max_depth': 5, 'min_child_samples': 2, 'max_bin': 7}.\u001b[0m\n",
      "\u001b[32m[I 2020-07-27 14:25:36,514]\u001b[0m Finished trial#671 resulted in value: 0.508. Current best value is 0.4773333333333334 with parameters: {'lr': 0.07727844290121257, 'num_leaves': 1, 'max_depth': 5, 'min_child_samples': 2, 'max_bin': 7}.\u001b[0m\n",
      "\u001b[32m[I 2020-07-27 14:25:40,545]\u001b[0m Finished trial#672 resulted in value: 0.508. Current best value is 0.4773333333333334 with parameters: {'lr': 0.07727844290121257, 'num_leaves': 1, 'max_depth': 5, 'min_child_samples': 2, 'max_bin': 7}.\u001b[0m\n",
      "\u001b[32m[I 2020-07-27 14:25:45,688]\u001b[0m Finished trial#673 resulted in value: 0.484. Current best value is 0.4773333333333334 with parameters: {'lr': 0.07727844290121257, 'num_leaves': 1, 'max_depth': 5, 'min_child_samples': 2, 'max_bin': 7}.\u001b[0m\n",
      "\u001b[32m[I 2020-07-27 14:25:50,112]\u001b[0m Finished trial#674 resulted in value: 0.4893333333333333. Current best value is 0.4773333333333334 with parameters: {'lr': 0.07727844290121257, 'num_leaves': 1, 'max_depth': 5, 'min_child_samples': 2, 'max_bin': 7}.\u001b[0m\n",
      "\u001b[32m[I 2020-07-27 14:25:56,174]\u001b[0m Finished trial#675 resulted in value: 0.4946666666666667. Current best value is 0.4773333333333334 with parameters: {'lr': 0.07727844290121257, 'num_leaves': 1, 'max_depth': 5, 'min_child_samples': 2, 'max_bin': 7}.\u001b[0m\n",
      "\u001b[32m[I 2020-07-27 14:26:01,030]\u001b[0m Finished trial#676 resulted in value: 0.516. Current best value is 0.4773333333333334 with parameters: {'lr': 0.07727844290121257, 'num_leaves': 1, 'max_depth': 5, 'min_child_samples': 2, 'max_bin': 7}.\u001b[0m\n",
      "\u001b[32m[I 2020-07-27 14:26:04,029]\u001b[0m Finished trial#677 resulted in value: 0.5106666666666666. Current best value is 0.4773333333333334 with parameters: {'lr': 0.07727844290121257, 'num_leaves': 1, 'max_depth': 5, 'min_child_samples': 2, 'max_bin': 7}.\u001b[0m\n",
      "\u001b[32m[I 2020-07-27 14:26:11,898]\u001b[0m Finished trial#678 resulted in value: 0.5213333333333333. Current best value is 0.4773333333333334 with parameters: {'lr': 0.07727844290121257, 'num_leaves': 1, 'max_depth': 5, 'min_child_samples': 2, 'max_bin': 7}.\u001b[0m\n",
      "\u001b[32m[I 2020-07-27 14:26:15,343]\u001b[0m Finished trial#679 resulted in value: 0.5066666666666666. Current best value is 0.4773333333333334 with parameters: {'lr': 0.07727844290121257, 'num_leaves': 1, 'max_depth': 5, 'min_child_samples': 2, 'max_bin': 7}.\u001b[0m\n",
      "\u001b[32m[I 2020-07-27 14:26:19,964]\u001b[0m Finished trial#680 resulted in value: 0.4986666666666667. Current best value is 0.4773333333333334 with parameters: {'lr': 0.07727844290121257, 'num_leaves': 1, 'max_depth': 5, 'min_child_samples': 2, 'max_bin': 7}.\u001b[0m\n",
      "\u001b[32m[I 2020-07-27 14:26:23,981]\u001b[0m Finished trial#681 resulted in value: 0.492. Current best value is 0.4773333333333334 with parameters: {'lr': 0.07727844290121257, 'num_leaves': 1, 'max_depth': 5, 'min_child_samples': 2, 'max_bin': 7}.\u001b[0m\n",
      "\u001b[32m[I 2020-07-27 14:26:28,352]\u001b[0m Finished trial#682 resulted in value: 0.4946666666666667. Current best value is 0.4773333333333334 with parameters: {'lr': 0.07727844290121257, 'num_leaves': 1, 'max_depth': 5, 'min_child_samples': 2, 'max_bin': 7}.\u001b[0m\n",
      "\u001b[32m[I 2020-07-27 14:26:31,633]\u001b[0m Finished trial#683 resulted in value: 0.4946666666666667. Current best value is 0.4773333333333334 with parameters: {'lr': 0.07727844290121257, 'num_leaves': 1, 'max_depth': 5, 'min_child_samples': 2, 'max_bin': 7}.\u001b[0m\n",
      "\u001b[32m[I 2020-07-27 14:26:35,129]\u001b[0m Finished trial#684 resulted in value: 0.5093333333333334. Current best value is 0.4773333333333334 with parameters: {'lr': 0.07727844290121257, 'num_leaves': 1, 'max_depth': 5, 'min_child_samples': 2, 'max_bin': 7}.\u001b[0m\n",
      "\u001b[32m[I 2020-07-27 14:26:38,666]\u001b[0m Finished trial#685 resulted in value: 0.4973333333333333. Current best value is 0.4773333333333334 with parameters: {'lr': 0.07727844290121257, 'num_leaves': 1, 'max_depth': 5, 'min_child_samples': 2, 'max_bin': 7}.\u001b[0m\n",
      "\u001b[32m[I 2020-07-27 14:26:43,152]\u001b[0m Finished trial#686 resulted in value: 0.4906666666666667. Current best value is 0.4773333333333334 with parameters: {'lr': 0.07727844290121257, 'num_leaves': 1, 'max_depth': 5, 'min_child_samples': 2, 'max_bin': 7}.\u001b[0m\n",
      "\u001b[32m[I 2020-07-27 14:26:47,340]\u001b[0m Finished trial#687 resulted in value: 0.488. Current best value is 0.4773333333333334 with parameters: {'lr': 0.07727844290121257, 'num_leaves': 1, 'max_depth': 5, 'min_child_samples': 2, 'max_bin': 7}.\u001b[0m\n",
      "\u001b[32m[I 2020-07-27 14:26:52,993]\u001b[0m Finished trial#688 resulted in value: 0.5173333333333333. Current best value is 0.4773333333333334 with parameters: {'lr': 0.07727844290121257, 'num_leaves': 1, 'max_depth': 5, 'min_child_samples': 2, 'max_bin': 7}.\u001b[0m\n",
      "\u001b[32m[I 2020-07-27 14:26:56,134]\u001b[0m Finished trial#689 resulted in value: 0.512. Current best value is 0.4773333333333334 with parameters: {'lr': 0.07727844290121257, 'num_leaves': 1, 'max_depth': 5, 'min_child_samples': 2, 'max_bin': 7}.\u001b[0m\n",
      "\u001b[32m[I 2020-07-27 14:27:00,222]\u001b[0m Finished trial#690 resulted in value: 0.4946666666666667. Current best value is 0.4773333333333334 with parameters: {'lr': 0.07727844290121257, 'num_leaves': 1, 'max_depth': 5, 'min_child_samples': 2, 'max_bin': 7}.\u001b[0m\n",
      "\u001b[32m[I 2020-07-27 14:27:06,355]\u001b[0m Finished trial#691 resulted in value: 0.4906666666666667. Current best value is 0.4773333333333334 with parameters: {'lr': 0.07727844290121257, 'num_leaves': 1, 'max_depth': 5, 'min_child_samples': 2, 'max_bin': 7}.\u001b[0m\n",
      "\u001b[32m[I 2020-07-27 14:27:09,586]\u001b[0m Finished trial#692 resulted in value: 0.5093333333333334. Current best value is 0.4773333333333334 with parameters: {'lr': 0.07727844290121257, 'num_leaves': 1, 'max_depth': 5, 'min_child_samples': 2, 'max_bin': 7}.\u001b[0m\n",
      "\u001b[32m[I 2020-07-27 14:27:15,196]\u001b[0m Finished trial#693 resulted in value: 0.5213333333333333. Current best value is 0.4773333333333334 with parameters: {'lr': 0.07727844290121257, 'num_leaves': 1, 'max_depth': 5, 'min_child_samples': 2, 'max_bin': 7}.\u001b[0m\n",
      "\u001b[32m[I 2020-07-27 14:27:19,076]\u001b[0m Finished trial#694 resulted in value: 0.4973333333333333. Current best value is 0.4773333333333334 with parameters: {'lr': 0.07727844290121257, 'num_leaves': 1, 'max_depth': 5, 'min_child_samples': 2, 'max_bin': 7}.\u001b[0m\n",
      "\u001b[32m[I 2020-07-27 14:27:23,469]\u001b[0m Finished trial#695 resulted in value: 0.5026666666666666. Current best value is 0.4773333333333334 with parameters: {'lr': 0.07727844290121257, 'num_leaves': 1, 'max_depth': 5, 'min_child_samples': 2, 'max_bin': 7}.\u001b[0m\n",
      "\u001b[32m[I 2020-07-27 14:27:29,570]\u001b[0m Finished trial#696 resulted in value: 0.5013333333333334. Current best value is 0.4773333333333334 with parameters: {'lr': 0.07727844290121257, 'num_leaves': 1, 'max_depth': 5, 'min_child_samples': 2, 'max_bin': 7}.\u001b[0m\n",
      "\u001b[32m[I 2020-07-27 14:27:32,296]\u001b[0m Finished trial#697 resulted in value: 0.484. Current best value is 0.4773333333333334 with parameters: {'lr': 0.07727844290121257, 'num_leaves': 1, 'max_depth': 5, 'min_child_samples': 2, 'max_bin': 7}.\u001b[0m\n",
      "\u001b[32m[I 2020-07-27 14:27:35,057]\u001b[0m Finished trial#698 resulted in value: 0.5. Current best value is 0.4773333333333334 with parameters: {'lr': 0.07727844290121257, 'num_leaves': 1, 'max_depth': 5, 'min_child_samples': 2, 'max_bin': 7}.\u001b[0m\n",
      "\u001b[32m[I 2020-07-27 14:27:39,138]\u001b[0m Finished trial#699 resulted in value: 0.484. Current best value is 0.4773333333333334 with parameters: {'lr': 0.07727844290121257, 'num_leaves': 1, 'max_depth': 5, 'min_child_samples': 2, 'max_bin': 7}.\u001b[0m\n",
      "\u001b[32m[I 2020-07-27 14:27:42,272]\u001b[0m Finished trial#700 resulted in value: 0.516. Current best value is 0.4773333333333334 with parameters: {'lr': 0.07727844290121257, 'num_leaves': 1, 'max_depth': 5, 'min_child_samples': 2, 'max_bin': 7}.\u001b[0m\n",
      "\u001b[32m[I 2020-07-27 14:27:44,528]\u001b[0m Finished trial#701 resulted in value: 0.512. Current best value is 0.4773333333333334 with parameters: {'lr': 0.07727844290121257, 'num_leaves': 1, 'max_depth': 5, 'min_child_samples': 2, 'max_bin': 7}.\u001b[0m\n",
      "\u001b[32m[I 2020-07-27 14:27:47,090]\u001b[0m Finished trial#702 resulted in value: 0.5. Current best value is 0.4773333333333334 with parameters: {'lr': 0.07727844290121257, 'num_leaves': 1, 'max_depth': 5, 'min_child_samples': 2, 'max_bin': 7}.\u001b[0m\n",
      "\u001b[32m[I 2020-07-27 14:27:49,650]\u001b[0m Finished trial#703 resulted in value: 0.5013333333333334. Current best value is 0.4773333333333334 with parameters: {'lr': 0.07727844290121257, 'num_leaves': 1, 'max_depth': 5, 'min_child_samples': 2, 'max_bin': 7}.\u001b[0m\n",
      "\u001b[32m[I 2020-07-27 14:27:53,248]\u001b[0m Finished trial#704 resulted in value: 0.5066666666666666. Current best value is 0.4773333333333334 with parameters: {'lr': 0.07727844290121257, 'num_leaves': 1, 'max_depth': 5, 'min_child_samples': 2, 'max_bin': 7}.\u001b[0m\n",
      "\u001b[32m[I 2020-07-27 14:27:55,337]\u001b[0m Finished trial#705 resulted in value: 0.5093333333333334. Current best value is 0.4773333333333334 with parameters: {'lr': 0.07727844290121257, 'num_leaves': 1, 'max_depth': 5, 'min_child_samples': 2, 'max_bin': 7}.\u001b[0m\n",
      "\u001b[32m[I 2020-07-27 14:27:58,723]\u001b[0m Finished trial#706 resulted in value: 0.488. Current best value is 0.4773333333333334 with parameters: {'lr': 0.07727844290121257, 'num_leaves': 1, 'max_depth': 5, 'min_child_samples': 2, 'max_bin': 7}.\u001b[0m\n",
      "\u001b[32m[I 2020-07-27 14:28:03,281]\u001b[0m Finished trial#707 resulted in value: 0.4893333333333333. Current best value is 0.4773333333333334 with parameters: {'lr': 0.07727844290121257, 'num_leaves': 1, 'max_depth': 5, 'min_child_samples': 2, 'max_bin': 7}.\u001b[0m\n",
      "\u001b[32m[I 2020-07-27 14:28:05,790]\u001b[0m Finished trial#708 resulted in value: 0.512. Current best value is 0.4773333333333334 with parameters: {'lr': 0.07727844290121257, 'num_leaves': 1, 'max_depth': 5, 'min_child_samples': 2, 'max_bin': 7}.\u001b[0m\n",
      "\u001b[32m[I 2020-07-27 14:28:08,609]\u001b[0m Finished trial#709 resulted in value: 0.5186666666666666. Current best value is 0.4773333333333334 with parameters: {'lr': 0.07727844290121257, 'num_leaves': 1, 'max_depth': 5, 'min_child_samples': 2, 'max_bin': 7}.\u001b[0m\n",
      "\u001b[32m[I 2020-07-27 14:28:12,132]\u001b[0m Finished trial#710 resulted in value: 0.496. Current best value is 0.4773333333333334 with parameters: {'lr': 0.07727844290121257, 'num_leaves': 1, 'max_depth': 5, 'min_child_samples': 2, 'max_bin': 7}.\u001b[0m\n",
      "\u001b[32m[I 2020-07-27 14:28:14,909]\u001b[0m Finished trial#711 resulted in value: 0.4933333333333333. Current best value is 0.4773333333333334 with parameters: {'lr': 0.07727844290121257, 'num_leaves': 1, 'max_depth': 5, 'min_child_samples': 2, 'max_bin': 7}.\u001b[0m\n",
      "\u001b[32m[I 2020-07-27 14:28:17,647]\u001b[0m Finished trial#712 resulted in value: 0.5026666666666666. Current best value is 0.4773333333333334 with parameters: {'lr': 0.07727844290121257, 'num_leaves': 1, 'max_depth': 5, 'min_child_samples': 2, 'max_bin': 7}.\u001b[0m\n",
      "\u001b[32m[I 2020-07-27 14:28:21,776]\u001b[0m Finished trial#713 resulted in value: 0.4906666666666667. Current best value is 0.4773333333333334 with parameters: {'lr': 0.07727844290121257, 'num_leaves': 1, 'max_depth': 5, 'min_child_samples': 2, 'max_bin': 7}.\u001b[0m\n",
      "\u001b[32m[I 2020-07-27 14:28:26,464]\u001b[0m Finished trial#714 resulted in value: 0.504. Current best value is 0.4773333333333334 with parameters: {'lr': 0.07727844290121257, 'num_leaves': 1, 'max_depth': 5, 'min_child_samples': 2, 'max_bin': 7}.\u001b[0m\n",
      "\u001b[32m[I 2020-07-27 14:28:28,867]\u001b[0m Finished trial#715 resulted in value: 0.4986666666666667. Current best value is 0.4773333333333334 with parameters: {'lr': 0.07727844290121257, 'num_leaves': 1, 'max_depth': 5, 'min_child_samples': 2, 'max_bin': 7}.\u001b[0m\n",
      "\u001b[32m[I 2020-07-27 14:28:32,687]\u001b[0m Finished trial#716 resulted in value: 0.5066666666666666. Current best value is 0.4773333333333334 with parameters: {'lr': 0.07727844290121257, 'num_leaves': 1, 'max_depth': 5, 'min_child_samples': 2, 'max_bin': 7}.\u001b[0m\n",
      "\u001b[32m[I 2020-07-27 14:28:36,284]\u001b[0m Finished trial#717 resulted in value: 0.5. Current best value is 0.4773333333333334 with parameters: {'lr': 0.07727844290121257, 'num_leaves': 1, 'max_depth': 5, 'min_child_samples': 2, 'max_bin': 7}.\u001b[0m\n",
      "\u001b[32m[I 2020-07-27 14:28:43,754]\u001b[0m Finished trial#718 resulted in value: 0.5253333333333333. Current best value is 0.4773333333333334 with parameters: {'lr': 0.07727844290121257, 'num_leaves': 1, 'max_depth': 5, 'min_child_samples': 2, 'max_bin': 7}.\u001b[0m\n",
      "\u001b[32m[I 2020-07-27 14:28:47,088]\u001b[0m Finished trial#719 resulted in value: 0.5. Current best value is 0.4773333333333334 with parameters: {'lr': 0.07727844290121257, 'num_leaves': 1, 'max_depth': 5, 'min_child_samples': 2, 'max_bin': 7}.\u001b[0m\n",
      "\u001b[32m[I 2020-07-27 14:28:51,676]\u001b[0m Finished trial#720 resulted in value: 0.5066666666666666. Current best value is 0.4773333333333334 with parameters: {'lr': 0.07727844290121257, 'num_leaves': 1, 'max_depth': 5, 'min_child_samples': 2, 'max_bin': 7}.\u001b[0m\n",
      "\u001b[32m[I 2020-07-27 14:28:59,885]\u001b[0m Finished trial#721 resulted in value: 0.5186666666666666. Current best value is 0.4773333333333334 with parameters: {'lr': 0.07727844290121257, 'num_leaves': 1, 'max_depth': 5, 'min_child_samples': 2, 'max_bin': 7}.\u001b[0m\n",
      "\u001b[32m[I 2020-07-27 14:29:03,502]\u001b[0m Finished trial#722 resulted in value: 0.5013333333333334. Current best value is 0.4773333333333334 with parameters: {'lr': 0.07727844290121257, 'num_leaves': 1, 'max_depth': 5, 'min_child_samples': 2, 'max_bin': 7}.\u001b[0m\n",
      "\u001b[32m[I 2020-07-27 14:29:07,702]\u001b[0m Finished trial#723 resulted in value: 0.4933333333333333. Current best value is 0.4773333333333334 with parameters: {'lr': 0.07727844290121257, 'num_leaves': 1, 'max_depth': 5, 'min_child_samples': 2, 'max_bin': 7}.\u001b[0m\n",
      "\u001b[32m[I 2020-07-27 14:29:10,042]\u001b[0m Finished trial#724 resulted in value: 0.5013333333333334. Current best value is 0.4773333333333334 with parameters: {'lr': 0.07727844290121257, 'num_leaves': 1, 'max_depth': 5, 'min_child_samples': 2, 'max_bin': 7}.\u001b[0m\n",
      "\u001b[32m[I 2020-07-27 14:29:12,861]\u001b[0m Finished trial#725 resulted in value: 0.4986666666666667. Current best value is 0.4773333333333334 with parameters: {'lr': 0.07727844290121257, 'num_leaves': 1, 'max_depth': 5, 'min_child_samples': 2, 'max_bin': 7}.\u001b[0m\n",
      "\u001b[32m[I 2020-07-27 14:29:16,710]\u001b[0m Finished trial#726 resulted in value: 0.5. Current best value is 0.4773333333333334 with parameters: {'lr': 0.07727844290121257, 'num_leaves': 1, 'max_depth': 5, 'min_child_samples': 2, 'max_bin': 7}.\u001b[0m\n",
      "\u001b[32m[I 2020-07-27 14:29:20,986]\u001b[0m Finished trial#727 resulted in value: 0.5053333333333334. Current best value is 0.4773333333333334 with parameters: {'lr': 0.07727844290121257, 'num_leaves': 1, 'max_depth': 5, 'min_child_samples': 2, 'max_bin': 7}.\u001b[0m\n",
      "\u001b[32m[I 2020-07-27 14:29:25,915]\u001b[0m Finished trial#728 resulted in value: 0.496. Current best value is 0.4773333333333334 with parameters: {'lr': 0.07727844290121257, 'num_leaves': 1, 'max_depth': 5, 'min_child_samples': 2, 'max_bin': 7}.\u001b[0m\n",
      "\u001b[32m[I 2020-07-27 14:29:30,235]\u001b[0m Finished trial#729 resulted in value: 0.4946666666666667. Current best value is 0.4773333333333334 with parameters: {'lr': 0.07727844290121257, 'num_leaves': 1, 'max_depth': 5, 'min_child_samples': 2, 'max_bin': 7}.\u001b[0m\n",
      "\u001b[32m[I 2020-07-27 14:29:33,461]\u001b[0m Finished trial#730 resulted in value: 0.5053333333333334. Current best value is 0.4773333333333334 with parameters: {'lr': 0.07727844290121257, 'num_leaves': 1, 'max_depth': 5, 'min_child_samples': 2, 'max_bin': 7}.\u001b[0m\n",
      "\u001b[32m[I 2020-07-27 14:29:36,720]\u001b[0m Finished trial#731 resulted in value: 0.5093333333333334. Current best value is 0.4773333333333334 with parameters: {'lr': 0.07727844290121257, 'num_leaves': 1, 'max_depth': 5, 'min_child_samples': 2, 'max_bin': 7}.\u001b[0m\n",
      "\u001b[32m[I 2020-07-27 14:29:39,606]\u001b[0m Finished trial#732 resulted in value: 0.5053333333333334. Current best value is 0.4773333333333334 with parameters: {'lr': 0.07727844290121257, 'num_leaves': 1, 'max_depth': 5, 'min_child_samples': 2, 'max_bin': 7}.\u001b[0m\n",
      "\u001b[32m[I 2020-07-27 14:29:42,409]\u001b[0m Finished trial#733 resulted in value: 0.4893333333333333. Current best value is 0.4773333333333334 with parameters: {'lr': 0.07727844290121257, 'num_leaves': 1, 'max_depth': 5, 'min_child_samples': 2, 'max_bin': 7}.\u001b[0m\n",
      "\u001b[32m[I 2020-07-27 14:29:47,423]\u001b[0m Finished trial#734 resulted in value: 0.4946666666666667. Current best value is 0.4773333333333334 with parameters: {'lr': 0.07727844290121257, 'num_leaves': 1, 'max_depth': 5, 'min_child_samples': 2, 'max_bin': 7}.\u001b[0m\n",
      "\u001b[32m[I 2020-07-27 14:29:51,542]\u001b[0m Finished trial#735 resulted in value: 0.4933333333333333. Current best value is 0.4773333333333334 with parameters: {'lr': 0.07727844290121257, 'num_leaves': 1, 'max_depth': 5, 'min_child_samples': 2, 'max_bin': 7}.\u001b[0m\n",
      "\u001b[32m[I 2020-07-27 14:29:54,756]\u001b[0m Finished trial#736 resulted in value: 0.4946666666666667. Current best value is 0.4773333333333334 with parameters: {'lr': 0.07727844290121257, 'num_leaves': 1, 'max_depth': 5, 'min_child_samples': 2, 'max_bin': 7}.\u001b[0m\n",
      "\u001b[32m[I 2020-07-27 14:29:59,365]\u001b[0m Finished trial#737 resulted in value: 0.4866666666666667. Current best value is 0.4773333333333334 with parameters: {'lr': 0.07727844290121257, 'num_leaves': 1, 'max_depth': 5, 'min_child_samples': 2, 'max_bin': 7}.\u001b[0m\n",
      "\u001b[32m[I 2020-07-27 14:30:05,000]\u001b[0m Finished trial#738 resulted in value: 0.512. Current best value is 0.4773333333333334 with parameters: {'lr': 0.07727844290121257, 'num_leaves': 1, 'max_depth': 5, 'min_child_samples': 2, 'max_bin': 7}.\u001b[0m\n",
      "\u001b[32m[I 2020-07-27 14:30:09,434]\u001b[0m Finished trial#739 resulted in value: 0.488. Current best value is 0.4773333333333334 with parameters: {'lr': 0.07727844290121257, 'num_leaves': 1, 'max_depth': 5, 'min_child_samples': 2, 'max_bin': 7}.\u001b[0m\n",
      "\u001b[32m[I 2020-07-27 14:30:13,323]\u001b[0m Finished trial#740 resulted in value: 0.5013333333333334. Current best value is 0.4773333333333334 with parameters: {'lr': 0.07727844290121257, 'num_leaves': 1, 'max_depth': 5, 'min_child_samples': 2, 'max_bin': 7}.\u001b[0m\n",
      "\u001b[32m[I 2020-07-27 14:30:17,538]\u001b[0m Finished trial#741 resulted in value: 0.5053333333333334. Current best value is 0.4773333333333334 with parameters: {'lr': 0.07727844290121257, 'num_leaves': 1, 'max_depth': 5, 'min_child_samples': 2, 'max_bin': 7}.\u001b[0m\n",
      "\u001b[32m[I 2020-07-27 14:30:21,563]\u001b[0m Finished trial#742 resulted in value: 0.496. Current best value is 0.4773333333333334 with parameters: {'lr': 0.07727844290121257, 'num_leaves': 1, 'max_depth': 5, 'min_child_samples': 2, 'max_bin': 7}.\u001b[0m\n",
      "\u001b[32m[I 2020-07-27 14:30:25,488]\u001b[0m Finished trial#743 resulted in value: 0.5053333333333334. Current best value is 0.4773333333333334 with parameters: {'lr': 0.07727844290121257, 'num_leaves': 1, 'max_depth': 5, 'min_child_samples': 2, 'max_bin': 7}.\u001b[0m\n",
      "\u001b[32m[I 2020-07-27 14:30:28,963]\u001b[0m Finished trial#744 resulted in value: 0.496. Current best value is 0.4773333333333334 with parameters: {'lr': 0.07727844290121257, 'num_leaves': 1, 'max_depth': 5, 'min_child_samples': 2, 'max_bin': 7}.\u001b[0m\n",
      "\u001b[32m[I 2020-07-27 14:30:31,871]\u001b[0m Finished trial#745 resulted in value: 0.4946666666666667. Current best value is 0.4773333333333334 with parameters: {'lr': 0.07727844290121257, 'num_leaves': 1, 'max_depth': 5, 'min_child_samples': 2, 'max_bin': 7}.\u001b[0m\n",
      "\u001b[32m[I 2020-07-27 14:30:35,874]\u001b[0m Finished trial#746 resulted in value: 0.5026666666666666. Current best value is 0.4773333333333334 with parameters: {'lr': 0.07727844290121257, 'num_leaves': 1, 'max_depth': 5, 'min_child_samples': 2, 'max_bin': 7}.\u001b[0m\n",
      "\u001b[32m[I 2020-07-27 14:30:39,363]\u001b[0m Finished trial#747 resulted in value: 0.5066666666666666. Current best value is 0.4773333333333334 with parameters: {'lr': 0.07727844290121257, 'num_leaves': 1, 'max_depth': 5, 'min_child_samples': 2, 'max_bin': 7}.\u001b[0m\n",
      "\u001b[32m[I 2020-07-27 14:30:43,676]\u001b[0m Finished trial#748 resulted in value: 0.5093333333333334. Current best value is 0.4773333333333334 with parameters: {'lr': 0.07727844290121257, 'num_leaves': 1, 'max_depth': 5, 'min_child_samples': 2, 'max_bin': 7}.\u001b[0m\n",
      "\u001b[32m[I 2020-07-27 14:30:47,453]\u001b[0m Finished trial#749 resulted in value: 0.4813333333333333. Current best value is 0.4773333333333334 with parameters: {'lr': 0.07727844290121257, 'num_leaves': 1, 'max_depth': 5, 'min_child_samples': 2, 'max_bin': 7}.\u001b[0m\n",
      "\u001b[32m[I 2020-07-27 14:30:50,477]\u001b[0m Finished trial#750 resulted in value: 0.4986666666666667. Current best value is 0.4773333333333334 with parameters: {'lr': 0.07727844290121257, 'num_leaves': 1, 'max_depth': 5, 'min_child_samples': 2, 'max_bin': 7}.\u001b[0m\n",
      "\u001b[32m[I 2020-07-27 14:30:53,464]\u001b[0m Finished trial#751 resulted in value: 0.4933333333333333. Current best value is 0.4773333333333334 with parameters: {'lr': 0.07727844290121257, 'num_leaves': 1, 'max_depth': 5, 'min_child_samples': 2, 'max_bin': 7}.\u001b[0m\n",
      "\u001b[32m[I 2020-07-27 14:30:58,102]\u001b[0m Finished trial#752 resulted in value: 0.4893333333333333. Current best value is 0.4773333333333334 with parameters: {'lr': 0.07727844290121257, 'num_leaves': 1, 'max_depth': 5, 'min_child_samples': 2, 'max_bin': 7}.\u001b[0m\n",
      "\u001b[32m[I 2020-07-27 14:31:01,428]\u001b[0m Finished trial#753 resulted in value: 0.5026666666666666. Current best value is 0.4773333333333334 with parameters: {'lr': 0.07727844290121257, 'num_leaves': 1, 'max_depth': 5, 'min_child_samples': 2, 'max_bin': 7}.\u001b[0m\n",
      "\u001b[32m[I 2020-07-27 14:31:05,177]\u001b[0m Finished trial#754 resulted in value: 0.5066666666666666. Current best value is 0.4773333333333334 with parameters: {'lr': 0.07727844290121257, 'num_leaves': 1, 'max_depth': 5, 'min_child_samples': 2, 'max_bin': 7}.\u001b[0m\n",
      "\u001b[32m[I 2020-07-27 14:31:11,249]\u001b[0m Finished trial#755 resulted in value: 0.5026666666666666. Current best value is 0.4773333333333334 with parameters: {'lr': 0.07727844290121257, 'num_leaves': 1, 'max_depth': 5, 'min_child_samples': 2, 'max_bin': 7}.\u001b[0m\n",
      "\u001b[32m[I 2020-07-27 14:31:13,937]\u001b[0m Finished trial#756 resulted in value: 0.488. Current best value is 0.4773333333333334 with parameters: {'lr': 0.07727844290121257, 'num_leaves': 1, 'max_depth': 5, 'min_child_samples': 2, 'max_bin': 7}.\u001b[0m\n",
      "\u001b[32m[I 2020-07-27 14:31:17,371]\u001b[0m Finished trial#757 resulted in value: 0.4866666666666667. Current best value is 0.4773333333333334 with parameters: {'lr': 0.07727844290121257, 'num_leaves': 1, 'max_depth': 5, 'min_child_samples': 2, 'max_bin': 7}.\u001b[0m\n",
      "\u001b[32m[I 2020-07-27 14:31:20,589]\u001b[0m Finished trial#758 resulted in value: 0.5146666666666666. Current best value is 0.4773333333333334 with parameters: {'lr': 0.07727844290121257, 'num_leaves': 1, 'max_depth': 5, 'min_child_samples': 2, 'max_bin': 7}.\u001b[0m\n",
      "\u001b[32m[I 2020-07-27 14:31:23,729]\u001b[0m Finished trial#759 resulted in value: 0.4973333333333333. Current best value is 0.4773333333333334 with parameters: {'lr': 0.07727844290121257, 'num_leaves': 1, 'max_depth': 5, 'min_child_samples': 2, 'max_bin': 7}.\u001b[0m\n",
      "\u001b[32m[I 2020-07-27 14:31:28,033]\u001b[0m Finished trial#760 resulted in value: 0.4906666666666667. Current best value is 0.4773333333333334 with parameters: {'lr': 0.07727844290121257, 'num_leaves': 1, 'max_depth': 5, 'min_child_samples': 2, 'max_bin': 7}.\u001b[0m\n",
      "\u001b[32m[I 2020-07-27 14:31:35,864]\u001b[0m Finished trial#761 resulted in value: 0.5293333333333333. Current best value is 0.4773333333333334 with parameters: {'lr': 0.07727844290121257, 'num_leaves': 1, 'max_depth': 5, 'min_child_samples': 2, 'max_bin': 7}.\u001b[0m\n",
      "\u001b[32m[I 2020-07-27 14:31:40,445]\u001b[0m Finished trial#762 resulted in value: 0.4973333333333333. Current best value is 0.4773333333333334 with parameters: {'lr': 0.07727844290121257, 'num_leaves': 1, 'max_depth': 5, 'min_child_samples': 2, 'max_bin': 7}.\u001b[0m\n",
      "\u001b[32m[I 2020-07-27 14:31:44,363]\u001b[0m Finished trial#763 resulted in value: 0.5013333333333334. Current best value is 0.4773333333333334 with parameters: {'lr': 0.07727844290121257, 'num_leaves': 1, 'max_depth': 5, 'min_child_samples': 2, 'max_bin': 7}.\u001b[0m\n",
      "\u001b[32m[I 2020-07-27 14:31:50,199]\u001b[0m Finished trial#764 resulted in value: 0.4893333333333333. Current best value is 0.4773333333333334 with parameters: {'lr': 0.07727844290121257, 'num_leaves': 1, 'max_depth': 5, 'min_child_samples': 2, 'max_bin': 7}.\u001b[0m\n",
      "\u001b[32m[I 2020-07-27 14:31:53,769]\u001b[0m Finished trial#765 resulted in value: 0.4946666666666667. Current best value is 0.4773333333333334 with parameters: {'lr': 0.07727844290121257, 'num_leaves': 1, 'max_depth': 5, 'min_child_samples': 2, 'max_bin': 7}.\u001b[0m\n",
      "\u001b[32m[I 2020-07-27 14:31:57,837]\u001b[0m Finished trial#766 resulted in value: 0.4973333333333333. Current best value is 0.4773333333333334 with parameters: {'lr': 0.07727844290121257, 'num_leaves': 1, 'max_depth': 5, 'min_child_samples': 2, 'max_bin': 7}.\u001b[0m\n",
      "\u001b[32m[I 2020-07-27 14:32:01,642]\u001b[0m Finished trial#767 resulted in value: 0.492. Current best value is 0.4773333333333334 with parameters: {'lr': 0.07727844290121257, 'num_leaves': 1, 'max_depth': 5, 'min_child_samples': 2, 'max_bin': 7}.\u001b[0m\n",
      "\u001b[32m[I 2020-07-27 14:32:06,795]\u001b[0m Finished trial#768 resulted in value: 0.496. Current best value is 0.4773333333333334 with parameters: {'lr': 0.07727844290121257, 'num_leaves': 1, 'max_depth': 5, 'min_child_samples': 2, 'max_bin': 7}.\u001b[0m\n",
      "\u001b[32m[I 2020-07-27 14:32:11,076]\u001b[0m Finished trial#769 resulted in value: 0.5013333333333334. Current best value is 0.4773333333333334 with parameters: {'lr': 0.07727844290121257, 'num_leaves': 1, 'max_depth': 5, 'min_child_samples': 2, 'max_bin': 7}.\u001b[0m\n",
      "\u001b[32m[I 2020-07-27 14:32:15,810]\u001b[0m Finished trial#770 resulted in value: 0.4973333333333333. Current best value is 0.4773333333333334 with parameters: {'lr': 0.07727844290121257, 'num_leaves': 1, 'max_depth': 5, 'min_child_samples': 2, 'max_bin': 7}.\u001b[0m\n",
      "\u001b[32m[I 2020-07-27 14:32:20,127]\u001b[0m Finished trial#771 resulted in value: 0.508. Current best value is 0.4773333333333334 with parameters: {'lr': 0.07727844290121257, 'num_leaves': 1, 'max_depth': 5, 'min_child_samples': 2, 'max_bin': 7}.\u001b[0m\n",
      "\u001b[32m[I 2020-07-27 14:32:24,596]\u001b[0m Finished trial#772 resulted in value: 0.4973333333333333. Current best value is 0.4773333333333334 with parameters: {'lr': 0.07727844290121257, 'num_leaves': 1, 'max_depth': 5, 'min_child_samples': 2, 'max_bin': 7}.\u001b[0m\n",
      "\u001b[32m[I 2020-07-27 14:32:28,677]\u001b[0m Finished trial#773 resulted in value: 0.5. Current best value is 0.4773333333333334 with parameters: {'lr': 0.07727844290121257, 'num_leaves': 1, 'max_depth': 5, 'min_child_samples': 2, 'max_bin': 7}.\u001b[0m\n",
      "\u001b[32m[I 2020-07-27 14:32:31,994]\u001b[0m Finished trial#774 resulted in value: 0.504. Current best value is 0.4773333333333334 with parameters: {'lr': 0.07727844290121257, 'num_leaves': 1, 'max_depth': 5, 'min_child_samples': 2, 'max_bin': 7}.\u001b[0m\n",
      "\u001b[32m[I 2020-07-27 14:32:35,615]\u001b[0m Finished trial#775 resulted in value: 0.5026666666666666. Current best value is 0.4773333333333334 with parameters: {'lr': 0.07727844290121257, 'num_leaves': 1, 'max_depth': 5, 'min_child_samples': 2, 'max_bin': 7}.\u001b[0m\n",
      "\u001b[32m[I 2020-07-27 14:32:38,975]\u001b[0m Finished trial#776 resulted in value: 0.5026666666666666. Current best value is 0.4773333333333334 with parameters: {'lr': 0.07727844290121257, 'num_leaves': 1, 'max_depth': 5, 'min_child_samples': 2, 'max_bin': 7}.\u001b[0m\n",
      "\u001b[32m[I 2020-07-27 14:32:43,992]\u001b[0m Finished trial#777 resulted in value: 0.492. Current best value is 0.4773333333333334 with parameters: {'lr': 0.07727844290121257, 'num_leaves': 1, 'max_depth': 5, 'min_child_samples': 2, 'max_bin': 7}.\u001b[0m\n",
      "\u001b[32m[I 2020-07-27 14:32:45,909]\u001b[0m Finished trial#778 resulted in value: 0.5026666666666666. Current best value is 0.4773333333333334 with parameters: {'lr': 0.07727844290121257, 'num_leaves': 1, 'max_depth': 5, 'min_child_samples': 2, 'max_bin': 7}.\u001b[0m\n",
      "\u001b[32m[I 2020-07-27 14:32:50,077]\u001b[0m Finished trial#779 resulted in value: 0.496. Current best value is 0.4773333333333334 with parameters: {'lr': 0.07727844290121257, 'num_leaves': 1, 'max_depth': 5, 'min_child_samples': 2, 'max_bin': 7}.\u001b[0m\n",
      "\u001b[32m[I 2020-07-27 14:32:54,288]\u001b[0m Finished trial#780 resulted in value: 0.4946666666666667. Current best value is 0.4773333333333334 with parameters: {'lr': 0.07727844290121257, 'num_leaves': 1, 'max_depth': 5, 'min_child_samples': 2, 'max_bin': 7}.\u001b[0m\n",
      "\u001b[32m[I 2020-07-27 14:32:57,236]\u001b[0m Finished trial#781 resulted in value: 0.5013333333333334. Current best value is 0.4773333333333334 with parameters: {'lr': 0.07727844290121257, 'num_leaves': 1, 'max_depth': 5, 'min_child_samples': 2, 'max_bin': 7}.\u001b[0m\n",
      "\u001b[32m[I 2020-07-27 14:33:01,979]\u001b[0m Finished trial#782 resulted in value: 0.488. Current best value is 0.4773333333333334 with parameters: {'lr': 0.07727844290121257, 'num_leaves': 1, 'max_depth': 5, 'min_child_samples': 2, 'max_bin': 7}.\u001b[0m\n",
      "\u001b[32m[I 2020-07-27 14:33:06,260]\u001b[0m Finished trial#783 resulted in value: 0.492. Current best value is 0.4773333333333334 with parameters: {'lr': 0.07727844290121257, 'num_leaves': 1, 'max_depth': 5, 'min_child_samples': 2, 'max_bin': 7}.\u001b[0m\n",
      "\u001b[32m[I 2020-07-27 14:33:09,555]\u001b[0m Finished trial#784 resulted in value: 0.52. Current best value is 0.4773333333333334 with parameters: {'lr': 0.07727844290121257, 'num_leaves': 1, 'max_depth': 5, 'min_child_samples': 2, 'max_bin': 7}.\u001b[0m\n",
      "\u001b[32m[I 2020-07-27 14:33:13,089]\u001b[0m Finished trial#785 resulted in value: 0.4906666666666667. Current best value is 0.4773333333333334 with parameters: {'lr': 0.07727844290121257, 'num_leaves': 1, 'max_depth': 5, 'min_child_samples': 2, 'max_bin': 7}.\u001b[0m\n",
      "\u001b[32m[I 2020-07-27 14:33:15,178]\u001b[0m Finished trial#786 resulted in value: 0.52. Current best value is 0.4773333333333334 with parameters: {'lr': 0.07727844290121257, 'num_leaves': 1, 'max_depth': 5, 'min_child_samples': 2, 'max_bin': 7}.\u001b[0m\n",
      "\u001b[32m[I 2020-07-27 14:33:18,708]\u001b[0m Finished trial#787 resulted in value: 0.5013333333333334. Current best value is 0.4773333333333334 with parameters: {'lr': 0.07727844290121257, 'num_leaves': 1, 'max_depth': 5, 'min_child_samples': 2, 'max_bin': 7}.\u001b[0m\n",
      "\u001b[32m[I 2020-07-27 14:33:23,972]\u001b[0m Finished trial#788 resulted in value: 0.4853333333333333. Current best value is 0.4773333333333334 with parameters: {'lr': 0.07727844290121257, 'num_leaves': 1, 'max_depth': 5, 'min_child_samples': 2, 'max_bin': 7}.\u001b[0m\n",
      "\u001b[32m[I 2020-07-27 14:33:27,913]\u001b[0m Finished trial#789 resulted in value: 0.496. Current best value is 0.4773333333333334 with parameters: {'lr': 0.07727844290121257, 'num_leaves': 1, 'max_depth': 5, 'min_child_samples': 2, 'max_bin': 7}.\u001b[0m\n",
      "\u001b[32m[I 2020-07-27 14:33:31,371]\u001b[0m Finished trial#790 resulted in value: 0.4986666666666667. Current best value is 0.4773333333333334 with parameters: {'lr': 0.07727844290121257, 'num_leaves': 1, 'max_depth': 5, 'min_child_samples': 2, 'max_bin': 7}.\u001b[0m\n",
      "\u001b[32m[I 2020-07-27 14:33:34,819]\u001b[0m Finished trial#791 resulted in value: 0.4933333333333333. Current best value is 0.4773333333333334 with parameters: {'lr': 0.07727844290121257, 'num_leaves': 1, 'max_depth': 5, 'min_child_samples': 2, 'max_bin': 7}.\u001b[0m\n",
      "\u001b[32m[I 2020-07-27 14:33:38,239]\u001b[0m Finished trial#792 resulted in value: 0.5026666666666666. Current best value is 0.4773333333333334 with parameters: {'lr': 0.07727844290121257, 'num_leaves': 1, 'max_depth': 5, 'min_child_samples': 2, 'max_bin': 7}.\u001b[0m\n",
      "\u001b[32m[I 2020-07-27 14:33:42,520]\u001b[0m Finished trial#793 resulted in value: 0.4853333333333333. Current best value is 0.4773333333333334 with parameters: {'lr': 0.07727844290121257, 'num_leaves': 1, 'max_depth': 5, 'min_child_samples': 2, 'max_bin': 7}.\u001b[0m\n",
      "\u001b[32m[I 2020-07-27 14:33:46,400]\u001b[0m Finished trial#794 resulted in value: 0.4866666666666667. Current best value is 0.4773333333333334 with parameters: {'lr': 0.07727844290121257, 'num_leaves': 1, 'max_depth': 5, 'min_child_samples': 2, 'max_bin': 7}.\u001b[0m\n",
      "\u001b[32m[I 2020-07-27 14:33:50,415]\u001b[0m Finished trial#795 resulted in value: 0.5026666666666666. Current best value is 0.4773333333333334 with parameters: {'lr': 0.07727844290121257, 'num_leaves': 1, 'max_depth': 5, 'min_child_samples': 2, 'max_bin': 7}.\u001b[0m\n",
      "\u001b[32m[I 2020-07-27 14:33:53,820]\u001b[0m Finished trial#796 resulted in value: 0.5106666666666666. Current best value is 0.4773333333333334 with parameters: {'lr': 0.07727844290121257, 'num_leaves': 1, 'max_depth': 5, 'min_child_samples': 2, 'max_bin': 7}.\u001b[0m\n",
      "\u001b[32m[I 2020-07-27 14:33:58,352]\u001b[0m Finished trial#797 resulted in value: 0.5066666666666666. Current best value is 0.4773333333333334 with parameters: {'lr': 0.07727844290121257, 'num_leaves': 1, 'max_depth': 5, 'min_child_samples': 2, 'max_bin': 7}.\u001b[0m\n",
      "\u001b[32m[I 2020-07-27 14:34:03,264]\u001b[0m Finished trial#798 resulted in value: 0.5066666666666666. Current best value is 0.4773333333333334 with parameters: {'lr': 0.07727844290121257, 'num_leaves': 1, 'max_depth': 5, 'min_child_samples': 2, 'max_bin': 7}.\u001b[0m\n",
      "\u001b[32m[I 2020-07-27 14:34:08,781]\u001b[0m Finished trial#799 resulted in value: 0.5093333333333334. Current best value is 0.4773333333333334 with parameters: {'lr': 0.07727844290121257, 'num_leaves': 1, 'max_depth': 5, 'min_child_samples': 2, 'max_bin': 7}.\u001b[0m\n",
      "\u001b[32m[I 2020-07-27 14:34:12,915]\u001b[0m Finished trial#800 resulted in value: 0.4973333333333333. Current best value is 0.4773333333333334 with parameters: {'lr': 0.07727844290121257, 'num_leaves': 1, 'max_depth': 5, 'min_child_samples': 2, 'max_bin': 7}.\u001b[0m\n",
      "\u001b[32m[I 2020-07-27 14:34:16,562]\u001b[0m Finished trial#801 resulted in value: 0.4973333333333333. Current best value is 0.4773333333333334 with parameters: {'lr': 0.07727844290121257, 'num_leaves': 1, 'max_depth': 5, 'min_child_samples': 2, 'max_bin': 7}.\u001b[0m\n",
      "\u001b[32m[I 2020-07-27 14:34:19,343]\u001b[0m Finished trial#802 resulted in value: 0.4906666666666667. Current best value is 0.4773333333333334 with parameters: {'lr': 0.07727844290121257, 'num_leaves': 1, 'max_depth': 5, 'min_child_samples': 2, 'max_bin': 7}.\u001b[0m\n",
      "\u001b[32m[I 2020-07-27 14:34:23,015]\u001b[0m Finished trial#803 resulted in value: 0.5. Current best value is 0.4773333333333334 with parameters: {'lr': 0.07727844290121257, 'num_leaves': 1, 'max_depth': 5, 'min_child_samples': 2, 'max_bin': 7}.\u001b[0m\n",
      "\u001b[32m[I 2020-07-27 14:34:26,557]\u001b[0m Finished trial#804 resulted in value: 0.4986666666666667. Current best value is 0.4773333333333334 with parameters: {'lr': 0.07727844290121257, 'num_leaves': 1, 'max_depth': 5, 'min_child_samples': 2, 'max_bin': 7}.\u001b[0m\n",
      "\u001b[32m[I 2020-07-27 14:34:30,283]\u001b[0m Finished trial#805 resulted in value: 0.5026666666666666. Current best value is 0.4773333333333334 with parameters: {'lr': 0.07727844290121257, 'num_leaves': 1, 'max_depth': 5, 'min_child_samples': 2, 'max_bin': 7}.\u001b[0m\n",
      "\u001b[32m[I 2020-07-27 14:34:36,389]\u001b[0m Finished trial#806 resulted in value: 0.4866666666666667. Current best value is 0.4773333333333334 with parameters: {'lr': 0.07727844290121257, 'num_leaves': 1, 'max_depth': 5, 'min_child_samples': 2, 'max_bin': 7}.\u001b[0m\n",
      "\u001b[32m[I 2020-07-27 14:34:39,432]\u001b[0m Finished trial#807 resulted in value: 0.5013333333333334. Current best value is 0.4773333333333334 with parameters: {'lr': 0.07727844290121257, 'num_leaves': 1, 'max_depth': 5, 'min_child_samples': 2, 'max_bin': 7}.\u001b[0m\n",
      "\u001b[32m[I 2020-07-27 14:34:43,087]\u001b[0m Finished trial#808 resulted in value: 0.5. Current best value is 0.4773333333333334 with parameters: {'lr': 0.07727844290121257, 'num_leaves': 1, 'max_depth': 5, 'min_child_samples': 2, 'max_bin': 7}.\u001b[0m\n",
      "\u001b[32m[I 2020-07-27 14:34:46,347]\u001b[0m Finished trial#809 resulted in value: 0.4933333333333333. Current best value is 0.4773333333333334 with parameters: {'lr': 0.07727844290121257, 'num_leaves': 1, 'max_depth': 5, 'min_child_samples': 2, 'max_bin': 7}.\u001b[0m\n",
      "\u001b[32m[I 2020-07-27 14:34:49,122]\u001b[0m Finished trial#810 resulted in value: 0.508. Current best value is 0.4773333333333334 with parameters: {'lr': 0.07727844290121257, 'num_leaves': 1, 'max_depth': 5, 'min_child_samples': 2, 'max_bin': 7}.\u001b[0m\n",
      "\u001b[32m[I 2020-07-27 14:34:53,002]\u001b[0m Finished trial#811 resulted in value: 0.5066666666666666. Current best value is 0.4773333333333334 with parameters: {'lr': 0.07727844290121257, 'num_leaves': 1, 'max_depth': 5, 'min_child_samples': 2, 'max_bin': 7}.\u001b[0m\n",
      "\u001b[32m[I 2020-07-27 14:34:56,679]\u001b[0m Finished trial#812 resulted in value: 0.4906666666666667. Current best value is 0.4773333333333334 with parameters: {'lr': 0.07727844290121257, 'num_leaves': 1, 'max_depth': 5, 'min_child_samples': 2, 'max_bin': 7}.\u001b[0m\n",
      "\u001b[32m[I 2020-07-27 14:35:01,223]\u001b[0m Finished trial#813 resulted in value: 0.4986666666666667. Current best value is 0.4773333333333334 with parameters: {'lr': 0.07727844290121257, 'num_leaves': 1, 'max_depth': 5, 'min_child_samples': 2, 'max_bin': 7}.\u001b[0m\n",
      "\u001b[32m[I 2020-07-27 14:35:04,337]\u001b[0m Finished trial#814 resulted in value: 0.492. Current best value is 0.4773333333333334 with parameters: {'lr': 0.07727844290121257, 'num_leaves': 1, 'max_depth': 5, 'min_child_samples': 2, 'max_bin': 7}.\u001b[0m\n",
      "\u001b[32m[I 2020-07-27 14:35:08,531]\u001b[0m Finished trial#815 resulted in value: 0.4933333333333333. Current best value is 0.4773333333333334 with parameters: {'lr': 0.07727844290121257, 'num_leaves': 1, 'max_depth': 5, 'min_child_samples': 2, 'max_bin': 7}.\u001b[0m\n",
      "\u001b[32m[I 2020-07-27 14:35:12,937]\u001b[0m Finished trial#816 resulted in value: 0.5026666666666666. Current best value is 0.4773333333333334 with parameters: {'lr': 0.07727844290121257, 'num_leaves': 1, 'max_depth': 5, 'min_child_samples': 2, 'max_bin': 7}.\u001b[0m\n",
      "\u001b[32m[I 2020-07-27 14:35:17,750]\u001b[0m Finished trial#817 resulted in value: 0.4893333333333333. Current best value is 0.4773333333333334 with parameters: {'lr': 0.07727844290121257, 'num_leaves': 1, 'max_depth': 5, 'min_child_samples': 2, 'max_bin': 7}.\u001b[0m\n",
      "\u001b[32m[I 2020-07-27 14:35:21,633]\u001b[0m Finished trial#818 resulted in value: 0.4853333333333333. Current best value is 0.4773333333333334 with parameters: {'lr': 0.07727844290121257, 'num_leaves': 1, 'max_depth': 5, 'min_child_samples': 2, 'max_bin': 7}.\u001b[0m\n",
      "\u001b[32m[I 2020-07-27 14:35:24,107]\u001b[0m Finished trial#819 resulted in value: 0.5133333333333333. Current best value is 0.4773333333333334 with parameters: {'lr': 0.07727844290121257, 'num_leaves': 1, 'max_depth': 5, 'min_child_samples': 2, 'max_bin': 7}.\u001b[0m\n",
      "\u001b[32m[I 2020-07-27 14:35:27,697]\u001b[0m Finished trial#820 resulted in value: 0.4906666666666667. Current best value is 0.4773333333333334 with parameters: {'lr': 0.07727844290121257, 'num_leaves': 1, 'max_depth': 5, 'min_child_samples': 2, 'max_bin': 7}.\u001b[0m\n",
      "\u001b[32m[I 2020-07-27 14:35:31,227]\u001b[0m Finished trial#821 resulted in value: 0.496. Current best value is 0.4773333333333334 with parameters: {'lr': 0.07727844290121257, 'num_leaves': 1, 'max_depth': 5, 'min_child_samples': 2, 'max_bin': 7}.\u001b[0m\n",
      "\u001b[32m[I 2020-07-27 14:35:34,830]\u001b[0m Finished trial#822 resulted in value: 0.524. Current best value is 0.4773333333333334 with parameters: {'lr': 0.07727844290121257, 'num_leaves': 1, 'max_depth': 5, 'min_child_samples': 2, 'max_bin': 7}.\u001b[0m\n",
      "\u001b[32m[I 2020-07-27 14:35:39,203]\u001b[0m Finished trial#823 resulted in value: 0.488. Current best value is 0.4773333333333334 with parameters: {'lr': 0.07727844290121257, 'num_leaves': 1, 'max_depth': 5, 'min_child_samples': 2, 'max_bin': 7}.\u001b[0m\n",
      "\u001b[32m[I 2020-07-27 14:35:44,372]\u001b[0m Finished trial#824 resulted in value: 0.5026666666666666. Current best value is 0.4773333333333334 with parameters: {'lr': 0.07727844290121257, 'num_leaves': 1, 'max_depth': 5, 'min_child_samples': 2, 'max_bin': 7}.\u001b[0m\n",
      "\u001b[32m[I 2020-07-27 14:35:47,886]\u001b[0m Finished trial#825 resulted in value: 0.496. Current best value is 0.4773333333333334 with parameters: {'lr': 0.07727844290121257, 'num_leaves': 1, 'max_depth': 5, 'min_child_samples': 2, 'max_bin': 7}.\u001b[0m\n",
      "\u001b[32m[I 2020-07-27 14:35:51,124]\u001b[0m Finished trial#826 resulted in value: 0.4986666666666667. Current best value is 0.4773333333333334 with parameters: {'lr': 0.07727844290121257, 'num_leaves': 1, 'max_depth': 5, 'min_child_samples': 2, 'max_bin': 7}.\u001b[0m\n",
      "\u001b[32m[I 2020-07-27 14:35:54,721]\u001b[0m Finished trial#827 resulted in value: 0.508. Current best value is 0.4773333333333334 with parameters: {'lr': 0.07727844290121257, 'num_leaves': 1, 'max_depth': 5, 'min_child_samples': 2, 'max_bin': 7}.\u001b[0m\n",
      "\u001b[32m[I 2020-07-27 14:36:00,827]\u001b[0m Finished trial#828 resulted in value: 0.5106666666666666. Current best value is 0.4773333333333334 with parameters: {'lr': 0.07727844290121257, 'num_leaves': 1, 'max_depth': 5, 'min_child_samples': 2, 'max_bin': 7}.\u001b[0m\n",
      "\u001b[32m[I 2020-07-27 14:36:04,001]\u001b[0m Finished trial#829 resulted in value: 0.496. Current best value is 0.4773333333333334 with parameters: {'lr': 0.07727844290121257, 'num_leaves': 1, 'max_depth': 5, 'min_child_samples': 2, 'max_bin': 7}.\u001b[0m\n",
      "\u001b[32m[I 2020-07-27 14:36:07,969]\u001b[0m Finished trial#830 resulted in value: 0.5106666666666666. Current best value is 0.4773333333333334 with parameters: {'lr': 0.07727844290121257, 'num_leaves': 1, 'max_depth': 5, 'min_child_samples': 2, 'max_bin': 7}.\u001b[0m\n",
      "\u001b[32m[I 2020-07-27 14:36:13,547]\u001b[0m Finished trial#831 resulted in value: 0.4906666666666667. Current best value is 0.4773333333333334 with parameters: {'lr': 0.07727844290121257, 'num_leaves': 1, 'max_depth': 5, 'min_child_samples': 2, 'max_bin': 7}.\u001b[0m\n",
      "\u001b[32m[I 2020-07-27 14:36:20,034]\u001b[0m Finished trial#832 resulted in value: 0.4973333333333333. Current best value is 0.4773333333333334 with parameters: {'lr': 0.07727844290121257, 'num_leaves': 1, 'max_depth': 5, 'min_child_samples': 2, 'max_bin': 7}.\u001b[0m\n",
      "\u001b[32m[I 2020-07-27 14:36:23,636]\u001b[0m Finished trial#833 resulted in value: 0.4946666666666667. Current best value is 0.4773333333333334 with parameters: {'lr': 0.07727844290121257, 'num_leaves': 1, 'max_depth': 5, 'min_child_samples': 2, 'max_bin': 7}.\u001b[0m\n",
      "\u001b[32m[I 2020-07-27 14:36:28,334]\u001b[0m Finished trial#834 resulted in value: 0.496. Current best value is 0.4773333333333334 with parameters: {'lr': 0.07727844290121257, 'num_leaves': 1, 'max_depth': 5, 'min_child_samples': 2, 'max_bin': 7}.\u001b[0m\n",
      "\u001b[32m[I 2020-07-27 14:36:31,906]\u001b[0m Finished trial#835 resulted in value: 0.4973333333333333. Current best value is 0.4773333333333334 with parameters: {'lr': 0.07727844290121257, 'num_leaves': 1, 'max_depth': 5, 'min_child_samples': 2, 'max_bin': 7}.\u001b[0m\n",
      "\u001b[32m[I 2020-07-27 14:36:38,554]\u001b[0m Finished trial#836 resulted in value: 0.5133333333333333. Current best value is 0.4773333333333334 with parameters: {'lr': 0.07727844290121257, 'num_leaves': 1, 'max_depth': 5, 'min_child_samples': 2, 'max_bin': 7}.\u001b[0m\n",
      "\u001b[32m[I 2020-07-27 14:36:41,317]\u001b[0m Finished trial#837 resulted in value: 0.504. Current best value is 0.4773333333333334 with parameters: {'lr': 0.07727844290121257, 'num_leaves': 1, 'max_depth': 5, 'min_child_samples': 2, 'max_bin': 7}.\u001b[0m\n",
      "\u001b[32m[I 2020-07-27 14:36:45,098]\u001b[0m Finished trial#838 resulted in value: 0.496. Current best value is 0.4773333333333334 with parameters: {'lr': 0.07727844290121257, 'num_leaves': 1, 'max_depth': 5, 'min_child_samples': 2, 'max_bin': 7}.\u001b[0m\n",
      "\u001b[32m[I 2020-07-27 14:36:50,197]\u001b[0m Finished trial#839 resulted in value: 0.504. Current best value is 0.4773333333333334 with parameters: {'lr': 0.07727844290121257, 'num_leaves': 1, 'max_depth': 5, 'min_child_samples': 2, 'max_bin': 7}.\u001b[0m\n",
      "\u001b[32m[I 2020-07-27 14:36:56,963]\u001b[0m Finished trial#840 resulted in value: 0.492. Current best value is 0.4773333333333334 with parameters: {'lr': 0.07727844290121257, 'num_leaves': 1, 'max_depth': 5, 'min_child_samples': 2, 'max_bin': 7}.\u001b[0m\n",
      "\u001b[32m[I 2020-07-27 14:37:04,858]\u001b[0m Finished trial#841 resulted in value: 0.5053333333333334. Current best value is 0.4773333333333334 with parameters: {'lr': 0.07727844290121257, 'num_leaves': 1, 'max_depth': 5, 'min_child_samples': 2, 'max_bin': 7}.\u001b[0m\n",
      "\u001b[32m[I 2020-07-27 14:37:08,908]\u001b[0m Finished trial#842 resulted in value: 0.492. Current best value is 0.4773333333333334 with parameters: {'lr': 0.07727844290121257, 'num_leaves': 1, 'max_depth': 5, 'min_child_samples': 2, 'max_bin': 7}.\u001b[0m\n",
      "\u001b[32m[I 2020-07-27 14:37:13,446]\u001b[0m Finished trial#843 resulted in value: 0.5026666666666666. Current best value is 0.4773333333333334 with parameters: {'lr': 0.07727844290121257, 'num_leaves': 1, 'max_depth': 5, 'min_child_samples': 2, 'max_bin': 7}.\u001b[0m\n",
      "\u001b[32m[I 2020-07-27 14:37:16,978]\u001b[0m Finished trial#844 resulted in value: 0.4973333333333333. Current best value is 0.4773333333333334 with parameters: {'lr': 0.07727844290121257, 'num_leaves': 1, 'max_depth': 5, 'min_child_samples': 2, 'max_bin': 7}.\u001b[0m\n",
      "\u001b[32m[I 2020-07-27 14:37:19,808]\u001b[0m Finished trial#845 resulted in value: 0.4933333333333333. Current best value is 0.4773333333333334 with parameters: {'lr': 0.07727844290121257, 'num_leaves': 1, 'max_depth': 5, 'min_child_samples': 2, 'max_bin': 7}.\u001b[0m\n",
      "\u001b[32m[I 2020-07-27 14:37:23,067]\u001b[0m Finished trial#846 resulted in value: 0.488. Current best value is 0.4773333333333334 with parameters: {'lr': 0.07727844290121257, 'num_leaves': 1, 'max_depth': 5, 'min_child_samples': 2, 'max_bin': 7}.\u001b[0m\n",
      "\u001b[32m[I 2020-07-27 14:37:27,780]\u001b[0m Finished trial#847 resulted in value: 0.5026666666666666. Current best value is 0.4773333333333334 with parameters: {'lr': 0.07727844290121257, 'num_leaves': 1, 'max_depth': 5, 'min_child_samples': 2, 'max_bin': 7}.\u001b[0m\n",
      "\u001b[32m[I 2020-07-27 14:37:32,335]\u001b[0m Finished trial#848 resulted in value: 0.4986666666666667. Current best value is 0.4773333333333334 with parameters: {'lr': 0.07727844290121257, 'num_leaves': 1, 'max_depth': 5, 'min_child_samples': 2, 'max_bin': 7}.\u001b[0m\n",
      "\u001b[32m[I 2020-07-27 14:37:38,655]\u001b[0m Finished trial#849 resulted in value: 0.4973333333333333. Current best value is 0.4773333333333334 with parameters: {'lr': 0.07727844290121257, 'num_leaves': 1, 'max_depth': 5, 'min_child_samples': 2, 'max_bin': 7}.\u001b[0m\n",
      "\u001b[32m[I 2020-07-27 14:37:42,584]\u001b[0m Finished trial#850 resulted in value: 0.5. Current best value is 0.4773333333333334 with parameters: {'lr': 0.07727844290121257, 'num_leaves': 1, 'max_depth': 5, 'min_child_samples': 2, 'max_bin': 7}.\u001b[0m\n",
      "\u001b[32m[I 2020-07-27 14:37:45,981]\u001b[0m Finished trial#851 resulted in value: 0.5106666666666666. Current best value is 0.4773333333333334 with parameters: {'lr': 0.07727844290121257, 'num_leaves': 1, 'max_depth': 5, 'min_child_samples': 2, 'max_bin': 7}.\u001b[0m\n",
      "\u001b[32m[I 2020-07-27 14:37:50,495]\u001b[0m Finished trial#852 resulted in value: 0.5106666666666666. Current best value is 0.4773333333333334 with parameters: {'lr': 0.07727844290121257, 'num_leaves': 1, 'max_depth': 5, 'min_child_samples': 2, 'max_bin': 7}.\u001b[0m\n",
      "\u001b[32m[I 2020-07-27 14:37:55,106]\u001b[0m Finished trial#853 resulted in value: 0.496. Current best value is 0.4773333333333334 with parameters: {'lr': 0.07727844290121257, 'num_leaves': 1, 'max_depth': 5, 'min_child_samples': 2, 'max_bin': 7}.\u001b[0m\n",
      "\u001b[32m[I 2020-07-27 14:38:01,410]\u001b[0m Finished trial#854 resulted in value: 0.4906666666666667. Current best value is 0.4773333333333334 with parameters: {'lr': 0.07727844290121257, 'num_leaves': 1, 'max_depth': 5, 'min_child_samples': 2, 'max_bin': 7}.\u001b[0m\n",
      "\u001b[32m[I 2020-07-27 14:38:05,461]\u001b[0m Finished trial#855 resulted in value: 0.508. Current best value is 0.4773333333333334 with parameters: {'lr': 0.07727844290121257, 'num_leaves': 1, 'max_depth': 5, 'min_child_samples': 2, 'max_bin': 7}.\u001b[0m\n",
      "\u001b[32m[I 2020-07-27 14:38:09,520]\u001b[0m Finished trial#856 resulted in value: 0.4826666666666667. Current best value is 0.4773333333333334 with parameters: {'lr': 0.07727844290121257, 'num_leaves': 1, 'max_depth': 5, 'min_child_samples': 2, 'max_bin': 7}.\u001b[0m\n",
      "\u001b[32m[I 2020-07-27 14:38:12,935]\u001b[0m Finished trial#857 resulted in value: 0.4973333333333333. Current best value is 0.4773333333333334 with parameters: {'lr': 0.07727844290121257, 'num_leaves': 1, 'max_depth': 5, 'min_child_samples': 2, 'max_bin': 7}.\u001b[0m\n",
      "\u001b[32m[I 2020-07-27 14:38:16,372]\u001b[0m Finished trial#858 resulted in value: 0.4986666666666667. Current best value is 0.4773333333333334 with parameters: {'lr': 0.07727844290121257, 'num_leaves': 1, 'max_depth': 5, 'min_child_samples': 2, 'max_bin': 7}.\u001b[0m\n",
      "\u001b[32m[I 2020-07-27 14:38:20,532]\u001b[0m Finished trial#859 resulted in value: 0.5106666666666666. Current best value is 0.4773333333333334 with parameters: {'lr': 0.07727844290121257, 'num_leaves': 1, 'max_depth': 5, 'min_child_samples': 2, 'max_bin': 7}.\u001b[0m\n",
      "\u001b[32m[I 2020-07-27 14:38:25,358]\u001b[0m Finished trial#860 resulted in value: 0.4866666666666667. Current best value is 0.4773333333333334 with parameters: {'lr': 0.07727844290121257, 'num_leaves': 1, 'max_depth': 5, 'min_child_samples': 2, 'max_bin': 7}.\u001b[0m\n",
      "\u001b[32m[I 2020-07-27 14:38:31,296]\u001b[0m Finished trial#861 resulted in value: 0.488. Current best value is 0.4773333333333334 with parameters: {'lr': 0.07727844290121257, 'num_leaves': 1, 'max_depth': 5, 'min_child_samples': 2, 'max_bin': 7}.\u001b[0m\n",
      "\u001b[32m[I 2020-07-27 14:38:34,412]\u001b[0m Finished trial#862 resulted in value: 0.4906666666666667. Current best value is 0.4773333333333334 with parameters: {'lr': 0.07727844290121257, 'num_leaves': 1, 'max_depth': 5, 'min_child_samples': 2, 'max_bin': 7}.\u001b[0m\n",
      "\u001b[32m[I 2020-07-27 14:38:38,757]\u001b[0m Finished trial#863 resulted in value: 0.4986666666666667. Current best value is 0.4773333333333334 with parameters: {'lr': 0.07727844290121257, 'num_leaves': 1, 'max_depth': 5, 'min_child_samples': 2, 'max_bin': 7}.\u001b[0m\n",
      "\u001b[32m[I 2020-07-27 14:38:41,767]\u001b[0m Finished trial#864 resulted in value: 0.508. Current best value is 0.4773333333333334 with parameters: {'lr': 0.07727844290121257, 'num_leaves': 1, 'max_depth': 5, 'min_child_samples': 2, 'max_bin': 7}.\u001b[0m\n",
      "\u001b[32m[I 2020-07-27 14:38:45,905]\u001b[0m Finished trial#865 resulted in value: 0.5173333333333333. Current best value is 0.4773333333333334 with parameters: {'lr': 0.07727844290121257, 'num_leaves': 1, 'max_depth': 5, 'min_child_samples': 2, 'max_bin': 7}.\u001b[0m\n",
      "\u001b[32m[I 2020-07-27 14:38:51,354]\u001b[0m Finished trial#866 resulted in value: 0.5. Current best value is 0.4773333333333334 with parameters: {'lr': 0.07727844290121257, 'num_leaves': 1, 'max_depth': 5, 'min_child_samples': 2, 'max_bin': 7}.\u001b[0m\n",
      "\u001b[32m[I 2020-07-27 14:38:55,145]\u001b[0m Finished trial#867 resulted in value: 0.4826666666666667. Current best value is 0.4773333333333334 with parameters: {'lr': 0.07727844290121257, 'num_leaves': 1, 'max_depth': 5, 'min_child_samples': 2, 'max_bin': 7}.\u001b[0m\n",
      "\u001b[32m[I 2020-07-27 14:38:58,910]\u001b[0m Finished trial#868 resulted in value: 0.5026666666666666. Current best value is 0.4773333333333334 with parameters: {'lr': 0.07727844290121257, 'num_leaves': 1, 'max_depth': 5, 'min_child_samples': 2, 'max_bin': 7}.\u001b[0m\n",
      "\u001b[32m[I 2020-07-27 14:39:02,624]\u001b[0m Finished trial#869 resulted in value: 0.4986666666666667. Current best value is 0.4773333333333334 with parameters: {'lr': 0.07727844290121257, 'num_leaves': 1, 'max_depth': 5, 'min_child_samples': 2, 'max_bin': 7}.\u001b[0m\n",
      "\u001b[32m[I 2020-07-27 14:39:04,991]\u001b[0m Finished trial#870 resulted in value: 0.5173333333333333. Current best value is 0.4773333333333334 with parameters: {'lr': 0.07727844290121257, 'num_leaves': 1, 'max_depth': 5, 'min_child_samples': 2, 'max_bin': 7}.\u001b[0m\n",
      "\u001b[32m[I 2020-07-27 14:39:08,736]\u001b[0m Finished trial#871 resulted in value: 0.5093333333333334. Current best value is 0.4773333333333334 with parameters: {'lr': 0.07727844290121257, 'num_leaves': 1, 'max_depth': 5, 'min_child_samples': 2, 'max_bin': 7}.\u001b[0m\n",
      "\u001b[32m[I 2020-07-27 14:39:13,171]\u001b[0m Finished trial#872 resulted in value: 0.4946666666666667. Current best value is 0.4773333333333334 with parameters: {'lr': 0.07727844290121257, 'num_leaves': 1, 'max_depth': 5, 'min_child_samples': 2, 'max_bin': 7}.\u001b[0m\n",
      "\u001b[32m[I 2020-07-27 14:39:16,920]\u001b[0m Finished trial#873 resulted in value: 0.5093333333333334. Current best value is 0.4773333333333334 with parameters: {'lr': 0.07727844290121257, 'num_leaves': 1, 'max_depth': 5, 'min_child_samples': 2, 'max_bin': 7}.\u001b[0m\n",
      "\u001b[32m[I 2020-07-27 14:39:23,361]\u001b[0m Finished trial#874 resulted in value: 0.496. Current best value is 0.4773333333333334 with parameters: {'lr': 0.07727844290121257, 'num_leaves': 1, 'max_depth': 5, 'min_child_samples': 2, 'max_bin': 7}.\u001b[0m\n",
      "\u001b[32m[I 2020-07-27 14:39:30,245]\u001b[0m Finished trial#875 resulted in value: 0.508. Current best value is 0.4773333333333334 with parameters: {'lr': 0.07727844290121257, 'num_leaves': 1, 'max_depth': 5, 'min_child_samples': 2, 'max_bin': 7}.\u001b[0m\n",
      "\u001b[32m[I 2020-07-27 14:39:33,988]\u001b[0m Finished trial#876 resulted in value: 0.5026666666666666. Current best value is 0.4773333333333334 with parameters: {'lr': 0.07727844290121257, 'num_leaves': 1, 'max_depth': 5, 'min_child_samples': 2, 'max_bin': 7}.\u001b[0m\n",
      "\u001b[32m[I 2020-07-27 14:39:37,504]\u001b[0m Finished trial#877 resulted in value: 0.492. Current best value is 0.4773333333333334 with parameters: {'lr': 0.07727844290121257, 'num_leaves': 1, 'max_depth': 5, 'min_child_samples': 2, 'max_bin': 7}.\u001b[0m\n",
      "\u001b[32m[I 2020-07-27 14:39:40,216]\u001b[0m Finished trial#878 resulted in value: 0.524. Current best value is 0.4773333333333334 with parameters: {'lr': 0.07727844290121257, 'num_leaves': 1, 'max_depth': 5, 'min_child_samples': 2, 'max_bin': 7}.\u001b[0m\n",
      "\u001b[32m[I 2020-07-27 14:39:43,340]\u001b[0m Finished trial#879 resulted in value: 0.492. Current best value is 0.4773333333333334 with parameters: {'lr': 0.07727844290121257, 'num_leaves': 1, 'max_depth': 5, 'min_child_samples': 2, 'max_bin': 7}.\u001b[0m\n",
      "\u001b[32m[I 2020-07-27 14:39:46,938]\u001b[0m Finished trial#880 resulted in value: 0.508. Current best value is 0.4773333333333334 with parameters: {'lr': 0.07727844290121257, 'num_leaves': 1, 'max_depth': 5, 'min_child_samples': 2, 'max_bin': 7}.\u001b[0m\n",
      "\u001b[32m[I 2020-07-27 14:39:51,614]\u001b[0m Finished trial#881 resulted in value: 0.4986666666666667. Current best value is 0.4773333333333334 with parameters: {'lr': 0.07727844290121257, 'num_leaves': 1, 'max_depth': 5, 'min_child_samples': 2, 'max_bin': 7}.\u001b[0m\n",
      "\u001b[32m[I 2020-07-27 14:39:54,456]\u001b[0m Finished trial#882 resulted in value: 0.4946666666666667. Current best value is 0.4773333333333334 with parameters: {'lr': 0.07727844290121257, 'num_leaves': 1, 'max_depth': 5, 'min_child_samples': 2, 'max_bin': 7}.\u001b[0m\n",
      "\u001b[32m[I 2020-07-27 14:40:00,021]\u001b[0m Finished trial#883 resulted in value: 0.5133333333333333. Current best value is 0.4773333333333334 with parameters: {'lr': 0.07727844290121257, 'num_leaves': 1, 'max_depth': 5, 'min_child_samples': 2, 'max_bin': 7}.\u001b[0m\n",
      "\u001b[32m[I 2020-07-27 14:40:05,631]\u001b[0m Finished trial#884 resulted in value: 0.4946666666666667. Current best value is 0.4773333333333334 with parameters: {'lr': 0.07727844290121257, 'num_leaves': 1, 'max_depth': 5, 'min_child_samples': 2, 'max_bin': 7}.\u001b[0m\n",
      "\u001b[32m[I 2020-07-27 14:40:09,245]\u001b[0m Finished trial#885 resulted in value: 0.5213333333333333. Current best value is 0.4773333333333334 with parameters: {'lr': 0.07727844290121257, 'num_leaves': 1, 'max_depth': 5, 'min_child_samples': 2, 'max_bin': 7}.\u001b[0m\n",
      "\u001b[32m[I 2020-07-27 14:40:13,291]\u001b[0m Finished trial#886 resulted in value: 0.4906666666666667. Current best value is 0.4773333333333334 with parameters: {'lr': 0.07727844290121257, 'num_leaves': 1, 'max_depth': 5, 'min_child_samples': 2, 'max_bin': 7}.\u001b[0m\n",
      "\u001b[32m[I 2020-07-27 14:40:16,338]\u001b[0m Finished trial#887 resulted in value: 0.508. Current best value is 0.4773333333333334 with parameters: {'lr': 0.07727844290121257, 'num_leaves': 1, 'max_depth': 5, 'min_child_samples': 2, 'max_bin': 7}.\u001b[0m\n",
      "\u001b[32m[I 2020-07-27 14:40:20,578]\u001b[0m Finished trial#888 resulted in value: 0.492. Current best value is 0.4773333333333334 with parameters: {'lr': 0.07727844290121257, 'num_leaves': 1, 'max_depth': 5, 'min_child_samples': 2, 'max_bin': 7}.\u001b[0m\n",
      "\u001b[32m[I 2020-07-27 14:40:25,883]\u001b[0m Finished trial#889 resulted in value: 0.496. Current best value is 0.4773333333333334 with parameters: {'lr': 0.07727844290121257, 'num_leaves': 1, 'max_depth': 5, 'min_child_samples': 2, 'max_bin': 7}.\u001b[0m\n",
      "\u001b[32m[I 2020-07-27 14:40:30,202]\u001b[0m Finished trial#890 resulted in value: 0.5106666666666666. Current best value is 0.4773333333333334 with parameters: {'lr': 0.07727844290121257, 'num_leaves': 1, 'max_depth': 5, 'min_child_samples': 2, 'max_bin': 7}.\u001b[0m\n",
      "\u001b[32m[I 2020-07-27 14:40:33,263]\u001b[0m Finished trial#891 resulted in value: 0.5013333333333334. Current best value is 0.4773333333333334 with parameters: {'lr': 0.07727844290121257, 'num_leaves': 1, 'max_depth': 5, 'min_child_samples': 2, 'max_bin': 7}.\u001b[0m\n",
      "\u001b[32m[I 2020-07-27 14:40:37,955]\u001b[0m Finished trial#892 resulted in value: 0.4893333333333333. Current best value is 0.4773333333333334 with parameters: {'lr': 0.07727844290121257, 'num_leaves': 1, 'max_depth': 5, 'min_child_samples': 2, 'max_bin': 7}.\u001b[0m\n",
      "\u001b[32m[I 2020-07-27 14:40:40,678]\u001b[0m Finished trial#893 resulted in value: 0.5266666666666666. Current best value is 0.4773333333333334 with parameters: {'lr': 0.07727844290121257, 'num_leaves': 1, 'max_depth': 5, 'min_child_samples': 2, 'max_bin': 7}.\u001b[0m\n",
      "\u001b[32m[I 2020-07-27 14:40:46,109]\u001b[0m Finished trial#894 resulted in value: 0.5013333333333334. Current best value is 0.4773333333333334 with parameters: {'lr': 0.07727844290121257, 'num_leaves': 1, 'max_depth': 5, 'min_child_samples': 2, 'max_bin': 7}.\u001b[0m\n",
      "\u001b[32m[I 2020-07-27 14:40:50,705]\u001b[0m Finished trial#895 resulted in value: 0.496. Current best value is 0.4773333333333334 with parameters: {'lr': 0.07727844290121257, 'num_leaves': 1, 'max_depth': 5, 'min_child_samples': 2, 'max_bin': 7}.\u001b[0m\n",
      "\u001b[32m[I 2020-07-27 14:40:55,055]\u001b[0m Finished trial#896 resulted in value: 0.5013333333333334. Current best value is 0.4773333333333334 with parameters: {'lr': 0.07727844290121257, 'num_leaves': 1, 'max_depth': 5, 'min_child_samples': 2, 'max_bin': 7}.\u001b[0m\n",
      "\u001b[32m[I 2020-07-27 14:41:00,623]\u001b[0m Finished trial#897 resulted in value: 0.5026666666666666. Current best value is 0.4773333333333334 with parameters: {'lr': 0.07727844290121257, 'num_leaves': 1, 'max_depth': 5, 'min_child_samples': 2, 'max_bin': 7}.\u001b[0m\n",
      "\u001b[32m[I 2020-07-27 14:41:06,792]\u001b[0m Finished trial#898 resulted in value: 0.4946666666666667. Current best value is 0.4773333333333334 with parameters: {'lr': 0.07727844290121257, 'num_leaves': 1, 'max_depth': 5, 'min_child_samples': 2, 'max_bin': 7}.\u001b[0m\n",
      "\u001b[32m[I 2020-07-27 14:41:11,445]\u001b[0m Finished trial#899 resulted in value: 0.488. Current best value is 0.4773333333333334 with parameters: {'lr': 0.07727844290121257, 'num_leaves': 1, 'max_depth': 5, 'min_child_samples': 2, 'max_bin': 7}.\u001b[0m\n",
      "\u001b[32m[I 2020-07-27 14:41:14,906]\u001b[0m Finished trial#900 resulted in value: 0.512. Current best value is 0.4773333333333334 with parameters: {'lr': 0.07727844290121257, 'num_leaves': 1, 'max_depth': 5, 'min_child_samples': 2, 'max_bin': 7}.\u001b[0m\n",
      "\u001b[32m[I 2020-07-27 14:41:19,168]\u001b[0m Finished trial#901 resulted in value: 0.504. Current best value is 0.4773333333333334 with parameters: {'lr': 0.07727844290121257, 'num_leaves': 1, 'max_depth': 5, 'min_child_samples': 2, 'max_bin': 7}.\u001b[0m\n",
      "\u001b[32m[I 2020-07-27 14:41:22,749]\u001b[0m Finished trial#902 resulted in value: 0.524. Current best value is 0.4773333333333334 with parameters: {'lr': 0.07727844290121257, 'num_leaves': 1, 'max_depth': 5, 'min_child_samples': 2, 'max_bin': 7}.\u001b[0m\n",
      "\u001b[32m[I 2020-07-27 14:41:27,432]\u001b[0m Finished trial#903 resulted in value: 0.4826666666666667. Current best value is 0.4773333333333334 with parameters: {'lr': 0.07727844290121257, 'num_leaves': 1, 'max_depth': 5, 'min_child_samples': 2, 'max_bin': 7}.\u001b[0m\n",
      "\u001b[32m[I 2020-07-27 14:41:31,336]\u001b[0m Finished trial#904 resulted in value: 0.504. Current best value is 0.4773333333333334 with parameters: {'lr': 0.07727844290121257, 'num_leaves': 1, 'max_depth': 5, 'min_child_samples': 2, 'max_bin': 7}.\u001b[0m\n",
      "\u001b[32m[I 2020-07-27 14:41:39,626]\u001b[0m Finished trial#905 resulted in value: 0.5013333333333334. Current best value is 0.4773333333333334 with parameters: {'lr': 0.07727844290121257, 'num_leaves': 1, 'max_depth': 5, 'min_child_samples': 2, 'max_bin': 7}.\u001b[0m\n",
      "\u001b[32m[I 2020-07-27 14:41:42,740]\u001b[0m Finished trial#906 resulted in value: 0.4893333333333333. Current best value is 0.4773333333333334 with parameters: {'lr': 0.07727844290121257, 'num_leaves': 1, 'max_depth': 5, 'min_child_samples': 2, 'max_bin': 7}.\u001b[0m\n",
      "\u001b[32m[I 2020-07-27 14:41:45,913]\u001b[0m Finished trial#907 resulted in value: 0.4986666666666667. Current best value is 0.4773333333333334 with parameters: {'lr': 0.07727844290121257, 'num_leaves': 1, 'max_depth': 5, 'min_child_samples': 2, 'max_bin': 7}.\u001b[0m\n",
      "\u001b[32m[I 2020-07-27 14:41:49,773]\u001b[0m Finished trial#908 resulted in value: 0.4906666666666667. Current best value is 0.4773333333333334 with parameters: {'lr': 0.07727844290121257, 'num_leaves': 1, 'max_depth': 5, 'min_child_samples': 2, 'max_bin': 7}.\u001b[0m\n",
      "\u001b[32m[I 2020-07-27 14:41:53,133]\u001b[0m Finished trial#909 resulted in value: 0.512. Current best value is 0.4773333333333334 with parameters: {'lr': 0.07727844290121257, 'num_leaves': 1, 'max_depth': 5, 'min_child_samples': 2, 'max_bin': 7}.\u001b[0m\n",
      "\u001b[32m[I 2020-07-27 14:41:56,530]\u001b[0m Finished trial#910 resulted in value: 0.5053333333333334. Current best value is 0.4773333333333334 with parameters: {'lr': 0.07727844290121257, 'num_leaves': 1, 'max_depth': 5, 'min_child_samples': 2, 'max_bin': 7}.\u001b[0m\n",
      "\u001b[32m[I 2020-07-27 14:41:59,671]\u001b[0m Finished trial#911 resulted in value: 0.5106666666666666. Current best value is 0.4773333333333334 with parameters: {'lr': 0.07727844290121257, 'num_leaves': 1, 'max_depth': 5, 'min_child_samples': 2, 'max_bin': 7}.\u001b[0m\n",
      "\u001b[32m[I 2020-07-27 14:42:03,112]\u001b[0m Finished trial#912 resulted in value: 0.4973333333333333. Current best value is 0.4773333333333334 with parameters: {'lr': 0.07727844290121257, 'num_leaves': 1, 'max_depth': 5, 'min_child_samples': 2, 'max_bin': 7}.\u001b[0m\n",
      "\u001b[32m[I 2020-07-27 14:42:07,316]\u001b[0m Finished trial#913 resulted in value: 0.4933333333333333. Current best value is 0.4773333333333334 with parameters: {'lr': 0.07727844290121257, 'num_leaves': 1, 'max_depth': 5, 'min_child_samples': 2, 'max_bin': 7}.\u001b[0m\n",
      "\u001b[32m[I 2020-07-27 14:42:11,682]\u001b[0m Finished trial#914 resulted in value: 0.4986666666666667. Current best value is 0.4773333333333334 with parameters: {'lr': 0.07727844290121257, 'num_leaves': 1, 'max_depth': 5, 'min_child_samples': 2, 'max_bin': 7}.\u001b[0m\n",
      "\u001b[32m[I 2020-07-27 14:42:15,996]\u001b[0m Finished trial#915 resulted in value: 0.5. Current best value is 0.4773333333333334 with parameters: {'lr': 0.07727844290121257, 'num_leaves': 1, 'max_depth': 5, 'min_child_samples': 2, 'max_bin': 7}.\u001b[0m\n",
      "\u001b[32m[I 2020-07-27 14:42:19,217]\u001b[0m Finished trial#916 resulted in value: 0.496. Current best value is 0.4773333333333334 with parameters: {'lr': 0.07727844290121257, 'num_leaves': 1, 'max_depth': 5, 'min_child_samples': 2, 'max_bin': 7}.\u001b[0m\n",
      "\u001b[32m[I 2020-07-27 14:42:23,205]\u001b[0m Finished trial#917 resulted in value: 0.4973333333333333. Current best value is 0.4773333333333334 with parameters: {'lr': 0.07727844290121257, 'num_leaves': 1, 'max_depth': 5, 'min_child_samples': 2, 'max_bin': 7}.\u001b[0m\n",
      "\u001b[32m[I 2020-07-27 14:42:27,740]\u001b[0m Finished trial#918 resulted in value: 0.5093333333333334. Current best value is 0.4773333333333334 with parameters: {'lr': 0.07727844290121257, 'num_leaves': 1, 'max_depth': 5, 'min_child_samples': 2, 'max_bin': 7}.\u001b[0m\n",
      "\u001b[32m[I 2020-07-27 14:42:31,312]\u001b[0m Finished trial#919 resulted in value: 0.508. Current best value is 0.4773333333333334 with parameters: {'lr': 0.07727844290121257, 'num_leaves': 1, 'max_depth': 5, 'min_child_samples': 2, 'max_bin': 7}.\u001b[0m\n",
      "\u001b[32m[I 2020-07-27 14:42:34,930]\u001b[0m Finished trial#920 resulted in value: 0.4893333333333333. Current best value is 0.4773333333333334 with parameters: {'lr': 0.07727844290121257, 'num_leaves': 1, 'max_depth': 5, 'min_child_samples': 2, 'max_bin': 7}.\u001b[0m\n",
      "\u001b[32m[I 2020-07-27 14:42:38,600]\u001b[0m Finished trial#921 resulted in value: 0.5173333333333333. Current best value is 0.4773333333333334 with parameters: {'lr': 0.07727844290121257, 'num_leaves': 1, 'max_depth': 5, 'min_child_samples': 2, 'max_bin': 7}.\u001b[0m\n",
      "\u001b[32m[I 2020-07-27 14:42:44,570]\u001b[0m Finished trial#922 resulted in value: 0.512. Current best value is 0.4773333333333334 with parameters: {'lr': 0.07727844290121257, 'num_leaves': 1, 'max_depth': 5, 'min_child_samples': 2, 'max_bin': 7}.\u001b[0m\n",
      "\u001b[32m[I 2020-07-27 14:42:49,825]\u001b[0m Finished trial#923 resulted in value: 0.5133333333333333. Current best value is 0.4773333333333334 with parameters: {'lr': 0.07727844290121257, 'num_leaves': 1, 'max_depth': 5, 'min_child_samples': 2, 'max_bin': 7}.\u001b[0m\n",
      "\u001b[32m[I 2020-07-27 14:42:53,850]\u001b[0m Finished trial#924 resulted in value: 0.504. Current best value is 0.4773333333333334 with parameters: {'lr': 0.07727844290121257, 'num_leaves': 1, 'max_depth': 5, 'min_child_samples': 2, 'max_bin': 7}.\u001b[0m\n",
      "\u001b[32m[I 2020-07-27 14:42:57,753]\u001b[0m Finished trial#925 resulted in value: 0.5013333333333334. Current best value is 0.4773333333333334 with parameters: {'lr': 0.07727844290121257, 'num_leaves': 1, 'max_depth': 5, 'min_child_samples': 2, 'max_bin': 7}.\u001b[0m\n",
      "\u001b[32m[I 2020-07-27 14:43:01,643]\u001b[0m Finished trial#926 resulted in value: 0.5026666666666666. Current best value is 0.4773333333333334 with parameters: {'lr': 0.07727844290121257, 'num_leaves': 1, 'max_depth': 5, 'min_child_samples': 2, 'max_bin': 7}.\u001b[0m\n",
      "\u001b[32m[I 2020-07-27 14:43:05,224]\u001b[0m Finished trial#927 resulted in value: 0.4813333333333333. Current best value is 0.4773333333333334 with parameters: {'lr': 0.07727844290121257, 'num_leaves': 1, 'max_depth': 5, 'min_child_samples': 2, 'max_bin': 7}.\u001b[0m\n",
      "\u001b[32m[I 2020-07-27 14:43:08,673]\u001b[0m Finished trial#928 resulted in value: 0.4746666666666667. Current best value is 0.4746666666666667 with parameters: {'lr': 0.11567471689689475, 'num_leaves': 1, 'max_depth': 4, 'min_child_samples': 4, 'max_bin': 7}.\u001b[0m\n",
      "\u001b[32m[I 2020-07-27 14:43:11,893]\u001b[0m Finished trial#929 resulted in value: 0.5066666666666666. Current best value is 0.4746666666666667 with parameters: {'lr': 0.11567471689689475, 'num_leaves': 1, 'max_depth': 4, 'min_child_samples': 4, 'max_bin': 7}.\u001b[0m\n",
      "\u001b[32m[I 2020-07-27 14:43:14,930]\u001b[0m Finished trial#930 resulted in value: 0.5053333333333334. Current best value is 0.4746666666666667 with parameters: {'lr': 0.11567471689689475, 'num_leaves': 1, 'max_depth': 4, 'min_child_samples': 4, 'max_bin': 7}.\u001b[0m\n",
      "\u001b[32m[I 2020-07-27 14:43:18,084]\u001b[0m Finished trial#931 resulted in value: 0.5133333333333333. Current best value is 0.4746666666666667 with parameters: {'lr': 0.11567471689689475, 'num_leaves': 1, 'max_depth': 4, 'min_child_samples': 4, 'max_bin': 7}.\u001b[0m\n",
      "\u001b[32m[I 2020-07-27 14:43:21,533]\u001b[0m Finished trial#932 resulted in value: 0.5. Current best value is 0.4746666666666667 with parameters: {'lr': 0.11567471689689475, 'num_leaves': 1, 'max_depth': 4, 'min_child_samples': 4, 'max_bin': 7}.\u001b[0m\n",
      "\u001b[32m[I 2020-07-27 14:43:25,305]\u001b[0m Finished trial#933 resulted in value: 0.492. Current best value is 0.4746666666666667 with parameters: {'lr': 0.11567471689689475, 'num_leaves': 1, 'max_depth': 4, 'min_child_samples': 4, 'max_bin': 7}.\u001b[0m\n",
      "\u001b[32m[I 2020-07-27 14:43:27,797]\u001b[0m Finished trial#934 resulted in value: 0.528. Current best value is 0.4746666666666667 with parameters: {'lr': 0.11567471689689475, 'num_leaves': 1, 'max_depth': 4, 'min_child_samples': 4, 'max_bin': 7}.\u001b[0m\n",
      "\u001b[32m[I 2020-07-27 14:43:30,607]\u001b[0m Finished trial#935 resulted in value: 0.5093333333333334. Current best value is 0.4746666666666667 with parameters: {'lr': 0.11567471689689475, 'num_leaves': 1, 'max_depth': 4, 'min_child_samples': 4, 'max_bin': 7}.\u001b[0m\n",
      "\u001b[32m[I 2020-07-27 14:43:33,872]\u001b[0m Finished trial#936 resulted in value: 0.5093333333333334. Current best value is 0.4746666666666667 with parameters: {'lr': 0.11567471689689475, 'num_leaves': 1, 'max_depth': 4, 'min_child_samples': 4, 'max_bin': 7}.\u001b[0m\n",
      "\u001b[32m[I 2020-07-27 14:43:37,185]\u001b[0m Finished trial#937 resulted in value: 0.5066666666666666. Current best value is 0.4746666666666667 with parameters: {'lr': 0.11567471689689475, 'num_leaves': 1, 'max_depth': 4, 'min_child_samples': 4, 'max_bin': 7}.\u001b[0m\n",
      "\u001b[32m[I 2020-07-27 14:43:40,336]\u001b[0m Finished trial#938 resulted in value: 0.4986666666666667. Current best value is 0.4746666666666667 with parameters: {'lr': 0.11567471689689475, 'num_leaves': 1, 'max_depth': 4, 'min_child_samples': 4, 'max_bin': 7}.\u001b[0m\n",
      "\u001b[32m[I 2020-07-27 14:43:43,142]\u001b[0m Finished trial#939 resulted in value: 0.5026666666666666. Current best value is 0.4746666666666667 with parameters: {'lr': 0.11567471689689475, 'num_leaves': 1, 'max_depth': 4, 'min_child_samples': 4, 'max_bin': 7}.\u001b[0m\n",
      "\u001b[32m[I 2020-07-27 14:43:46,820]\u001b[0m Finished trial#940 resulted in value: 0.5053333333333334. Current best value is 0.4746666666666667 with parameters: {'lr': 0.11567471689689475, 'num_leaves': 1, 'max_depth': 4, 'min_child_samples': 4, 'max_bin': 7}.\u001b[0m\n",
      "\u001b[32m[I 2020-07-27 14:43:50,491]\u001b[0m Finished trial#941 resulted in value: 0.4973333333333333. Current best value is 0.4746666666666667 with parameters: {'lr': 0.11567471689689475, 'num_leaves': 1, 'max_depth': 4, 'min_child_samples': 4, 'max_bin': 7}.\u001b[0m\n",
      "\u001b[32m[I 2020-07-27 14:43:53,220]\u001b[0m Finished trial#942 resulted in value: 0.5. Current best value is 0.4746666666666667 with parameters: {'lr': 0.11567471689689475, 'num_leaves': 1, 'max_depth': 4, 'min_child_samples': 4, 'max_bin': 7}.\u001b[0m\n",
      "\u001b[32m[I 2020-07-27 14:43:56,495]\u001b[0m Finished trial#943 resulted in value: 0.504. Current best value is 0.4746666666666667 with parameters: {'lr': 0.11567471689689475, 'num_leaves': 1, 'max_depth': 4, 'min_child_samples': 4, 'max_bin': 7}.\u001b[0m\n",
      "\u001b[32m[I 2020-07-27 14:43:59,556]\u001b[0m Finished trial#944 resulted in value: 0.5133333333333333. Current best value is 0.4746666666666667 with parameters: {'lr': 0.11567471689689475, 'num_leaves': 1, 'max_depth': 4, 'min_child_samples': 4, 'max_bin': 7}.\u001b[0m\n",
      "\u001b[32m[I 2020-07-27 14:44:02,717]\u001b[0m Finished trial#945 resulted in value: 0.4906666666666667. Current best value is 0.4746666666666667 with parameters: {'lr': 0.11567471689689475, 'num_leaves': 1, 'max_depth': 4, 'min_child_samples': 4, 'max_bin': 7}.\u001b[0m\n",
      "\u001b[32m[I 2020-07-27 14:44:05,443]\u001b[0m Finished trial#946 resulted in value: 0.512. Current best value is 0.4746666666666667 with parameters: {'lr': 0.11567471689689475, 'num_leaves': 1, 'max_depth': 4, 'min_child_samples': 4, 'max_bin': 7}.\u001b[0m\n",
      "\u001b[32m[I 2020-07-27 14:44:08,856]\u001b[0m Finished trial#947 resulted in value: 0.504. Current best value is 0.4746666666666667 with parameters: {'lr': 0.11567471689689475, 'num_leaves': 1, 'max_depth': 4, 'min_child_samples': 4, 'max_bin': 7}.\u001b[0m\n",
      "\u001b[32m[I 2020-07-27 14:44:11,417]\u001b[0m Finished trial#948 resulted in value: 0.4973333333333333. Current best value is 0.4746666666666667 with parameters: {'lr': 0.11567471689689475, 'num_leaves': 1, 'max_depth': 4, 'min_child_samples': 4, 'max_bin': 7}.\u001b[0m\n",
      "\u001b[32m[I 2020-07-27 14:44:14,380]\u001b[0m Finished trial#949 resulted in value: 0.492. Current best value is 0.4746666666666667 with parameters: {'lr': 0.11567471689689475, 'num_leaves': 1, 'max_depth': 4, 'min_child_samples': 4, 'max_bin': 7}.\u001b[0m\n",
      "\u001b[32m[I 2020-07-27 14:44:18,653]\u001b[0m Finished trial#950 resulted in value: 0.496. Current best value is 0.4746666666666667 with parameters: {'lr': 0.11567471689689475, 'num_leaves': 1, 'max_depth': 4, 'min_child_samples': 4, 'max_bin': 7}.\u001b[0m\n",
      "\u001b[32m[I 2020-07-27 14:44:22,435]\u001b[0m Finished trial#951 resulted in value: 0.5066666666666666. Current best value is 0.4746666666666667 with parameters: {'lr': 0.11567471689689475, 'num_leaves': 1, 'max_depth': 4, 'min_child_samples': 4, 'max_bin': 7}.\u001b[0m\n",
      "\u001b[32m[I 2020-07-27 14:44:27,097]\u001b[0m Finished trial#952 resulted in value: 0.512. Current best value is 0.4746666666666667 with parameters: {'lr': 0.11567471689689475, 'num_leaves': 1, 'max_depth': 4, 'min_child_samples': 4, 'max_bin': 7}.\u001b[0m\n",
      "\u001b[32m[I 2020-07-27 14:44:30,427]\u001b[0m Finished trial#953 resulted in value: 0.488. Current best value is 0.4746666666666667 with parameters: {'lr': 0.11567471689689475, 'num_leaves': 1, 'max_depth': 4, 'min_child_samples': 4, 'max_bin': 7}.\u001b[0m\n",
      "\u001b[32m[I 2020-07-27 14:44:33,739]\u001b[0m Finished trial#954 resulted in value: 0.5013333333333334. Current best value is 0.4746666666666667 with parameters: {'lr': 0.11567471689689475, 'num_leaves': 1, 'max_depth': 4, 'min_child_samples': 4, 'max_bin': 7}.\u001b[0m\n",
      "\u001b[32m[I 2020-07-27 14:44:37,162]\u001b[0m Finished trial#955 resulted in value: 0.5. Current best value is 0.4746666666666667 with parameters: {'lr': 0.11567471689689475, 'num_leaves': 1, 'max_depth': 4, 'min_child_samples': 4, 'max_bin': 7}.\u001b[0m\n",
      "\u001b[32m[I 2020-07-27 14:44:40,946]\u001b[0m Finished trial#956 resulted in value: 0.5106666666666666. Current best value is 0.4746666666666667 with parameters: {'lr': 0.11567471689689475, 'num_leaves': 1, 'max_depth': 4, 'min_child_samples': 4, 'max_bin': 7}.\u001b[0m\n",
      "\u001b[32m[I 2020-07-27 14:44:43,854]\u001b[0m Finished trial#957 resulted in value: 0.496. Current best value is 0.4746666666666667 with parameters: {'lr': 0.11567471689689475, 'num_leaves': 1, 'max_depth': 4, 'min_child_samples': 4, 'max_bin': 7}.\u001b[0m\n",
      "\u001b[32m[I 2020-07-27 14:44:48,387]\u001b[0m Finished trial#958 resulted in value: 0.5346666666666666. Current best value is 0.4746666666666667 with parameters: {'lr': 0.11567471689689475, 'num_leaves': 1, 'max_depth': 4, 'min_child_samples': 4, 'max_bin': 7}.\u001b[0m\n",
      "\u001b[32m[I 2020-07-27 14:44:52,739]\u001b[0m Finished trial#959 resulted in value: 0.4946666666666667. Current best value is 0.4746666666666667 with parameters: {'lr': 0.11567471689689475, 'num_leaves': 1, 'max_depth': 4, 'min_child_samples': 4, 'max_bin': 7}.\u001b[0m\n",
      "\u001b[32m[I 2020-07-27 14:44:56,824]\u001b[0m Finished trial#960 resulted in value: 0.496. Current best value is 0.4746666666666667 with parameters: {'lr': 0.11567471689689475, 'num_leaves': 1, 'max_depth': 4, 'min_child_samples': 4, 'max_bin': 7}.\u001b[0m\n",
      "\u001b[32m[I 2020-07-27 14:45:01,165]\u001b[0m Finished trial#961 resulted in value: 0.5066666666666666. Current best value is 0.4746666666666667 with parameters: {'lr': 0.11567471689689475, 'num_leaves': 1, 'max_depth': 4, 'min_child_samples': 4, 'max_bin': 7}.\u001b[0m\n",
      "\u001b[32m[I 2020-07-27 14:45:08,510]\u001b[0m Finished trial#962 resulted in value: 0.4933333333333333. Current best value is 0.4746666666666667 with parameters: {'lr': 0.11567471689689475, 'num_leaves': 1, 'max_depth': 4, 'min_child_samples': 4, 'max_bin': 7}.\u001b[0m\n",
      "\u001b[32m[I 2020-07-27 14:45:11,530]\u001b[0m Finished trial#963 resulted in value: 0.512. Current best value is 0.4746666666666667 with parameters: {'lr': 0.11567471689689475, 'num_leaves': 1, 'max_depth': 4, 'min_child_samples': 4, 'max_bin': 7}.\u001b[0m\n",
      "\u001b[32m[I 2020-07-27 14:45:14,606]\u001b[0m Finished trial#964 resulted in value: 0.5093333333333334. Current best value is 0.4746666666666667 with parameters: {'lr': 0.11567471689689475, 'num_leaves': 1, 'max_depth': 4, 'min_child_samples': 4, 'max_bin': 7}.\u001b[0m\n",
      "\u001b[32m[I 2020-07-27 14:45:18,329]\u001b[0m Finished trial#965 resulted in value: 0.4906666666666667. Current best value is 0.4746666666666667 with parameters: {'lr': 0.11567471689689475, 'num_leaves': 1, 'max_depth': 4, 'min_child_samples': 4, 'max_bin': 7}.\u001b[0m\n",
      "\u001b[32m[I 2020-07-27 14:45:21,494]\u001b[0m Finished trial#966 resulted in value: 0.5186666666666666. Current best value is 0.4746666666666667 with parameters: {'lr': 0.11567471689689475, 'num_leaves': 1, 'max_depth': 4, 'min_child_samples': 4, 'max_bin': 7}.\u001b[0m\n",
      "\u001b[32m[I 2020-07-27 14:45:25,566]\u001b[0m Finished trial#967 resulted in value: 0.5013333333333334. Current best value is 0.4746666666666667 with parameters: {'lr': 0.11567471689689475, 'num_leaves': 1, 'max_depth': 4, 'min_child_samples': 4, 'max_bin': 7}.\u001b[0m\n",
      "\u001b[32m[I 2020-07-27 14:45:29,631]\u001b[0m Finished trial#968 resulted in value: 0.492. Current best value is 0.4746666666666667 with parameters: {'lr': 0.11567471689689475, 'num_leaves': 1, 'max_depth': 4, 'min_child_samples': 4, 'max_bin': 7}.\u001b[0m\n",
      "\u001b[32m[I 2020-07-27 14:45:35,005]\u001b[0m Finished trial#969 resulted in value: 0.496. Current best value is 0.4746666666666667 with parameters: {'lr': 0.11567471689689475, 'num_leaves': 1, 'max_depth': 4, 'min_child_samples': 4, 'max_bin': 7}.\u001b[0m\n",
      "\u001b[32m[I 2020-07-27 14:45:40,627]\u001b[0m Finished trial#970 resulted in value: 0.4973333333333333. Current best value is 0.4746666666666667 with parameters: {'lr': 0.11567471689689475, 'num_leaves': 1, 'max_depth': 4, 'min_child_samples': 4, 'max_bin': 7}.\u001b[0m\n",
      "\u001b[32m[I 2020-07-27 14:45:44,656]\u001b[0m Finished trial#971 resulted in value: 0.512. Current best value is 0.4746666666666667 with parameters: {'lr': 0.11567471689689475, 'num_leaves': 1, 'max_depth': 4, 'min_child_samples': 4, 'max_bin': 7}.\u001b[0m\n",
      "\u001b[32m[I 2020-07-27 14:45:49,009]\u001b[0m Finished trial#972 resulted in value: 0.5213333333333333. Current best value is 0.4746666666666667 with parameters: {'lr': 0.11567471689689475, 'num_leaves': 1, 'max_depth': 4, 'min_child_samples': 4, 'max_bin': 7}.\u001b[0m\n",
      "\u001b[32m[I 2020-07-27 14:45:52,701]\u001b[0m Finished trial#973 resulted in value: 0.4933333333333333. Current best value is 0.4746666666666667 with parameters: {'lr': 0.11567471689689475, 'num_leaves': 1, 'max_depth': 4, 'min_child_samples': 4, 'max_bin': 7}.\u001b[0m\n",
      "\u001b[32m[I 2020-07-27 14:45:56,370]\u001b[0m Finished trial#974 resulted in value: 0.4893333333333333. Current best value is 0.4746666666666667 with parameters: {'lr': 0.11567471689689475, 'num_leaves': 1, 'max_depth': 4, 'min_child_samples': 4, 'max_bin': 7}.\u001b[0m\n",
      "\u001b[32m[I 2020-07-27 14:46:00,820]\u001b[0m Finished trial#975 resulted in value: 0.5106666666666666. Current best value is 0.4746666666666667 with parameters: {'lr': 0.11567471689689475, 'num_leaves': 1, 'max_depth': 4, 'min_child_samples': 4, 'max_bin': 7}.\u001b[0m\n",
      "\u001b[32m[I 2020-07-27 14:46:05,712]\u001b[0m Finished trial#976 resulted in value: 0.5066666666666666. Current best value is 0.4746666666666667 with parameters: {'lr': 0.11567471689689475, 'num_leaves': 1, 'max_depth': 4, 'min_child_samples': 4, 'max_bin': 7}.\u001b[0m\n",
      "\u001b[32m[I 2020-07-27 14:46:10,226]\u001b[0m Finished trial#977 resulted in value: 0.512. Current best value is 0.4746666666666667 with parameters: {'lr': 0.11567471689689475, 'num_leaves': 1, 'max_depth': 4, 'min_child_samples': 4, 'max_bin': 7}.\u001b[0m\n",
      "\u001b[32m[I 2020-07-27 14:46:13,108]\u001b[0m Finished trial#978 resulted in value: 0.5013333333333334. Current best value is 0.4746666666666667 with parameters: {'lr': 0.11567471689689475, 'num_leaves': 1, 'max_depth': 4, 'min_child_samples': 4, 'max_bin': 7}.\u001b[0m\n",
      "\u001b[32m[I 2020-07-27 14:46:17,802]\u001b[0m Finished trial#979 resulted in value: 0.5133333333333333. Current best value is 0.4746666666666667 with parameters: {'lr': 0.11567471689689475, 'num_leaves': 1, 'max_depth': 4, 'min_child_samples': 4, 'max_bin': 7}.\u001b[0m\n",
      "\u001b[32m[I 2020-07-27 14:46:20,147]\u001b[0m Finished trial#980 resulted in value: 0.5506666666666666. Current best value is 0.4746666666666667 with parameters: {'lr': 0.11567471689689475, 'num_leaves': 1, 'max_depth': 4, 'min_child_samples': 4, 'max_bin': 7}.\u001b[0m\n",
      "\u001b[32m[I 2020-07-27 14:46:23,915]\u001b[0m Finished trial#981 resulted in value: 0.508. Current best value is 0.4746666666666667 with parameters: {'lr': 0.11567471689689475, 'num_leaves': 1, 'max_depth': 4, 'min_child_samples': 4, 'max_bin': 7}.\u001b[0m\n",
      "\u001b[32m[I 2020-07-27 14:46:30,454]\u001b[0m Finished trial#982 resulted in value: 0.5. Current best value is 0.4746666666666667 with parameters: {'lr': 0.11567471689689475, 'num_leaves': 1, 'max_depth': 4, 'min_child_samples': 4, 'max_bin': 7}.\u001b[0m\n",
      "\u001b[32m[I 2020-07-27 14:46:35,182]\u001b[0m Finished trial#983 resulted in value: 0.4866666666666667. Current best value is 0.4746666666666667 with parameters: {'lr': 0.11567471689689475, 'num_leaves': 1, 'max_depth': 4, 'min_child_samples': 4, 'max_bin': 7}.\u001b[0m\n",
      "\u001b[32m[I 2020-07-27 14:46:40,099]\u001b[0m Finished trial#984 resulted in value: 0.4946666666666667. Current best value is 0.4746666666666667 with parameters: {'lr': 0.11567471689689475, 'num_leaves': 1, 'max_depth': 4, 'min_child_samples': 4, 'max_bin': 7}.\u001b[0m\n",
      "\u001b[32m[I 2020-07-27 14:46:44,221]\u001b[0m Finished trial#985 resulted in value: 0.4853333333333333. Current best value is 0.4746666666666667 with parameters: {'lr': 0.11567471689689475, 'num_leaves': 1, 'max_depth': 4, 'min_child_samples': 4, 'max_bin': 7}.\u001b[0m\n",
      "\u001b[32m[I 2020-07-27 14:46:47,576]\u001b[0m Finished trial#986 resulted in value: 0.496. Current best value is 0.4746666666666667 with parameters: {'lr': 0.11567471689689475, 'num_leaves': 1, 'max_depth': 4, 'min_child_samples': 4, 'max_bin': 7}.\u001b[0m\n",
      "\u001b[32m[I 2020-07-27 14:46:52,942]\u001b[0m Finished trial#987 resulted in value: 0.5053333333333334. Current best value is 0.4746666666666667 with parameters: {'lr': 0.11567471689689475, 'num_leaves': 1, 'max_depth': 4, 'min_child_samples': 4, 'max_bin': 7}.\u001b[0m\n",
      "\u001b[32m[I 2020-07-27 14:46:56,535]\u001b[0m Finished trial#988 resulted in value: 0.4933333333333333. Current best value is 0.4746666666666667 with parameters: {'lr': 0.11567471689689475, 'num_leaves': 1, 'max_depth': 4, 'min_child_samples': 4, 'max_bin': 7}.\u001b[0m\n",
      "\u001b[32m[I 2020-07-27 14:47:04,553]\u001b[0m Finished trial#989 resulted in value: 0.5253333333333333. Current best value is 0.4746666666666667 with parameters: {'lr': 0.11567471689689475, 'num_leaves': 1, 'max_depth': 4, 'min_child_samples': 4, 'max_bin': 7}.\u001b[0m\n",
      "\u001b[32m[I 2020-07-27 14:47:08,054]\u001b[0m Finished trial#990 resulted in value: 0.4933333333333333. Current best value is 0.4746666666666667 with parameters: {'lr': 0.11567471689689475, 'num_leaves': 1, 'max_depth': 4, 'min_child_samples': 4, 'max_bin': 7}.\u001b[0m\n",
      "\u001b[32m[I 2020-07-27 14:47:12,635]\u001b[0m Finished trial#991 resulted in value: 0.508. Current best value is 0.4746666666666667 with parameters: {'lr': 0.11567471689689475, 'num_leaves': 1, 'max_depth': 4, 'min_child_samples': 4, 'max_bin': 7}.\u001b[0m\n",
      "\u001b[32m[I 2020-07-27 14:47:19,232]\u001b[0m Finished trial#992 resulted in value: 0.4853333333333333. Current best value is 0.4746666666666667 with parameters: {'lr': 0.11567471689689475, 'num_leaves': 1, 'max_depth': 4, 'min_child_samples': 4, 'max_bin': 7}.\u001b[0m\n",
      "\u001b[32m[I 2020-07-27 14:47:23,594]\u001b[0m Finished trial#993 resulted in value: 0.496. Current best value is 0.4746666666666667 with parameters: {'lr': 0.11567471689689475, 'num_leaves': 1, 'max_depth': 4, 'min_child_samples': 4, 'max_bin': 7}.\u001b[0m\n",
      "\u001b[32m[I 2020-07-27 14:47:26,672]\u001b[0m Finished trial#994 resulted in value: 0.5. Current best value is 0.4746666666666667 with parameters: {'lr': 0.11567471689689475, 'num_leaves': 1, 'max_depth': 4, 'min_child_samples': 4, 'max_bin': 7}.\u001b[0m\n",
      "\u001b[32m[I 2020-07-27 14:47:30,547]\u001b[0m Finished trial#995 resulted in value: 0.4866666666666667. Current best value is 0.4746666666666667 with parameters: {'lr': 0.11567471689689475, 'num_leaves': 1, 'max_depth': 4, 'min_child_samples': 4, 'max_bin': 7}.\u001b[0m\n",
      "\u001b[32m[I 2020-07-27 14:47:33,761]\u001b[0m Finished trial#996 resulted in value: 0.4986666666666667. Current best value is 0.4746666666666667 with parameters: {'lr': 0.11567471689689475, 'num_leaves': 1, 'max_depth': 4, 'min_child_samples': 4, 'max_bin': 7}.\u001b[0m\n",
      "\u001b[32m[I 2020-07-27 14:47:37,710]\u001b[0m Finished trial#997 resulted in value: 0.5093333333333334. Current best value is 0.4746666666666667 with parameters: {'lr': 0.11567471689689475, 'num_leaves': 1, 'max_depth': 4, 'min_child_samples': 4, 'max_bin': 7}.\u001b[0m\n",
      "\u001b[32m[I 2020-07-27 14:47:42,270]\u001b[0m Finished trial#998 resulted in value: 0.5026666666666666. Current best value is 0.4746666666666667 with parameters: {'lr': 0.11567471689689475, 'num_leaves': 1, 'max_depth': 4, 'min_child_samples': 4, 'max_bin': 7}.\u001b[0m\n",
      "\u001b[32m[I 2020-07-27 14:47:47,062]\u001b[0m Finished trial#999 resulted in value: 0.4933333333333333. Current best value is 0.4746666666666667 with parameters: {'lr': 0.11567471689689475, 'num_leaves': 1, 'max_depth': 4, 'min_child_samples': 4, 'max_bin': 7}.\u001b[0m\n"
     ]
    }
   ],
   "source": [
    "TRIAL_SIZE = 1000\n",
    "study = optuna.create_study()\n",
    "study.optimize(objective, n_trials=TRIAL_SIZE, n_jobs=1)"
   ]
  },
  {
   "cell_type": "markdown",
   "metadata": {},
   "source": [
    "---\n",
    "This is the best parameters.\n",
    "\n",
    "---"
   ]
  },
  {
   "cell_type": "code",
   "execution_count": 30,
   "metadata": {},
   "outputs": [
    {
     "data": {
      "text/plain": [
       "{'objective': 'multiclass',\n",
       " 'num_class': 8,\n",
       " 'learning_rate': 0.11567471689689475,\n",
       " 'num_leaves': 7,\n",
       " 'min_child_samples': 31,\n",
       " 'max_depth': 31,\n",
       " 'max_bin': 127}"
      ]
     },
     "execution_count": 30,
     "metadata": {},
     "output_type": "execute_result"
    }
   ],
   "source": [
    "bp = study.best_params\n",
    "lgbm_params = {\n",
    "    \"objective\": \"multiclass\",\n",
    "    \"num_class\": len(classes),\n",
    "    \"learning_rate\": bp[\"lr\"],\n",
    "    \"num_leaves\": 8*bp[\"num_leaves\"]-1,\n",
    "    \"min_child_samples\": 8*bp[\"min_child_samples\"]-1,\n",
    "    \"max_depth\": 8*bp[\"max_depth\"]-1,\n",
    "    \"max_bin\": 2**bp[\"max_bin\"]-1\n",
    "}\n",
    "lgbm_params"
   ]
  },
  {
   "cell_type": "markdown",
   "metadata": {},
   "source": [
    "---\n",
    "Since this process is also painstaking, I wrote down the optimum parameters. Run the code below to obtain.\n",
    "\n",
    "---"
   ]
  },
  {
   "cell_type": "raw",
   "metadata": {},
   "source": [
    "bp = {'lr': 0.14945137284044552,\n",
    " 'num_leaves': 1,\n",
    " 'max_depth': 5,\n",
    " 'min_child_samples': 2,\n",
    " 'max_bin': 7}\n",
    "lgbm_params = {\n",
    "    \"objective\": \"multiclass\",\n",
    "    \"num_class\": len(classes),\n",
    "    \"learning_rate\": bp[\"lr\"],\n",
    "    \"num_leaves\": 4*bp[\"num_leaves\"]-1,\n",
    "    \"min_child_samples\": 4*bp[\"min_child_samples\"]-1,\n",
    "    \"max_depth\": 4*bp[\"max_depth\"]-1,\n",
    "    \"max_bin\": 2**bp[\"max_bin\"]-1\n",
    "}\n",
    "lgbm_params"
   ]
  },
  {
   "cell_type": "raw",
   "metadata": {},
   "source": [
    "lgbm_params = {\n",
    "    \"objective\": \"multiclass\",\n",
    "    \"num_class\": len(classes),\n",
    "    \"learning_rate\": 0.1,\n",
    "    \"num_leaves\": 3,\n",
    "    \"min_child_samples\": 7,\n",
    "    \"max_depth\": 11,\n",
    "    \"max_bin\": 15\n",
    "}\n",
    "lgbm_params"
   ]
  },
  {
   "cell_type": "markdown",
   "metadata": {},
   "source": [
    "---\n",
    "Let's train LightGBM with optimum hyper parameters.\n",
    "\n",
    "---"
   ]
  },
  {
   "cell_type": "code",
   "execution_count": 31,
   "metadata": {},
   "outputs": [],
   "source": [
    "model = lgb.train(lgbm_params, lgb_train, \n",
    "                  valid_sets=lgb_valid, \n",
    "                  num_boost_round=1000, \n",
    "                  early_stopping_rounds=100,\n",
    "                  verbose_eval=False\n",
    "                 )"
   ]
  },
  {
   "cell_type": "markdown",
   "metadata": {},
   "source": [
    "---\n",
    "Check the train, validation, and test results.\n",
    "\n",
    "---"
   ]
  },
  {
   "cell_type": "code",
   "execution_count": 32,
   "metadata": {},
   "outputs": [
    {
     "data": {
      "text/plain": [
       "('train', 1.0)"
      ]
     },
     "execution_count": 32,
     "metadata": {},
     "output_type": "execute_result"
    }
   ],
   "source": [
    "y_pred = model.predict(X_train, num_iteration=model.best_iteration)\n",
    "y_pred = np.argmax(y_pred, axis=1)\n",
    "accuracy = accuracy_score(y_train, y_pred)\n",
    "\"train\", accuracy"
   ]
  },
  {
   "cell_type": "code",
   "execution_count": 33,
   "metadata": {},
   "outputs": [
    {
     "data": {
      "text/plain": [
       "('valid', 0.5253333333333333)"
      ]
     },
     "execution_count": 33,
     "metadata": {},
     "output_type": "execute_result"
    }
   ],
   "source": [
    "y_pred = model.predict(X_valid, num_iteration=model.best_iteration)\n",
    "y_pred = np.argmax(y_pred, axis=1)\n",
    "accuracy = accuracy_score(y_valid, y_pred)\n",
    "\"valid\", accuracy"
   ]
  },
  {
   "cell_type": "code",
   "execution_count": 34,
   "metadata": {},
   "outputs": [
    {
     "data": {
      "text/plain": [
       "('test', 0.524)"
      ]
     },
     "execution_count": 34,
     "metadata": {},
     "output_type": "execute_result"
    }
   ],
   "source": [
    "y_pred = model.predict(X_test, num_iteration=model.best_iteration)\n",
    "y_pred = np.argmax(y_pred, axis=1)\n",
    "accuracy = accuracy_score(y_test, y_pred)\n",
    "\"test\", accuracy"
   ]
  },
  {
   "cell_type": "markdown",
   "metadata": {},
   "source": [
    "---\n",
    "Since the model is *dfadfasfdsafsa*. \n",
    "Get the important feature for this classification.\n",
    "\n",
    "---"
   ]
  },
  {
   "cell_type": "code",
   "execution_count": 35,
   "metadata": {},
   "outputs": [],
   "source": [
    "importance = pd.DataFrame(model.feature_importance(), index=range(z_.shape[0]), columns=['importance'])\n",
    "a = np.reshape(np.arange(z_.shape[0]), (z_.shape[0], 1))\n",
    "importance = np.hstack((a, importance))"
   ]
  },
  {
   "cell_type": "code",
   "execution_count": 36,
   "metadata": {},
   "outputs": [
    {
     "data": {
      "text/html": [
       "<div>\n",
       "<style scoped>\n",
       "    .dataframe tbody tr th:only-of-type {\n",
       "        vertical-align: middle;\n",
       "    }\n",
       "\n",
       "    .dataframe tbody tr th {\n",
       "        vertical-align: top;\n",
       "    }\n",
       "\n",
       "    .dataframe thead th {\n",
       "        text-align: right;\n",
       "    }\n",
       "</style>\n",
       "<table border=\"1\" class=\"dataframe\">\n",
       "  <thead>\n",
       "    <tr style=\"text-align: right;\">\n",
       "      <th></th>\n",
       "      <th>feature</th>\n",
       "      <th>importance</th>\n",
       "    </tr>\n",
       "  </thead>\n",
       "  <tbody>\n",
       "    <tr>\n",
       "      <th>1st</th>\n",
       "      <td>100</td>\n",
       "      <td>400</td>\n",
       "    </tr>\n",
       "    <tr>\n",
       "      <th>2nd</th>\n",
       "      <td>91</td>\n",
       "      <td>347</td>\n",
       "    </tr>\n",
       "    <tr>\n",
       "      <th>3rd</th>\n",
       "      <td>73</td>\n",
       "      <td>300</td>\n",
       "    </tr>\n",
       "    <tr>\n",
       "      <th>4th</th>\n",
       "      <td>47</td>\n",
       "      <td>298</td>\n",
       "    </tr>\n",
       "    <tr>\n",
       "      <th>5th</th>\n",
       "      <td>6</td>\n",
       "      <td>295</td>\n",
       "    </tr>\n",
       "    <tr>\n",
       "      <th>6th</th>\n",
       "      <td>120</td>\n",
       "      <td>284</td>\n",
       "    </tr>\n",
       "    <tr>\n",
       "      <th>7th</th>\n",
       "      <td>71</td>\n",
       "      <td>283</td>\n",
       "    </tr>\n",
       "    <tr>\n",
       "      <th>8th</th>\n",
       "      <td>46</td>\n",
       "      <td>261</td>\n",
       "    </tr>\n",
       "    <tr>\n",
       "      <th>9th</th>\n",
       "      <td>66</td>\n",
       "      <td>251</td>\n",
       "    </tr>\n",
       "    <tr>\n",
       "      <th>10th</th>\n",
       "      <td>11</td>\n",
       "      <td>239</td>\n",
       "    </tr>\n",
       "  </tbody>\n",
       "</table>\n",
       "</div>"
      ],
      "text/plain": [
       "      feature  importance\n",
       "1st       100         400\n",
       "2nd        91         347\n",
       "3rd        73         300\n",
       "4th        47         298\n",
       "5th         6         295\n",
       "6th       120         284\n",
       "7th        71         283\n",
       "8th        46         261\n",
       "9th        66         251\n",
       "10th       11         239"
      ]
     },
     "execution_count": 36,
     "metadata": {},
     "output_type": "execute_result"
    }
   ],
   "source": [
    "num = 10\n",
    "importance_sort = importance[np.argsort(importance[:, 1])[::-1], :]\n",
    "arg_sort = importance_sort[:, 0]\n",
    "pd.DataFrame(importance_sort[:num, :], columns=[\"feature\", \"importance\"], index=[ordinal(i) for i in range(1, num+1)])"
   ]
  },
  {
   "cell_type": "markdown",
   "metadata": {},
   "source": [
    "### Extranction of imoprtant $k(10)$ features and $m(3)$-features classification.\n",
    "---\n",
    "As the title put it, I extracted the most $k(10)$ important features.\n",
    "Then, I conducted classification with $m(3)$ features out of $k$ features, in all possible combinations.\n",
    "In this classification, hyper-parameter tuning is also carried out in each classification individually.\n",
    "After that, $m$-dimension vector which has the highest accuracy is selected.\n",
    "\n",
    "---"
   ]
  },
  {
   "cell_type": "markdown",
   "metadata": {},
   "source": [
    "---\n",
    "***best_num***: it represents \\# of features I extracted, $k$ in the steps.\n",
    "\n",
    "***dim***: it represents the dimension of final label, $m$ in the steps.\n",
    "\n",
    "---"
   ]
  },
  {
   "cell_type": "code",
   "execution_count": 37,
   "metadata": {},
   "outputs": [],
   "source": [
    "best_num = 10\n",
    "dim = 3"
   ]
  },
  {
   "cell_type": "code",
   "execution_count": 38,
   "metadata": {},
   "outputs": [
    {
     "name": "stdout",
     "output_type": "stream",
     "text": [
      "120 / 120\n"
     ]
    }
   ],
   "source": [
    "v_list = []\n",
    "acc_list = []\n",
    "i = 0\n",
    "combinations = list(itertools.combinations(list(range(best_num)), dim))\n",
    "for v in combinations:\n",
    "    i += 1\n",
    "    v = np.array(v)\n",
    "    z_3d = z_[arg_sort[v], :]\n",
    "    X = copy.copy(z_3d.T)\n",
    "    np.random.seed(0)\n",
    "    X_train, X_test, y_train, y_test = train_test_split(X, y, random_state=42)\n",
    "    X_valid, X_test, y_valid, y_test = train_test_split(X_test, y_test, random_state=42)\n",
    "    lgb_train = lgb.Dataset(X_train, y_train)\n",
    "    lgb_valid = lgb.Dataset(X_valid, y_valid, reference=lgb_train)\n",
    "    \n",
    "    study = optuna.create_study()\n",
    "    study.optimize(objective, n_trials=100)\n",
    "    bp = study.best_params\n",
    "    lgbm_params = {\n",
    "        \"objective\": \"multiclass\",\n",
    "        \"num_class\": len(classes),\n",
    "        \"learning_rate\": bp[\"lr\"],\n",
    "        \"num_leaves\": 8*bp[\"num_leaves\"]-1,\n",
    "        \"min_child_samples\": 8*bp[\"min_child_samples\"]-1,\n",
    "        \"max_depth\": 8*bp[\"max_depth\"]-1,\n",
    "        \"max_bin\": 2**bp[\"max_bin\"]-1\n",
    "    }\n",
    "    clear_output(wait=True)\n",
    "    \n",
    "    model = lgb.train(lgbm_params, lgb_train, \n",
    "                      valid_sets=lgb_valid, \n",
    "                      num_boost_round=1000, \n",
    "                      early_stopping_rounds=100,\n",
    "                      verbose_eval=False\n",
    "                     )\n",
    "    \n",
    "    y_pred = model.predict(X_test, num_iteration=model.best_iteration)\n",
    "    y_pred = np.argmax(y_pred, axis=1)\n",
    "    accuracy = accuracy_score(y_test, y_pred)\n",
    "    acc_list.append(accuracy)\n",
    "    v_list.append(v)\n",
    "    print(f\"{i} / {len(combinations)}\" )"
   ]
  },
  {
   "cell_type": "raw",
   "metadata": {},
   "source": [
    "v_list = []\n",
    "acc_list = []\n",
    "i = 0\n",
    "combinations = list(itertools.combinations(list(range(best_num)), dim))\n",
    "for v in combinations:\n",
    "    i += 1\n",
    "    v = np.array(v)\n",
    "    z_3d = z_[arg_sort[v], :]\n",
    "    X = copy.copy(z_3d.T)\n",
    "    np.random.seed(0)\n",
    "    X_train, X_test, y_train, y_test = train_test_split(X, y, random_state=42)\n",
    "    X_valid, X_test, y_valid, y_test = train_test_split(X_test, y_test, random_state=42)\n",
    "    lgb_train = lgb.Dataset(X_train, y_train)\n",
    "    lgb_valid = lgb.Dataset(X_valid, y_valid, reference=lgb_train)\n",
    "    \n",
    "    model = lgb.train(lgbm_params, lgb_train, \n",
    "                      valid_sets=lgb_valid, \n",
    "                      num_boost_round=1000, \n",
    "                      early_stopping_rounds=100,\n",
    "                      verbose_eval=False\n",
    "                     )\n",
    "    \n",
    "    y_pred = model.predict(X_test, num_iteration=model.best_iteration)\n",
    "    y_pred = np.argmax(y_pred, axis=1)\n",
    "    accuracy = accuracy_score(y_test, y_pred)\n",
    "    acc_list.append(accuracy)\n",
    "    v_list.append(v)\n",
    "    clear_output(wait=True)\n",
    "    print(f\"{i} / {len(combinations)}\" )"
   ]
  },
  {
   "cell_type": "markdown",
   "metadata": {},
   "source": [
    "---\n",
    "Extract the best 3 features.\n",
    "\n",
    "---"
   ]
  },
  {
   "cell_type": "code",
   "execution_count": 40,
   "metadata": {},
   "outputs": [
    {
     "data": {
      "text/plain": [
       "array([  6,  91, 100])"
      ]
     },
     "execution_count": 40,
     "metadata": {},
     "output_type": "execute_result"
    }
   ],
   "source": [
    "feature_sort = np.array(v_list)[np.argsort(acc_list), :][::-1,:]\n",
    "arange = np.sort(arg_sort[[feature_sort[0]]])\n",
    "z_3d = z_[arange, :]\n",
    "arange"
   ]
  },
  {
   "cell_type": "markdown",
   "metadata": {},
   "source": [
    "---\n",
    "The extracted features might be different as you train LightGBM due to the non-stability of training.\n",
    "\n",
    "In my experiment, the important feautures are *6*, *91*, and *100* in the VAE I trained.\n",
    "\n",
    "---"
   ]
  },
  {
   "cell_type": "markdown",
   "metadata": {},
   "source": [
    "### Take an avarage by the classes\n",
    "---\n",
    "In order to use as the label, I took an average of the extracted vector by the classes, and the shape will be (3, 8).\n",
    "\n",
    "---"
   ]
  },
  {
   "cell_type": "code",
   "execution_count": 41,
   "metadata": {},
   "outputs": [
    {
     "name": "stdout",
     "output_type": "stream",
     "text": [
      "0 [-0.17578965  0.27388418 -0.41167694]\n",
      "1 [ 0.20066902  0.22555672 -0.32801148]\n",
      "2 [0.0912234  0.18957677 0.35079104]\n",
      "3 [0.40836665 0.14090845 0.1924517 ]\n",
      "4 [-0.34577882 -0.49618778 -0.7121413 ]\n",
      "5 [-0.19866806 -0.5255212  -0.61670256]\n",
      "6 [ 0.07906556 -0.50958645 -0.01499732]\n",
      "7 [ 0.122086   -0.5108191   0.13009055]\n"
     ]
    }
   ],
   "source": [
    "center = np.array([])\n",
    "for lbl in classes:\n",
    "    array = z_3d[:, labels==lbl]\n",
    "    mean = np.mean(array, axis=1)\n",
    "    print(lbl, mean)\n",
    "    center = np.append(center, mean)\n",
    "#     print(lbl, mean)\n",
    "center = np.reshape(center, (-1, dim))    "
   ]
  },
  {
   "cell_type": "markdown",
   "metadata": {},
   "source": [
    "---\n",
    "Visualization of the label.\n",
    "\n",
    "You can control it interactively.\n",
    "\n",
    "---"
   ]
  },
  {
   "cell_type": "code",
   "execution_count": 42,
   "metadata": {},
   "outputs": [
    {
     "data": {
      "application/vnd.plotly.v1+json": {
       "config": {
        "linkText": "Export to plot.ly",
        "plotlyServerURL": "https://plot.ly",
        "showLink": false
       },
       "data": [
        {
         "marker": {
          "size": 8
         },
         "mode": "markers",
         "name": "male, smiling, young",
         "type": "scatter3d",
         "x": [
          -0.17578965425491333
         ],
         "y": [
          0.2738841772079468
         ],
         "z": [
          -0.41167694330215454
         ]
        },
        {
         "marker": {
          "size": 8
         },
         "mode": "markers",
         "name": "male, smiling, old",
         "type": "scatter3d",
         "x": [
          0.20066902041435242
         ],
         "y": [
          0.22555671632289886
         ],
         "z": [
          -0.32801148295402527
         ]
        },
        {
         "marker": {
          "size": 8
         },
         "mode": "markers",
         "name": "male, not_smiling, young",
         "type": "scatter3d",
         "x": [
          0.09122339636087418
         ],
         "y": [
          0.18957677483558655
         ],
         "z": [
          0.3507910370826721
         ]
        },
        {
         "marker": {
          "size": 8
         },
         "mode": "markers",
         "name": "male, not_smiling, old",
         "type": "scatter3d",
         "x": [
          0.4083666503429413
         ],
         "y": [
          0.14090844988822937
         ],
         "z": [
          0.19245170056819916
         ]
        },
        {
         "marker": {
          "size": 8
         },
         "mode": "markers",
         "name": "female, smiling, young",
         "type": "scatter3d",
         "x": [
          -0.34577882289886475
         ],
         "y": [
          -0.4961877763271332
         ],
         "z": [
          -0.7121412754058838
         ]
        },
        {
         "marker": {
          "size": 8
         },
         "mode": "markers",
         "name": "female, smiling, old",
         "type": "scatter3d",
         "x": [
          -0.19866806268692017
         ],
         "y": [
          -0.5255212187767029
         ],
         "z": [
          -0.6167025566101074
         ]
        },
        {
         "marker": {
          "size": 8
         },
         "mode": "markers",
         "name": "female, not_smiling, young",
         "type": "scatter3d",
         "x": [
          0.07906556129455566
         ],
         "y": [
          -0.5095864534378052
         ],
         "z": [
          -0.014997323974967003
         ]
        },
        {
         "marker": {
          "size": 8
         },
         "mode": "markers",
         "name": "female, not_smiling, old",
         "type": "scatter3d",
         "x": [
          0.12208599597215652
         ],
         "y": [
          -0.5108190774917603
         ],
         "z": [
          0.13009054958820343
         ]
        }
       ],
       "layout": {
        "height": 500,
        "scene": {
         "aspectmode": "auto",
         "aspectratio": {
          "x": 0.8747404116213308,
          "y": 0.9272378207482971,
          "z": 1.2329051642450535
         },
         "camera": {
          "center": {
           "x": 0,
           "y": 0,
           "z": 0
          },
          "eye": {
           "x": -0.23038713659602994,
           "y": 1.6494030984780397,
           "z": 1.7443414445253616
          },
          "projection": {
           "type": "perspective"
          },
          "up": {
           "x": 0,
           "y": 0,
           "z": 1
          }
         }
        },
        "template": {
         "data": {
          "bar": [
           {
            "error_x": {
             "color": "#2a3f5f"
            },
            "error_y": {
             "color": "#2a3f5f"
            },
            "marker": {
             "line": {
              "color": "#E5ECF6",
              "width": 0.5
             }
            },
            "type": "bar"
           }
          ],
          "barpolar": [
           {
            "marker": {
             "line": {
              "color": "#E5ECF6",
              "width": 0.5
             }
            },
            "type": "barpolar"
           }
          ],
          "carpet": [
           {
            "aaxis": {
             "endlinecolor": "#2a3f5f",
             "gridcolor": "white",
             "linecolor": "white",
             "minorgridcolor": "white",
             "startlinecolor": "#2a3f5f"
            },
            "baxis": {
             "endlinecolor": "#2a3f5f",
             "gridcolor": "white",
             "linecolor": "white",
             "minorgridcolor": "white",
             "startlinecolor": "#2a3f5f"
            },
            "type": "carpet"
           }
          ],
          "choropleth": [
           {
            "colorbar": {
             "outlinewidth": 0,
             "ticks": ""
            },
            "type": "choropleth"
           }
          ],
          "contour": [
           {
            "colorbar": {
             "outlinewidth": 0,
             "ticks": ""
            },
            "colorscale": [
             [
              0,
              "#0d0887"
             ],
             [
              0.1111111111111111,
              "#46039f"
             ],
             [
              0.2222222222222222,
              "#7201a8"
             ],
             [
              0.3333333333333333,
              "#9c179e"
             ],
             [
              0.4444444444444444,
              "#bd3786"
             ],
             [
              0.5555555555555556,
              "#d8576b"
             ],
             [
              0.6666666666666666,
              "#ed7953"
             ],
             [
              0.7777777777777778,
              "#fb9f3a"
             ],
             [
              0.8888888888888888,
              "#fdca26"
             ],
             [
              1,
              "#f0f921"
             ]
            ],
            "type": "contour"
           }
          ],
          "contourcarpet": [
           {
            "colorbar": {
             "outlinewidth": 0,
             "ticks": ""
            },
            "type": "contourcarpet"
           }
          ],
          "heatmap": [
           {
            "colorbar": {
             "outlinewidth": 0,
             "ticks": ""
            },
            "colorscale": [
             [
              0,
              "#0d0887"
             ],
             [
              0.1111111111111111,
              "#46039f"
             ],
             [
              0.2222222222222222,
              "#7201a8"
             ],
             [
              0.3333333333333333,
              "#9c179e"
             ],
             [
              0.4444444444444444,
              "#bd3786"
             ],
             [
              0.5555555555555556,
              "#d8576b"
             ],
             [
              0.6666666666666666,
              "#ed7953"
             ],
             [
              0.7777777777777778,
              "#fb9f3a"
             ],
             [
              0.8888888888888888,
              "#fdca26"
             ],
             [
              1,
              "#f0f921"
             ]
            ],
            "type": "heatmap"
           }
          ],
          "heatmapgl": [
           {
            "colorbar": {
             "outlinewidth": 0,
             "ticks": ""
            },
            "colorscale": [
             [
              0,
              "#0d0887"
             ],
             [
              0.1111111111111111,
              "#46039f"
             ],
             [
              0.2222222222222222,
              "#7201a8"
             ],
             [
              0.3333333333333333,
              "#9c179e"
             ],
             [
              0.4444444444444444,
              "#bd3786"
             ],
             [
              0.5555555555555556,
              "#d8576b"
             ],
             [
              0.6666666666666666,
              "#ed7953"
             ],
             [
              0.7777777777777778,
              "#fb9f3a"
             ],
             [
              0.8888888888888888,
              "#fdca26"
             ],
             [
              1,
              "#f0f921"
             ]
            ],
            "type": "heatmapgl"
           }
          ],
          "histogram": [
           {
            "marker": {
             "colorbar": {
              "outlinewidth": 0,
              "ticks": ""
             }
            },
            "type": "histogram"
           }
          ],
          "histogram2d": [
           {
            "colorbar": {
             "outlinewidth": 0,
             "ticks": ""
            },
            "colorscale": [
             [
              0,
              "#0d0887"
             ],
             [
              0.1111111111111111,
              "#46039f"
             ],
             [
              0.2222222222222222,
              "#7201a8"
             ],
             [
              0.3333333333333333,
              "#9c179e"
             ],
             [
              0.4444444444444444,
              "#bd3786"
             ],
             [
              0.5555555555555556,
              "#d8576b"
             ],
             [
              0.6666666666666666,
              "#ed7953"
             ],
             [
              0.7777777777777778,
              "#fb9f3a"
             ],
             [
              0.8888888888888888,
              "#fdca26"
             ],
             [
              1,
              "#f0f921"
             ]
            ],
            "type": "histogram2d"
           }
          ],
          "histogram2dcontour": [
           {
            "colorbar": {
             "outlinewidth": 0,
             "ticks": ""
            },
            "colorscale": [
             [
              0,
              "#0d0887"
             ],
             [
              0.1111111111111111,
              "#46039f"
             ],
             [
              0.2222222222222222,
              "#7201a8"
             ],
             [
              0.3333333333333333,
              "#9c179e"
             ],
             [
              0.4444444444444444,
              "#bd3786"
             ],
             [
              0.5555555555555556,
              "#d8576b"
             ],
             [
              0.6666666666666666,
              "#ed7953"
             ],
             [
              0.7777777777777778,
              "#fb9f3a"
             ],
             [
              0.8888888888888888,
              "#fdca26"
             ],
             [
              1,
              "#f0f921"
             ]
            ],
            "type": "histogram2dcontour"
           }
          ],
          "mesh3d": [
           {
            "colorbar": {
             "outlinewidth": 0,
             "ticks": ""
            },
            "type": "mesh3d"
           }
          ],
          "parcoords": [
           {
            "line": {
             "colorbar": {
              "outlinewidth": 0,
              "ticks": ""
             }
            },
            "type": "parcoords"
           }
          ],
          "pie": [
           {
            "automargin": true,
            "type": "pie"
           }
          ],
          "scatter": [
           {
            "marker": {
             "colorbar": {
              "outlinewidth": 0,
              "ticks": ""
             }
            },
            "type": "scatter"
           }
          ],
          "scatter3d": [
           {
            "line": {
             "colorbar": {
              "outlinewidth": 0,
              "ticks": ""
             }
            },
            "marker": {
             "colorbar": {
              "outlinewidth": 0,
              "ticks": ""
             }
            },
            "type": "scatter3d"
           }
          ],
          "scattercarpet": [
           {
            "marker": {
             "colorbar": {
              "outlinewidth": 0,
              "ticks": ""
             }
            },
            "type": "scattercarpet"
           }
          ],
          "scattergeo": [
           {
            "marker": {
             "colorbar": {
              "outlinewidth": 0,
              "ticks": ""
             }
            },
            "type": "scattergeo"
           }
          ],
          "scattergl": [
           {
            "marker": {
             "colorbar": {
              "outlinewidth": 0,
              "ticks": ""
             }
            },
            "type": "scattergl"
           }
          ],
          "scattermapbox": [
           {
            "marker": {
             "colorbar": {
              "outlinewidth": 0,
              "ticks": ""
             }
            },
            "type": "scattermapbox"
           }
          ],
          "scatterpolar": [
           {
            "marker": {
             "colorbar": {
              "outlinewidth": 0,
              "ticks": ""
             }
            },
            "type": "scatterpolar"
           }
          ],
          "scatterpolargl": [
           {
            "marker": {
             "colorbar": {
              "outlinewidth": 0,
              "ticks": ""
             }
            },
            "type": "scatterpolargl"
           }
          ],
          "scatterternary": [
           {
            "marker": {
             "colorbar": {
              "outlinewidth": 0,
              "ticks": ""
             }
            },
            "type": "scatterternary"
           }
          ],
          "surface": [
           {
            "colorbar": {
             "outlinewidth": 0,
             "ticks": ""
            },
            "colorscale": [
             [
              0,
              "#0d0887"
             ],
             [
              0.1111111111111111,
              "#46039f"
             ],
             [
              0.2222222222222222,
              "#7201a8"
             ],
             [
              0.3333333333333333,
              "#9c179e"
             ],
             [
              0.4444444444444444,
              "#bd3786"
             ],
             [
              0.5555555555555556,
              "#d8576b"
             ],
             [
              0.6666666666666666,
              "#ed7953"
             ],
             [
              0.7777777777777778,
              "#fb9f3a"
             ],
             [
              0.8888888888888888,
              "#fdca26"
             ],
             [
              1,
              "#f0f921"
             ]
            ],
            "type": "surface"
           }
          ],
          "table": [
           {
            "cells": {
             "fill": {
              "color": "#EBF0F8"
             },
             "line": {
              "color": "white"
             }
            },
            "header": {
             "fill": {
              "color": "#C8D4E3"
             },
             "line": {
              "color": "white"
             }
            },
            "type": "table"
           }
          ]
         },
         "layout": {
          "annotationdefaults": {
           "arrowcolor": "#2a3f5f",
           "arrowhead": 0,
           "arrowwidth": 1
          },
          "coloraxis": {
           "colorbar": {
            "outlinewidth": 0,
            "ticks": ""
           }
          },
          "colorscale": {
           "diverging": [
            [
             0,
             "#8e0152"
            ],
            [
             0.1,
             "#c51b7d"
            ],
            [
             0.2,
             "#de77ae"
            ],
            [
             0.3,
             "#f1b6da"
            ],
            [
             0.4,
             "#fde0ef"
            ],
            [
             0.5,
             "#f7f7f7"
            ],
            [
             0.6,
             "#e6f5d0"
            ],
            [
             0.7,
             "#b8e186"
            ],
            [
             0.8,
             "#7fbc41"
            ],
            [
             0.9,
             "#4d9221"
            ],
            [
             1,
             "#276419"
            ]
           ],
           "sequential": [
            [
             0,
             "#0d0887"
            ],
            [
             0.1111111111111111,
             "#46039f"
            ],
            [
             0.2222222222222222,
             "#7201a8"
            ],
            [
             0.3333333333333333,
             "#9c179e"
            ],
            [
             0.4444444444444444,
             "#bd3786"
            ],
            [
             0.5555555555555556,
             "#d8576b"
            ],
            [
             0.6666666666666666,
             "#ed7953"
            ],
            [
             0.7777777777777778,
             "#fb9f3a"
            ],
            [
             0.8888888888888888,
             "#fdca26"
            ],
            [
             1,
             "#f0f921"
            ]
           ],
           "sequentialminus": [
            [
             0,
             "#0d0887"
            ],
            [
             0.1111111111111111,
             "#46039f"
            ],
            [
             0.2222222222222222,
             "#7201a8"
            ],
            [
             0.3333333333333333,
             "#9c179e"
            ],
            [
             0.4444444444444444,
             "#bd3786"
            ],
            [
             0.5555555555555556,
             "#d8576b"
            ],
            [
             0.6666666666666666,
             "#ed7953"
            ],
            [
             0.7777777777777778,
             "#fb9f3a"
            ],
            [
             0.8888888888888888,
             "#fdca26"
            ],
            [
             1,
             "#f0f921"
            ]
           ]
          },
          "colorway": [
           "#636efa",
           "#EF553B",
           "#00cc96",
           "#ab63fa",
           "#FFA15A",
           "#19d3f3",
           "#FF6692",
           "#B6E880",
           "#FF97FF",
           "#FECB52"
          ],
          "font": {
           "color": "#2a3f5f"
          },
          "geo": {
           "bgcolor": "white",
           "lakecolor": "white",
           "landcolor": "#E5ECF6",
           "showlakes": true,
           "showland": true,
           "subunitcolor": "white"
          },
          "hoverlabel": {
           "align": "left"
          },
          "hovermode": "closest",
          "mapbox": {
           "style": "light"
          },
          "paper_bgcolor": "white",
          "plot_bgcolor": "#E5ECF6",
          "polar": {
           "angularaxis": {
            "gridcolor": "white",
            "linecolor": "white",
            "ticks": ""
           },
           "bgcolor": "#E5ECF6",
           "radialaxis": {
            "gridcolor": "white",
            "linecolor": "white",
            "ticks": ""
           }
          },
          "scene": {
           "xaxis": {
            "backgroundcolor": "#E5ECF6",
            "gridcolor": "white",
            "gridwidth": 2,
            "linecolor": "white",
            "showbackground": true,
            "ticks": "",
            "zerolinecolor": "white"
           },
           "yaxis": {
            "backgroundcolor": "#E5ECF6",
            "gridcolor": "white",
            "gridwidth": 2,
            "linecolor": "white",
            "showbackground": true,
            "ticks": "",
            "zerolinecolor": "white"
           },
           "zaxis": {
            "backgroundcolor": "#E5ECF6",
            "gridcolor": "white",
            "gridwidth": 2,
            "linecolor": "white",
            "showbackground": true,
            "ticks": "",
            "zerolinecolor": "white"
           }
          },
          "shapedefaults": {
           "line": {
            "color": "#2a3f5f"
           }
          },
          "ternary": {
           "aaxis": {
            "gridcolor": "white",
            "linecolor": "white",
            "ticks": ""
           },
           "baxis": {
            "gridcolor": "white",
            "linecolor": "white",
            "ticks": ""
           },
           "bgcolor": "#E5ECF6",
           "caxis": {
            "gridcolor": "white",
            "linecolor": "white",
            "ticks": ""
           }
          },
          "title": {
           "x": 0.05
          },
          "xaxis": {
           "automargin": true,
           "gridcolor": "white",
           "linecolor": "white",
           "ticks": "",
           "title": {
            "standoff": 15
           },
           "zerolinecolor": "white",
           "zerolinewidth": 2
          },
          "yaxis": {
           "automargin": true,
           "gridcolor": "white",
           "linecolor": "white",
           "ticks": "",
           "title": {
            "standoff": 15
           },
           "zerolinecolor": "white",
           "zerolinewidth": 2
          }
         }
        },
        "width": 700
       }
      },
      "text/html": [
       "<div>\n",
       "        \n",
       "        \n",
       "            <div id=\"8ae2622d-8d68-4089-b99d-3887056d4b06\" class=\"plotly-graph-div\" style=\"height:500px; width:700px;\"></div>\n",
       "            <script type=\"text/javascript\">\n",
       "                require([\"plotly\"], function(Plotly) {\n",
       "                    window.PLOTLYENV=window.PLOTLYENV || {};\n",
       "                    \n",
       "                if (document.getElementById(\"8ae2622d-8d68-4089-b99d-3887056d4b06\")) {\n",
       "                    Plotly.newPlot(\n",
       "                        '8ae2622d-8d68-4089-b99d-3887056d4b06',\n",
       "                        [{\"marker\": {\"size\": 8}, \"mode\": \"markers\", \"name\": \"male, smiling, young\", \"type\": \"scatter3d\", \"x\": [-0.17578965425491333], \"y\": [0.2738841772079468], \"z\": [-0.41167694330215454]}, {\"marker\": {\"size\": 8}, \"mode\": \"markers\", \"name\": \"male, smiling, old\", \"type\": \"scatter3d\", \"x\": [0.20066902041435242], \"y\": [0.22555671632289886], \"z\": [-0.32801148295402527]}, {\"marker\": {\"size\": 8}, \"mode\": \"markers\", \"name\": \"male, not_smiling, young\", \"type\": \"scatter3d\", \"x\": [0.09122339636087418], \"y\": [0.18957677483558655], \"z\": [0.3507910370826721]}, {\"marker\": {\"size\": 8}, \"mode\": \"markers\", \"name\": \"male, not_smiling, old\", \"type\": \"scatter3d\", \"x\": [0.4083666503429413], \"y\": [0.14090844988822937], \"z\": [0.19245170056819916]}, {\"marker\": {\"size\": 8}, \"mode\": \"markers\", \"name\": \"female, smiling, young\", \"type\": \"scatter3d\", \"x\": [-0.34577882289886475], \"y\": [-0.4961877763271332], \"z\": [-0.7121412754058838]}, {\"marker\": {\"size\": 8}, \"mode\": \"markers\", \"name\": \"female, smiling, old\", \"type\": \"scatter3d\", \"x\": [-0.19866806268692017], \"y\": [-0.5255212187767029], \"z\": [-0.6167025566101074]}, {\"marker\": {\"size\": 8}, \"mode\": \"markers\", \"name\": \"female, not_smiling, young\", \"type\": \"scatter3d\", \"x\": [0.07906556129455566], \"y\": [-0.5095864534378052], \"z\": [-0.014997323974967003]}, {\"marker\": {\"size\": 8}, \"mode\": \"markers\", \"name\": \"female, not_smiling, old\", \"type\": \"scatter3d\", \"x\": [0.12208599597215652], \"y\": [-0.5108190774917603], \"z\": [0.13009054958820343]}],\n",
       "                        {\"height\": 500, \"template\": {\"data\": {\"bar\": [{\"error_x\": {\"color\": \"#2a3f5f\"}, \"error_y\": {\"color\": \"#2a3f5f\"}, \"marker\": {\"line\": {\"color\": \"#E5ECF6\", \"width\": 0.5}}, \"type\": \"bar\"}], \"barpolar\": [{\"marker\": {\"line\": {\"color\": \"#E5ECF6\", \"width\": 0.5}}, \"type\": \"barpolar\"}], \"carpet\": [{\"aaxis\": {\"endlinecolor\": \"#2a3f5f\", \"gridcolor\": \"white\", \"linecolor\": \"white\", \"minorgridcolor\": \"white\", \"startlinecolor\": \"#2a3f5f\"}, \"baxis\": {\"endlinecolor\": \"#2a3f5f\", \"gridcolor\": \"white\", \"linecolor\": \"white\", \"minorgridcolor\": \"white\", \"startlinecolor\": \"#2a3f5f\"}, \"type\": \"carpet\"}], \"choropleth\": [{\"colorbar\": {\"outlinewidth\": 0, \"ticks\": \"\"}, \"type\": \"choropleth\"}], \"contour\": [{\"colorbar\": {\"outlinewidth\": 0, \"ticks\": \"\"}, \"colorscale\": [[0.0, \"#0d0887\"], [0.1111111111111111, \"#46039f\"], [0.2222222222222222, \"#7201a8\"], [0.3333333333333333, \"#9c179e\"], [0.4444444444444444, \"#bd3786\"], [0.5555555555555556, \"#d8576b\"], [0.6666666666666666, \"#ed7953\"], [0.7777777777777778, \"#fb9f3a\"], [0.8888888888888888, \"#fdca26\"], [1.0, \"#f0f921\"]], \"type\": \"contour\"}], \"contourcarpet\": [{\"colorbar\": {\"outlinewidth\": 0, \"ticks\": \"\"}, \"type\": \"contourcarpet\"}], \"heatmap\": [{\"colorbar\": {\"outlinewidth\": 0, \"ticks\": \"\"}, \"colorscale\": [[0.0, \"#0d0887\"], [0.1111111111111111, \"#46039f\"], [0.2222222222222222, \"#7201a8\"], [0.3333333333333333, \"#9c179e\"], [0.4444444444444444, \"#bd3786\"], [0.5555555555555556, \"#d8576b\"], [0.6666666666666666, \"#ed7953\"], [0.7777777777777778, \"#fb9f3a\"], [0.8888888888888888, \"#fdca26\"], [1.0, \"#f0f921\"]], \"type\": \"heatmap\"}], \"heatmapgl\": [{\"colorbar\": {\"outlinewidth\": 0, \"ticks\": \"\"}, \"colorscale\": [[0.0, \"#0d0887\"], [0.1111111111111111, \"#46039f\"], [0.2222222222222222, \"#7201a8\"], [0.3333333333333333, \"#9c179e\"], [0.4444444444444444, \"#bd3786\"], [0.5555555555555556, \"#d8576b\"], [0.6666666666666666, \"#ed7953\"], [0.7777777777777778, \"#fb9f3a\"], [0.8888888888888888, \"#fdca26\"], [1.0, \"#f0f921\"]], \"type\": \"heatmapgl\"}], \"histogram\": [{\"marker\": {\"colorbar\": {\"outlinewidth\": 0, \"ticks\": \"\"}}, \"type\": \"histogram\"}], \"histogram2d\": [{\"colorbar\": {\"outlinewidth\": 0, \"ticks\": \"\"}, \"colorscale\": [[0.0, \"#0d0887\"], [0.1111111111111111, \"#46039f\"], [0.2222222222222222, \"#7201a8\"], [0.3333333333333333, \"#9c179e\"], [0.4444444444444444, \"#bd3786\"], [0.5555555555555556, \"#d8576b\"], [0.6666666666666666, \"#ed7953\"], [0.7777777777777778, \"#fb9f3a\"], [0.8888888888888888, \"#fdca26\"], [1.0, \"#f0f921\"]], \"type\": \"histogram2d\"}], \"histogram2dcontour\": [{\"colorbar\": {\"outlinewidth\": 0, \"ticks\": \"\"}, \"colorscale\": [[0.0, \"#0d0887\"], [0.1111111111111111, \"#46039f\"], [0.2222222222222222, \"#7201a8\"], [0.3333333333333333, \"#9c179e\"], [0.4444444444444444, \"#bd3786\"], [0.5555555555555556, \"#d8576b\"], [0.6666666666666666, \"#ed7953\"], [0.7777777777777778, \"#fb9f3a\"], [0.8888888888888888, \"#fdca26\"], [1.0, \"#f0f921\"]], \"type\": \"histogram2dcontour\"}], \"mesh3d\": [{\"colorbar\": {\"outlinewidth\": 0, \"ticks\": \"\"}, \"type\": \"mesh3d\"}], \"parcoords\": [{\"line\": {\"colorbar\": {\"outlinewidth\": 0, \"ticks\": \"\"}}, \"type\": \"parcoords\"}], \"pie\": [{\"automargin\": true, \"type\": \"pie\"}], \"scatter\": [{\"marker\": {\"colorbar\": {\"outlinewidth\": 0, \"ticks\": \"\"}}, \"type\": \"scatter\"}], \"scatter3d\": [{\"line\": {\"colorbar\": {\"outlinewidth\": 0, \"ticks\": \"\"}}, \"marker\": {\"colorbar\": {\"outlinewidth\": 0, \"ticks\": \"\"}}, \"type\": \"scatter3d\"}], \"scattercarpet\": [{\"marker\": {\"colorbar\": {\"outlinewidth\": 0, \"ticks\": \"\"}}, \"type\": \"scattercarpet\"}], \"scattergeo\": [{\"marker\": {\"colorbar\": {\"outlinewidth\": 0, \"ticks\": \"\"}}, \"type\": \"scattergeo\"}], \"scattergl\": [{\"marker\": {\"colorbar\": {\"outlinewidth\": 0, \"ticks\": \"\"}}, \"type\": \"scattergl\"}], \"scattermapbox\": [{\"marker\": {\"colorbar\": {\"outlinewidth\": 0, \"ticks\": \"\"}}, \"type\": \"scattermapbox\"}], \"scatterpolar\": [{\"marker\": {\"colorbar\": {\"outlinewidth\": 0, \"ticks\": \"\"}}, \"type\": \"scatterpolar\"}], \"scatterpolargl\": [{\"marker\": {\"colorbar\": {\"outlinewidth\": 0, \"ticks\": \"\"}}, \"type\": \"scatterpolargl\"}], \"scatterternary\": [{\"marker\": {\"colorbar\": {\"outlinewidth\": 0, \"ticks\": \"\"}}, \"type\": \"scatterternary\"}], \"surface\": [{\"colorbar\": {\"outlinewidth\": 0, \"ticks\": \"\"}, \"colorscale\": [[0.0, \"#0d0887\"], [0.1111111111111111, \"#46039f\"], [0.2222222222222222, \"#7201a8\"], [0.3333333333333333, \"#9c179e\"], [0.4444444444444444, \"#bd3786\"], [0.5555555555555556, \"#d8576b\"], [0.6666666666666666, \"#ed7953\"], [0.7777777777777778, \"#fb9f3a\"], [0.8888888888888888, \"#fdca26\"], [1.0, \"#f0f921\"]], \"type\": \"surface\"}], \"table\": [{\"cells\": {\"fill\": {\"color\": \"#EBF0F8\"}, \"line\": {\"color\": \"white\"}}, \"header\": {\"fill\": {\"color\": \"#C8D4E3\"}, \"line\": {\"color\": \"white\"}}, \"type\": \"table\"}]}, \"layout\": {\"annotationdefaults\": {\"arrowcolor\": \"#2a3f5f\", \"arrowhead\": 0, \"arrowwidth\": 1}, \"coloraxis\": {\"colorbar\": {\"outlinewidth\": 0, \"ticks\": \"\"}}, \"colorscale\": {\"diverging\": [[0, \"#8e0152\"], [0.1, \"#c51b7d\"], [0.2, \"#de77ae\"], [0.3, \"#f1b6da\"], [0.4, \"#fde0ef\"], [0.5, \"#f7f7f7\"], [0.6, \"#e6f5d0\"], [0.7, \"#b8e186\"], [0.8, \"#7fbc41\"], [0.9, \"#4d9221\"], [1, \"#276419\"]], \"sequential\": [[0.0, \"#0d0887\"], [0.1111111111111111, \"#46039f\"], [0.2222222222222222, \"#7201a8\"], [0.3333333333333333, \"#9c179e\"], [0.4444444444444444, \"#bd3786\"], [0.5555555555555556, \"#d8576b\"], [0.6666666666666666, \"#ed7953\"], [0.7777777777777778, \"#fb9f3a\"], [0.8888888888888888, \"#fdca26\"], [1.0, \"#f0f921\"]], \"sequentialminus\": [[0.0, \"#0d0887\"], [0.1111111111111111, \"#46039f\"], [0.2222222222222222, \"#7201a8\"], [0.3333333333333333, \"#9c179e\"], [0.4444444444444444, \"#bd3786\"], [0.5555555555555556, \"#d8576b\"], [0.6666666666666666, \"#ed7953\"], [0.7777777777777778, \"#fb9f3a\"], [0.8888888888888888, \"#fdca26\"], [1.0, \"#f0f921\"]]}, \"colorway\": [\"#636efa\", \"#EF553B\", \"#00cc96\", \"#ab63fa\", \"#FFA15A\", \"#19d3f3\", \"#FF6692\", \"#B6E880\", \"#FF97FF\", \"#FECB52\"], \"font\": {\"color\": \"#2a3f5f\"}, \"geo\": {\"bgcolor\": \"white\", \"lakecolor\": \"white\", \"landcolor\": \"#E5ECF6\", \"showlakes\": true, \"showland\": true, \"subunitcolor\": \"white\"}, \"hoverlabel\": {\"align\": \"left\"}, \"hovermode\": \"closest\", \"mapbox\": {\"style\": \"light\"}, \"paper_bgcolor\": \"white\", \"plot_bgcolor\": \"#E5ECF6\", \"polar\": {\"angularaxis\": {\"gridcolor\": \"white\", \"linecolor\": \"white\", \"ticks\": \"\"}, \"bgcolor\": \"#E5ECF6\", \"radialaxis\": {\"gridcolor\": \"white\", \"linecolor\": \"white\", \"ticks\": \"\"}}, \"scene\": {\"xaxis\": {\"backgroundcolor\": \"#E5ECF6\", \"gridcolor\": \"white\", \"gridwidth\": 2, \"linecolor\": \"white\", \"showbackground\": true, \"ticks\": \"\", \"zerolinecolor\": \"white\"}, \"yaxis\": {\"backgroundcolor\": \"#E5ECF6\", \"gridcolor\": \"white\", \"gridwidth\": 2, \"linecolor\": \"white\", \"showbackground\": true, \"ticks\": \"\", \"zerolinecolor\": \"white\"}, \"zaxis\": {\"backgroundcolor\": \"#E5ECF6\", \"gridcolor\": \"white\", \"gridwidth\": 2, \"linecolor\": \"white\", \"showbackground\": true, \"ticks\": \"\", \"zerolinecolor\": \"white\"}}, \"shapedefaults\": {\"line\": {\"color\": \"#2a3f5f\"}}, \"ternary\": {\"aaxis\": {\"gridcolor\": \"white\", \"linecolor\": \"white\", \"ticks\": \"\"}, \"baxis\": {\"gridcolor\": \"white\", \"linecolor\": \"white\", \"ticks\": \"\"}, \"bgcolor\": \"#E5ECF6\", \"caxis\": {\"gridcolor\": \"white\", \"linecolor\": \"white\", \"ticks\": \"\"}}, \"title\": {\"x\": 0.05}, \"xaxis\": {\"automargin\": true, \"gridcolor\": \"white\", \"linecolor\": \"white\", \"ticks\": \"\", \"title\": {\"standoff\": 15}, \"zerolinecolor\": \"white\", \"zerolinewidth\": 2}, \"yaxis\": {\"automargin\": true, \"gridcolor\": \"white\", \"linecolor\": \"white\", \"ticks\": \"\", \"title\": {\"standoff\": 15}, \"zerolinecolor\": \"white\", \"zerolinewidth\": 2}}}, \"width\": 700},\n",
       "                        {\"responsive\": true}\n",
       "                    ).then(function(){\n",
       "                            \n",
       "var gd = document.getElementById('8ae2622d-8d68-4089-b99d-3887056d4b06');\n",
       "var x = new MutationObserver(function (mutations, observer) {{\n",
       "        var display = window.getComputedStyle(gd).display;\n",
       "        if (!display || display === 'none') {{\n",
       "            console.log([gd, 'removed!']);\n",
       "            Plotly.purge(gd);\n",
       "            observer.disconnect();\n",
       "        }}\n",
       "}});\n",
       "\n",
       "// Listen for the removal of the full notebook cells\n",
       "var notebookContainer = gd.closest('#notebook-container');\n",
       "if (notebookContainer) {{\n",
       "    x.observe(notebookContainer, {childList: true});\n",
       "}}\n",
       "\n",
       "// Listen for the clearing of the current output cell\n",
       "var outputEl = gd.closest('.output');\n",
       "if (outputEl) {{\n",
       "    x.observe(outputEl, {childList: true});\n",
       "}}\n",
       "\n",
       "                        })\n",
       "                };\n",
       "                });\n",
       "            </script>\n",
       "        </div>"
      ]
     },
     "metadata": {},
     "output_type": "display_data"
    }
   ],
   "source": [
    "trace = []\n",
    "for lbl in range(len(classes)):\n",
    "    m = center[lbl]\n",
    "    _x = m[0:1] \n",
    "    _y = m[1:2]\n",
    "    _z = m[2:]\n",
    "    trace.append(go.Scatter3d(x=_x, y=_y, z=_z, mode=\"markers\", name=f\"{label_discription[classes[lbl]]}\", \n",
    "#     trace.append(go.Scatter3d(x=_x, y=_y, z=_z, mode=\"markers\", name=f\"{classes[lbl]}\", \n",
    "                              marker = dict(size=8)))\n",
    "layout = go.Layout(width=700, height=500)    \n",
    "data = trace\n",
    "fig = dict(data=data, layout=layout)\n",
    "iplot(fig)"
   ]
  },
  {
   "cell_type": "code",
   "execution_count": 46,
   "metadata": {},
   "outputs": [],
   "source": [
    "import pickle\n",
    "# save_path = f'../data/parameters/VAE_{len(classes)}classes_celebA_ndim{z_dim}to{dim}.pickle'\n",
    "save_path = f'../data/parameters/VAE_celebA_{len(classes)}classes_ndim{z_dim}to{dim}.pickle'\n",
    "save = False\n",
    "if save:\n",
    "    with open(save_path, 'wb') as f:\n",
    "        pickle.dump(center, f)"
   ]
  },
  {
   "cell_type": "markdown",
   "metadata": {},
   "source": [
    "---\n",
    "I have demonstrated how I conducted the dimension reduction.\n",
    "However, again, it's optional, you can use familiar dimension reduction such as permutation importance, PCA, and so on.\n",
    "In next notebook, I'm gonna implement LCGAN.\n",
    "\n",
    "---"
   ]
  },
  {
   "cell_type": "code",
   "execution_count": null,
   "metadata": {},
   "outputs": [],
   "source": []
  }
 ],
 "metadata": {
  "kernelspec": {
   "display_name": "Python 3",
   "language": "python",
   "name": "python3"
  },
  "language_info": {
   "codemirror_mode": {
    "name": "ipython",
    "version": 3
   },
   "file_extension": ".py",
   "mimetype": "text/x-python",
   "name": "python",
   "nbconvert_exporter": "python",
   "pygments_lexer": "ipython3",
   "version": "3.6.9"
  },
  "toc-autonumbering": true,
  "toc-showcode": false,
  "toc-showmarkdowntxt": false,
  "toc-showtags": false
 },
 "nbformat": 4,
 "nbformat_minor": 4
}
