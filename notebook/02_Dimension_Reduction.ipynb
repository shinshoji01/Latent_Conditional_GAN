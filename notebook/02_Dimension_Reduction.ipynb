{
 "cells": [
  {
   "cell_type": "code",
   "execution_count": 1,
   "metadata": {},
   "outputs": [],
   "source": [
    "import warnings\n",
    "warnings.filterwarnings(\"ignore\")\n",
    "import torch\n",
    "import numpy as np\n",
    "import matplotlib.pyplot as plt\n",
    "import pickle\n",
    "import torch.utils.data\n",
    "import torchvision.transforms as transforms\n",
    "from IPython.display import clear_output\n",
    "from sklearn.model_selection import train_test_split\n",
    "import pandas as pd\n",
    "from sklearn.metrics import log_loss, accuracy_score\n",
    "import lightgbm as lgb"
   ]
  },
  {
   "cell_type": "code",
   "execution_count": 2,
   "metadata": {},
   "outputs": [],
   "source": [
    "import plotly\n",
    "from plotly.offline import iplot\n",
    "import plotly.graph_objs as go"
   ]
  },
  {
   "cell_type": "code",
   "execution_count": 3,
   "metadata": {},
   "outputs": [
    {
     "data": {
      "text/html": [
       "        <script type=\"text/javascript\">\n",
       "        window.PlotlyConfig = {MathJaxConfig: 'local'};\n",
       "        if (window.MathJax) {MathJax.Hub.Config({SVG: {font: \"STIX-Web\"}});}\n",
       "        if (typeof require !== 'undefined') {\n",
       "        require.undef(\"plotly\");\n",
       "        requirejs.config({\n",
       "            paths: {\n",
       "                'plotly': ['https://cdn.plot.ly/plotly-latest.min']\n",
       "            }\n",
       "        });\n",
       "        require(['plotly'], function(Plotly) {\n",
       "            window._Plotly = Plotly;\n",
       "        });\n",
       "        }\n",
       "        </script>\n",
       "        "
      ]
     },
     "metadata": {},
     "output_type": "display_data"
    }
   ],
   "source": [
    "plotly.offline.init_notebook_mode(connected=True)"
   ]
  },
  {
   "cell_type": "code",
   "execution_count": 4,
   "metadata": {},
   "outputs": [],
   "source": [
    "import sys\n",
    "sys.path.append(\"../\")\n",
    "from dataset.dataset import *\n",
    "from util.util import *\n",
    "from model.model import *"
   ]
  },
  {
   "cell_type": "markdown",
   "metadata": {},
   "source": [
    "---\n",
    "<font size=\"5\">Overviews</font>\n",
    "1. Introduction\n",
    "1. CelebA dataset\n",
    "1. Dimension Reduction\n",
    "---"
   ]
  },
  {
   "cell_type": "markdown",
   "metadata": {},
   "source": [
    "# Introduction"
   ]
  },
  {
   "cell_type": "markdown",
   "metadata": {},
   "source": [
    "---\n",
    "This notebook introduces the dimension reduction I used for LCGAN and it's colored with purple in diagram below.\n",
    "However, as I mentioned in our paper,\n",
    "<span style=\"color:red\">the way how the dimension reduction is conducted is optional.</span>\n",
    "In this experiment, I employed feature importance of [LightGBM](https://papers.nips.cc/paper/6907-lightgbm-a-highly-efficient-gradient-boosting-decision-tree.pdf) and docs are [here](https://lightgbm.readthedocs.io/en/latest/).\n",
    "\n",
    "<img src=\"./../data/images/whole_picture.png\" width=\"500\">\n",
    "\n",
    "---\n",
    "The dimension reduction is carried out in the following procedures:\n",
    "1. In $n$ dimension, conduct classification using LightGBM\n",
    "1. Extract $k$ features that are important (feature importance)\n",
    "1. conduct classification with $m$ features out of $k$ features\n",
    "1. $m$-dimension vector which has the highest accuracy is employed as Relational label\n",
    "\n",
    "Where $n$ and $m$ is the dimension of the original latent code and reducted latent code respectively.\n",
    "In this experiment, $n=128$, $k=10$, and $m=3$ is used.\n",
    "\n",
    "---"
   ]
  },
  {
   "cell_type": "markdown",
   "metadata": {},
   "source": [
    "# Get celebA dataset"
   ]
  },
  {
   "cell_type": "code",
   "execution_count": 5,
   "metadata": {},
   "outputs": [],
   "source": [
    "root = \"./../../research/sound_dataset/celebA/img_align_celeba_png/\"\n",
    "label_root = \"../../research/sound_dataset/celebA/label_folder/\""
   ]
  },
  {
   "cell_type": "code",
   "execution_count": 6,
   "metadata": {},
   "outputs": [],
   "source": [
    "label_discription = [\n",
    "    \"male, smiling, young\",\n",
    "    \"male, smiling, old\",\n",
    "    \"male, not_smiling, young\",\n",
    "    \"male, not_smiling, old\",\n",
    "    \"female, smiling, young\",\n",
    "    \"female, smiling, old\",\n",
    "    \"female, not_smiling, young\",\n",
    "    \"female, not_smiling, old\"\n",
    "]"
   ]
  },
  {
   "cell_type": "code",
   "execution_count": 7,
   "metadata": {},
   "outputs": [],
   "source": [
    "# 1 5 o clock shadow\n",
    "# 11 blurry\n",
    "# 14 chubby\n",
    "# 15 double chin\n",
    "# 16 eyeglasses\n",
    "# 17 goatee\n",
    "# 21 male\n",
    "# 23 mustache\n",
    "# 25 No_Beard\n",
    "# 31 sideburns\n",
    "# 32 smiling\n",
    "# 36 wearing hat\n",
    "# 40 young\n",
    "dataset_label = {}\n",
    "dataset_label[\"existed\"] = [25] \n",
    "dataset_label[\"delete\"] = [1, 11, 14, 15, 16, 17, 23, 31, 36] \n",
    "dataset_label[\"class\"] = [21, 32, 40] "
   ]
  },
  {
   "cell_type": "code",
   "execution_count": 8,
   "metadata": {},
   "outputs": [
    {
     "data": {
      "text/plain": [
       "(0, 1, 2, 3, 4, 5, 6, 7)"
      ]
     },
     "execution_count": 8,
     "metadata": {},
     "output_type": "execute_result"
    }
   ],
   "source": [
    "classes = tuple(range(2**len(dataset_label[\"class\"])))\n",
    "classes"
   ]
  },
  {
   "cell_type": "code",
   "execution_count": 9,
   "metadata": {},
   "outputs": [],
   "source": [
    "normalize = transforms.Normalize(\n",
    "        mean=[0.485, 0.456, 0.406],\n",
    "        std=[0.229, 0.224, 0.225])\n",
    "transform = {}\n",
    "transform[\"train\"] = transforms.Compose([\n",
    "    transforms.CenterCrop((128, 128)),\n",
    "    transforms.Resize((128, 128)),\n",
    "    transforms.RandomHorizontalFlip(p=0.5),\n",
    "    transforms.ToTensor()\n",
    "])\n",
    "    \n",
    "transform[\"test\"] = transforms.Compose([\n",
    "    transforms.CenterCrop((128, 128)),\n",
    "    transforms.Resize((128, 128)),\n",
    "    transforms.ToTensor(),\n",
    "])"
   ]
  },
  {
   "cell_type": "markdown",
   "metadata": {},
   "source": [
    "---\n",
    "I just need to get testset.\n",
    "\n",
    "---"
   ]
  },
  {
   "cell_type": "code",
   "execution_count": 10,
   "metadata": {},
   "outputs": [
    {
     "data": {
      "text/plain": [
       "4000"
      ]
     },
     "execution_count": 10,
     "metadata": {},
     "output_type": "execute_result"
    }
   ],
   "source": [
    "testset = FaceDataset(root, label_root, transform[\"test\"], dataset_label, classes, data_type=\"test\", train_num=5000, val_num=500, test_num=500)\n",
    "testloader = torch.utils.data.DataLoader(dataset=testset, batch_size=256, shuffle=False)\n",
    "len(testset)"
   ]
  },
  {
   "cell_type": "markdown",
   "metadata": {},
   "source": [
    "# Dimension Reduction\n",
    "---\n",
    "I conducted dimension reduction via feature importance in LightGBM.\n",
    "First of all, we're gonna get the latent code by the use of the model previously trained.\n",
    "And dimension reduction is conducted as I explained in the beginning."
   ]
  },
  {
   "cell_type": "markdown",
   "metadata": {},
   "source": [
    "## Preparation"
   ]
  },
  {
   "cell_type": "markdown",
   "metadata": {},
   "source": [
    "---\n",
    "I also employed the fuction which conduct test process.\n",
    "\n",
    "---"
   ]
  },
  {
   "cell_type": "code",
   "execution_count": 11,
   "metadata": {},
   "outputs": [],
   "source": [
    "def do_test_VAE(net, testloader, device=\"cuda\", mode=\"train\"):\n",
    "    \n",
    "    if mode==\"train\":\n",
    "        net.train()\n",
    "    elif mode==\"eval\":\n",
    "        net.eval()\n",
    "    else:\n",
    "        return None\n",
    "    \n",
    "    labels = np.array([])\n",
    "    losses = []\n",
    "    with torch.no_grad():\n",
    "        for itr, data in enumerate(testloader):\n",
    "            images = data[0].to(device)\n",
    "            label = data[1].to(device)\n",
    "            output, z = net(images)\n",
    "            labels = np.append(labels, label.to(\"cpu\").detach().numpy())\n",
    "            losses.append(net.loss(images, beta=beta).to(\"cpu\").detach().numpy())\n",
    "            if itr==0:\n",
    "                latents = z.to(\"cpu\").detach().numpy()\n",
    "                inputs = images.to(\"cpu\").detach().numpy()\n",
    "                outputs = output.to(\"cpu\").detach().numpy()\n",
    "            else:\n",
    "                latents = np.concatenate([latents, z.to(\"cpu\").detach().numpy()], axis=0)\n",
    "                inputs = np.concatenate([inputs, images.to(\"cpu\").detach().numpy()], axis=0)\n",
    "                outputs = np.concatenate([outputs, output.to(\"cpu\").detach().numpy()], axis=0)\n",
    "                \n",
    "    return labels, inputs, outputs, np.mean(losses), latents"
   ]
  },
  {
   "cell_type": "markdown",
   "metadata": {},
   "source": [
    "---\n",
    "I prepared the model trained in the previous notebook.\n",
    "\n",
    "---"
   ]
  },
  {
   "cell_type": "code",
   "execution_count": 12,
   "metadata": {},
   "outputs": [
    {
     "data": {
      "text/plain": [
       "<All keys matched successfully>"
      ]
     },
     "execution_count": 12,
     "metadata": {},
     "output_type": "execute_result"
    }
   ],
   "source": [
    "z_dim = 128\n",
    "beta = 0.1\n",
    "device = \"cuda\" if torch.cuda.is_available() else \"cpu\"\n",
    "\n",
    "net = VAE(z_dim=z_dim, nch_input=3, nch=64, device=device).to(device)\n",
    "# model_path = f\"../data/parameters/VAE_color_celebA_ndim512_beta0.1_lr0.0001_epoch99.pth\"\n",
    "model_path = f\"../data/parameters/VAE_celebA_ndim128_beta0.1_lr0.0001_epoch66.pth\"\n",
    "model_param = torch.load(model_path, map_location=device)\n",
    "net.load_state_dict(model_param)"
   ]
  },
  {
   "cell_type": "markdown",
   "metadata": {},
   "source": [
    "---\n",
    "Get the test results.\n",
    "***latents*** indicates the latent code.\n",
    "\n",
    "---"
   ]
  },
  {
   "cell_type": "code",
   "execution_count": 13,
   "metadata": {},
   "outputs": [],
   "source": [
    "labels, inputs, outputs, _, latents = do_test_VAE(net, testloader, device, \"eval\")"
   ]
  },
  {
   "cell_type": "markdown",
   "metadata": {},
   "source": [
    "---\n",
    "*latents* are processed to *X* in order to employed as the input data of LightGBM, and *y* is used for the output (the label)\n",
    "\n",
    "---"
   ]
  },
  {
   "cell_type": "code",
   "execution_count": 14,
   "metadata": {},
   "outputs": [],
   "source": [
    "z_ = np.reshape(latents, (-1, z_dim)).T\n",
    "X = copy.copy(z_).T\n",
    "y = copy.copy(labels).T"
   ]
  },
  {
   "cell_type": "markdown",
   "metadata": {},
   "source": [
    "---\n",
    "Data is divided into train, validation, and test data in proportion of approximately 0.67, 0.22, and 0.11 respectively.\n",
    "\n",
    "---"
   ]
  },
  {
   "cell_type": "code",
   "execution_count": 15,
   "metadata": {},
   "outputs": [
    {
     "data": {
      "text/plain": [
       "((3000, 128), (750, 128), (250, 128))"
      ]
     },
     "execution_count": 15,
     "metadata": {},
     "output_type": "execute_result"
    }
   ],
   "source": [
    "X_train, X_test, y_train, y_test = train_test_split(X, y, random_state=42)\n",
    "X_valid, X_test, y_valid, y_test = train_test_split(X_test, y_test, random_state=42)\n",
    "\n",
    "X_train = pd.DataFrame(X_train)\n",
    "X_valid = pd.DataFrame(X_valid)\n",
    "X_test = pd.DataFrame(X_test)\n",
    "y_train = pd.DataFrame(y_train)\n",
    "y_valid = pd.DataFrame(y_valid)\n",
    "y_test = pd.DataFrame(y_test)\n",
    "X_train.shape, X_valid.shape, X_test.shape"
   ]
  },
  {
   "cell_type": "markdown",
   "metadata": {},
   "source": [
    "## Training of LightGBM\n",
    "I'm gonna train LightGBM and conduct dimension reduction according to the procedure below.\n",
    "\n",
    "1. In $n$ dimension, conduct classification using LightGAM\n",
    "1. Extract $k$ features that are important (feature importance)\n",
    "1. conduct classification with $m$ features out of $k$ features\n",
    "1. $m$-dimension vector which has the highest accuracy is employed as Relational label\n",
    "\n",
    "Where $n$ and $m$ is the dimension of the original latent code and reducted latent code respectively.\n",
    "In this experiment, $n=128$, $k=10$, and $m=3$ is used."
   ]
  },
  {
   "cell_type": "markdown",
   "metadata": {},
   "source": [
    "### Classification with $n(128)$-dimension vector"
   ]
  },
  {
   "cell_type": "code",
   "execution_count": 16,
   "metadata": {},
   "outputs": [],
   "source": [
    "lgb_train = lgb.Dataset(X_train, y_train)\n",
    "lgb_valid = lgb.Dataset(X_valid, y_valid, reference=lgb_train)"
   ]
  },
  {
   "cell_type": "markdown",
   "metadata": {},
   "source": [
    "---\n",
    "Since LightGBM is susceptible to overfitting, I employed optuna for hyper parameter tuning.\n",
    "These cells below conduct it. It searches for optimum hyper parameter for 1000 times in the experiment.\n",
    "\n",
    "---"
   ]
  },
  {
   "cell_type": "code",
   "execution_count": 25,
   "metadata": {},
   "outputs": [],
   "source": [
    "def objective(trial):\n",
    "    lr = trial.suggest_loguniform(\"lr\", 1e-2, 1)\n",
    "    num_leaves = trial.suggest_int(\"num_leaves\", 1, 5)\n",
    "    max_depth = trial.suggest_int(\"max_depth\", 1, 5)\n",
    "    min_child_samples = trial.suggest_int(\"min_child_samples\", 1, 5)\n",
    "    min_child_samples = trial.suggest_int(\"min_child_samples\", 1, 5)\n",
    "    max_bin = trial.suggest_int(\"max_bin\", 5, 9)\n",
    "    lgbm_params = {\n",
    "        \"objective\": \"multiclass\",\n",
    "        \"num_class\": len(classes),\n",
    "        \"learning_rate\": lr,\n",
    "        \"num_leaves\": 8*num_leaves-1,\n",
    "        \"min_child_samples\": 8*min_child_samples-1,\n",
    "        \"max_depth\": 8*max_depth-1,\n",
    "        \"max_bin\": 2**max_bin - 1\n",
    "    }\n",
    "    model = lgb.train(lgbm_params, lgb_train, \n",
    "                      valid_sets=lgb_valid, \n",
    "                      num_boost_round=1000, \n",
    "                      early_stopping_rounds=100,\n",
    "                      verbose_eval=False\n",
    "                     )\n",
    "    y_pred = model.predict(X_valid, num_iteration=model.best_iteration)\n",
    "    \n",
    "    # this is for log loss\n",
    "#     loss = log_loss(y_valid, y_pred)\n",
    "    \n",
    "    # this is for error rate\n",
    "    y_pred = np.argmax(y_pred, axis=1)\n",
    "    loss = 1-accuracy_score(y_valid, y_pred)\n",
    "#     print(accuracy)\n",
    "    \n",
    "    return loss"
   ]
  },
  {
   "cell_type": "code",
   "execution_count": null,
   "metadata": {},
   "outputs": [],
   "source": [
    "TRIAL_SIZE = 1000\n",
    "study = optuna.create_study()\n",
    "study.optimize(objective, n_trials=TRIAL_SIZE, n_jobs=1)"
   ]
  },
  {
   "cell_type": "markdown",
   "metadata": {},
   "source": [
    "---\n",
    "This is the best parameters.\n",
    "\n",
    "---"
   ]
  },
  {
   "cell_type": "code",
   "execution_count": 30,
   "metadata": {},
   "outputs": [
    {
     "data": {
      "text/plain": [
       "{'objective': 'multiclass',\n",
       " 'num_class': 8,\n",
       " 'learning_rate': 0.11567471689689475,\n",
       " 'num_leaves': 7,\n",
       " 'min_child_samples': 31,\n",
       " 'max_depth': 31,\n",
       " 'max_bin': 127}"
      ]
     },
     "execution_count": 30,
     "metadata": {},
     "output_type": "execute_result"
    }
   ],
   "source": [
    "bp = study.best_params\n",
    "lgbm_params = {\n",
    "    \"objective\": \"multiclass\",\n",
    "    \"num_class\": len(classes),\n",
    "    \"learning_rate\": bp[\"lr\"],\n",
    "    \"num_leaves\": 8*bp[\"num_leaves\"]-1,\n",
    "    \"min_child_samples\": 8*bp[\"min_child_samples\"]-1,\n",
    "    \"max_depth\": 8*bp[\"max_depth\"]-1,\n",
    "    \"max_bin\": 2**bp[\"max_bin\"]-1\n",
    "}\n",
    "lgbm_params"
   ]
  },
  {
   "cell_type": "markdown",
   "metadata": {},
   "source": [
    "---\n",
    "Since this process is also painstaking, I wrote down the optimum parameters. Run the code below to obtain.\n",
    "\n",
    "---"
   ]
  },
  {
   "cell_type": "raw",
   "metadata": {},
   "source": [
    "bp = {'lr': 0.14945137284044552,\n",
    " 'num_leaves': 1,\n",
    " 'max_depth': 5,\n",
    " 'min_child_samples': 2,\n",
    " 'max_bin': 7}\n",
    "lgbm_params = {\n",
    "    \"objective\": \"multiclass\",\n",
    "    \"num_class\": len(classes),\n",
    "    \"learning_rate\": bp[\"lr\"],\n",
    "    \"num_leaves\": 4*bp[\"num_leaves\"]-1,\n",
    "    \"min_child_samples\": 4*bp[\"min_child_samples\"]-1,\n",
    "    \"max_depth\": 4*bp[\"max_depth\"]-1,\n",
    "    \"max_bin\": 2**bp[\"max_bin\"]-1\n",
    "}\n",
    "lgbm_params"
   ]
  },
  {
   "cell_type": "markdown",
   "metadata": {},
   "source": [
    "---\n",
    "Let's train LightGBM with optimum hyper parameters.\n",
    "\n",
    "---"
   ]
  },
  {
   "cell_type": "code",
   "execution_count": 31,
   "metadata": {},
   "outputs": [],
   "source": [
    "model = lgb.train(lgbm_params, lgb_train, \n",
    "                  valid_sets=lgb_valid, \n",
    "                  num_boost_round=1000, \n",
    "                  early_stopping_rounds=100,\n",
    "                  verbose_eval=False\n",
    "                 )"
   ]
  },
  {
   "cell_type": "markdown",
   "metadata": {},
   "source": [
    "---\n",
    "Check the train, validation, and test results.\n",
    "\n",
    "---"
   ]
  },
  {
   "cell_type": "code",
   "execution_count": 32,
   "metadata": {},
   "outputs": [
    {
     "data": {
      "text/plain": [
       "('train', 1.0)"
      ]
     },
     "execution_count": 32,
     "metadata": {},
     "output_type": "execute_result"
    }
   ],
   "source": [
    "y_pred = model.predict(X_train, num_iteration=model.best_iteration)\n",
    "y_pred = np.argmax(y_pred, axis=1)\n",
    "accuracy = accuracy_score(y_train, y_pred)\n",
    "\"train\", accuracy"
   ]
  },
  {
   "cell_type": "code",
   "execution_count": 33,
   "metadata": {},
   "outputs": [
    {
     "data": {
      "text/plain": [
       "('valid', 0.5253333333333333)"
      ]
     },
     "execution_count": 33,
     "metadata": {},
     "output_type": "execute_result"
    }
   ],
   "source": [
    "y_pred = model.predict(X_valid, num_iteration=model.best_iteration)\n",
    "y_pred = np.argmax(y_pred, axis=1)\n",
    "accuracy = accuracy_score(y_valid, y_pred)\n",
    "\"valid\", accuracy"
   ]
  },
  {
   "cell_type": "code",
   "execution_count": 34,
   "metadata": {},
   "outputs": [
    {
     "data": {
      "text/plain": [
       "('test', 0.524)"
      ]
     },
     "execution_count": 34,
     "metadata": {},
     "output_type": "execute_result"
    }
   ],
   "source": [
    "y_pred = model.predict(X_test, num_iteration=model.best_iteration)\n",
    "y_pred = np.argmax(y_pred, axis=1)\n",
    "accuracy = accuracy_score(y_test, y_pred)\n",
    "\"test\", accuracy"
   ]
  },
  {
   "cell_type": "markdown",
   "metadata": {},
   "source": [
    "---\n",
    "Since some data in CelebA dataset are difficult to distinguish the label in the appearance,\n",
    "the model confused a little bit.\n",
    "I think this is happy enough.\n",
    "Ok! Get the important features for this classification.\n",
    "\n",
    "---"
   ]
  },
  {
   "cell_type": "code",
   "execution_count": 35,
   "metadata": {},
   "outputs": [],
   "source": [
    "importance = pd.DataFrame(model.feature_importance(), index=range(z_.shape[0]), columns=['importance'])\n",
    "a = np.reshape(np.arange(z_.shape[0]), (z_.shape[0], 1))\n",
    "importance = np.hstack((a, importance))"
   ]
  },
  {
   "cell_type": "code",
   "execution_count": 36,
   "metadata": {},
   "outputs": [
    {
     "data": {
      "text/html": [
       "<div>\n",
       "<style scoped>\n",
       "    .dataframe tbody tr th:only-of-type {\n",
       "        vertical-align: middle;\n",
       "    }\n",
       "\n",
       "    .dataframe tbody tr th {\n",
       "        vertical-align: top;\n",
       "    }\n",
       "\n",
       "    .dataframe thead th {\n",
       "        text-align: right;\n",
       "    }\n",
       "</style>\n",
       "<table border=\"1\" class=\"dataframe\">\n",
       "  <thead>\n",
       "    <tr style=\"text-align: right;\">\n",
       "      <th></th>\n",
       "      <th>feature</th>\n",
       "      <th>importance</th>\n",
       "    </tr>\n",
       "  </thead>\n",
       "  <tbody>\n",
       "    <tr>\n",
       "      <th>1st</th>\n",
       "      <td>100</td>\n",
       "      <td>400</td>\n",
       "    </tr>\n",
       "    <tr>\n",
       "      <th>2nd</th>\n",
       "      <td>91</td>\n",
       "      <td>347</td>\n",
       "    </tr>\n",
       "    <tr>\n",
       "      <th>3rd</th>\n",
       "      <td>73</td>\n",
       "      <td>300</td>\n",
       "    </tr>\n",
       "    <tr>\n",
       "      <th>4th</th>\n",
       "      <td>47</td>\n",
       "      <td>298</td>\n",
       "    </tr>\n",
       "    <tr>\n",
       "      <th>5th</th>\n",
       "      <td>6</td>\n",
       "      <td>295</td>\n",
       "    </tr>\n",
       "    <tr>\n",
       "      <th>6th</th>\n",
       "      <td>120</td>\n",
       "      <td>284</td>\n",
       "    </tr>\n",
       "    <tr>\n",
       "      <th>7th</th>\n",
       "      <td>71</td>\n",
       "      <td>283</td>\n",
       "    </tr>\n",
       "    <tr>\n",
       "      <th>8th</th>\n",
       "      <td>46</td>\n",
       "      <td>261</td>\n",
       "    </tr>\n",
       "    <tr>\n",
       "      <th>9th</th>\n",
       "      <td>66</td>\n",
       "      <td>251</td>\n",
       "    </tr>\n",
       "    <tr>\n",
       "      <th>10th</th>\n",
       "      <td>11</td>\n",
       "      <td>239</td>\n",
       "    </tr>\n",
       "  </tbody>\n",
       "</table>\n",
       "</div>"
      ],
      "text/plain": [
       "      feature  importance\n",
       "1st       100         400\n",
       "2nd        91         347\n",
       "3rd        73         300\n",
       "4th        47         298\n",
       "5th         6         295\n",
       "6th       120         284\n",
       "7th        71         283\n",
       "8th        46         261\n",
       "9th        66         251\n",
       "10th       11         239"
      ]
     },
     "execution_count": 36,
     "metadata": {},
     "output_type": "execute_result"
    }
   ],
   "source": [
    "num = 10\n",
    "importance_sort = importance[np.argsort(importance[:, 1])[::-1], :]\n",
    "arg_sort = importance_sort[:, 0]\n",
    "pd.DataFrame(importance_sort[:num, :], columns=[\"feature\", \"importance\"], index=[ordinal(i) for i in range(1, num+1)])"
   ]
  },
  {
   "cell_type": "markdown",
   "metadata": {},
   "source": [
    "### Extranction of imoprtant $k(10)$ features and $m(3)$-features classification.\n",
    "---\n",
    "As the title put it, I extracted the most $k(10)$ important features.\n",
    "Then, I conducted classification with $m(3)$ features out of $k$ features, in all possible combinations.\n",
    "In this classification, hyper-parameter tuning is also carried out in each classification individually.\n",
    "After that, $m$-dimension vector which has the highest accuracy is selected.\n",
    "\n",
    "---"
   ]
  },
  {
   "cell_type": "markdown",
   "metadata": {},
   "source": [
    "---\n",
    "***k***: it represents \\# of features I extracted.\n",
    "\n",
    "***m***: it represents the dimension of final label.\n",
    "\n",
    "---"
   ]
  },
  {
   "cell_type": "code",
   "execution_count": 37,
   "metadata": {},
   "outputs": [],
   "source": [
    "k = 10\n",
    "m = 3"
   ]
  },
  {
   "cell_type": "code",
   "execution_count": 38,
   "metadata": {},
   "outputs": [
    {
     "name": "stdout",
     "output_type": "stream",
     "text": [
      "120 / 120\n"
     ]
    }
   ],
   "source": [
    "v_list = []\n",
    "acc_list = []\n",
    "i = 0\n",
    "combinations = list(itertools.combinations(list(range(k)), m))\n",
    "for v in combinations:\n",
    "    i += 1\n",
    "    v = np.array(v)\n",
    "    z_3d = z_[arg_sort[v], :]\n",
    "    X = copy.copy(z_3d.T)\n",
    "    np.random.seed(0)\n",
    "    X_train, X_test, y_train, y_test = train_test_split(X, y, random_state=42)\n",
    "    X_valid, X_test, y_valid, y_test = train_test_split(X_test, y_test, random_state=42)\n",
    "    lgb_train = lgb.Dataset(X_train, y_train)\n",
    "    lgb_valid = lgb.Dataset(X_valid, y_valid, reference=lgb_train)\n",
    "    \n",
    "    study = optuna.create_study()\n",
    "    study.optimize(objective, n_trials=100)\n",
    "    bp = study.best_params\n",
    "    lgbm_params = {\n",
    "        \"objective\": \"multiclass\",\n",
    "        \"num_class\": len(classes),\n",
    "        \"learning_rate\": bp[\"lr\"],\n",
    "        \"num_leaves\": 8*bp[\"num_leaves\"]-1,\n",
    "        \"min_child_samples\": 8*bp[\"min_child_samples\"]-1,\n",
    "        \"max_depth\": 8*bp[\"max_depth\"]-1,\n",
    "        \"max_bin\": 2**bp[\"max_bin\"]-1\n",
    "    }\n",
    "    clear_output(wait=True)\n",
    "    \n",
    "    model = lgb.train(lgbm_params, lgb_train, \n",
    "                      valid_sets=lgb_valid, \n",
    "                      num_boost_round=1000, \n",
    "                      early_stopping_rounds=100,\n",
    "                      verbose_eval=False\n",
    "                     )\n",
    "    \n",
    "    y_pred = model.predict(X_test, num_iteration=model.best_iteration)\n",
    "    y_pred = np.argmax(y_pred, axis=1)\n",
    "    accuracy = accuracy_score(y_test, y_pred)\n",
    "    acc_list.append(accuracy)\n",
    "    v_list.append(v)\n",
    "    print(f\"{i} / {len(combinations)}\" )"
   ]
  },
  {
   "cell_type": "markdown",
   "metadata": {},
   "source": [
    "---\n",
    "Extract the best 3 features.\n",
    "\n",
    "---"
   ]
  },
  {
   "cell_type": "code",
   "execution_count": 40,
   "metadata": {},
   "outputs": [
    {
     "data": {
      "text/plain": [
       "array([  6,  91, 100])"
      ]
     },
     "execution_count": 40,
     "metadata": {},
     "output_type": "execute_result"
    }
   ],
   "source": [
    "feature_sort = np.array(v_list)[np.argsort(acc_list), :][::-1,:]\n",
    "arange = np.sort(arg_sort[[feature_sort[0]]])\n",
    "z_3d = z_[arange, :]\n",
    "arange"
   ]
  },
  {
   "cell_type": "markdown",
   "metadata": {},
   "source": [
    "---\n",
    "The extracted features might be different as you train LightGBM due to the non-stability of training.\n",
    "\n",
    "In my experiment, the important feautures were *6*, *91*, and *100* in the VAE I trained.\n",
    "\n",
    "---"
   ]
  },
  {
   "cell_type": "markdown",
   "metadata": {},
   "source": [
    "### Take an avarage by the classes\n",
    "---\n",
    "In order to use as it the label, I took an average of the extracted vector by the classes, so that the shape will be (3, 8).\n",
    "\n",
    "---"
   ]
  },
  {
   "cell_type": "code",
   "execution_count": 41,
   "metadata": {},
   "outputs": [
    {
     "name": "stdout",
     "output_type": "stream",
     "text": [
      "0 [-0.17578965  0.27388418 -0.41167694]\n",
      "1 [ 0.20066902  0.22555672 -0.32801148]\n",
      "2 [0.0912234  0.18957677 0.35079104]\n",
      "3 [0.40836665 0.14090845 0.1924517 ]\n",
      "4 [-0.34577882 -0.49618778 -0.7121413 ]\n",
      "5 [-0.19866806 -0.5255212  -0.61670256]\n",
      "6 [ 0.07906556 -0.50958645 -0.01499732]\n",
      "7 [ 0.122086   -0.5108191   0.13009055]\n"
     ]
    }
   ],
   "source": [
    "center = np.array([])\n",
    "for lbl in classes:\n",
    "    array = z_3d[:, labels==lbl]\n",
    "    mean = np.mean(array, axis=1)\n",
    "    print(lbl, mean)\n",
    "    center = np.append(center, mean)\n",
    "#     print(lbl, mean)\n",
    "center = np.reshape(center, (-1, dim))    "
   ]
  },
  {
   "cell_type": "markdown",
   "metadata": {},
   "source": [
    "---\n",
    "Visualization of the label.\n",
    "\n",
    "You can control it interactively.\n",
    "\n",
    "---"
   ]
  },
  {
   "cell_type": "code",
   "execution_count": 42,
   "metadata": {},
   "outputs": [
    {
     "data": {
      "application/vnd.plotly.v1+json": {
       "config": {
        "linkText": "Export to plot.ly",
        "plotlyServerURL": "https://plot.ly",
        "showLink": false
       },
       "data": [
        {
         "marker": {
          "size": 8
         },
         "mode": "markers",
         "name": "male, smiling, young",
         "type": "scatter3d",
         "x": [
          -0.17578965425491333
         ],
         "y": [
          0.2738841772079468
         ],
         "z": [
          -0.41167694330215454
         ]
        },
        {
         "marker": {
          "size": 8
         },
         "mode": "markers",
         "name": "male, smiling, old",
         "type": "scatter3d",
         "x": [
          0.20066902041435242
         ],
         "y": [
          0.22555671632289886
         ],
         "z": [
          -0.32801148295402527
         ]
        },
        {
         "marker": {
          "size": 8
         },
         "mode": "markers",
         "name": "male, not_smiling, young",
         "type": "scatter3d",
         "x": [
          0.09122339636087418
         ],
         "y": [
          0.18957677483558655
         ],
         "z": [
          0.3507910370826721
         ]
        },
        {
         "marker": {
          "size": 8
         },
         "mode": "markers",
         "name": "male, not_smiling, old",
         "type": "scatter3d",
         "x": [
          0.4083666503429413
         ],
         "y": [
          0.14090844988822937
         ],
         "z": [
          0.19245170056819916
         ]
        },
        {
         "marker": {
          "size": 8
         },
         "mode": "markers",
         "name": "female, smiling, young",
         "type": "scatter3d",
         "x": [
          -0.34577882289886475
         ],
         "y": [
          -0.4961877763271332
         ],
         "z": [
          -0.7121412754058838
         ]
        },
        {
         "marker": {
          "size": 8
         },
         "mode": "markers",
         "name": "female, smiling, old",
         "type": "scatter3d",
         "x": [
          -0.19866806268692017
         ],
         "y": [
          -0.5255212187767029
         ],
         "z": [
          -0.6167025566101074
         ]
        },
        {
         "marker": {
          "size": 8
         },
         "mode": "markers",
         "name": "female, not_smiling, young",
         "type": "scatter3d",
         "x": [
          0.07906556129455566
         ],
         "y": [
          -0.5095864534378052
         ],
         "z": [
          -0.014997323974967003
         ]
        },
        {
         "marker": {
          "size": 8
         },
         "mode": "markers",
         "name": "female, not_smiling, old",
         "type": "scatter3d",
         "x": [
          0.12208599597215652
         ],
         "y": [
          -0.5108190774917603
         ],
         "z": [
          0.13009054958820343
         ]
        }
       ],
       "layout": {
        "height": 500,
        "scene": {
         "aspectmode": "auto",
         "aspectratio": {
          "x": 0.8747404116213308,
          "y": 0.9272378207482971,
          "z": 1.2329051642450535
         },
         "camera": {
          "center": {
           "x": 0,
           "y": 0,
           "z": 0
          },
          "eye": {
           "x": -1.5933750297651925,
           "y": -0.32603938514234526,
           "z": 0.7217284301365683
          },
          "projection": {
           "type": "perspective"
          },
          "up": {
           "x": 0,
           "y": 0,
           "z": 1
          }
         }
        },
        "template": {
         "data": {
          "bar": [
           {
            "error_x": {
             "color": "#2a3f5f"
            },
            "error_y": {
             "color": "#2a3f5f"
            },
            "marker": {
             "line": {
              "color": "#E5ECF6",
              "width": 0.5
             }
            },
            "type": "bar"
           }
          ],
          "barpolar": [
           {
            "marker": {
             "line": {
              "color": "#E5ECF6",
              "width": 0.5
             }
            },
            "type": "barpolar"
           }
          ],
          "carpet": [
           {
            "aaxis": {
             "endlinecolor": "#2a3f5f",
             "gridcolor": "white",
             "linecolor": "white",
             "minorgridcolor": "white",
             "startlinecolor": "#2a3f5f"
            },
            "baxis": {
             "endlinecolor": "#2a3f5f",
             "gridcolor": "white",
             "linecolor": "white",
             "minorgridcolor": "white",
             "startlinecolor": "#2a3f5f"
            },
            "type": "carpet"
           }
          ],
          "choropleth": [
           {
            "colorbar": {
             "outlinewidth": 0,
             "ticks": ""
            },
            "type": "choropleth"
           }
          ],
          "contour": [
           {
            "colorbar": {
             "outlinewidth": 0,
             "ticks": ""
            },
            "colorscale": [
             [
              0,
              "#0d0887"
             ],
             [
              0.1111111111111111,
              "#46039f"
             ],
             [
              0.2222222222222222,
              "#7201a8"
             ],
             [
              0.3333333333333333,
              "#9c179e"
             ],
             [
              0.4444444444444444,
              "#bd3786"
             ],
             [
              0.5555555555555556,
              "#d8576b"
             ],
             [
              0.6666666666666666,
              "#ed7953"
             ],
             [
              0.7777777777777778,
              "#fb9f3a"
             ],
             [
              0.8888888888888888,
              "#fdca26"
             ],
             [
              1,
              "#f0f921"
             ]
            ],
            "type": "contour"
           }
          ],
          "contourcarpet": [
           {
            "colorbar": {
             "outlinewidth": 0,
             "ticks": ""
            },
            "type": "contourcarpet"
           }
          ],
          "heatmap": [
           {
            "colorbar": {
             "outlinewidth": 0,
             "ticks": ""
            },
            "colorscale": [
             [
              0,
              "#0d0887"
             ],
             [
              0.1111111111111111,
              "#46039f"
             ],
             [
              0.2222222222222222,
              "#7201a8"
             ],
             [
              0.3333333333333333,
              "#9c179e"
             ],
             [
              0.4444444444444444,
              "#bd3786"
             ],
             [
              0.5555555555555556,
              "#d8576b"
             ],
             [
              0.6666666666666666,
              "#ed7953"
             ],
             [
              0.7777777777777778,
              "#fb9f3a"
             ],
             [
              0.8888888888888888,
              "#fdca26"
             ],
             [
              1,
              "#f0f921"
             ]
            ],
            "type": "heatmap"
           }
          ],
          "heatmapgl": [
           {
            "colorbar": {
             "outlinewidth": 0,
             "ticks": ""
            },
            "colorscale": [
             [
              0,
              "#0d0887"
             ],
             [
              0.1111111111111111,
              "#46039f"
             ],
             [
              0.2222222222222222,
              "#7201a8"
             ],
             [
              0.3333333333333333,
              "#9c179e"
             ],
             [
              0.4444444444444444,
              "#bd3786"
             ],
             [
              0.5555555555555556,
              "#d8576b"
             ],
             [
              0.6666666666666666,
              "#ed7953"
             ],
             [
              0.7777777777777778,
              "#fb9f3a"
             ],
             [
              0.8888888888888888,
              "#fdca26"
             ],
             [
              1,
              "#f0f921"
             ]
            ],
            "type": "heatmapgl"
           }
          ],
          "histogram": [
           {
            "marker": {
             "colorbar": {
              "outlinewidth": 0,
              "ticks": ""
             }
            },
            "type": "histogram"
           }
          ],
          "histogram2d": [
           {
            "colorbar": {
             "outlinewidth": 0,
             "ticks": ""
            },
            "colorscale": [
             [
              0,
              "#0d0887"
             ],
             [
              0.1111111111111111,
              "#46039f"
             ],
             [
              0.2222222222222222,
              "#7201a8"
             ],
             [
              0.3333333333333333,
              "#9c179e"
             ],
             [
              0.4444444444444444,
              "#bd3786"
             ],
             [
              0.5555555555555556,
              "#d8576b"
             ],
             [
              0.6666666666666666,
              "#ed7953"
             ],
             [
              0.7777777777777778,
              "#fb9f3a"
             ],
             [
              0.8888888888888888,
              "#fdca26"
             ],
             [
              1,
              "#f0f921"
             ]
            ],
            "type": "histogram2d"
           }
          ],
          "histogram2dcontour": [
           {
            "colorbar": {
             "outlinewidth": 0,
             "ticks": ""
            },
            "colorscale": [
             [
              0,
              "#0d0887"
             ],
             [
              0.1111111111111111,
              "#46039f"
             ],
             [
              0.2222222222222222,
              "#7201a8"
             ],
             [
              0.3333333333333333,
              "#9c179e"
             ],
             [
              0.4444444444444444,
              "#bd3786"
             ],
             [
              0.5555555555555556,
              "#d8576b"
             ],
             [
              0.6666666666666666,
              "#ed7953"
             ],
             [
              0.7777777777777778,
              "#fb9f3a"
             ],
             [
              0.8888888888888888,
              "#fdca26"
             ],
             [
              1,
              "#f0f921"
             ]
            ],
            "type": "histogram2dcontour"
           }
          ],
          "mesh3d": [
           {
            "colorbar": {
             "outlinewidth": 0,
             "ticks": ""
            },
            "type": "mesh3d"
           }
          ],
          "parcoords": [
           {
            "line": {
             "colorbar": {
              "outlinewidth": 0,
              "ticks": ""
             }
            },
            "type": "parcoords"
           }
          ],
          "pie": [
           {
            "automargin": true,
            "type": "pie"
           }
          ],
          "scatter": [
           {
            "marker": {
             "colorbar": {
              "outlinewidth": 0,
              "ticks": ""
             }
            },
            "type": "scatter"
           }
          ],
          "scatter3d": [
           {
            "line": {
             "colorbar": {
              "outlinewidth": 0,
              "ticks": ""
             }
            },
            "marker": {
             "colorbar": {
              "outlinewidth": 0,
              "ticks": ""
             }
            },
            "type": "scatter3d"
           }
          ],
          "scattercarpet": [
           {
            "marker": {
             "colorbar": {
              "outlinewidth": 0,
              "ticks": ""
             }
            },
            "type": "scattercarpet"
           }
          ],
          "scattergeo": [
           {
            "marker": {
             "colorbar": {
              "outlinewidth": 0,
              "ticks": ""
             }
            },
            "type": "scattergeo"
           }
          ],
          "scattergl": [
           {
            "marker": {
             "colorbar": {
              "outlinewidth": 0,
              "ticks": ""
             }
            },
            "type": "scattergl"
           }
          ],
          "scattermapbox": [
           {
            "marker": {
             "colorbar": {
              "outlinewidth": 0,
              "ticks": ""
             }
            },
            "type": "scattermapbox"
           }
          ],
          "scatterpolar": [
           {
            "marker": {
             "colorbar": {
              "outlinewidth": 0,
              "ticks": ""
             }
            },
            "type": "scatterpolar"
           }
          ],
          "scatterpolargl": [
           {
            "marker": {
             "colorbar": {
              "outlinewidth": 0,
              "ticks": ""
             }
            },
            "type": "scatterpolargl"
           }
          ],
          "scatterternary": [
           {
            "marker": {
             "colorbar": {
              "outlinewidth": 0,
              "ticks": ""
             }
            },
            "type": "scatterternary"
           }
          ],
          "surface": [
           {
            "colorbar": {
             "outlinewidth": 0,
             "ticks": ""
            },
            "colorscale": [
             [
              0,
              "#0d0887"
             ],
             [
              0.1111111111111111,
              "#46039f"
             ],
             [
              0.2222222222222222,
              "#7201a8"
             ],
             [
              0.3333333333333333,
              "#9c179e"
             ],
             [
              0.4444444444444444,
              "#bd3786"
             ],
             [
              0.5555555555555556,
              "#d8576b"
             ],
             [
              0.6666666666666666,
              "#ed7953"
             ],
             [
              0.7777777777777778,
              "#fb9f3a"
             ],
             [
              0.8888888888888888,
              "#fdca26"
             ],
             [
              1,
              "#f0f921"
             ]
            ],
            "type": "surface"
           }
          ],
          "table": [
           {
            "cells": {
             "fill": {
              "color": "#EBF0F8"
             },
             "line": {
              "color": "white"
             }
            },
            "header": {
             "fill": {
              "color": "#C8D4E3"
             },
             "line": {
              "color": "white"
             }
            },
            "type": "table"
           }
          ]
         },
         "layout": {
          "annotationdefaults": {
           "arrowcolor": "#2a3f5f",
           "arrowhead": 0,
           "arrowwidth": 1
          },
          "coloraxis": {
           "colorbar": {
            "outlinewidth": 0,
            "ticks": ""
           }
          },
          "colorscale": {
           "diverging": [
            [
             0,
             "#8e0152"
            ],
            [
             0.1,
             "#c51b7d"
            ],
            [
             0.2,
             "#de77ae"
            ],
            [
             0.3,
             "#f1b6da"
            ],
            [
             0.4,
             "#fde0ef"
            ],
            [
             0.5,
             "#f7f7f7"
            ],
            [
             0.6,
             "#e6f5d0"
            ],
            [
             0.7,
             "#b8e186"
            ],
            [
             0.8,
             "#7fbc41"
            ],
            [
             0.9,
             "#4d9221"
            ],
            [
             1,
             "#276419"
            ]
           ],
           "sequential": [
            [
             0,
             "#0d0887"
            ],
            [
             0.1111111111111111,
             "#46039f"
            ],
            [
             0.2222222222222222,
             "#7201a8"
            ],
            [
             0.3333333333333333,
             "#9c179e"
            ],
            [
             0.4444444444444444,
             "#bd3786"
            ],
            [
             0.5555555555555556,
             "#d8576b"
            ],
            [
             0.6666666666666666,
             "#ed7953"
            ],
            [
             0.7777777777777778,
             "#fb9f3a"
            ],
            [
             0.8888888888888888,
             "#fdca26"
            ],
            [
             1,
             "#f0f921"
            ]
           ],
           "sequentialminus": [
            [
             0,
             "#0d0887"
            ],
            [
             0.1111111111111111,
             "#46039f"
            ],
            [
             0.2222222222222222,
             "#7201a8"
            ],
            [
             0.3333333333333333,
             "#9c179e"
            ],
            [
             0.4444444444444444,
             "#bd3786"
            ],
            [
             0.5555555555555556,
             "#d8576b"
            ],
            [
             0.6666666666666666,
             "#ed7953"
            ],
            [
             0.7777777777777778,
             "#fb9f3a"
            ],
            [
             0.8888888888888888,
             "#fdca26"
            ],
            [
             1,
             "#f0f921"
            ]
           ]
          },
          "colorway": [
           "#636efa",
           "#EF553B",
           "#00cc96",
           "#ab63fa",
           "#FFA15A",
           "#19d3f3",
           "#FF6692",
           "#B6E880",
           "#FF97FF",
           "#FECB52"
          ],
          "font": {
           "color": "#2a3f5f"
          },
          "geo": {
           "bgcolor": "white",
           "lakecolor": "white",
           "landcolor": "#E5ECF6",
           "showlakes": true,
           "showland": true,
           "subunitcolor": "white"
          },
          "hoverlabel": {
           "align": "left"
          },
          "hovermode": "closest",
          "mapbox": {
           "style": "light"
          },
          "paper_bgcolor": "white",
          "plot_bgcolor": "#E5ECF6",
          "polar": {
           "angularaxis": {
            "gridcolor": "white",
            "linecolor": "white",
            "ticks": ""
           },
           "bgcolor": "#E5ECF6",
           "radialaxis": {
            "gridcolor": "white",
            "linecolor": "white",
            "ticks": ""
           }
          },
          "scene": {
           "xaxis": {
            "backgroundcolor": "#E5ECF6",
            "gridcolor": "white",
            "gridwidth": 2,
            "linecolor": "white",
            "showbackground": true,
            "ticks": "",
            "zerolinecolor": "white"
           },
           "yaxis": {
            "backgroundcolor": "#E5ECF6",
            "gridcolor": "white",
            "gridwidth": 2,
            "linecolor": "white",
            "showbackground": true,
            "ticks": "",
            "zerolinecolor": "white"
           },
           "zaxis": {
            "backgroundcolor": "#E5ECF6",
            "gridcolor": "white",
            "gridwidth": 2,
            "linecolor": "white",
            "showbackground": true,
            "ticks": "",
            "zerolinecolor": "white"
           }
          },
          "shapedefaults": {
           "line": {
            "color": "#2a3f5f"
           }
          },
          "ternary": {
           "aaxis": {
            "gridcolor": "white",
            "linecolor": "white",
            "ticks": ""
           },
           "baxis": {
            "gridcolor": "white",
            "linecolor": "white",
            "ticks": ""
           },
           "bgcolor": "#E5ECF6",
           "caxis": {
            "gridcolor": "white",
            "linecolor": "white",
            "ticks": ""
           }
          },
          "title": {
           "x": 0.05
          },
          "xaxis": {
           "automargin": true,
           "gridcolor": "white",
           "linecolor": "white",
           "ticks": "",
           "title": {
            "standoff": 15
           },
           "zerolinecolor": "white",
           "zerolinewidth": 2
          },
          "yaxis": {
           "automargin": true,
           "gridcolor": "white",
           "linecolor": "white",
           "ticks": "",
           "title": {
            "standoff": 15
           },
           "zerolinecolor": "white",
           "zerolinewidth": 2
          }
         }
        },
        "width": 700
       }
      },
      "text/html": [
       "<div>\n",
       "        \n",
       "        \n",
       "            <div id=\"8ae2622d-8d68-4089-b99d-3887056d4b06\" class=\"plotly-graph-div\" style=\"height:500px; width:700px;\"></div>\n",
       "            <script type=\"text/javascript\">\n",
       "                require([\"plotly\"], function(Plotly) {\n",
       "                    window.PLOTLYENV=window.PLOTLYENV || {};\n",
       "                    \n",
       "                if (document.getElementById(\"8ae2622d-8d68-4089-b99d-3887056d4b06\")) {\n",
       "                    Plotly.newPlot(\n",
       "                        '8ae2622d-8d68-4089-b99d-3887056d4b06',\n",
       "                        [{\"marker\": {\"size\": 8}, \"mode\": \"markers\", \"name\": \"male, smiling, young\", \"type\": \"scatter3d\", \"x\": [-0.17578965425491333], \"y\": [0.2738841772079468], \"z\": [-0.41167694330215454]}, {\"marker\": {\"size\": 8}, \"mode\": \"markers\", \"name\": \"male, smiling, old\", \"type\": \"scatter3d\", \"x\": [0.20066902041435242], \"y\": [0.22555671632289886], \"z\": [-0.32801148295402527]}, {\"marker\": {\"size\": 8}, \"mode\": \"markers\", \"name\": \"male, not_smiling, young\", \"type\": \"scatter3d\", \"x\": [0.09122339636087418], \"y\": [0.18957677483558655], \"z\": [0.3507910370826721]}, {\"marker\": {\"size\": 8}, \"mode\": \"markers\", \"name\": \"male, not_smiling, old\", \"type\": \"scatter3d\", \"x\": [0.4083666503429413], \"y\": [0.14090844988822937], \"z\": [0.19245170056819916]}, {\"marker\": {\"size\": 8}, \"mode\": \"markers\", \"name\": \"female, smiling, young\", \"type\": \"scatter3d\", \"x\": [-0.34577882289886475], \"y\": [-0.4961877763271332], \"z\": [-0.7121412754058838]}, {\"marker\": {\"size\": 8}, \"mode\": \"markers\", \"name\": \"female, smiling, old\", \"type\": \"scatter3d\", \"x\": [-0.19866806268692017], \"y\": [-0.5255212187767029], \"z\": [-0.6167025566101074]}, {\"marker\": {\"size\": 8}, \"mode\": \"markers\", \"name\": \"female, not_smiling, young\", \"type\": \"scatter3d\", \"x\": [0.07906556129455566], \"y\": [-0.5095864534378052], \"z\": [-0.014997323974967003]}, {\"marker\": {\"size\": 8}, \"mode\": \"markers\", \"name\": \"female, not_smiling, old\", \"type\": \"scatter3d\", \"x\": [0.12208599597215652], \"y\": [-0.5108190774917603], \"z\": [0.13009054958820343]}],\n",
       "                        {\"height\": 500, \"template\": {\"data\": {\"bar\": [{\"error_x\": {\"color\": \"#2a3f5f\"}, \"error_y\": {\"color\": \"#2a3f5f\"}, \"marker\": {\"line\": {\"color\": \"#E5ECF6\", \"width\": 0.5}}, \"type\": \"bar\"}], \"barpolar\": [{\"marker\": {\"line\": {\"color\": \"#E5ECF6\", \"width\": 0.5}}, \"type\": \"barpolar\"}], \"carpet\": [{\"aaxis\": {\"endlinecolor\": \"#2a3f5f\", \"gridcolor\": \"white\", \"linecolor\": \"white\", \"minorgridcolor\": \"white\", \"startlinecolor\": \"#2a3f5f\"}, \"baxis\": {\"endlinecolor\": \"#2a3f5f\", \"gridcolor\": \"white\", \"linecolor\": \"white\", \"minorgridcolor\": \"white\", \"startlinecolor\": \"#2a3f5f\"}, \"type\": \"carpet\"}], \"choropleth\": [{\"colorbar\": {\"outlinewidth\": 0, \"ticks\": \"\"}, \"type\": \"choropleth\"}], \"contour\": [{\"colorbar\": {\"outlinewidth\": 0, \"ticks\": \"\"}, \"colorscale\": [[0.0, \"#0d0887\"], [0.1111111111111111, \"#46039f\"], [0.2222222222222222, \"#7201a8\"], [0.3333333333333333, \"#9c179e\"], [0.4444444444444444, \"#bd3786\"], [0.5555555555555556, \"#d8576b\"], [0.6666666666666666, \"#ed7953\"], [0.7777777777777778, \"#fb9f3a\"], [0.8888888888888888, \"#fdca26\"], [1.0, \"#f0f921\"]], \"type\": \"contour\"}], \"contourcarpet\": [{\"colorbar\": {\"outlinewidth\": 0, \"ticks\": \"\"}, \"type\": \"contourcarpet\"}], \"heatmap\": [{\"colorbar\": {\"outlinewidth\": 0, \"ticks\": \"\"}, \"colorscale\": [[0.0, \"#0d0887\"], [0.1111111111111111, \"#46039f\"], [0.2222222222222222, \"#7201a8\"], [0.3333333333333333, \"#9c179e\"], [0.4444444444444444, \"#bd3786\"], [0.5555555555555556, \"#d8576b\"], [0.6666666666666666, \"#ed7953\"], [0.7777777777777778, \"#fb9f3a\"], [0.8888888888888888, \"#fdca26\"], [1.0, \"#f0f921\"]], \"type\": \"heatmap\"}], \"heatmapgl\": [{\"colorbar\": {\"outlinewidth\": 0, \"ticks\": \"\"}, \"colorscale\": [[0.0, \"#0d0887\"], [0.1111111111111111, \"#46039f\"], [0.2222222222222222, \"#7201a8\"], [0.3333333333333333, \"#9c179e\"], [0.4444444444444444, \"#bd3786\"], [0.5555555555555556, \"#d8576b\"], [0.6666666666666666, \"#ed7953\"], [0.7777777777777778, \"#fb9f3a\"], [0.8888888888888888, \"#fdca26\"], [1.0, \"#f0f921\"]], \"type\": \"heatmapgl\"}], \"histogram\": [{\"marker\": {\"colorbar\": {\"outlinewidth\": 0, \"ticks\": \"\"}}, \"type\": \"histogram\"}], \"histogram2d\": [{\"colorbar\": {\"outlinewidth\": 0, \"ticks\": \"\"}, \"colorscale\": [[0.0, \"#0d0887\"], [0.1111111111111111, \"#46039f\"], [0.2222222222222222, \"#7201a8\"], [0.3333333333333333, \"#9c179e\"], [0.4444444444444444, \"#bd3786\"], [0.5555555555555556, \"#d8576b\"], [0.6666666666666666, \"#ed7953\"], [0.7777777777777778, \"#fb9f3a\"], [0.8888888888888888, \"#fdca26\"], [1.0, \"#f0f921\"]], \"type\": \"histogram2d\"}], \"histogram2dcontour\": [{\"colorbar\": {\"outlinewidth\": 0, \"ticks\": \"\"}, \"colorscale\": [[0.0, \"#0d0887\"], [0.1111111111111111, \"#46039f\"], [0.2222222222222222, \"#7201a8\"], [0.3333333333333333, \"#9c179e\"], [0.4444444444444444, \"#bd3786\"], [0.5555555555555556, \"#d8576b\"], [0.6666666666666666, \"#ed7953\"], [0.7777777777777778, \"#fb9f3a\"], [0.8888888888888888, \"#fdca26\"], [1.0, \"#f0f921\"]], \"type\": \"histogram2dcontour\"}], \"mesh3d\": [{\"colorbar\": {\"outlinewidth\": 0, \"ticks\": \"\"}, \"type\": \"mesh3d\"}], \"parcoords\": [{\"line\": {\"colorbar\": {\"outlinewidth\": 0, \"ticks\": \"\"}}, \"type\": \"parcoords\"}], \"pie\": [{\"automargin\": true, \"type\": \"pie\"}], \"scatter\": [{\"marker\": {\"colorbar\": {\"outlinewidth\": 0, \"ticks\": \"\"}}, \"type\": \"scatter\"}], \"scatter3d\": [{\"line\": {\"colorbar\": {\"outlinewidth\": 0, \"ticks\": \"\"}}, \"marker\": {\"colorbar\": {\"outlinewidth\": 0, \"ticks\": \"\"}}, \"type\": \"scatter3d\"}], \"scattercarpet\": [{\"marker\": {\"colorbar\": {\"outlinewidth\": 0, \"ticks\": \"\"}}, \"type\": \"scattercarpet\"}], \"scattergeo\": [{\"marker\": {\"colorbar\": {\"outlinewidth\": 0, \"ticks\": \"\"}}, \"type\": \"scattergeo\"}], \"scattergl\": [{\"marker\": {\"colorbar\": {\"outlinewidth\": 0, \"ticks\": \"\"}}, \"type\": \"scattergl\"}], \"scattermapbox\": [{\"marker\": {\"colorbar\": {\"outlinewidth\": 0, \"ticks\": \"\"}}, \"type\": \"scattermapbox\"}], \"scatterpolar\": [{\"marker\": {\"colorbar\": {\"outlinewidth\": 0, \"ticks\": \"\"}}, \"type\": \"scatterpolar\"}], \"scatterpolargl\": [{\"marker\": {\"colorbar\": {\"outlinewidth\": 0, \"ticks\": \"\"}}, \"type\": \"scatterpolargl\"}], \"scatterternary\": [{\"marker\": {\"colorbar\": {\"outlinewidth\": 0, \"ticks\": \"\"}}, \"type\": \"scatterternary\"}], \"surface\": [{\"colorbar\": {\"outlinewidth\": 0, \"ticks\": \"\"}, \"colorscale\": [[0.0, \"#0d0887\"], [0.1111111111111111, \"#46039f\"], [0.2222222222222222, \"#7201a8\"], [0.3333333333333333, \"#9c179e\"], [0.4444444444444444, \"#bd3786\"], [0.5555555555555556, \"#d8576b\"], [0.6666666666666666, \"#ed7953\"], [0.7777777777777778, \"#fb9f3a\"], [0.8888888888888888, \"#fdca26\"], [1.0, \"#f0f921\"]], \"type\": \"surface\"}], \"table\": [{\"cells\": {\"fill\": {\"color\": \"#EBF0F8\"}, \"line\": {\"color\": \"white\"}}, \"header\": {\"fill\": {\"color\": \"#C8D4E3\"}, \"line\": {\"color\": \"white\"}}, \"type\": \"table\"}]}, \"layout\": {\"annotationdefaults\": {\"arrowcolor\": \"#2a3f5f\", \"arrowhead\": 0, \"arrowwidth\": 1}, \"coloraxis\": {\"colorbar\": {\"outlinewidth\": 0, \"ticks\": \"\"}}, \"colorscale\": {\"diverging\": [[0, \"#8e0152\"], [0.1, \"#c51b7d\"], [0.2, \"#de77ae\"], [0.3, \"#f1b6da\"], [0.4, \"#fde0ef\"], [0.5, \"#f7f7f7\"], [0.6, \"#e6f5d0\"], [0.7, \"#b8e186\"], [0.8, \"#7fbc41\"], [0.9, \"#4d9221\"], [1, \"#276419\"]], \"sequential\": [[0.0, \"#0d0887\"], [0.1111111111111111, \"#46039f\"], [0.2222222222222222, \"#7201a8\"], [0.3333333333333333, \"#9c179e\"], [0.4444444444444444, \"#bd3786\"], [0.5555555555555556, \"#d8576b\"], [0.6666666666666666, \"#ed7953\"], [0.7777777777777778, \"#fb9f3a\"], [0.8888888888888888, \"#fdca26\"], [1.0, \"#f0f921\"]], \"sequentialminus\": [[0.0, \"#0d0887\"], [0.1111111111111111, \"#46039f\"], [0.2222222222222222, \"#7201a8\"], [0.3333333333333333, \"#9c179e\"], [0.4444444444444444, \"#bd3786\"], [0.5555555555555556, \"#d8576b\"], [0.6666666666666666, \"#ed7953\"], [0.7777777777777778, \"#fb9f3a\"], [0.8888888888888888, \"#fdca26\"], [1.0, \"#f0f921\"]]}, \"colorway\": [\"#636efa\", \"#EF553B\", \"#00cc96\", \"#ab63fa\", \"#FFA15A\", \"#19d3f3\", \"#FF6692\", \"#B6E880\", \"#FF97FF\", \"#FECB52\"], \"font\": {\"color\": \"#2a3f5f\"}, \"geo\": {\"bgcolor\": \"white\", \"lakecolor\": \"white\", \"landcolor\": \"#E5ECF6\", \"showlakes\": true, \"showland\": true, \"subunitcolor\": \"white\"}, \"hoverlabel\": {\"align\": \"left\"}, \"hovermode\": \"closest\", \"mapbox\": {\"style\": \"light\"}, \"paper_bgcolor\": \"white\", \"plot_bgcolor\": \"#E5ECF6\", \"polar\": {\"angularaxis\": {\"gridcolor\": \"white\", \"linecolor\": \"white\", \"ticks\": \"\"}, \"bgcolor\": \"#E5ECF6\", \"radialaxis\": {\"gridcolor\": \"white\", \"linecolor\": \"white\", \"ticks\": \"\"}}, \"scene\": {\"xaxis\": {\"backgroundcolor\": \"#E5ECF6\", \"gridcolor\": \"white\", \"gridwidth\": 2, \"linecolor\": \"white\", \"showbackground\": true, \"ticks\": \"\", \"zerolinecolor\": \"white\"}, \"yaxis\": {\"backgroundcolor\": \"#E5ECF6\", \"gridcolor\": \"white\", \"gridwidth\": 2, \"linecolor\": \"white\", \"showbackground\": true, \"ticks\": \"\", \"zerolinecolor\": \"white\"}, \"zaxis\": {\"backgroundcolor\": \"#E5ECF6\", \"gridcolor\": \"white\", \"gridwidth\": 2, \"linecolor\": \"white\", \"showbackground\": true, \"ticks\": \"\", \"zerolinecolor\": \"white\"}}, \"shapedefaults\": {\"line\": {\"color\": \"#2a3f5f\"}}, \"ternary\": {\"aaxis\": {\"gridcolor\": \"white\", \"linecolor\": \"white\", \"ticks\": \"\"}, \"baxis\": {\"gridcolor\": \"white\", \"linecolor\": \"white\", \"ticks\": \"\"}, \"bgcolor\": \"#E5ECF6\", \"caxis\": {\"gridcolor\": \"white\", \"linecolor\": \"white\", \"ticks\": \"\"}}, \"title\": {\"x\": 0.05}, \"xaxis\": {\"automargin\": true, \"gridcolor\": \"white\", \"linecolor\": \"white\", \"ticks\": \"\", \"title\": {\"standoff\": 15}, \"zerolinecolor\": \"white\", \"zerolinewidth\": 2}, \"yaxis\": {\"automargin\": true, \"gridcolor\": \"white\", \"linecolor\": \"white\", \"ticks\": \"\", \"title\": {\"standoff\": 15}, \"zerolinecolor\": \"white\", \"zerolinewidth\": 2}}}, \"width\": 700},\n",
       "                        {\"responsive\": true}\n",
       "                    ).then(function(){\n",
       "                            \n",
       "var gd = document.getElementById('8ae2622d-8d68-4089-b99d-3887056d4b06');\n",
       "var x = new MutationObserver(function (mutations, observer) {{\n",
       "        var display = window.getComputedStyle(gd).display;\n",
       "        if (!display || display === 'none') {{\n",
       "            console.log([gd, 'removed!']);\n",
       "            Plotly.purge(gd);\n",
       "            observer.disconnect();\n",
       "        }}\n",
       "}});\n",
       "\n",
       "// Listen for the removal of the full notebook cells\n",
       "var notebookContainer = gd.closest('#notebook-container');\n",
       "if (notebookContainer) {{\n",
       "    x.observe(notebookContainer, {childList: true});\n",
       "}}\n",
       "\n",
       "// Listen for the clearing of the current output cell\n",
       "var outputEl = gd.closest('.output');\n",
       "if (outputEl) {{\n",
       "    x.observe(outputEl, {childList: true});\n",
       "}}\n",
       "\n",
       "                        })\n",
       "                };\n",
       "                });\n",
       "            </script>\n",
       "        </div>"
      ]
     },
     "metadata": {},
     "output_type": "display_data"
    }
   ],
   "source": [
    "trace = []\n",
    "for lbl in range(len(classes)):\n",
    "    m = center[lbl]\n",
    "    _x = m[0:1] \n",
    "    _y = m[1:2]\n",
    "    _z = m[2:]\n",
    "    trace.append(go.Scatter3d(x=_x, y=_y, z=_z, mode=\"markers\", name=f\"{label_discription[classes[lbl]]}\", \n",
    "#     trace.append(go.Scatter3d(x=_x, y=_y, z=_z, mode=\"markers\", name=f\"{classes[lbl]}\", \n",
    "                              marker = dict(size=8)))\n",
    "layout = go.Layout(width=700, height=500)    \n",
    "data = trace\n",
    "fig = dict(data=data, layout=layout)\n",
    "iplot(fig)"
   ]
  },
  {
   "cell_type": "code",
   "execution_count": 46,
   "metadata": {},
   "outputs": [],
   "source": [
    "save_path = f'../data/parameters/VAE_celebA_{len(classes)}classes_ndim{z_dim}to{dim}.pickle'\n",
    "save = False\n",
    "if save:\n",
    "    with open(save_path, 'wb') as f:\n",
    "        pickle.dump(center, f)"
   ]
  },
  {
   "cell_type": "markdown",
   "metadata": {},
   "source": [
    "---\n",
    "I have demonstrated how I conducted the dimension reduction.\n",
    "However, again, it's optional, you can use familiar dimension reduction such as permutation importance, PCA, and so on.\n",
    "In next notebook, I'm gonna implement LCGAN.\n",
    "\n",
    "---"
   ]
  },
  {
   "cell_type": "code",
   "execution_count": null,
   "metadata": {},
   "outputs": [],
   "source": []
  }
 ],
 "metadata": {
  "kernelspec": {
   "display_name": "Python 3",
   "language": "python",
   "name": "python3"
  },
  "language_info": {
   "codemirror_mode": {
    "name": "ipython",
    "version": 3
   },
   "file_extension": ".py",
   "mimetype": "text/x-python",
   "name": "python",
   "nbconvert_exporter": "python",
   "pygments_lexer": "ipython3",
   "version": "3.6.9"
  },
  "toc-autonumbering": true,
  "toc-showcode": false,
  "toc-showmarkdowntxt": false,
  "toc-showtags": false
 },
 "nbformat": 4,
 "nbformat_minor": 4
}
